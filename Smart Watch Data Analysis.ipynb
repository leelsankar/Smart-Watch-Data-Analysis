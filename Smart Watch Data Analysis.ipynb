{
 "cells": [
  {
   "cell_type": "code",
   "execution_count": 1,
   "id": "883bd91e",
   "metadata": {},
   "outputs": [],
   "source": [
    "import pandas as pd\n",
    "import plotly.express as px\n",
    "import plotly.graph_objects as go"
   ]
  },
  {
   "cell_type": "code",
   "execution_count": 2,
   "id": "3b7429a9",
   "metadata": {},
   "outputs": [
    {
     "data": {
      "text/html": [
       "<div>\n",
       "<style scoped>\n",
       "    .dataframe tbody tr th:only-of-type {\n",
       "        vertical-align: middle;\n",
       "    }\n",
       "\n",
       "    .dataframe tbody tr th {\n",
       "        vertical-align: top;\n",
       "    }\n",
       "\n",
       "    .dataframe thead th {\n",
       "        text-align: right;\n",
       "    }\n",
       "</style>\n",
       "<table border=\"1\" class=\"dataframe\">\n",
       "  <thead>\n",
       "    <tr style=\"text-align: right;\">\n",
       "      <th></th>\n",
       "      <th>Id</th>\n",
       "      <th>ActivityDate</th>\n",
       "      <th>TotalSteps</th>\n",
       "      <th>TotalDistance</th>\n",
       "      <th>TrackerDistance</th>\n",
       "      <th>LoggedActivitiesDistance</th>\n",
       "      <th>VeryActiveDistance</th>\n",
       "      <th>ModeratelyActiveDistance</th>\n",
       "      <th>LightActiveDistance</th>\n",
       "      <th>SedentaryActiveDistance</th>\n",
       "      <th>VeryActiveMinutes</th>\n",
       "      <th>FairlyActiveMinutes</th>\n",
       "      <th>LightlyActiveMinutes</th>\n",
       "      <th>SedentaryMinutes</th>\n",
       "      <th>Calories</th>\n",
       "    </tr>\n",
       "  </thead>\n",
       "  <tbody>\n",
       "    <tr>\n",
       "      <th>0</th>\n",
       "      <td>1503960366</td>\n",
       "      <td>04/12/2016</td>\n",
       "      <td>13162</td>\n",
       "      <td>8.50</td>\n",
       "      <td>8.50</td>\n",
       "      <td>0.0</td>\n",
       "      <td>1.88</td>\n",
       "      <td>0.55</td>\n",
       "      <td>6.06</td>\n",
       "      <td>0.0</td>\n",
       "      <td>25</td>\n",
       "      <td>13</td>\n",
       "      <td>328</td>\n",
       "      <td>728</td>\n",
       "      <td>1985</td>\n",
       "    </tr>\n",
       "    <tr>\n",
       "      <th>1</th>\n",
       "      <td>1503960366</td>\n",
       "      <td>4/13/2016</td>\n",
       "      <td>10735</td>\n",
       "      <td>6.97</td>\n",
       "      <td>6.97</td>\n",
       "      <td>0.0</td>\n",
       "      <td>1.57</td>\n",
       "      <td>0.69</td>\n",
       "      <td>4.71</td>\n",
       "      <td>0.0</td>\n",
       "      <td>21</td>\n",
       "      <td>19</td>\n",
       "      <td>217</td>\n",
       "      <td>776</td>\n",
       "      <td>1797</td>\n",
       "    </tr>\n",
       "    <tr>\n",
       "      <th>2</th>\n",
       "      <td>1503960366</td>\n",
       "      <td>4/14/2016</td>\n",
       "      <td>10460</td>\n",
       "      <td>6.74</td>\n",
       "      <td>6.74</td>\n",
       "      <td>0.0</td>\n",
       "      <td>2.44</td>\n",
       "      <td>0.40</td>\n",
       "      <td>3.91</td>\n",
       "      <td>0.0</td>\n",
       "      <td>30</td>\n",
       "      <td>11</td>\n",
       "      <td>181</td>\n",
       "      <td>1218</td>\n",
       "      <td>1776</td>\n",
       "    </tr>\n",
       "    <tr>\n",
       "      <th>3</th>\n",
       "      <td>1503960366</td>\n",
       "      <td>4/15/2016</td>\n",
       "      <td>9762</td>\n",
       "      <td>6.28</td>\n",
       "      <td>6.28</td>\n",
       "      <td>0.0</td>\n",
       "      <td>2.14</td>\n",
       "      <td>1.26</td>\n",
       "      <td>2.83</td>\n",
       "      <td>0.0</td>\n",
       "      <td>29</td>\n",
       "      <td>34</td>\n",
       "      <td>209</td>\n",
       "      <td>726</td>\n",
       "      <td>1745</td>\n",
       "    </tr>\n",
       "    <tr>\n",
       "      <th>4</th>\n",
       "      <td>1503960366</td>\n",
       "      <td>4/16/2016</td>\n",
       "      <td>12669</td>\n",
       "      <td>8.16</td>\n",
       "      <td>8.16</td>\n",
       "      <td>0.0</td>\n",
       "      <td>2.71</td>\n",
       "      <td>0.41</td>\n",
       "      <td>5.04</td>\n",
       "      <td>0.0</td>\n",
       "      <td>36</td>\n",
       "      <td>10</td>\n",
       "      <td>221</td>\n",
       "      <td>773</td>\n",
       "      <td>1863</td>\n",
       "    </tr>\n",
       "  </tbody>\n",
       "</table>\n",
       "</div>"
      ],
      "text/plain": [
       "           Id ActivityDate  TotalSteps  TotalDistance  TrackerDistance  \\\n",
       "0  1503960366   04/12/2016       13162           8.50             8.50   \n",
       "1  1503960366    4/13/2016       10735           6.97             6.97   \n",
       "2  1503960366    4/14/2016       10460           6.74             6.74   \n",
       "3  1503960366    4/15/2016        9762           6.28             6.28   \n",
       "4  1503960366    4/16/2016       12669           8.16             8.16   \n",
       "\n",
       "   LoggedActivitiesDistance  VeryActiveDistance  ModeratelyActiveDistance  \\\n",
       "0                       0.0                1.88                      0.55   \n",
       "1                       0.0                1.57                      0.69   \n",
       "2                       0.0                2.44                      0.40   \n",
       "3                       0.0                2.14                      1.26   \n",
       "4                       0.0                2.71                      0.41   \n",
       "\n",
       "   LightActiveDistance  SedentaryActiveDistance  VeryActiveMinutes  \\\n",
       "0                 6.06                      0.0                 25   \n",
       "1                 4.71                      0.0                 21   \n",
       "2                 3.91                      0.0                 30   \n",
       "3                 2.83                      0.0                 29   \n",
       "4                 5.04                      0.0                 36   \n",
       "\n",
       "   FairlyActiveMinutes  LightlyActiveMinutes  SedentaryMinutes  Calories  \n",
       "0                   13                   328               728      1985  \n",
       "1                   19                   217               776      1797  \n",
       "2                   11                   181              1218      1776  \n",
       "3                   34                   209               726      1745  \n",
       "4                   10                   221               773      1863  "
      ]
     },
     "execution_count": 2,
     "metadata": {},
     "output_type": "execute_result"
    }
   ],
   "source": [
    "df = pd.read_csv('Smart_watch_data.csv')\n",
    "df.head()"
   ]
  },
  {
   "cell_type": "code",
   "execution_count": 3,
   "id": "c2ac4a6c",
   "metadata": {},
   "outputs": [
    {
     "data": {
      "text/plain": [
       "Id                          0\n",
       "ActivityDate                0\n",
       "TotalSteps                  0\n",
       "TotalDistance               0\n",
       "TrackerDistance             0\n",
       "LoggedActivitiesDistance    0\n",
       "VeryActiveDistance          0\n",
       "ModeratelyActiveDistance    0\n",
       "LightActiveDistance         0\n",
       "SedentaryActiveDistance     0\n",
       "VeryActiveMinutes           0\n",
       "FairlyActiveMinutes         0\n",
       "LightlyActiveMinutes        0\n",
       "SedentaryMinutes            0\n",
       "Calories                    0\n",
       "dtype: int64"
      ]
     },
     "execution_count": 3,
     "metadata": {},
     "output_type": "execute_result"
    }
   ],
   "source": [
    "df.isnull().sum()"
   ]
  },
  {
   "cell_type": "code",
   "execution_count": 6,
   "id": "6c002e4e",
   "metadata": {},
   "outputs": [
    {
     "data": {
      "text/plain": [
       "Id                                   int64\n",
       "ActivityDate                datetime64[ns]\n",
       "TotalSteps                           int64\n",
       "TotalDistance                      float64\n",
       "TrackerDistance                    float64\n",
       "LoggedActivitiesDistance           float64\n",
       "VeryActiveDistance                 float64\n",
       "ModeratelyActiveDistance           float64\n",
       "LightActiveDistance                float64\n",
       "SedentaryActiveDistance            float64\n",
       "VeryActiveMinutes                    int64\n",
       "FairlyActiveMinutes                  int64\n",
       "LightlyActiveMinutes                 int64\n",
       "SedentaryMinutes                     int64\n",
       "Calories                             int64\n",
       "dtype: object"
      ]
     },
     "execution_count": 6,
     "metadata": {},
     "output_type": "execute_result"
    }
   ],
   "source": [
    "df.dtypes"
   ]
  },
  {
   "cell_type": "code",
   "execution_count": 5,
   "id": "2043024b",
   "metadata": {},
   "outputs": [],
   "source": [
    "df['ActivityDate'] = pd.to_datetime(df['ActivityDate'])"
   ]
  },
  {
   "cell_type": "code",
   "execution_count": 7,
   "id": "516b59d9",
   "metadata": {},
   "outputs": [
    {
     "data": {
      "text/html": [
       "<div>\n",
       "<style scoped>\n",
       "    .dataframe tbody tr th:only-of-type {\n",
       "        vertical-align: middle;\n",
       "    }\n",
       "\n",
       "    .dataframe tbody tr th {\n",
       "        vertical-align: top;\n",
       "    }\n",
       "\n",
       "    .dataframe thead th {\n",
       "        text-align: right;\n",
       "    }\n",
       "</style>\n",
       "<table border=\"1\" class=\"dataframe\">\n",
       "  <thead>\n",
       "    <tr style=\"text-align: right;\">\n",
       "      <th></th>\n",
       "      <th>Id</th>\n",
       "      <th>TotalSteps</th>\n",
       "      <th>TotalDistance</th>\n",
       "      <th>TrackerDistance</th>\n",
       "      <th>LoggedActivitiesDistance</th>\n",
       "      <th>VeryActiveDistance</th>\n",
       "      <th>ModeratelyActiveDistance</th>\n",
       "      <th>LightActiveDistance</th>\n",
       "      <th>SedentaryActiveDistance</th>\n",
       "      <th>VeryActiveMinutes</th>\n",
       "      <th>FairlyActiveMinutes</th>\n",
       "      <th>LightlyActiveMinutes</th>\n",
       "      <th>SedentaryMinutes</th>\n",
       "      <th>Calories</th>\n",
       "    </tr>\n",
       "  </thead>\n",
       "  <tbody>\n",
       "    <tr>\n",
       "      <th>count</th>\n",
       "      <td>9.400000e+02</td>\n",
       "      <td>940.000000</td>\n",
       "      <td>940.000000</td>\n",
       "      <td>940.000000</td>\n",
       "      <td>940.000000</td>\n",
       "      <td>940.000000</td>\n",
       "      <td>940.000000</td>\n",
       "      <td>940.000000</td>\n",
       "      <td>940.000000</td>\n",
       "      <td>940.000000</td>\n",
       "      <td>940.000000</td>\n",
       "      <td>940.000000</td>\n",
       "      <td>940.000000</td>\n",
       "      <td>940.000000</td>\n",
       "    </tr>\n",
       "    <tr>\n",
       "      <th>mean</th>\n",
       "      <td>4.855407e+09</td>\n",
       "      <td>7637.910638</td>\n",
       "      <td>5.489702</td>\n",
       "      <td>5.475351</td>\n",
       "      <td>0.108171</td>\n",
       "      <td>1.502681</td>\n",
       "      <td>0.567543</td>\n",
       "      <td>3.340819</td>\n",
       "      <td>0.001606</td>\n",
       "      <td>21.164894</td>\n",
       "      <td>13.564894</td>\n",
       "      <td>192.812766</td>\n",
       "      <td>991.210638</td>\n",
       "      <td>2303.609574</td>\n",
       "    </tr>\n",
       "    <tr>\n",
       "      <th>std</th>\n",
       "      <td>2.424805e+09</td>\n",
       "      <td>5087.150742</td>\n",
       "      <td>3.924606</td>\n",
       "      <td>3.907276</td>\n",
       "      <td>0.619897</td>\n",
       "      <td>2.658941</td>\n",
       "      <td>0.883580</td>\n",
       "      <td>2.040655</td>\n",
       "      <td>0.007346</td>\n",
       "      <td>32.844803</td>\n",
       "      <td>19.987404</td>\n",
       "      <td>109.174700</td>\n",
       "      <td>301.267437</td>\n",
       "      <td>718.166862</td>\n",
       "    </tr>\n",
       "    <tr>\n",
       "      <th>min</th>\n",
       "      <td>1.503960e+09</td>\n",
       "      <td>0.000000</td>\n",
       "      <td>0.000000</td>\n",
       "      <td>0.000000</td>\n",
       "      <td>0.000000</td>\n",
       "      <td>0.000000</td>\n",
       "      <td>0.000000</td>\n",
       "      <td>0.000000</td>\n",
       "      <td>0.000000</td>\n",
       "      <td>0.000000</td>\n",
       "      <td>0.000000</td>\n",
       "      <td>0.000000</td>\n",
       "      <td>0.000000</td>\n",
       "      <td>0.000000</td>\n",
       "    </tr>\n",
       "    <tr>\n",
       "      <th>25%</th>\n",
       "      <td>2.320127e+09</td>\n",
       "      <td>3789.750000</td>\n",
       "      <td>2.620000</td>\n",
       "      <td>2.620000</td>\n",
       "      <td>0.000000</td>\n",
       "      <td>0.000000</td>\n",
       "      <td>0.000000</td>\n",
       "      <td>1.945000</td>\n",
       "      <td>0.000000</td>\n",
       "      <td>0.000000</td>\n",
       "      <td>0.000000</td>\n",
       "      <td>127.000000</td>\n",
       "      <td>729.750000</td>\n",
       "      <td>1828.500000</td>\n",
       "    </tr>\n",
       "    <tr>\n",
       "      <th>50%</th>\n",
       "      <td>4.445115e+09</td>\n",
       "      <td>7405.500000</td>\n",
       "      <td>5.245000</td>\n",
       "      <td>5.245000</td>\n",
       "      <td>0.000000</td>\n",
       "      <td>0.210000</td>\n",
       "      <td>0.240000</td>\n",
       "      <td>3.365000</td>\n",
       "      <td>0.000000</td>\n",
       "      <td>4.000000</td>\n",
       "      <td>6.000000</td>\n",
       "      <td>199.000000</td>\n",
       "      <td>1057.500000</td>\n",
       "      <td>2134.000000</td>\n",
       "    </tr>\n",
       "    <tr>\n",
       "      <th>75%</th>\n",
       "      <td>6.962181e+09</td>\n",
       "      <td>10727.000000</td>\n",
       "      <td>7.712500</td>\n",
       "      <td>7.710000</td>\n",
       "      <td>0.000000</td>\n",
       "      <td>2.052500</td>\n",
       "      <td>0.800000</td>\n",
       "      <td>4.782500</td>\n",
       "      <td>0.000000</td>\n",
       "      <td>32.000000</td>\n",
       "      <td>19.000000</td>\n",
       "      <td>264.000000</td>\n",
       "      <td>1229.500000</td>\n",
       "      <td>2793.250000</td>\n",
       "    </tr>\n",
       "    <tr>\n",
       "      <th>max</th>\n",
       "      <td>8.877689e+09</td>\n",
       "      <td>36019.000000</td>\n",
       "      <td>28.030001</td>\n",
       "      <td>28.030001</td>\n",
       "      <td>4.942142</td>\n",
       "      <td>21.920000</td>\n",
       "      <td>6.480000</td>\n",
       "      <td>10.710000</td>\n",
       "      <td>0.110000</td>\n",
       "      <td>210.000000</td>\n",
       "      <td>143.000000</td>\n",
       "      <td>518.000000</td>\n",
       "      <td>1440.000000</td>\n",
       "      <td>4900.000000</td>\n",
       "    </tr>\n",
       "  </tbody>\n",
       "</table>\n",
       "</div>"
      ],
      "text/plain": [
       "                 Id    TotalSteps  TotalDistance  TrackerDistance  \\\n",
       "count  9.400000e+02    940.000000     940.000000       940.000000   \n",
       "mean   4.855407e+09   7637.910638       5.489702         5.475351   \n",
       "std    2.424805e+09   5087.150742       3.924606         3.907276   \n",
       "min    1.503960e+09      0.000000       0.000000         0.000000   \n",
       "25%    2.320127e+09   3789.750000       2.620000         2.620000   \n",
       "50%    4.445115e+09   7405.500000       5.245000         5.245000   \n",
       "75%    6.962181e+09  10727.000000       7.712500         7.710000   \n",
       "max    8.877689e+09  36019.000000      28.030001        28.030001   \n",
       "\n",
       "       LoggedActivitiesDistance  VeryActiveDistance  ModeratelyActiveDistance  \\\n",
       "count                940.000000          940.000000                940.000000   \n",
       "mean                   0.108171            1.502681                  0.567543   \n",
       "std                    0.619897            2.658941                  0.883580   \n",
       "min                    0.000000            0.000000                  0.000000   \n",
       "25%                    0.000000            0.000000                  0.000000   \n",
       "50%                    0.000000            0.210000                  0.240000   \n",
       "75%                    0.000000            2.052500                  0.800000   \n",
       "max                    4.942142           21.920000                  6.480000   \n",
       "\n",
       "       LightActiveDistance  SedentaryActiveDistance  VeryActiveMinutes  \\\n",
       "count           940.000000               940.000000         940.000000   \n",
       "mean              3.340819                 0.001606          21.164894   \n",
       "std               2.040655                 0.007346          32.844803   \n",
       "min               0.000000                 0.000000           0.000000   \n",
       "25%               1.945000                 0.000000           0.000000   \n",
       "50%               3.365000                 0.000000           4.000000   \n",
       "75%               4.782500                 0.000000          32.000000   \n",
       "max              10.710000                 0.110000         210.000000   \n",
       "\n",
       "       FairlyActiveMinutes  LightlyActiveMinutes  SedentaryMinutes  \\\n",
       "count           940.000000            940.000000        940.000000   \n",
       "mean             13.564894            192.812766        991.210638   \n",
       "std              19.987404            109.174700        301.267437   \n",
       "min               0.000000              0.000000          0.000000   \n",
       "25%               0.000000            127.000000        729.750000   \n",
       "50%               6.000000            199.000000       1057.500000   \n",
       "75%              19.000000            264.000000       1229.500000   \n",
       "max             143.000000            518.000000       1440.000000   \n",
       "\n",
       "          Calories  \n",
       "count   940.000000  \n",
       "mean   2303.609574  \n",
       "std     718.166862  \n",
       "min       0.000000  \n",
       "25%    1828.500000  \n",
       "50%    2134.000000  \n",
       "75%    2793.250000  \n",
       "max    4900.000000  "
      ]
     },
     "execution_count": 7,
     "metadata": {},
     "output_type": "execute_result"
    }
   ],
   "source": [
    "df.describe()"
   ]
  },
  {
   "cell_type": "code",
   "execution_count": 8,
   "id": "8fb96209",
   "metadata": {},
   "outputs": [
    {
     "name": "stdout",
     "output_type": "stream",
     "text": [
      "84     1440\n",
      "759    1035\n",
      "590    1362\n",
      "577    1115\n",
      "646    1440\n",
      "Name: Total_minutes, dtype: int64\n"
     ]
    }
   ],
   "source": [
    "df['Total_minutes'] = df['VeryActiveMinutes'] + df['FairlyActiveMinutes'] + df['LightlyActiveMinutes'] + df['SedentaryMinutes']\n",
    "\n",
    "print(df['Total_minutes'].sample(5))"
   ]
  },
  {
   "cell_type": "code",
   "execution_count": 12,
   "id": "670970f0",
   "metadata": {
    "scrolled": true
   },
   "outputs": [
    {
     "data": {
      "application/vnd.plotly.v1+json": {
       "config": {
        "plotlyServerURL": "https://plot.ly"
       },
       "data": [
        {
         "hovertemplate": "TotalSteps=%{x}<br>Calories=%{y}<br>VeryActiveMinutes=%{marker.size}<extra></extra>",
         "legendgroup": "",
         "marker": {
          "color": "#636efa",
          "size": [
           25,
           21,
           30,
           29,
           36,
           38,
           42,
           50,
           28,
           19,
           66,
           41,
           39,
           73,
           31,
           78,
           48,
           16,
           52,
           33,
           41,
           50,
           36,
           45,
           24,
           37,
           44,
           46,
           46,
           36,
           0,
           0,
           0,
           0,
           0,
           0,
           15,
           17,
           0,
           0,
           0,
           0,
           0,
           16,
           0,
           0,
           17,
           0,
           0,
           11,
           186,
           7,
           0,
           0,
           0,
           0,
           0,
           0,
           0,
           0,
           0,
           0,
           2,
           30,
           5,
           3,
           51,
           29,
           15,
           5,
           0,
           0,
           0,
           0,
           0,
           8,
           11,
           0,
           3,
           0,
           9,
           3,
           1,
           10,
           0,
           6,
           11,
           41,
           0,
           32,
           12,
           0,
           0,
           0,
           0,
           0,
           0,
           2,
           0,
           0,
           0,
           2,
           0,
           0,
           0,
           0,
           0,
           0,
           0,
           0,
           0,
           0,
           0,
           0,
           0,
           0,
           0,
           0,
           0,
           0,
           0,
           0,
           0,
           0,
           0,
           0,
           0,
           0,
           0,
           0,
           0,
           0,
           0,
           0,
           0,
           1,
           0,
           0,
           0,
           0,
           0,
           0,
           14,
           16,
           10,
           0,
           0,
           0,
           0,
           0,
           0,
           0,
           0,
           0,
           42,
           43,
           32,
           27,
           41,
           28,
           48,
           31,
           48,
           104,
           52,
           0,
           37,
           44,
           55,
           19,
           6,
           21,
           13,
           25,
           36,
           72,
           36,
           55,
           24,
           20,
           0,
           35,
           57,
           58,
           16,
           3,
           0,
           0,
           0,
           0,
           0,
           0,
           0,
           0,
           0,
           0,
           0,
           0,
           0,
           0,
           0,
           0,
           0,
           0,
           0,
           0,
           0,
           0,
           0,
           0,
           0,
           0,
           0,
           0,
           0,
           0,
           13,
           0,
           0,
           0,
           0,
           0,
           0,
           0,
           0,
           1,
           0,
           0,
           0,
           3,
           0,
           0,
           0,
           0,
           0,
           0,
           5,
           20,
           0,
           0,
           0,
           0,
           0,
           0,
           0,
           0,
           0,
           28,
           19,
           1,
           1,
           66,
           1,
           11,
           0,
           11,
           23,
           9,
           32,
           0,
           15,
           0,
           26,
           0,
           0,
           2,
           0,
           0,
           0,
           47,
           0,
           1,
           0,
           22,
           2,
           46,
           28,
           46,
           0,
           2,
           46,
           28,
           20,
           5,
           7,
           0,
           1,
           0,
           13,
           0,
           75,
           46,
           0,
           0,
           0,
           0,
           0,
           16,
           6,
           0,
           0,
           11,
           20,
           0,
           15,
           18,
           0,
           20,
           14,
           0,
           22,
           24,
           0,
           0,
           17,
           0,
           44,
           31,
           5,
           15,
           31,
           11,
           4,
           19,
           2,
           0,
           33,
           0,
           30,
           50,
           7,
           0,
           15,
           36,
           43,
           41,
           24,
           47,
           14,
           14,
           29,
           0,
           9,
           8,
           1,
           4,
           4,
           0,
           0,
           36,
           65,
           0,
           0,
           0,
           0,
           0,
           0,
           0,
           0,
           0,
           0,
           0,
           0,
           0,
           0,
           0,
           0,
           0,
           13,
           38,
           0,
           0,
           0,
           3,
           0,
           2,
           0,
           0,
           0,
           0,
           3,
           0,
           8,
           1,
           0,
           0,
           0,
           1,
           0,
           0,
           0,
           1,
           0,
           1,
           0,
           8,
           6,
           13,
           6,
           6,
           0,
           0,
           8,
           8,
           27,
           6,
           3,
           0,
           2,
           3,
           3,
           0,
           0,
           1,
           10,
           0,
           6,
           0,
           27,
           20,
           19,
           7,
           77,
           58,
           14,
           11,
           14,
           11,
           19,
           13,
           14,
           12,
           33,
           18,
           35,
           12,
           33,
           120,
           107,
           6,
           13,
           8,
           0,
           0,
           0,
           0,
           0,
           0,
           0,
           25,
           0,
           0,
           0,
           0,
           0,
           0,
           0,
           29,
           32,
           0,
           0,
           0,
           0,
           27,
           30,
           0,
           2,
           0,
           26,
           0,
           0,
           0,
           34,
           0,
           0,
           19,
           0,
           17,
           8,
           7,
           14,
           1,
           0,
           6,
           20,
           5,
           0,
           18,
           12,
           27,
           1,
           15,
           7,
           0,
           0,
           21,
           0,
           14,
           0,
           23,
           66,
           6,
           11,
           4,
           0,
           0,
           0,
           0,
           1,
           3,
           12,
           22,
           10,
           2,
           4,
           0,
           9,
           15,
           6,
           1,
           1,
           14,
           12,
           4,
           0,
           5,
           0,
           4,
           8,
           1,
           5,
           9,
           0,
           1,
           10,
           0,
           19,
           0,
           61,
           58,
           0,
           0,
           0,
           69,
           0,
           47,
           25,
           0,
           0,
           51,
           40,
           16,
           49,
           46,
           0,
           0,
           23,
           26,
           0,
           44,
           21,
           0,
           3,
           59,
           61,
           0,
           8,
           86,
           15,
           118,
           115,
           184,
           200,
           114,
           108,
           87,
           110,
           62,
           24,
           210,
           61,
           38,
           63,
           99,
           97,
           207,
           194,
           37,
           97,
           25,
           45,
           41,
           0,
           0,
           34,
           104,
           45,
           0,
           0,
           0,
           0,
           7,
           0,
           0,
           0,
           26,
           11,
           0,
           0,
           0,
           0,
           0,
           0,
           0,
           0,
           0,
           0,
           0,
           0,
           0,
           0,
           0,
           0,
           0,
           0,
           0,
           0,
           0,
           0,
           0,
           31,
           0,
           0,
           0,
           0,
           0,
           33,
           0,
           8,
           0,
           0,
           0,
           0,
           0,
           8,
           0,
           0,
           0,
           0,
           0,
           0,
           0,
           0,
           0,
           0,
           17,
           14,
           0,
           36,
           5,
           30,
           0,
           70,
           0,
           0,
           0,
           11,
           33,
           42,
           0,
           2,
           0,
           3,
           9,
           0,
           0,
           0,
           0,
           12,
           2,
           50,
           8,
           0,
           0,
           50,
           5,
           13,
           35,
           48,
           53,
           30,
           58,
           0,
           35,
           36,
           7,
           38,
           12,
           32,
           0,
           18,
           21,
           15,
           14,
           0,
           0,
           0,
           43,
           62,
           24,
           0,
           53,
           56,
           34,
           0,
           0,
           0,
           48,
           53,
           60,
           30,
           64,
           2,
           0,
           51,
           16,
           50,
           16,
           55,
           0,
           0,
           64,
           58,
           0,
           53,
           44,
           0,
           59,
           31,
           35,
           30,
           0,
           0,
           61,
           67,
           87,
           19,
           58,
           0,
           0,
           69,
           70,
           55,
           54,
           24,
           42,
           30,
           66,
           57,
           45,
           24,
           84,
           20,
           32,
           67,
           72,
           57,
           5,
           116,
           95,
           119,
           132,
           96,
           111,
           102,
           90,
           89,
           100,
           60,
           125,
           129,
           118,
           68,
           60,
           90,
           58,
           27,
           0,
           0,
           87,
           89,
           93,
           90,
           121,
           125,
           66,
           96,
           60,
           28,
           40,
           35,
           29,
           0,
           6,
           41,
           16,
           0,
           5,
           49,
           0,
           30,
           41,
           7,
           19,
           45,
           11,
           16,
           0,
           65,
           116,
           123,
           60,
           64,
           0,
           117,
           120,
           82,
           137,
           113,
           19,
           0,
           117,
           90,
           4,
           11,
           3,
           0,
           71,
           63,
           71,
           19,
           66,
           74,
           0,
           0,
           71,
           63,
           72,
           8,
           0,
           2,
           0,
           0,
           0,
           0,
           4,
           7,
           0,
           35,
           4,
           7,
           2,
           18,
           1,
           77,
           0,
           46,
           2,
           10,
           0,
           0,
           0,
           0,
           2,
           0,
           3,
           66,
           9,
           5,
           0,
           0,
           0,
           0,
           0,
           0,
           0,
           0,
           0,
           0,
           0,
           1,
           8,
           3,
           0,
           0,
           0,
           0,
           6,
           10,
           0,
           0,
           0,
           0,
           0,
           0,
           0,
           0,
           0,
           0,
           85,
           108,
           68,
           106,
           94,
           58,
           29,
           82,
           73,
           82,
           61,
           102,
           64,
           113,
           22,
           93,
           58,
           18,
           124,
           36,
           0,
           19,
           66,
           67,
           96,
           105,
           17,
           73,
           18,
           88,
           23
          ],
          "sizemode": "area",
          "sizeref": 0.525,
          "symbol": "circle"
         },
         "mode": "markers",
         "name": "",
         "orientation": "v",
         "showlegend": false,
         "type": "scatter",
         "x": [
          13162,
          10735,
          10460,
          9762,
          12669,
          9705,
          13019,
          15506,
          10544,
          9819,
          12764,
          14371,
          10039,
          15355,
          13755,
          18134,
          13154,
          11181,
          14673,
          10602,
          14727,
          15103,
          11100,
          14070,
          12159,
          11992,
          10060,
          12022,
          12207,
          12770,
          0,
          8163,
          7007,
          9107,
          1510,
          5370,
          6175,
          10536,
          2916,
          4974,
          6349,
          4026,
          8538,
          6076,
          6497,
          2826,
          8367,
          2759,
          2390,
          6474,
          36019,
          7155,
          2100,
          2193,
          2470,
          1727,
          2104,
          3427,
          1732,
          2969,
          3134,
          2971,
          10694,
          8001,
          11037,
          5263,
          15300,
          8757,
          7132,
          11256,
          2436,
          1223,
          3673,
          6637,
          3321,
          3580,
          9919,
          3032,
          9405,
          3176,
          18213,
          6132,
          3758,
          12850,
          2309,
          4363,
          9787,
          13372,
          6724,
          6643,
          9167,
          1329,
          6697,
          4929,
          7937,
          3844,
          3414,
          4525,
          4597,
          197,
          8,
          8054,
          5372,
          3570,
          0,
          0,
          0,
          4,
          6907,
          4920,
          4014,
          2573,
          0,
          4059,
          2080,
          2237,
          44,
          0,
          0,
          0,
          0,
          0,
          0,
          678,
          356,
          2163,
          980,
          0,
          0,
          244,
          0,
          0,
          0,
          149,
          2945,
          2090,
          152,
          3761,
          0,
          1675,
          0,
          0,
          2704,
          3790,
          1326,
          1786,
          0,
          2091,
          1510,
          0,
          0,
          0,
          0,
          0,
          11875,
          12024,
          10690,
          11034,
          10100,
          15112,
          14131,
          11548,
          15112,
          12453,
          12954,
          6001,
          13481,
          11369,
          10119,
          10159,
          10140,
          10245,
          18387,
          10538,
          10379,
          12183,
          11768,
          11895,
          10227,
          6708,
          3292,
          13379,
          12798,
          13272,
          9117,
          4414,
          4993,
          3335,
          3821,
          2547,
          838,
          3325,
          2424,
          7222,
          2467,
          2915,
          12357,
          3490,
          6017,
          5933,
          6088,
          6375,
          7604,
          4729,
          3609,
          7018,
          5992,
          6564,
          12167,
          8198,
          4193,
          5528,
          10685,
          254,
          8580,
          8891,
          10725,
          7275,
          3973,
          5205,
          5057,
          6198,
          6559,
          5997,
          7192,
          3404,
          5583,
          5079,
          4165,
          3588,
          3409,
          1715,
          1532,
          924,
          4571,
          772,
          3634,
          7443,
          1201,
          5202,
          4878,
          7379,
          5161,
          3090,
          6227,
          6424,
          2661,
          10113,
          10352,
          10129,
          10465,
          22244,
          5472,
          8247,
          6711,
          10999,
          10080,
          7804,
          16901,
          9471,
          9482,
          5980,
          11423,
          5439,
          42,
          8796,
          7618,
          7910,
          8482,
          9685,
          2524,
          7762,
          7948,
          9202,
          8859,
          7286,
          9317,
          6873,
          7373,
          8242,
          3516,
          7913,
          7365,
          8452,
          7399,
          7525,
          7412,
          8278,
          8314,
          7063,
          4940,
          8168,
          7726,
          8275,
          6440,
          7566,
          4747,
          9715,
          8844,
          7451,
          6905,
          8199,
          6798,
          7711,
          4880,
          8857,
          3843,
          7396,
          6731,
          5995,
          8283,
          7904,
          5512,
          9135,
          5250,
          3077,
          8856,
          10035,
          7641,
          9010,
          13459,
          10415,
          11663,
          12414,
          11658,
          6093,
          8911,
          12058,
          14112,
          11177,
          11388,
          7193,
          7114,
          10645,
          13238,
          10414,
          16520,
          14335,
          13559,
          12312,
          11677,
          11550,
          13585,
          14687,
          13072,
          746,
          8539,
          0,
          108,
          1882,
          1982,
          16,
          62,
          0,
          0,
          0,
          0,
          0,
          0,
          0,
          0,
          0,
          0,
          0,
          0,
          0,
          475,
          4496,
          10252,
          11728,
          4369,
          6132,
          5862,
          4556,
          5546,
          3689,
          590,
          5394,
          5974,
          0,
          3984,
          7753,
          8204,
          10210,
          5664,
          4744,
          29,
          2276,
          8925,
          8954,
          3702,
          4500,
          4935,
          4081,
          9259,
          9899,
          10780,
          10817,
          7990,
          8221,
          1251,
          9261,
          9648,
          10429,
          13658,
          9524,
          7937,
          3672,
          10378,
          9487,
          9129,
          17,
          10122,
          10993,
          8863,
          8758,
          6580,
          4660,
          11009,
          10181,
          10553,
          10055,
          12139,
          13236,
          10243,
          12961,
          9461,
          11193,
          10074,
          9232,
          12533,
          10255,
          10096,
          12727,
          12375,
          9603,
          13175,
          22770,
          17298,
          10218,
          10299,
          10201,
          3369,
          3276,
          2961,
          3974,
          7198,
          3945,
          2268,
          6155,
          2064,
          2072,
          3809,
          6831,
          4363,
          5002,
          3385,
          6326,
          7243,
          4493,
          4676,
          6222,
          5232,
          6910,
          7502,
          2923,
          3800,
          4514,
          5183,
          7303,
          5275,
          3915,
          9105,
          768,
          5135,
          4978,
          6799,
          7795,
          7289,
          9634,
          8940,
          5401,
          4803,
          13743,
          9601,
          6890,
          8563,
          8095,
          9148,
          9557,
          9451,
          7833,
          10319,
          3428,
          7891,
          5267,
          5232,
          10611,
          3755,
          8237,
          6543,
          11451,
          6435,
          9108,
          6307,
          7213,
          6877,
          7860,
          6506,
          11140,
          12692,
          9105,
          6708,
          8793,
          6530,
          1664,
          15126,
          15050,
          9167,
          6108,
          7047,
          9023,
          9930,
          10144,
          0,
          7245,
          9454,
          8161,
          8614,
          6943,
          14370,
          12857,
          8232,
          10613,
          9810,
          2752,
          11596,
          4832,
          17022,
          16556,
          5771,
          655,
          3727,
          15482,
          2713,
          12346,
          11682,
          4112,
          1807,
          10946,
          11886,
          10538,
          11393,
          12764,
          1202,
          5164,
          9769,
          12848,
          4249,
          14331,
          9632,
          1868,
          6083,
          11611,
          16358,
          4926,
          3121,
          8135,
          5077,
          8596,
          12087,
          14269,
          12231,
          9893,
          12574,
          8330,
          10830,
          9172,
          7638,
          15764,
          6393,
          5325,
          6805,
          9841,
          7924,
          12363,
          13368,
          7439,
          11045,
          5206,
          7550,
          4950,
          0,
          0,
          3421,
          8869,
          4038,
          0,
          0,
          0,
          14019,
          14450,
          7150,
          5153,
          11135,
          10449,
          19542,
          8206,
          11495,
          7623,
          0,
          9543,
          9411,
          3403,
          9592,
          6987,
          8915,
          4933,
          0,
          2997,
          9799,
          3365,
          7336,
          7328,
          4477,
          4562,
          7142,
          7671,
          9501,
          8301,
          7851,
          6885,
          7142,
          6361,
          0,
          6238,
          0,
          5896,
          7802,
          0,
          5565,
          5731,
          0,
          6744,
          9837,
          6781,
          6047,
          5832,
          6339,
          6116,
          5510,
          7706,
          6277,
          0,
          0,
          4053,
          5162,
          1282,
          4732,
          2497,
          8294,
          0,
          10771,
          0,
          637,
          0,
          2153,
          6474,
          7091,
          0,
          703,
          0,
          2503,
          2487,
          0,
          9,
          0,
          0,
          4697,
          1967,
          10199,
          5652,
          1551,
          5563,
          13217,
          10145,
          11404,
          10742,
          13928,
          11835,
          10725,
          20031,
          5029,
          13239,
          10433,
          10320,
          12627,
          10762,
          10081,
          5454,
          12912,
          12109,
          10147,
          10524,
          5908,
          6815,
          4188,
          12342,
          15448,
          6722,
          3587,
          14172,
          12862,
          11179,
          5273,
          4631,
          8059,
          14816,
          14194,
          15566,
          13744,
          15299,
          8093,
          11085,
          18229,
          15090,
          13541,
          15128,
          20067,
          3761,
          5600,
          13041,
          14510,
          0,
          15010,
          11459,
          0,
          11317,
          5813,
          9123,
          8585,
          31,
          0,
          9827,
          10688,
          14365,
          9469,
          9753,
          2817,
          3520,
          10091,
          10387,
          11107,
          11584,
          7881,
          14560,
          12390,
          10052,
          10288,
          10988,
          8564,
          12461,
          12827,
          10677,
          13566,
          14433,
          9572,
          3789,
          18060,
          16433,
          20159,
          20669,
          14549,
          18827,
          17076,
          15929,
          15108,
          16057,
          10520,
          22359,
          22988,
          20500,
          12685,
          12422,
          15447,
          12315,
          7135,
          1170,
          1969,
          15484,
          14581,
          14990,
          13953,
          19769,
          22026,
          12465,
          14810,
          12209,
          4998,
          9033,
          8053,
          5234,
          2672,
          9256,
          10204,
          5151,
          4212,
          6466,
          11268,
          2824,
          9282,
          8905,
          6829,
          4562,
          10232,
          2718,
          6260,
          0,
          7626,
          12386,
          13318,
          14461,
          11207,
          2132,
          13630,
          13070,
          9388,
          15148,
          12200,
          5709,
          3703,
          12405,
          16208,
          7359,
          5417,
          6175,
          2946,
          11419,
          6064,
          8712,
          7875,
          8567,
          7045,
          4468,
          2943,
          8382,
          6582,
          9143,
          4561,
          5014,
          5571,
          3135,
          3430,
          5319,
          3008,
          3864,
          5697,
          5273,
          8538,
          8687,
          9423,
          8286,
          4503,
          10499,
          12474,
          6174,
          15168,
          10085,
          4512,
          8469,
          12015,
          3588,
          12427,
          5843,
          6117,
          9217,
          9877,
          8240,
          8701,
          0,
          2564,
          1320,
          1219,
          2483,
          244,
          0,
          0,
          0,
          3147,
          144,
          4068,
          5245,
          400,
          0,
          1321,
          1758,
          6157,
          8360,
          7174,
          1619,
          1831,
          2421,
          2283,
          0,
          0,
          0,
          0,
          0,
          0,
          23186,
          15337,
          21129,
          13422,
          29326,
          15118,
          11423,
          18785,
          19948,
          19377,
          18258,
          11200,
          16674,
          12986,
          11101,
          23629,
          14890,
          9733,
          27745,
          10930,
          4790,
          10818,
          18193,
          14055,
          21727,
          12332,
          10686,
          20226,
          10733,
          21420,
          8064
         ],
         "xaxis": "x",
         "y": [
          1985,
          1797,
          1776,
          1745,
          1863,
          1728,
          1921,
          2035,
          1786,
          1775,
          1827,
          1949,
          1788,
          2013,
          1970,
          2159,
          1898,
          1837,
          1947,
          1820,
          2004,
          1990,
          1819,
          1959,
          1896,
          1821,
          1740,
          1819,
          1859,
          1783,
          0,
          1432,
          1411,
          1572,
          1344,
          1463,
          1554,
          1604,
          1435,
          1446,
          1467,
          1470,
          1562,
          1617,
          1492,
          1402,
          1670,
          1401,
          1404,
          1655,
          2690,
          1497,
          1334,
          1368,
          1370,
          1341,
          1474,
          1427,
          1328,
          1393,
          1359,
          1002,
          3199,
          2902,
          3226,
          2750,
          3493,
          3011,
          2806,
          3300,
          2430,
          2140,
          2344,
          2677,
          2413,
          2497,
          3123,
          2489,
          3108,
          2498,
          3846,
          2696,
          2580,
          3324,
          2222,
          2463,
          3328,
          3404,
          2987,
          3008,
          2799,
          1276,
          2030,
          1860,
          2130,
          1725,
          1657,
          1793,
          1814,
          1366,
          1349,
          2062,
          1827,
          1645,
          1347,
          1347,
          1347,
          1348,
          1992,
          1856,
          1763,
          1541,
          1348,
          1742,
          1549,
          1589,
          1351,
          1347,
          1347,
          1347,
          1347,
          1347,
          665,
          2220,
          2151,
          2383,
          2221,
          2064,
          2063,
          2111,
          2063,
          2063,
          2064,
          2093,
          2499,
          2324,
          2100,
          2638,
          2063,
          2351,
          2063,
          2064,
          2411,
          2505,
          2195,
          2338,
          2063,
          2383,
          2229,
          2063,
          2063,
          2063,
          2063,
          1383,
          2390,
          2601,
          2312,
          2525,
          2177,
          2782,
          2770,
          2489,
          2897,
          3158,
          2638,
          2069,
          2529,
          2470,
          2793,
          2463,
          2296,
          2611,
          2732,
          2380,
          2473,
          2752,
          2649,
          2609,
          2498,
          1995,
          1848,
          2709,
          2797,
          2544,
          1853,
          1459,
          1521,
          1431,
          1444,
          1373,
          1214,
          1419,
          1356,
          1667,
          1370,
          1399,
          1916,
          1401,
          1576,
          1595,
          1593,
          1649,
          1692,
          1506,
          1447,
          1690,
          1604,
          1658,
          1926,
          1736,
          1491,
          1555,
          1869,
          1141,
          1698,
          1364,
          2124,
          2003,
          1696,
          1801,
          1724,
          1852,
          1905,
          1811,
          1922,
          1610,
          1851,
          1804,
          1725,
          1654,
          1632,
          1481,
          1473,
          1410,
          1779,
          1403,
          1613,
          1878,
          1426,
          1780,
          1742,
          1972,
          1821,
          1630,
          1899,
          1903,
          1125,
          2344,
          2038,
          2010,
          2133,
          2670,
          1882,
          1944,
          2346,
          2198,
          2048,
          1946,
          2629,
          2187,
          2095,
          1861,
          2194,
          1854,
          403,
          1982,
          2004,
          1893,
          2063,
          2148,
          1529,
          1890,
          1956,
          2094,
          1970,
          2241,
          2021,
          1898,
          1907,
          1882,
          1966,
          1835,
          1780,
          1830,
          1739,
          1878,
          1906,
          2015,
          1971,
          1910,
          1897,
          2096,
          1906,
          1962,
          1826,
          1431,
          1788,
          2093,
          2065,
          1908,
          1908,
          1964,
          2014,
          1985,
          1867,
          2124,
          1669,
          1995,
          1921,
          2010,
          2057,
          2095,
          1972,
          2044,
          1946,
          1237,
          1450,
          1495,
          1433,
          1468,
          1625,
          1529,
          1584,
          1638,
          1554,
          1397,
          1481,
          1638,
          1655,
          1570,
          1551,
          1377,
          1407,
          1545,
          1650,
          1501,
          1760,
          1710,
          1628,
          1618,
          1590,
          1574,
          1633,
          1667,
          1630,
          52,
          3654,
          1981,
          2011,
          2951,
          3051,
          1990,
          1995,
          1980,
          1980,
          1980,
          1980,
          1980,
          1980,
          1980,
          1980,
          1980,
          1980,
          1980,
          1980,
          1980,
          2207,
          2828,
          3879,
          3429,
          2704,
          2975,
          3089,
          2785,
          2926,
          2645,
          1120,
          2286,
          2306,
          1776,
          1527,
          2115,
          2135,
          2302,
          1985,
          1884,
          1464,
          1632,
          2200,
          2220,
          1792,
          1886,
          1945,
          1880,
          2314,
          2236,
          2324,
          2367,
          2175,
          2092,
          1593,
          2270,
          2235,
          2282,
          2530,
          2266,
          2158,
          1792,
          2345,
          2260,
          2232,
          257,
          2955,
          3092,
          2998,
          3066,
          3073,
          2572,
          3274,
          3015,
          3083,
          3069,
          3544,
          3306,
          2885,
          3288,
          2929,
          3074,
          2969,
          2979,
          3283,
          2926,
          3147,
          3290,
          3162,
          2899,
          3425,
          4022,
          3934,
          3013,
          3061,
          2954,
          1623,
          2113,
          2095,
          2194,
          2496,
          2180,
          1933,
          2248,
          1954,
          1974,
          2150,
          2432,
          2149,
          2247,
          2070,
          2291,
          2361,
          2203,
          2196,
          2363,
          2246,
          2336,
          2421,
          2070,
          2120,
          2211,
          2123,
          2423,
          2281,
          2181,
          2499,
          1212,
          1909,
          1722,
          1922,
          2121,
          1997,
          2117,
          2116,
          1876,
          1788,
          2486,
          2094,
          2085,
          2173,
          2225,
          2223,
          2098,
          2185,
          1918,
          2105,
          1692,
          2066,
          1953,
          1842,
          2262,
          1722,
          1973,
          2666,
          2223,
          1889,
          2131,
          1452,
          2947,
          2898,
          2984,
          2896,
          3328,
          3394,
          3013,
          2812,
          3061,
          2729,
          2241,
          3691,
          3538,
          3064,
          2784,
          2908,
          3033,
          3165,
          3115,
          2017,
          2859,
          3145,
          3004,
          3006,
          2859,
          3683,
          3287,
          2990,
          3172,
          3069,
          1240,
          2026,
          1718,
          2324,
          2254,
          1831,
          1397,
          1683,
          2284,
          1570,
          2066,
          2105,
          1776,
          1507,
          2033,
          2093,
          1922,
          1999,
          2169,
          1463,
          1747,
          1996,
          2116,
          1698,
          2156,
          1916,
          1494,
          1762,
          2272,
          2335,
          1693,
          741,
          3405,
          2551,
          4022,
          4005,
          4274,
          4552,
          3625,
          3501,
          3192,
          4018,
          3329,
          3152,
          4392,
          3374,
          3088,
          3294,
          3580,
          3544,
          4501,
          4546,
          3014,
          3795,
          2755,
          3004,
          2643,
          1819,
          1819,
          2489,
          3841,
          1665,
          1496,
          1496,
          1496,
          2865,
          2828,
          2225,
          2018,
          2606,
          2536,
          4900,
          2409,
          2651,
          2305,
          1497,
          2450,
          2576,
          1879,
          2560,
          2275,
          2361,
          2044,
          1496,
          1902,
          2636,
          1838,
          2469,
          2250,
          1248,
          2560,
          2905,
          2952,
          2896,
          2783,
          3171,
          2766,
          2839,
          2701,
          2060,
          2796,
          2664,
          2703,
          2771,
          2060,
          2743,
          2687,
          2060,
          2843,
          3327,
          2725,
          2671,
          2718,
          2682,
          2806,
          2613,
          2712,
          2175,
          0,
          1841,
          2400,
          2507,
          2127,
          2225,
          2067,
          2798,
          1841,
          3727,
          1841,
          1922,
          1841,
          2053,
          2484,
          2584,
          1841,
          1993,
          1841,
          2280,
          2319,
          1841,
          1843,
          1841,
          1841,
          2496,
          1032,
          1994,
          1718,
          1466,
          1756,
          2173,
          2027,
          2039,
          2046,
          2174,
          2179,
          2086,
          2571,
          1705,
          2194,
          2012,
          2034,
          2182,
          2254,
          2002,
          1740,
          2162,
          2072,
          2086,
          2066,
          1850,
          1947,
          1659,
          2105,
          2361,
          1855,
          928,
          2937,
          2742,
          2668,
          2098,
          2076,
          2383,
          2832,
          2812,
          3096,
          2763,
          2889,
          2284,
          2667,
          3055,
          2939,
          2830,
          2836,
          3180,
          2051,
          2225,
          2642,
          2976,
          1557,
          2933,
          2553,
          120,
          2772,
          2516,
          2734,
          2395,
          1635,
          1629,
          2743,
          2944,
          2997,
          2463,
          2846,
          1965,
          2049,
          2752,
          2781,
          2693,
          2862,
          2616,
          2995,
          2730,
          2754,
          2754,
          2655,
          2386,
          2924,
          2739,
          2534,
          2960,
          2800,
          2735,
          1199,
          3186,
          3140,
          3411,
          3410,
          2867,
          3213,
          3133,
          3114,
          3043,
          3103,
          2655,
          3554,
          3577,
          3403,
          2846,
          2852,
          3062,
          2794,
          2408,
          1886,
          1988,
          3023,
          2918,
          2950,
          2859,
          3331,
          3589,
          2765,
          2926,
          2809,
          1505,
          2044,
          1935,
          1705,
          1632,
          1880,
          2112,
          1829,
          1763,
          1931,
          2218,
          1651,
          2132,
          1976,
          1909,
          1813,
          2008,
          1580,
          1854,
          0,
          3635,
          4079,
          4163,
          3666,
          3363,
          2572,
          4157,
          4092,
          3787,
          4236,
          4044,
          2908,
          2741,
          4005,
          3763,
          3061,
          2884,
          2982,
          2660,
          3369,
          3491,
          3784,
          3110,
          3783,
          3644,
          2799,
          2685,
          3721,
          3586,
          3788,
          1976,
          2650,
          2654,
          2443,
          2505,
          2693,
          2439,
          2536,
          2668,
          2647,
          2883,
          2944,
          3012,
          2889,
          2547,
          3093,
          3142,
          2757,
          3513,
          3164,
          2596,
          2894,
          3212,
          2516,
          3266,
          2683,
          2810,
          2940,
          2947,
          2846,
          2804,
          0,
          2044,
          1934,
          1963,
          2009,
          1721,
          1688,
          1688,
          1688,
          2188,
          1720,
          2419,
          2748,
          1799,
          1688,
          1928,
          2067,
          2780,
          3101,
          2896,
          1962,
          2015,
          2297,
          2067,
          1688,
          1688,
          1688,
          1688,
          1688,
          57,
          3921,
          3566,
          3793,
          3934,
          4547,
          3545,
          2761,
          3676,
          3679,
          3659,
          3427,
          3891,
          3455,
          3802,
          2860,
          3808,
          3060,
          2698,
          4398,
          2786,
          2189,
          2817,
          3477,
          3052,
          4015,
          4142,
          2847,
          3710,
          2832,
          3832,
          1849
         ],
         "yaxis": "y"
        },
        {
         "hovertemplate": "<b>OLS trendline</b><br>Calories = 0.0835133 * TotalSteps + 1665.74<br>R<sup>2</sup>=0.349953<br><br>TotalSteps=%{x}<br>Calories=%{y} <b>(trend)</b><extra></extra>",
         "legendgroup": "",
         "marker": {
          "color": "#636efa",
          "symbol": "circle"
         },
         "mode": "lines",
         "name": "",
         "showlegend": false,
         "type": "scatter",
         "x": [
          0,
          0,
          0,
          0,
          0,
          0,
          0,
          0,
          0,
          0,
          0,
          0,
          0,
          0,
          0,
          0,
          0,
          0,
          0,
          0,
          0,
          0,
          0,
          0,
          0,
          0,
          0,
          0,
          0,
          0,
          0,
          0,
          0,
          0,
          0,
          0,
          0,
          0,
          0,
          0,
          0,
          0,
          0,
          0,
          0,
          0,
          0,
          0,
          0,
          0,
          0,
          0,
          0,
          0,
          0,
          0,
          0,
          0,
          0,
          0,
          0,
          0,
          0,
          0,
          0,
          0,
          0,
          0,
          0,
          0,
          0,
          0,
          0,
          0,
          0,
          0,
          0,
          4,
          8,
          9,
          16,
          17,
          29,
          31,
          42,
          44,
          62,
          108,
          144,
          149,
          152,
          197,
          244,
          244,
          254,
          356,
          400,
          475,
          590,
          637,
          655,
          678,
          703,
          746,
          768,
          772,
          838,
          924,
          980,
          1170,
          1201,
          1202,
          1219,
          1223,
          1251,
          1282,
          1320,
          1321,
          1326,
          1329,
          1510,
          1510,
          1532,
          1551,
          1619,
          1664,
          1675,
          1715,
          1727,
          1732,
          1758,
          1786,
          1807,
          1831,
          1868,
          1882,
          1967,
          1969,
          1982,
          2064,
          2072,
          2080,
          2090,
          2091,
          2100,
          2104,
          2132,
          2153,
          2163,
          2193,
          2237,
          2268,
          2276,
          2283,
          2309,
          2390,
          2421,
          2424,
          2436,
          2467,
          2470,
          2483,
          2487,
          2497,
          2503,
          2524,
          2547,
          2564,
          2573,
          2661,
          2672,
          2704,
          2713,
          2718,
          2752,
          2759,
          2817,
          2824,
          2826,
          2915,
          2916,
          2923,
          2943,
          2945,
          2946,
          2961,
          2969,
          2971,
          2997,
          3008,
          3032,
          3077,
          3090,
          3121,
          3134,
          3135,
          3147,
          3176,
          3276,
          3292,
          3321,
          3325,
          3335,
          3365,
          3369,
          3385,
          3403,
          3404,
          3409,
          3414,
          3421,
          3427,
          3428,
          3430,
          3490,
          3516,
          3520,
          3570,
          3580,
          3587,
          3588,
          3588,
          3609,
          3634,
          3672,
          3673,
          3689,
          3702,
          3703,
          3727,
          3755,
          3758,
          3761,
          3761,
          3789,
          3790,
          3800,
          3809,
          3821,
          3843,
          3844,
          3864,
          3915,
          3945,
          3973,
          3974,
          3984,
          4014,
          4026,
          4038,
          4053,
          4059,
          4068,
          4081,
          4112,
          4165,
          4188,
          4193,
          4212,
          4249,
          4363,
          4363,
          4369,
          4414,
          4468,
          4477,
          4493,
          4496,
          4500,
          4503,
          4512,
          4514,
          4525,
          4556,
          4561,
          4562,
          4562,
          4571,
          4597,
          4631,
          4660,
          4676,
          4697,
          4729,
          4732,
          4744,
          4747,
          4790,
          4803,
          4832,
          4878,
          4880,
          4920,
          4926,
          4929,
          4933,
          4935,
          4940,
          4950,
          4974,
          4978,
          4993,
          4998,
          5002,
          5014,
          5029,
          5057,
          5077,
          5079,
          5135,
          5151,
          5153,
          5161,
          5162,
          5164,
          5183,
          5202,
          5205,
          5206,
          5232,
          5232,
          5234,
          5245,
          5250,
          5263,
          5267,
          5273,
          5273,
          5275,
          5319,
          5325,
          5370,
          5372,
          5394,
          5401,
          5417,
          5439,
          5454,
          5472,
          5510,
          5512,
          5528,
          5546,
          5563,
          5565,
          5571,
          5583,
          5600,
          5652,
          5664,
          5697,
          5709,
          5731,
          5771,
          5813,
          5832,
          5843,
          5862,
          5896,
          5908,
          5933,
          5974,
          5980,
          5992,
          5995,
          5997,
          6001,
          6017,
          6047,
          6064,
          6076,
          6083,
          6088,
          6093,
          6108,
          6116,
          6117,
          6132,
          6132,
          6155,
          6157,
          6174,
          6175,
          6175,
          6198,
          6222,
          6227,
          6238,
          6260,
          6277,
          6307,
          6326,
          6339,
          6349,
          6361,
          6375,
          6393,
          6424,
          6435,
          6440,
          6466,
          6474,
          6474,
          6497,
          6506,
          6530,
          6543,
          6559,
          6564,
          6580,
          6582,
          6637,
          6643,
          6697,
          6708,
          6708,
          6711,
          6722,
          6724,
          6731,
          6744,
          6781,
          6798,
          6799,
          6805,
          6815,
          6829,
          6831,
          6873,
          6877,
          6885,
          6890,
          6905,
          6907,
          6910,
          6943,
          6987,
          7007,
          7018,
          7045,
          7047,
          7063,
          7091,
          7114,
          7132,
          7135,
          7142,
          7142,
          7150,
          7155,
          7174,
          7192,
          7193,
          7198,
          7213,
          7222,
          7243,
          7245,
          7275,
          7286,
          7289,
          7303,
          7328,
          7336,
          7359,
          7365,
          7373,
          7379,
          7396,
          7399,
          7412,
          7439,
          7443,
          7451,
          7502,
          7525,
          7550,
          7566,
          7604,
          7618,
          7623,
          7626,
          7638,
          7641,
          7671,
          7706,
          7711,
          7726,
          7753,
          7762,
          7795,
          7802,
          7804,
          7833,
          7851,
          7860,
          7875,
          7881,
          7891,
          7904,
          7910,
          7913,
          7924,
          7937,
          7937,
          7948,
          7990,
          8001,
          8053,
          8054,
          8059,
          8064,
          8093,
          8095,
          8135,
          8161,
          8163,
          8168,
          8198,
          8199,
          8204,
          8206,
          8221,
          8232,
          8237,
          8240,
          8242,
          8247,
          8275,
          8278,
          8283,
          8286,
          8294,
          8301,
          8314,
          8330,
          8360,
          8367,
          8382,
          8452,
          8469,
          8482,
          8538,
          8538,
          8539,
          8563,
          8564,
          8567,
          8580,
          8585,
          8596,
          8614,
          8687,
          8701,
          8712,
          8757,
          8758,
          8793,
          8796,
          8844,
          8856,
          8857,
          8859,
          8863,
          8869,
          8891,
          8905,
          8911,
          8915,
          8925,
          8940,
          8954,
          9010,
          9023,
          9033,
          9105,
          9105,
          9107,
          9108,
          9117,
          9123,
          9129,
          9135,
          9143,
          9148,
          9167,
          9167,
          9172,
          9202,
          9217,
          9232,
          9256,
          9259,
          9261,
          9282,
          9317,
          9388,
          9405,
          9411,
          9423,
          9451,
          9454,
          9461,
          9469,
          9471,
          9482,
          9487,
          9501,
          9524,
          9543,
          9557,
          9572,
          9592,
          9601,
          9603,
          9632,
          9634,
          9648,
          9685,
          9705,
          9715,
          9733,
          9753,
          9762,
          9769,
          9787,
          9799,
          9810,
          9819,
          9827,
          9837,
          9841,
          9877,
          9893,
          9899,
          9919,
          9930,
          10035,
          10039,
          10052,
          10055,
          10060,
          10074,
          10080,
          10081,
          10085,
          10091,
          10096,
          10100,
          10113,
          10119,
          10122,
          10129,
          10140,
          10144,
          10145,
          10147,
          10159,
          10181,
          10199,
          10201,
          10204,
          10210,
          10218,
          10227,
          10232,
          10243,
          10245,
          10252,
          10255,
          10288,
          10299,
          10319,
          10320,
          10352,
          10378,
          10379,
          10387,
          10414,
          10415,
          10429,
          10433,
          10449,
          10460,
          10465,
          10499,
          10520,
          10524,
          10536,
          10538,
          10538,
          10544,
          10553,
          10602,
          10611,
          10613,
          10645,
          10677,
          10685,
          10686,
          10688,
          10690,
          10694,
          10725,
          10725,
          10733,
          10735,
          10742,
          10762,
          10771,
          10780,
          10817,
          10818,
          10830,
          10930,
          10946,
          10988,
          10993,
          10999,
          11009,
          11034,
          11037,
          11045,
          11085,
          11100,
          11101,
          11107,
          11135,
          11140,
          11177,
          11179,
          11181,
          11193,
          11200,
          11207,
          11256,
          11268,
          11317,
          11369,
          11388,
          11393,
          11404,
          11419,
          11423,
          11423,
          11451,
          11459,
          11495,
          11548,
          11550,
          11584,
          11596,
          11611,
          11658,
          11663,
          11677,
          11682,
          11728,
          11768,
          11835,
          11875,
          11886,
          11895,
          11992,
          12015,
          12022,
          12024,
          12058,
          12087,
          12109,
          12139,
          12159,
          12167,
          12183,
          12200,
          12207,
          12209,
          12231,
          12312,
          12315,
          12332,
          12342,
          12346,
          12357,
          12363,
          12375,
          12386,
          12390,
          12405,
          12414,
          12422,
          12427,
          12453,
          12461,
          12465,
          12474,
          12533,
          12574,
          12627,
          12669,
          12685,
          12692,
          12727,
          12764,
          12764,
          12770,
          12798,
          12827,
          12848,
          12850,
          12857,
          12862,
          12912,
          12954,
          12961,
          12986,
          13019,
          13041,
          13070,
          13072,
          13154,
          13162,
          13175,
          13217,
          13236,
          13238,
          13239,
          13272,
          13318,
          13368,
          13372,
          13379,
          13422,
          13459,
          13481,
          13541,
          13559,
          13566,
          13585,
          13630,
          13658,
          13743,
          13744,
          13755,
          13928,
          13953,
          14019,
          14055,
          14070,
          14112,
          14131,
          14172,
          14194,
          14269,
          14331,
          14335,
          14365,
          14370,
          14371,
          14433,
          14450,
          14461,
          14510,
          14549,
          14560,
          14581,
          14673,
          14687,
          14727,
          14810,
          14816,
          14890,
          14990,
          15010,
          15050,
          15090,
          15103,
          15108,
          15112,
          15112,
          15118,
          15126,
          15128,
          15148,
          15168,
          15299,
          15300,
          15337,
          15355,
          15447,
          15448,
          15482,
          15484,
          15506,
          15566,
          15764,
          15929,
          16057,
          16208,
          16358,
          16433,
          16520,
          16556,
          16674,
          16901,
          17022,
          17076,
          17298,
          18060,
          18134,
          18193,
          18213,
          18229,
          18258,
          18387,
          18785,
          18827,
          19377,
          19542,
          19769,
          19948,
          20031,
          20067,
          20159,
          20226,
          20500,
          20669,
          21129,
          21420,
          21727,
          22026,
          22244,
          22359,
          22770,
          22988,
          23186,
          23629,
          27745,
          29326,
          36019
         ],
         "xaxis": "x",
         "y": [
          1665.7426768758307,
          1665.7426768758307,
          1665.7426768758307,
          1665.7426768758307,
          1665.7426768758307,
          1665.7426768758307,
          1665.7426768758307,
          1665.7426768758307,
          1665.7426768758307,
          1665.7426768758307,
          1665.7426768758307,
          1665.7426768758307,
          1665.7426768758307,
          1665.7426768758307,
          1665.7426768758307,
          1665.7426768758307,
          1665.7426768758307,
          1665.7426768758307,
          1665.7426768758307,
          1665.7426768758307,
          1665.7426768758307,
          1665.7426768758307,
          1665.7426768758307,
          1665.7426768758307,
          1665.7426768758307,
          1665.7426768758307,
          1665.7426768758307,
          1665.7426768758307,
          1665.7426768758307,
          1665.7426768758307,
          1665.7426768758307,
          1665.7426768758307,
          1665.7426768758307,
          1665.7426768758307,
          1665.7426768758307,
          1665.7426768758307,
          1665.7426768758307,
          1665.7426768758307,
          1665.7426768758307,
          1665.7426768758307,
          1665.7426768758307,
          1665.7426768758307,
          1665.7426768758307,
          1665.7426768758307,
          1665.7426768758307,
          1665.7426768758307,
          1665.7426768758307,
          1665.7426768758307,
          1665.7426768758307,
          1665.7426768758307,
          1665.7426768758307,
          1665.7426768758307,
          1665.7426768758307,
          1665.7426768758307,
          1665.7426768758307,
          1665.7426768758307,
          1665.7426768758307,
          1665.7426768758307,
          1665.7426768758307,
          1665.7426768758307,
          1665.7426768758307,
          1665.7426768758307,
          1665.7426768758307,
          1665.7426768758307,
          1665.7426768758307,
          1665.7426768758307,
          1665.7426768758307,
          1665.7426768758307,
          1665.7426768758307,
          1665.7426768758307,
          1665.7426768758307,
          1665.7426768758307,
          1665.7426768758307,
          1665.7426768758307,
          1665.7426768758307,
          1665.7426768758307,
          1665.7426768758307,
          1666.076729958041,
          1666.410783040251,
          1666.4942963108035,
          1667.0788892046712,
          1667.1624024752239,
          1668.1645617218542,
          1668.3315882629593,
          1669.2502342390371,
          1669.4172607801422,
          1670.9204996500878,
          1674.7621100955046,
          1677.7685878353957,
          1678.1861541881583,
          1678.436693999816,
          1682.1947911746802,
          1686.1199148906492,
          1686.1199148906492,
          1686.9550475961746,
          1695.4734011925332,
          1699.1479850968446,
          1705.4114803882846,
          1715.0155065018262,
          1718.9406302177954,
          1720.443869087741,
          1722.3646743104493,
          1724.4525060742626,
          1728.0435767080216,
          1729.8808686601774,
          1730.2149217423876,
          1735.7267975988548,
          1742.9089388663729,
          1747.5856820173146,
          1763.4532034222964,
          1766.042114809425,
          1766.1256280799773,
          1767.5453536793705,
          1767.8794067615806,
          1770.2177783370516,
          1772.8066897241802,
          1775.9801940051766,
          1776.063707275729,
          1776.4812736284916,
          1776.7318134401494,
          1791.8477154101581,
          1791.8477154101581,
          1793.6850073623139,
          1795.271759502812,
          1800.9506619003844,
          1804.7087590752485,
          1805.6274050513264,
          1808.9679358734277,
          1809.9700951200582,
          1810.3876614728208,
          1812.5590065071867,
          1814.8973780826577,
          1816.651156764261,
          1818.6554752575216,
          1821.7454662679656,
          1822.914652055701,
          1830.0132800526665,
          1830.1803065937715,
          1831.2659791109545,
          1838.1140672962624,
          1838.7821734606825,
          1839.450279625103,
          1840.2854123306283,
          1840.3689256011808,
          1841.1205450361535,
          1841.4545981183637,
          1843.7929696938347,
          1845.5467483754378,
          1846.3818810809632,
          1848.8872791975393,
          1852.5618631018508,
          1855.1507744889793,
          1855.8188806533997,
          1856.4034735472674,
          1858.5748185816333,
          1865.3393934963885,
          1867.9283048835173,
          1868.1788446951748,
          1869.1810039418053,
          1871.7699153289338,
          1872.0204551405914,
          1873.1061276577743,
          1873.4401807399845,
          1874.27531344551,
          1874.776393068825,
          1876.5301717504283,
          1878.4509769731367,
          1879.8707025725296,
          1880.6223220075026,
          1887.9714898161255,
          1888.8901357922034,
          1891.5625604498846,
          1892.3141798848574,
          1892.73174623762,
          1895.5711974364062,
          1896.155790330274,
          1900.999560022321,
          1901.5841529161887,
          1901.7511794572938,
          1909.1838605364694,
          1909.2673738070218,
          1909.8519667008895,
          1911.5222321119404,
          1911.6892586530453,
          1911.772771923598,
          1913.025470981886,
          1913.6935771463063,
          1913.8606036874112,
          1916.031948721777,
          1916.9505946978552,
          1918.9549131911158,
          1922.71301036598,
          1923.7986828831629,
          1926.3875942702916,
          1927.4732667874744,
          1927.556780058027,
          1928.5589393046573,
          1930.980824150681,
          1939.3321512059345,
          1940.668363534775,
          1943.0902483807984,
          1943.4243014630085,
          1944.259434168534,
          1946.76483228511,
          1947.09888536732,
          1948.4350976961607,
          1949.9383365661063,
          1950.021849836659,
          1950.4394161894215,
          1950.8569825421841,
          1951.4415754360518,
          1951.942655059367,
          1952.0261683299195,
          1952.1931948710248,
          1957.2039911041768,
          1959.3753361385427,
          1959.7093892207529,
          1963.8850527483796,
          1964.7201854539048,
          1965.3047783477728,
          1965.3882916183252,
          1965.3882916183252,
          1967.1420702999285,
          1969.2299020637417,
          1972.4034063447382,
          1972.4869196152906,
          1973.823131944131,
          1974.908804461314,
          1974.9923177318667,
          1976.9966362251275,
          1979.3350078005985,
          1979.585547612256,
          1979.8360874239138,
          1979.8360874239138,
          1982.1744589993846,
          1982.2579722699372,
          1983.0931049754627,
          1983.8447244104354,
          1984.8468836570657,
          1986.6841756092215,
          1986.7676888797741,
          1988.4379542908248,
          1992.697131089004,
          1995.20252920558,
          1997.540900781051,
          1997.6244140516037,
          1998.459546757129,
          2000.964944873705,
          2001.9671041203353,
          2002.9692633669658,
          2004.2219624252539,
          2004.723042048569,
          2005.474661483542,
          2006.5603340007247,
          2009.1492453878534,
          2013.5754487271377,
          2015.496253949846,
          2015.9138203026087,
          2017.5005724431069,
          2020.5905634535507,
          2030.1110762965395,
          2030.1110762965395,
          2030.6121559198548,
          2034.370253094719,
          2038.8799697045556,
          2039.6315891395284,
          2040.967801468369,
          2041.2183412800266,
          2041.5523943622368,
          2041.8029341738943,
          2042.5545536088673,
          2042.7215801499724,
          2043.6402261260503,
          2046.2291375131788,
          2046.6467038659414,
          2046.730217136494,
          2046.730217136494,
          2047.4818365714668,
          2049.6531816058327,
          2052.492632804619,
          2054.914517650642,
          2056.250729979483,
          2058.004508661086,
          2060.676933318767,
          2060.927473130425,
          2061.9296323770554,
          2062.1801721887127,
          2065.771242822472,
          2066.8569153396547,
          2069.2788001856784,
          2073.120410631095,
          2073.2874371722,
          2076.6279679943013,
          2077.1290476176164,
          2077.379587429274,
          2077.7136405114843,
          2077.880667052589,
          2078.298233405352,
          2079.1333661108774,
          2081.1376846041385,
          2081.471737686348,
          2082.7244367446365,
          2083.142003097399,
          2083.4760561796093,
          2084.47821542624,
          2085.7309144845276,
          2088.069286059999,
          2089.7395514710493,
          2089.9065780121546,
          2094.583321163096,
          2095.919533491937,
          2096.086560033042,
          2096.754666197462,
          2096.838179468015,
          2097.00520600912,
          2098.591958149618,
          2100.178710290116,
          2100.429250101774,
          2100.5127633723264,
          2102.6841084066923,
          2102.6841084066923,
          2102.851134947797,
          2103.7697809238753,
          2104.187347276638,
          2105.273019793821,
          2105.607072876031,
          2106.108152499346,
          2106.108152499346,
          2106.2751790404513,
          2109.949762944763,
          2110.450842568078,
          2114.2089397429418,
          2114.375966284047,
          2116.213258236203,
          2116.7978511300707,
          2118.134063458911,
          2119.9713554110667,
          2121.224054469355,
          2122.7272933393006,
          2125.900797620297,
          2126.067824161402,
          2127.4040364902426,
          2128.907275360188,
          2130.3270009595813,
          2130.494027500686,
          2130.9951071240016,
          2131.997266370632,
          2133.416991970025,
          2137.7596820387566,
          2138.761841285387,
          2141.517779213621,
          2142.519938460251,
          2144.3572304124073,
          2147.6977612345086,
          2151.2053185977147,
          2152.792070738213,
          2153.710716714291,
          2155.2974688547893,
          2158.136920053575,
          2159.1390793002056,
          2161.226911064019,
          2164.650955156673,
          2165.1520347799883,
          2166.154194026619,
          2166.404733838276,
          2166.5717603793814,
          2166.9058134615916,
          2168.242025790432,
          2170.747423907008,
          2172.167149506401,
          2173.1693087530316,
          2173.753901646899,
          2174.171467999662,
          2174.5890343524247,
          2175.8417334107125,
          2176.509839575133,
          2176.5933528456853,
          2177.8460519039736,
          2177.8460519039736,
          2179.7668571266818,
          2179.9338836677866,
          2181.3536092671798,
          2181.4371225377326,
          2181.4371225377326,
          2183.357927760441,
          2185.3622462537014,
          2185.7798126064645,
          2186.698458582542,
          2188.535750534698,
          2189.955476134091,
          2192.460874250667,
          2194.047626391165,
          2195.133298908348,
          2195.9684316138737,
          2196.9705908605038,
          2198.1397766482396,
          2199.643015518185,
          2202.2319269053137,
          2203.1505728813913,
          2203.568139234154,
          2205.73948426852,
          2206.40759043294,
          2206.40759043294,
          2208.328395655649,
          2209.0800150906216,
          2211.084333583882,
          2212.170006101065,
          2213.506218429906,
          2213.9237847826685,
          2215.2599971115087,
          2215.427023652614,
          2220.0202535330036,
          2220.5213331563186,
          2225.031049766156,
          2225.9496957422334,
          2225.9496957422334,
          2226.200235553891,
          2227.118881529969,
          2227.285908071074,
          2227.8705009649416,
          2228.9561734821245,
          2232.0461644925686,
          2233.4658900919617,
          2233.549403362514,
          2234.050482985829,
          2234.8856156913544,
          2236.05480147909,
          2236.221828020195,
          2239.7293853834017,
          2240.063438465612,
          2240.731544630032,
          2241.149110982795,
          2242.4018100410826,
          2242.568836582188,
          2242.8193763938452,
          2245.575314322079,
          2249.2498982263905,
          2250.9201636374414,
          2251.838809613519,
          2254.093667918438,
          2254.2606944595427,
          2255.5969067883834,
          2257.935278363854,
          2259.8560835865624,
          2261.3593224565084,
          2261.6098622681657,
          2262.1944551620336,
          2262.1944551620336,
          2262.862561326454,
          2263.2801276792165,
          2264.8668798197145,
          2266.37011868966,
          2266.453631960213,
          2266.871198312975,
          2268.1238973712634,
          2268.875516806236,
          2270.6292954878395,
          2270.796322028945,
          2273.3017201455204,
          2274.2203661215985,
          2274.4709059332563,
          2275.6400917209917,
          2277.7279234848047,
          2278.396029649225,
          2280.3168348719337,
          2280.8179144952487,
          2281.486020659669,
          2281.987100282984,
          2283.4068258823772,
          2283.657365694035,
          2284.743038211218,
          2286.9978965161363,
          2287.3319495983465,
          2288.000055762767,
          2292.2592325609457,
          2294.1800377836544,
          2296.267869547468,
          2297.604081876308,
          2300.7775861573045,
          2301.94677194504,
          2302.3643382978025,
          2302.6148781094603,
          2303.617037356091,
          2303.867577167748,
          2306.372975284324,
          2309.295939753663,
          2309.7135061064255,
          2310.9662051647138,
          2313.221063469632,
          2313.972682904605,
          2316.7286208328387,
          2317.3132137267066,
          2317.4802402678115,
          2319.9021251138347,
          2321.4053639837807,
          2322.1569834187535,
          2323.4096824770413,
          2323.910762100357,
          2324.745894805882,
          2325.831567323065,
          2326.33264694638,
          2326.5831867580378,
          2327.501832734116,
          2328.5875052512984,
          2328.5875052512984,
          2329.5061512273764,
          2333.0137085905826,
          2333.9323545666607,
          2338.2750446353925,
          2338.358557905945,
          2338.7761242587076,
          2339.1936906114706,
          2341.615575457494,
          2341.782601998599,
          2345.1231328207004,
          2347.2944778550664,
          2347.461504396171,
          2347.8790707489343,
          2350.38446886551,
          2350.4679821360623,
          2350.8855484888254,
          2351.0525750299303,
          2352.3052740882185,
          2353.223920064296,
          2353.641486417059,
          2353.8920262287165,
          2354.0590527698214,
          2354.4766191225845,
          2356.814990698055,
          2357.065530509713,
          2357.4830968624756,
          2357.733636674133,
          2358.401742838553,
          2358.986335732421,
          2360.072008249604,
          2361.408220578445,
          2363.913618695021,
          2364.4982115888884,
          2365.7509106471766,
          2371.596839585854,
          2373.016565185247,
          2374.10223770243,
          2378.7789808533716,
          2378.7789808533716,
          2378.8624941239245,
          2380.866812617185,
          2380.9503258877376,
          2381.2008656993953,
          2382.2865382165783,
          2382.704104569341,
          2383.622750545419,
          2385.1259894153645,
          2391.2224581656997,
          2392.391643953435,
          2393.3102899295127,
          2397.068387104377,
          2397.1519003749295,
          2400.074864844268,
          2400.325404655926,
          2404.3340416424476,
          2405.336200889078,
          2405.4197141596305,
          2405.5867407007354,
          2405.9207937829456,
          2406.4218734062606,
          2408.259165358417,
          2409.428351146152,
          2409.929430769467,
          2410.2634838516774,
          2411.098616557203,
          2412.351315615491,
          2413.5205014032263,
          2418.1972445541683,
          2419.282917071351,
          2420.1180497768764,
          2426.131005256659,
          2426.131005256659,
          2426.298031797764,
          2426.381545068317,
          2427.1331645032897,
          2427.6342441266047,
          2428.1353237499197,
          2428.636403373235,
          2429.3045095376556,
          2429.722075890418,
          2431.308828030916,
          2431.308828030916,
          2431.726394383679,
          2434.231792500255,
          2435.4844915585427,
          2436.737190616831,
          2438.741509110092,
          2438.9920489217493,
          2439.1590754628546,
          2440.912854144458,
          2443.8358186137966,
          2449.7652608230264,
          2451.1849864224196,
          2451.6860660457346,
          2452.688225292365,
          2455.026596867836,
          2455.2771366794937,
          2455.861729573361,
          2456.5298357377815,
          2456.696862278887,
          2457.615508254965,
          2458.033074607727,
          2459.202260395463,
          2461.123065618171,
          2462.7098177586695,
          2463.879003546405,
          2465.1317026046927,
          2466.8019680157436,
          2467.5535874507163,
          2467.720613991821,
          2470.142498837845,
          2470.3095253789497,
          2471.4787111666856,
          2474.568702177129,
          2476.23896758818,
          2477.074100293705,
          2478.577339163651,
          2480.2476045747017,
          2480.9992240096744,
          2481.5838169035424,
          2483.087055773488,
          2484.089215020118,
          2485.007860996196,
          2485.759480431169,
          2486.427586595589,
          2487.2627193011144,
          2487.5967723833246,
          2490.6032501232157,
          2491.9394624520564,
          2492.4405420753715,
          2494.1108074864223,
          2495.0294534625,
          2503.798346870516,
          2504.1323999527267,
          2505.218072469909,
          2505.468612281567,
          2505.8861786343296,
          2507.0553644220654,
          2507.5564440453804,
          2507.639957315933,
          2507.974010398143,
          2508.4750900214585,
          2508.8926563742207,
          2509.2267094564313,
          2510.312381973614,
          2510.8134615969293,
          2511.0640014085866,
          2511.6485943024545,
          2512.5672402785326,
          2512.901293360743,
          2512.984806631295,
          2513.1518331724,
          2514.1539924190306,
          2515.9912843711863,
          2517.494523241132,
          2517.661549782237,
          2517.9120895938945,
          2518.41316921721,
          2519.08127538163,
          2519.832894816603,
          2520.2504611693657,
          2521.1691071454434,
          2521.3361336865487,
          2521.920726580416,
          2522.171266392074,
          2524.9272043203077,
          2525.8458502963854,
          2527.5161157074363,
          2527.5996289779887,
          2530.2720536356696,
          2532.4433986700355,
          2532.5269119405884,
          2533.195018105009,
          2535.449876409927,
          2535.5333896804796,
          2536.702575468215,
          2537.036628550425,
          2538.372840879266,
          2539.2914868553435,
          2539.709053208106,
          2542.5485044068923,
          2544.3022830884956,
          2544.636336170706,
          2545.6384954173363,
          2545.805521958441,
          2545.805521958441,
          2546.3066015817567,
          2547.0582210167295,
          2551.1503712738036,
          2551.9019907087763,
          2552.069017249881,
          2554.7414419075626,
          2557.4138665652436,
          2558.081972729664,
          2558.1654860002163,
          2558.332512541321,
          2558.4995390824265,
          2558.8335921646367,
          2561.422503551765,
          2561.422503551765,
          2562.0906097161856,
          2562.2576362572904,
          2562.8422291511583,
          2564.512494562209,
          2565.264113997182,
          2566.015733432155,
          2569.1057244425983,
          2569.1892377131508,
          2570.1913969597813,
          2578.5427240150348,
          2579.8789363438755,
          2583.386493707082,
          2583.8040600598447,
          2584.3051396831597,
          2585.140272388685,
          2587.2281041524984,
          2587.478643964156,
          2588.146750128576,
          2591.487280950678,
          2592.7399800089656,
          2592.8234932795185,
          2593.3245729028336,
          2595.6629444783043,
          2596.080510831067,
          2599.170501841511,
          2599.3375283826163,
          2599.504554923721,
          2600.506714170351,
          2601.091307064219,
          2601.675899958087,
          2605.768050215161,
          2606.7702094617916,
          2610.8623597188657,
          2615.2050497875975,
          2616.791801928096,
          2617.209368280858,
          2618.1280142569362,
          2619.380713315224,
          2619.7147663974347,
          2619.7147663974347,
          2622.0531379729055,
          2622.721244137326,
          2625.727721877217,
          2630.153925216501,
          2630.3209517576065,
          2633.1604029563923,
          2634.162562203023,
          2635.415261261311,
          2639.3403849772803,
          2639.757951330043,
          2640.9271371177783,
          2641.344703470541,
          2645.1863139159577,
          2648.526844738059,
          2654.1222338650787,
          2657.46276468718,
          2658.381410663258,
          2659.133030098231,
          2667.2338173418266,
          2669.154622564535,
          2669.7392154584027,
          2669.906241999508,
          2672.7456931982942,
          2675.1675780443175,
          2677.004869996473,
          2679.5102681130493,
          2681.1805335240997,
          2681.84863968852,
          2683.1848520173608,
          2684.604577616754,
          2685.189170510622,
          2685.3561970517267,
          2687.1934890038824,
          2693.958063918638,
          2694.208603730295,
          2695.6283293296883,
          2696.4634620352135,
          2696.797515117424,
          2697.716161093502,
          2698.2172407168173,
          2699.2193999634474,
          2700.1380459395255,
          2700.4720990217356,
          2701.7247980800234,
          2702.4764175149962,
          2703.1445236794166,
          2703.562090032179,
          2705.733435066545,
          2706.4015412309654,
          2706.7355943131756,
          2707.4872137481484,
          2712.4144967107477,
          2715.838540803402,
          2720.264744142686,
          2723.7723015058928,
          2725.1085138347335,
          2725.693106728601,
          2728.6160711979396,
          2731.7060622083836,
          2731.7060622083836,
          2732.2071418316987,
          2734.54551340717,
          2736.967398253193,
          2738.7211769347964,
          2738.8882034759017,
          2739.472796369769,
          2739.890362722532,
          2744.0660262501588,
          2747.5735836133654,
          2748.158176507233,
          2750.246008271046,
          2753.0019461992797,
          2754.839238151436,
          2757.261122997459,
          2757.428149538564,
          2764.2762377238723,
          2764.944343888292,
          2766.030016405475,
          2769.537573768682,
          2771.12432590918,
          2771.2913524502846,
          2771.3748657208375,
          2774.130803649071,
          2777.9724140944877,
          2782.148077622114,
          2782.482130704325,
          2783.0667235981923,
          2786.6577942319514,
          2789.7477852423954,
          2791.5850771945506,
          2796.595873427703,
          2798.0991122976484,
          2798.6837051915163,
          2800.2704573320143,
          2804.028554506878,
          2806.3669260823494,
          2813.4655540793146,
          2813.5490673498675,
          2814.4677133259456,
          2828.915509131534,
          2831.0033408953473,
          2836.5152167518145,
          2839.5216944917056,
          2840.774393549994,
          2844.2819509132005,
          2845.8687030536985,
          2849.292747146352,
          2851.130039098508,
          2857.3935343899484,
          2862.5713571642054,
          2862.905410246415,
          2865.4108083629917,
          2865.828374715754,
          2865.9118879863067,
          2871.089710760564,
          2872.509436359957,
          2873.428082336035,
          2877.520232593109,
          2880.777250144658,
          2881.6958961207356,
          2883.449674802339,
          2891.132895693172,
          2892.302081480908,
          2895.6426123030087,
          2902.5742137588695,
          2903.0752933821846,
          2909.255275403072,
          2917.6066024583256,
          2919.2768678693765,
          2922.617398691478,
          2925.957929513579,
          2927.043602030762,
          2927.4611683835246,
          2927.795221465735,
          2927.795221465735,
          2928.29630108905,
          2928.96440725347,
          2929.1314337945755,
          2930.8016992056264,
          2932.471964616677,
          2943.412203059059,
          2943.4957163296112,
          2946.5857073400553,
          2948.088946210001,
          2955.772167100834,
          2955.8556803713864,
          2958.6951315701726,
          2958.8621581112775,
          2960.6994500634337,
          2965.710246296586,
          2982.2458738659875,
          2996.0255635071558,
          3006.71526213788,
          3019.325765991313,
          3031.8527565741933,
          3038.1162518656333,
          3045.381906403704,
          3048.388384143595,
          3058.242950068794,
          3077.2004624842193,
          3087.305568221076,
          3091.815284830913,
          3110.355230893576,
          3173.992343054607,
          3180.172325075495,
          3185.099608038094,
          3186.769873449145,
          3188.1060857779858,
          3190.527970624009,
          3201.301182525286,
          3234.5394642051947,
          3238.0470215684013,
          3283.9793203722957,
          3297.7590100134635,
          3316.716522428889,
          3331.6653978577924,
          3338.596999313653,
          3341.6034770535443,
          3349.2866979443775,
          3354.882087071397,
          3377.764723202792,
          3391.87846592617,
          3430.294570380336,
          3454.596932111124,
          3480.235506170752,
          3505.2059740659597,
          3523.411867046412,
          3533.0158931599535,
          3567.3398473570455,
          3585.545740337498,
          3602.0813679068997,
          3639.0777467616726,
          3982.8183683559055,
          4114.852849099463,
          4673.807168907578
         ],
         "yaxis": "y"
        }
       ],
       "layout": {
        "legend": {
         "itemsizing": "constant",
         "tracegroupgap": 0
        },
        "template": {
         "data": {
          "bar": [
           {
            "error_x": {
             "color": "#2a3f5f"
            },
            "error_y": {
             "color": "#2a3f5f"
            },
            "marker": {
             "line": {
              "color": "#E5ECF6",
              "width": 0.5
             },
             "pattern": {
              "fillmode": "overlay",
              "size": 10,
              "solidity": 0.2
             }
            },
            "type": "bar"
           }
          ],
          "barpolar": [
           {
            "marker": {
             "line": {
              "color": "#E5ECF6",
              "width": 0.5
             },
             "pattern": {
              "fillmode": "overlay",
              "size": 10,
              "solidity": 0.2
             }
            },
            "type": "barpolar"
           }
          ],
          "carpet": [
           {
            "aaxis": {
             "endlinecolor": "#2a3f5f",
             "gridcolor": "white",
             "linecolor": "white",
             "minorgridcolor": "white",
             "startlinecolor": "#2a3f5f"
            },
            "baxis": {
             "endlinecolor": "#2a3f5f",
             "gridcolor": "white",
             "linecolor": "white",
             "minorgridcolor": "white",
             "startlinecolor": "#2a3f5f"
            },
            "type": "carpet"
           }
          ],
          "choropleth": [
           {
            "colorbar": {
             "outlinewidth": 0,
             "ticks": ""
            },
            "type": "choropleth"
           }
          ],
          "contour": [
           {
            "colorbar": {
             "outlinewidth": 0,
             "ticks": ""
            },
            "colorscale": [
             [
              0,
              "#0d0887"
             ],
             [
              0.1111111111111111,
              "#46039f"
             ],
             [
              0.2222222222222222,
              "#7201a8"
             ],
             [
              0.3333333333333333,
              "#9c179e"
             ],
             [
              0.4444444444444444,
              "#bd3786"
             ],
             [
              0.5555555555555556,
              "#d8576b"
             ],
             [
              0.6666666666666666,
              "#ed7953"
             ],
             [
              0.7777777777777778,
              "#fb9f3a"
             ],
             [
              0.8888888888888888,
              "#fdca26"
             ],
             [
              1,
              "#f0f921"
             ]
            ],
            "type": "contour"
           }
          ],
          "contourcarpet": [
           {
            "colorbar": {
             "outlinewidth": 0,
             "ticks": ""
            },
            "type": "contourcarpet"
           }
          ],
          "heatmap": [
           {
            "colorbar": {
             "outlinewidth": 0,
             "ticks": ""
            },
            "colorscale": [
             [
              0,
              "#0d0887"
             ],
             [
              0.1111111111111111,
              "#46039f"
             ],
             [
              0.2222222222222222,
              "#7201a8"
             ],
             [
              0.3333333333333333,
              "#9c179e"
             ],
             [
              0.4444444444444444,
              "#bd3786"
             ],
             [
              0.5555555555555556,
              "#d8576b"
             ],
             [
              0.6666666666666666,
              "#ed7953"
             ],
             [
              0.7777777777777778,
              "#fb9f3a"
             ],
             [
              0.8888888888888888,
              "#fdca26"
             ],
             [
              1,
              "#f0f921"
             ]
            ],
            "type": "heatmap"
           }
          ],
          "heatmapgl": [
           {
            "colorbar": {
             "outlinewidth": 0,
             "ticks": ""
            },
            "colorscale": [
             [
              0,
              "#0d0887"
             ],
             [
              0.1111111111111111,
              "#46039f"
             ],
             [
              0.2222222222222222,
              "#7201a8"
             ],
             [
              0.3333333333333333,
              "#9c179e"
             ],
             [
              0.4444444444444444,
              "#bd3786"
             ],
             [
              0.5555555555555556,
              "#d8576b"
             ],
             [
              0.6666666666666666,
              "#ed7953"
             ],
             [
              0.7777777777777778,
              "#fb9f3a"
             ],
             [
              0.8888888888888888,
              "#fdca26"
             ],
             [
              1,
              "#f0f921"
             ]
            ],
            "type": "heatmapgl"
           }
          ],
          "histogram": [
           {
            "marker": {
             "pattern": {
              "fillmode": "overlay",
              "size": 10,
              "solidity": 0.2
             }
            },
            "type": "histogram"
           }
          ],
          "histogram2d": [
           {
            "colorbar": {
             "outlinewidth": 0,
             "ticks": ""
            },
            "colorscale": [
             [
              0,
              "#0d0887"
             ],
             [
              0.1111111111111111,
              "#46039f"
             ],
             [
              0.2222222222222222,
              "#7201a8"
             ],
             [
              0.3333333333333333,
              "#9c179e"
             ],
             [
              0.4444444444444444,
              "#bd3786"
             ],
             [
              0.5555555555555556,
              "#d8576b"
             ],
             [
              0.6666666666666666,
              "#ed7953"
             ],
             [
              0.7777777777777778,
              "#fb9f3a"
             ],
             [
              0.8888888888888888,
              "#fdca26"
             ],
             [
              1,
              "#f0f921"
             ]
            ],
            "type": "histogram2d"
           }
          ],
          "histogram2dcontour": [
           {
            "colorbar": {
             "outlinewidth": 0,
             "ticks": ""
            },
            "colorscale": [
             [
              0,
              "#0d0887"
             ],
             [
              0.1111111111111111,
              "#46039f"
             ],
             [
              0.2222222222222222,
              "#7201a8"
             ],
             [
              0.3333333333333333,
              "#9c179e"
             ],
             [
              0.4444444444444444,
              "#bd3786"
             ],
             [
              0.5555555555555556,
              "#d8576b"
             ],
             [
              0.6666666666666666,
              "#ed7953"
             ],
             [
              0.7777777777777778,
              "#fb9f3a"
             ],
             [
              0.8888888888888888,
              "#fdca26"
             ],
             [
              1,
              "#f0f921"
             ]
            ],
            "type": "histogram2dcontour"
           }
          ],
          "mesh3d": [
           {
            "colorbar": {
             "outlinewidth": 0,
             "ticks": ""
            },
            "type": "mesh3d"
           }
          ],
          "parcoords": [
           {
            "line": {
             "colorbar": {
              "outlinewidth": 0,
              "ticks": ""
             }
            },
            "type": "parcoords"
           }
          ],
          "pie": [
           {
            "automargin": true,
            "type": "pie"
           }
          ],
          "scatter": [
           {
            "fillpattern": {
             "fillmode": "overlay",
             "size": 10,
             "solidity": 0.2
            },
            "type": "scatter"
           }
          ],
          "scatter3d": [
           {
            "line": {
             "colorbar": {
              "outlinewidth": 0,
              "ticks": ""
             }
            },
            "marker": {
             "colorbar": {
              "outlinewidth": 0,
              "ticks": ""
             }
            },
            "type": "scatter3d"
           }
          ],
          "scattercarpet": [
           {
            "marker": {
             "colorbar": {
              "outlinewidth": 0,
              "ticks": ""
             }
            },
            "type": "scattercarpet"
           }
          ],
          "scattergeo": [
           {
            "marker": {
             "colorbar": {
              "outlinewidth": 0,
              "ticks": ""
             }
            },
            "type": "scattergeo"
           }
          ],
          "scattergl": [
           {
            "marker": {
             "colorbar": {
              "outlinewidth": 0,
              "ticks": ""
             }
            },
            "type": "scattergl"
           }
          ],
          "scattermapbox": [
           {
            "marker": {
             "colorbar": {
              "outlinewidth": 0,
              "ticks": ""
             }
            },
            "type": "scattermapbox"
           }
          ],
          "scatterpolar": [
           {
            "marker": {
             "colorbar": {
              "outlinewidth": 0,
              "ticks": ""
             }
            },
            "type": "scatterpolar"
           }
          ],
          "scatterpolargl": [
           {
            "marker": {
             "colorbar": {
              "outlinewidth": 0,
              "ticks": ""
             }
            },
            "type": "scatterpolargl"
           }
          ],
          "scatterternary": [
           {
            "marker": {
             "colorbar": {
              "outlinewidth": 0,
              "ticks": ""
             }
            },
            "type": "scatterternary"
           }
          ],
          "surface": [
           {
            "colorbar": {
             "outlinewidth": 0,
             "ticks": ""
            },
            "colorscale": [
             [
              0,
              "#0d0887"
             ],
             [
              0.1111111111111111,
              "#46039f"
             ],
             [
              0.2222222222222222,
              "#7201a8"
             ],
             [
              0.3333333333333333,
              "#9c179e"
             ],
             [
              0.4444444444444444,
              "#bd3786"
             ],
             [
              0.5555555555555556,
              "#d8576b"
             ],
             [
              0.6666666666666666,
              "#ed7953"
             ],
             [
              0.7777777777777778,
              "#fb9f3a"
             ],
             [
              0.8888888888888888,
              "#fdca26"
             ],
             [
              1,
              "#f0f921"
             ]
            ],
            "type": "surface"
           }
          ],
          "table": [
           {
            "cells": {
             "fill": {
              "color": "#EBF0F8"
             },
             "line": {
              "color": "white"
             }
            },
            "header": {
             "fill": {
              "color": "#C8D4E3"
             },
             "line": {
              "color": "white"
             }
            },
            "type": "table"
           }
          ]
         },
         "layout": {
          "annotationdefaults": {
           "arrowcolor": "#2a3f5f",
           "arrowhead": 0,
           "arrowwidth": 1
          },
          "autotypenumbers": "strict",
          "coloraxis": {
           "colorbar": {
            "outlinewidth": 0,
            "ticks": ""
           }
          },
          "colorscale": {
           "diverging": [
            [
             0,
             "#8e0152"
            ],
            [
             0.1,
             "#c51b7d"
            ],
            [
             0.2,
             "#de77ae"
            ],
            [
             0.3,
             "#f1b6da"
            ],
            [
             0.4,
             "#fde0ef"
            ],
            [
             0.5,
             "#f7f7f7"
            ],
            [
             0.6,
             "#e6f5d0"
            ],
            [
             0.7,
             "#b8e186"
            ],
            [
             0.8,
             "#7fbc41"
            ],
            [
             0.9,
             "#4d9221"
            ],
            [
             1,
             "#276419"
            ]
           ],
           "sequential": [
            [
             0,
             "#0d0887"
            ],
            [
             0.1111111111111111,
             "#46039f"
            ],
            [
             0.2222222222222222,
             "#7201a8"
            ],
            [
             0.3333333333333333,
             "#9c179e"
            ],
            [
             0.4444444444444444,
             "#bd3786"
            ],
            [
             0.5555555555555556,
             "#d8576b"
            ],
            [
             0.6666666666666666,
             "#ed7953"
            ],
            [
             0.7777777777777778,
             "#fb9f3a"
            ],
            [
             0.8888888888888888,
             "#fdca26"
            ],
            [
             1,
             "#f0f921"
            ]
           ],
           "sequentialminus": [
            [
             0,
             "#0d0887"
            ],
            [
             0.1111111111111111,
             "#46039f"
            ],
            [
             0.2222222222222222,
             "#7201a8"
            ],
            [
             0.3333333333333333,
             "#9c179e"
            ],
            [
             0.4444444444444444,
             "#bd3786"
            ],
            [
             0.5555555555555556,
             "#d8576b"
            ],
            [
             0.6666666666666666,
             "#ed7953"
            ],
            [
             0.7777777777777778,
             "#fb9f3a"
            ],
            [
             0.8888888888888888,
             "#fdca26"
            ],
            [
             1,
             "#f0f921"
            ]
           ]
          },
          "colorway": [
           "#636efa",
           "#EF553B",
           "#00cc96",
           "#ab63fa",
           "#FFA15A",
           "#19d3f3",
           "#FF6692",
           "#B6E880",
           "#FF97FF",
           "#FECB52"
          ],
          "font": {
           "color": "#2a3f5f"
          },
          "geo": {
           "bgcolor": "white",
           "lakecolor": "white",
           "landcolor": "#E5ECF6",
           "showlakes": true,
           "showland": true,
           "subunitcolor": "white"
          },
          "hoverlabel": {
           "align": "left"
          },
          "hovermode": "closest",
          "mapbox": {
           "style": "light"
          },
          "paper_bgcolor": "white",
          "plot_bgcolor": "#E5ECF6",
          "polar": {
           "angularaxis": {
            "gridcolor": "white",
            "linecolor": "white",
            "ticks": ""
           },
           "bgcolor": "#E5ECF6",
           "radialaxis": {
            "gridcolor": "white",
            "linecolor": "white",
            "ticks": ""
           }
          },
          "scene": {
           "xaxis": {
            "backgroundcolor": "#E5ECF6",
            "gridcolor": "white",
            "gridwidth": 2,
            "linecolor": "white",
            "showbackground": true,
            "ticks": "",
            "zerolinecolor": "white"
           },
           "yaxis": {
            "backgroundcolor": "#E5ECF6",
            "gridcolor": "white",
            "gridwidth": 2,
            "linecolor": "white",
            "showbackground": true,
            "ticks": "",
            "zerolinecolor": "white"
           },
           "zaxis": {
            "backgroundcolor": "#E5ECF6",
            "gridcolor": "white",
            "gridwidth": 2,
            "linecolor": "white",
            "showbackground": true,
            "ticks": "",
            "zerolinecolor": "white"
           }
          },
          "shapedefaults": {
           "line": {
            "color": "#2a3f5f"
           }
          },
          "ternary": {
           "aaxis": {
            "gridcolor": "white",
            "linecolor": "white",
            "ticks": ""
           },
           "baxis": {
            "gridcolor": "white",
            "linecolor": "white",
            "ticks": ""
           },
           "bgcolor": "#E5ECF6",
           "caxis": {
            "gridcolor": "white",
            "linecolor": "white",
            "ticks": ""
           }
          },
          "title": {
           "x": 0.05
          },
          "xaxis": {
           "automargin": true,
           "gridcolor": "white",
           "linecolor": "white",
           "ticks": "",
           "title": {
            "standoff": 15
           },
           "zerolinecolor": "white",
           "zerolinewidth": 2
          },
          "yaxis": {
           "automargin": true,
           "gridcolor": "white",
           "linecolor": "white",
           "ticks": "",
           "title": {
            "standoff": 15
           },
           "zerolinecolor": "white",
           "zerolinewidth": 2
          }
         }
        },
        "title": {
         "text": "Calories burned based on steps"
        },
        "xaxis": {
         "anchor": "y",
         "domain": [
          0,
          1
         ],
         "title": {
          "text": "TotalSteps"
         }
        },
        "yaxis": {
         "anchor": "x",
         "domain": [
          0,
          1
         ],
         "title": {
          "text": "Calories"
         }
        }
       }
      },
      "text/html": [
       "<div>                            <div id=\"79de43cc-89da-46d4-8f8f-24aab65a274e\" class=\"plotly-graph-div\" style=\"height:525px; width:100%;\"></div>            <script type=\"text/javascript\">                require([\"plotly\"], function(Plotly) {                    window.PLOTLYENV=window.PLOTLYENV || {};                                    if (document.getElementById(\"79de43cc-89da-46d4-8f8f-24aab65a274e\")) {                    Plotly.newPlot(                        \"79de43cc-89da-46d4-8f8f-24aab65a274e\",                        [{\"hovertemplate\":\"TotalSteps=%{x}<br>Calories=%{y}<br>VeryActiveMinutes=%{marker.size}<extra></extra>\",\"legendgroup\":\"\",\"marker\":{\"color\":\"#636efa\",\"size\":[25,21,30,29,36,38,42,50,28,19,66,41,39,73,31,78,48,16,52,33,41,50,36,45,24,37,44,46,46,36,0,0,0,0,0,0,15,17,0,0,0,0,0,16,0,0,17,0,0,11,186,7,0,0,0,0,0,0,0,0,0,0,2,30,5,3,51,29,15,5,0,0,0,0,0,8,11,0,3,0,9,3,1,10,0,6,11,41,0,32,12,0,0,0,0,0,0,2,0,0,0,2,0,0,0,0,0,0,0,0,0,0,0,0,0,0,0,0,0,0,0,0,0,0,0,0,0,0,0,0,0,0,0,0,0,1,0,0,0,0,0,0,14,16,10,0,0,0,0,0,0,0,0,0,42,43,32,27,41,28,48,31,48,104,52,0,37,44,55,19,6,21,13,25,36,72,36,55,24,20,0,35,57,58,16,3,0,0,0,0,0,0,0,0,0,0,0,0,0,0,0,0,0,0,0,0,0,0,0,0,0,0,0,0,0,0,13,0,0,0,0,0,0,0,0,1,0,0,0,3,0,0,0,0,0,0,5,20,0,0,0,0,0,0,0,0,0,28,19,1,1,66,1,11,0,11,23,9,32,0,15,0,26,0,0,2,0,0,0,47,0,1,0,22,2,46,28,46,0,2,46,28,20,5,7,0,1,0,13,0,75,46,0,0,0,0,0,16,6,0,0,11,20,0,15,18,0,20,14,0,22,24,0,0,17,0,44,31,5,15,31,11,4,19,2,0,33,0,30,50,7,0,15,36,43,41,24,47,14,14,29,0,9,8,1,4,4,0,0,36,65,0,0,0,0,0,0,0,0,0,0,0,0,0,0,0,0,0,13,38,0,0,0,3,0,2,0,0,0,0,3,0,8,1,0,0,0,1,0,0,0,1,0,1,0,8,6,13,6,6,0,0,8,8,27,6,3,0,2,3,3,0,0,1,10,0,6,0,27,20,19,7,77,58,14,11,14,11,19,13,14,12,33,18,35,12,33,120,107,6,13,8,0,0,0,0,0,0,0,25,0,0,0,0,0,0,0,29,32,0,0,0,0,27,30,0,2,0,26,0,0,0,34,0,0,19,0,17,8,7,14,1,0,6,20,5,0,18,12,27,1,15,7,0,0,21,0,14,0,23,66,6,11,4,0,0,0,0,1,3,12,22,10,2,4,0,9,15,6,1,1,14,12,4,0,5,0,4,8,1,5,9,0,1,10,0,19,0,61,58,0,0,0,69,0,47,25,0,0,51,40,16,49,46,0,0,23,26,0,44,21,0,3,59,61,0,8,86,15,118,115,184,200,114,108,87,110,62,24,210,61,38,63,99,97,207,194,37,97,25,45,41,0,0,34,104,45,0,0,0,0,7,0,0,0,26,11,0,0,0,0,0,0,0,0,0,0,0,0,0,0,0,0,0,0,0,0,0,0,0,31,0,0,0,0,0,33,0,8,0,0,0,0,0,8,0,0,0,0,0,0,0,0,0,0,17,14,0,36,5,30,0,70,0,0,0,11,33,42,0,2,0,3,9,0,0,0,0,12,2,50,8,0,0,50,5,13,35,48,53,30,58,0,35,36,7,38,12,32,0,18,21,15,14,0,0,0,43,62,24,0,53,56,34,0,0,0,48,53,60,30,64,2,0,51,16,50,16,55,0,0,64,58,0,53,44,0,59,31,35,30,0,0,61,67,87,19,58,0,0,69,70,55,54,24,42,30,66,57,45,24,84,20,32,67,72,57,5,116,95,119,132,96,111,102,90,89,100,60,125,129,118,68,60,90,58,27,0,0,87,89,93,90,121,125,66,96,60,28,40,35,29,0,6,41,16,0,5,49,0,30,41,7,19,45,11,16,0,65,116,123,60,64,0,117,120,82,137,113,19,0,117,90,4,11,3,0,71,63,71,19,66,74,0,0,71,63,72,8,0,2,0,0,0,0,4,7,0,35,4,7,2,18,1,77,0,46,2,10,0,0,0,0,2,0,3,66,9,5,0,0,0,0,0,0,0,0,0,0,0,1,8,3,0,0,0,0,6,10,0,0,0,0,0,0,0,0,0,0,85,108,68,106,94,58,29,82,73,82,61,102,64,113,22,93,58,18,124,36,0,19,66,67,96,105,17,73,18,88,23],\"sizemode\":\"area\",\"sizeref\":0.525,\"symbol\":\"circle\"},\"mode\":\"markers\",\"name\":\"\",\"orientation\":\"v\",\"showlegend\":false,\"x\":[13162,10735,10460,9762,12669,9705,13019,15506,10544,9819,12764,14371,10039,15355,13755,18134,13154,11181,14673,10602,14727,15103,11100,14070,12159,11992,10060,12022,12207,12770,0,8163,7007,9107,1510,5370,6175,10536,2916,4974,6349,4026,8538,6076,6497,2826,8367,2759,2390,6474,36019,7155,2100,2193,2470,1727,2104,3427,1732,2969,3134,2971,10694,8001,11037,5263,15300,8757,7132,11256,2436,1223,3673,6637,3321,3580,9919,3032,9405,3176,18213,6132,3758,12850,2309,4363,9787,13372,6724,6643,9167,1329,6697,4929,7937,3844,3414,4525,4597,197,8,8054,5372,3570,0,0,0,4,6907,4920,4014,2573,0,4059,2080,2237,44,0,0,0,0,0,0,678,356,2163,980,0,0,244,0,0,0,149,2945,2090,152,3761,0,1675,0,0,2704,3790,1326,1786,0,2091,1510,0,0,0,0,0,11875,12024,10690,11034,10100,15112,14131,11548,15112,12453,12954,6001,13481,11369,10119,10159,10140,10245,18387,10538,10379,12183,11768,11895,10227,6708,3292,13379,12798,13272,9117,4414,4993,3335,3821,2547,838,3325,2424,7222,2467,2915,12357,3490,6017,5933,6088,6375,7604,4729,3609,7018,5992,6564,12167,8198,4193,5528,10685,254,8580,8891,10725,7275,3973,5205,5057,6198,6559,5997,7192,3404,5583,5079,4165,3588,3409,1715,1532,924,4571,772,3634,7443,1201,5202,4878,7379,5161,3090,6227,6424,2661,10113,10352,10129,10465,22244,5472,8247,6711,10999,10080,7804,16901,9471,9482,5980,11423,5439,42,8796,7618,7910,8482,9685,2524,7762,7948,9202,8859,7286,9317,6873,7373,8242,3516,7913,7365,8452,7399,7525,7412,8278,8314,7063,4940,8168,7726,8275,6440,7566,4747,9715,8844,7451,6905,8199,6798,7711,4880,8857,3843,7396,6731,5995,8283,7904,5512,9135,5250,3077,8856,10035,7641,9010,13459,10415,11663,12414,11658,6093,8911,12058,14112,11177,11388,7193,7114,10645,13238,10414,16520,14335,13559,12312,11677,11550,13585,14687,13072,746,8539,0,108,1882,1982,16,62,0,0,0,0,0,0,0,0,0,0,0,0,0,475,4496,10252,11728,4369,6132,5862,4556,5546,3689,590,5394,5974,0,3984,7753,8204,10210,5664,4744,29,2276,8925,8954,3702,4500,4935,4081,9259,9899,10780,10817,7990,8221,1251,9261,9648,10429,13658,9524,7937,3672,10378,9487,9129,17,10122,10993,8863,8758,6580,4660,11009,10181,10553,10055,12139,13236,10243,12961,9461,11193,10074,9232,12533,10255,10096,12727,12375,9603,13175,22770,17298,10218,10299,10201,3369,3276,2961,3974,7198,3945,2268,6155,2064,2072,3809,6831,4363,5002,3385,6326,7243,4493,4676,6222,5232,6910,7502,2923,3800,4514,5183,7303,5275,3915,9105,768,5135,4978,6799,7795,7289,9634,8940,5401,4803,13743,9601,6890,8563,8095,9148,9557,9451,7833,10319,3428,7891,5267,5232,10611,3755,8237,6543,11451,6435,9108,6307,7213,6877,7860,6506,11140,12692,9105,6708,8793,6530,1664,15126,15050,9167,6108,7047,9023,9930,10144,0,7245,9454,8161,8614,6943,14370,12857,8232,10613,9810,2752,11596,4832,17022,16556,5771,655,3727,15482,2713,12346,11682,4112,1807,10946,11886,10538,11393,12764,1202,5164,9769,12848,4249,14331,9632,1868,6083,11611,16358,4926,3121,8135,5077,8596,12087,14269,12231,9893,12574,8330,10830,9172,7638,15764,6393,5325,6805,9841,7924,12363,13368,7439,11045,5206,7550,4950,0,0,3421,8869,4038,0,0,0,14019,14450,7150,5153,11135,10449,19542,8206,11495,7623,0,9543,9411,3403,9592,6987,8915,4933,0,2997,9799,3365,7336,7328,4477,4562,7142,7671,9501,8301,7851,6885,7142,6361,0,6238,0,5896,7802,0,5565,5731,0,6744,9837,6781,6047,5832,6339,6116,5510,7706,6277,0,0,4053,5162,1282,4732,2497,8294,0,10771,0,637,0,2153,6474,7091,0,703,0,2503,2487,0,9,0,0,4697,1967,10199,5652,1551,5563,13217,10145,11404,10742,13928,11835,10725,20031,5029,13239,10433,10320,12627,10762,10081,5454,12912,12109,10147,10524,5908,6815,4188,12342,15448,6722,3587,14172,12862,11179,5273,4631,8059,14816,14194,15566,13744,15299,8093,11085,18229,15090,13541,15128,20067,3761,5600,13041,14510,0,15010,11459,0,11317,5813,9123,8585,31,0,9827,10688,14365,9469,9753,2817,3520,10091,10387,11107,11584,7881,14560,12390,10052,10288,10988,8564,12461,12827,10677,13566,14433,9572,3789,18060,16433,20159,20669,14549,18827,17076,15929,15108,16057,10520,22359,22988,20500,12685,12422,15447,12315,7135,1170,1969,15484,14581,14990,13953,19769,22026,12465,14810,12209,4998,9033,8053,5234,2672,9256,10204,5151,4212,6466,11268,2824,9282,8905,6829,4562,10232,2718,6260,0,7626,12386,13318,14461,11207,2132,13630,13070,9388,15148,12200,5709,3703,12405,16208,7359,5417,6175,2946,11419,6064,8712,7875,8567,7045,4468,2943,8382,6582,9143,4561,5014,5571,3135,3430,5319,3008,3864,5697,5273,8538,8687,9423,8286,4503,10499,12474,6174,15168,10085,4512,8469,12015,3588,12427,5843,6117,9217,9877,8240,8701,0,2564,1320,1219,2483,244,0,0,0,3147,144,4068,5245,400,0,1321,1758,6157,8360,7174,1619,1831,2421,2283,0,0,0,0,0,0,23186,15337,21129,13422,29326,15118,11423,18785,19948,19377,18258,11200,16674,12986,11101,23629,14890,9733,27745,10930,4790,10818,18193,14055,21727,12332,10686,20226,10733,21420,8064],\"xaxis\":\"x\",\"y\":[1985,1797,1776,1745,1863,1728,1921,2035,1786,1775,1827,1949,1788,2013,1970,2159,1898,1837,1947,1820,2004,1990,1819,1959,1896,1821,1740,1819,1859,1783,0,1432,1411,1572,1344,1463,1554,1604,1435,1446,1467,1470,1562,1617,1492,1402,1670,1401,1404,1655,2690,1497,1334,1368,1370,1341,1474,1427,1328,1393,1359,1002,3199,2902,3226,2750,3493,3011,2806,3300,2430,2140,2344,2677,2413,2497,3123,2489,3108,2498,3846,2696,2580,3324,2222,2463,3328,3404,2987,3008,2799,1276,2030,1860,2130,1725,1657,1793,1814,1366,1349,2062,1827,1645,1347,1347,1347,1348,1992,1856,1763,1541,1348,1742,1549,1589,1351,1347,1347,1347,1347,1347,665,2220,2151,2383,2221,2064,2063,2111,2063,2063,2064,2093,2499,2324,2100,2638,2063,2351,2063,2064,2411,2505,2195,2338,2063,2383,2229,2063,2063,2063,2063,1383,2390,2601,2312,2525,2177,2782,2770,2489,2897,3158,2638,2069,2529,2470,2793,2463,2296,2611,2732,2380,2473,2752,2649,2609,2498,1995,1848,2709,2797,2544,1853,1459,1521,1431,1444,1373,1214,1419,1356,1667,1370,1399,1916,1401,1576,1595,1593,1649,1692,1506,1447,1690,1604,1658,1926,1736,1491,1555,1869,1141,1698,1364,2124,2003,1696,1801,1724,1852,1905,1811,1922,1610,1851,1804,1725,1654,1632,1481,1473,1410,1779,1403,1613,1878,1426,1780,1742,1972,1821,1630,1899,1903,1125,2344,2038,2010,2133,2670,1882,1944,2346,2198,2048,1946,2629,2187,2095,1861,2194,1854,403,1982,2004,1893,2063,2148,1529,1890,1956,2094,1970,2241,2021,1898,1907,1882,1966,1835,1780,1830,1739,1878,1906,2015,1971,1910,1897,2096,1906,1962,1826,1431,1788,2093,2065,1908,1908,1964,2014,1985,1867,2124,1669,1995,1921,2010,2057,2095,1972,2044,1946,1237,1450,1495,1433,1468,1625,1529,1584,1638,1554,1397,1481,1638,1655,1570,1551,1377,1407,1545,1650,1501,1760,1710,1628,1618,1590,1574,1633,1667,1630,52,3654,1981,2011,2951,3051,1990,1995,1980,1980,1980,1980,1980,1980,1980,1980,1980,1980,1980,1980,1980,2207,2828,3879,3429,2704,2975,3089,2785,2926,2645,1120,2286,2306,1776,1527,2115,2135,2302,1985,1884,1464,1632,2200,2220,1792,1886,1945,1880,2314,2236,2324,2367,2175,2092,1593,2270,2235,2282,2530,2266,2158,1792,2345,2260,2232,257,2955,3092,2998,3066,3073,2572,3274,3015,3083,3069,3544,3306,2885,3288,2929,3074,2969,2979,3283,2926,3147,3290,3162,2899,3425,4022,3934,3013,3061,2954,1623,2113,2095,2194,2496,2180,1933,2248,1954,1974,2150,2432,2149,2247,2070,2291,2361,2203,2196,2363,2246,2336,2421,2070,2120,2211,2123,2423,2281,2181,2499,1212,1909,1722,1922,2121,1997,2117,2116,1876,1788,2486,2094,2085,2173,2225,2223,2098,2185,1918,2105,1692,2066,1953,1842,2262,1722,1973,2666,2223,1889,2131,1452,2947,2898,2984,2896,3328,3394,3013,2812,3061,2729,2241,3691,3538,3064,2784,2908,3033,3165,3115,2017,2859,3145,3004,3006,2859,3683,3287,2990,3172,3069,1240,2026,1718,2324,2254,1831,1397,1683,2284,1570,2066,2105,1776,1507,2033,2093,1922,1999,2169,1463,1747,1996,2116,1698,2156,1916,1494,1762,2272,2335,1693,741,3405,2551,4022,4005,4274,4552,3625,3501,3192,4018,3329,3152,4392,3374,3088,3294,3580,3544,4501,4546,3014,3795,2755,3004,2643,1819,1819,2489,3841,1665,1496,1496,1496,2865,2828,2225,2018,2606,2536,4900,2409,2651,2305,1497,2450,2576,1879,2560,2275,2361,2044,1496,1902,2636,1838,2469,2250,1248,2560,2905,2952,2896,2783,3171,2766,2839,2701,2060,2796,2664,2703,2771,2060,2743,2687,2060,2843,3327,2725,2671,2718,2682,2806,2613,2712,2175,0,1841,2400,2507,2127,2225,2067,2798,1841,3727,1841,1922,1841,2053,2484,2584,1841,1993,1841,2280,2319,1841,1843,1841,1841,2496,1032,1994,1718,1466,1756,2173,2027,2039,2046,2174,2179,2086,2571,1705,2194,2012,2034,2182,2254,2002,1740,2162,2072,2086,2066,1850,1947,1659,2105,2361,1855,928,2937,2742,2668,2098,2076,2383,2832,2812,3096,2763,2889,2284,2667,3055,2939,2830,2836,3180,2051,2225,2642,2976,1557,2933,2553,120,2772,2516,2734,2395,1635,1629,2743,2944,2997,2463,2846,1965,2049,2752,2781,2693,2862,2616,2995,2730,2754,2754,2655,2386,2924,2739,2534,2960,2800,2735,1199,3186,3140,3411,3410,2867,3213,3133,3114,3043,3103,2655,3554,3577,3403,2846,2852,3062,2794,2408,1886,1988,3023,2918,2950,2859,3331,3589,2765,2926,2809,1505,2044,1935,1705,1632,1880,2112,1829,1763,1931,2218,1651,2132,1976,1909,1813,2008,1580,1854,0,3635,4079,4163,3666,3363,2572,4157,4092,3787,4236,4044,2908,2741,4005,3763,3061,2884,2982,2660,3369,3491,3784,3110,3783,3644,2799,2685,3721,3586,3788,1976,2650,2654,2443,2505,2693,2439,2536,2668,2647,2883,2944,3012,2889,2547,3093,3142,2757,3513,3164,2596,2894,3212,2516,3266,2683,2810,2940,2947,2846,2804,0,2044,1934,1963,2009,1721,1688,1688,1688,2188,1720,2419,2748,1799,1688,1928,2067,2780,3101,2896,1962,2015,2297,2067,1688,1688,1688,1688,1688,57,3921,3566,3793,3934,4547,3545,2761,3676,3679,3659,3427,3891,3455,3802,2860,3808,3060,2698,4398,2786,2189,2817,3477,3052,4015,4142,2847,3710,2832,3832,1849],\"yaxis\":\"y\",\"type\":\"scatter\"},{\"hovertemplate\":\"<b>OLS trendline</b><br>Calories = 0.0835133 * TotalSteps + 1665.74<br>R<sup>2</sup>=0.349953<br><br>TotalSteps=%{x}<br>Calories=%{y} <b>(trend)</b><extra></extra>\",\"legendgroup\":\"\",\"marker\":{\"color\":\"#636efa\",\"symbol\":\"circle\"},\"mode\":\"lines\",\"name\":\"\",\"showlegend\":false,\"x\":[0,0,0,0,0,0,0,0,0,0,0,0,0,0,0,0,0,0,0,0,0,0,0,0,0,0,0,0,0,0,0,0,0,0,0,0,0,0,0,0,0,0,0,0,0,0,0,0,0,0,0,0,0,0,0,0,0,0,0,0,0,0,0,0,0,0,0,0,0,0,0,0,0,0,0,0,0,4,8,9,16,17,29,31,42,44,62,108,144,149,152,197,244,244,254,356,400,475,590,637,655,678,703,746,768,772,838,924,980,1170,1201,1202,1219,1223,1251,1282,1320,1321,1326,1329,1510,1510,1532,1551,1619,1664,1675,1715,1727,1732,1758,1786,1807,1831,1868,1882,1967,1969,1982,2064,2072,2080,2090,2091,2100,2104,2132,2153,2163,2193,2237,2268,2276,2283,2309,2390,2421,2424,2436,2467,2470,2483,2487,2497,2503,2524,2547,2564,2573,2661,2672,2704,2713,2718,2752,2759,2817,2824,2826,2915,2916,2923,2943,2945,2946,2961,2969,2971,2997,3008,3032,3077,3090,3121,3134,3135,3147,3176,3276,3292,3321,3325,3335,3365,3369,3385,3403,3404,3409,3414,3421,3427,3428,3430,3490,3516,3520,3570,3580,3587,3588,3588,3609,3634,3672,3673,3689,3702,3703,3727,3755,3758,3761,3761,3789,3790,3800,3809,3821,3843,3844,3864,3915,3945,3973,3974,3984,4014,4026,4038,4053,4059,4068,4081,4112,4165,4188,4193,4212,4249,4363,4363,4369,4414,4468,4477,4493,4496,4500,4503,4512,4514,4525,4556,4561,4562,4562,4571,4597,4631,4660,4676,4697,4729,4732,4744,4747,4790,4803,4832,4878,4880,4920,4926,4929,4933,4935,4940,4950,4974,4978,4993,4998,5002,5014,5029,5057,5077,5079,5135,5151,5153,5161,5162,5164,5183,5202,5205,5206,5232,5232,5234,5245,5250,5263,5267,5273,5273,5275,5319,5325,5370,5372,5394,5401,5417,5439,5454,5472,5510,5512,5528,5546,5563,5565,5571,5583,5600,5652,5664,5697,5709,5731,5771,5813,5832,5843,5862,5896,5908,5933,5974,5980,5992,5995,5997,6001,6017,6047,6064,6076,6083,6088,6093,6108,6116,6117,6132,6132,6155,6157,6174,6175,6175,6198,6222,6227,6238,6260,6277,6307,6326,6339,6349,6361,6375,6393,6424,6435,6440,6466,6474,6474,6497,6506,6530,6543,6559,6564,6580,6582,6637,6643,6697,6708,6708,6711,6722,6724,6731,6744,6781,6798,6799,6805,6815,6829,6831,6873,6877,6885,6890,6905,6907,6910,6943,6987,7007,7018,7045,7047,7063,7091,7114,7132,7135,7142,7142,7150,7155,7174,7192,7193,7198,7213,7222,7243,7245,7275,7286,7289,7303,7328,7336,7359,7365,7373,7379,7396,7399,7412,7439,7443,7451,7502,7525,7550,7566,7604,7618,7623,7626,7638,7641,7671,7706,7711,7726,7753,7762,7795,7802,7804,7833,7851,7860,7875,7881,7891,7904,7910,7913,7924,7937,7937,7948,7990,8001,8053,8054,8059,8064,8093,8095,8135,8161,8163,8168,8198,8199,8204,8206,8221,8232,8237,8240,8242,8247,8275,8278,8283,8286,8294,8301,8314,8330,8360,8367,8382,8452,8469,8482,8538,8538,8539,8563,8564,8567,8580,8585,8596,8614,8687,8701,8712,8757,8758,8793,8796,8844,8856,8857,8859,8863,8869,8891,8905,8911,8915,8925,8940,8954,9010,9023,9033,9105,9105,9107,9108,9117,9123,9129,9135,9143,9148,9167,9167,9172,9202,9217,9232,9256,9259,9261,9282,9317,9388,9405,9411,9423,9451,9454,9461,9469,9471,9482,9487,9501,9524,9543,9557,9572,9592,9601,9603,9632,9634,9648,9685,9705,9715,9733,9753,9762,9769,9787,9799,9810,9819,9827,9837,9841,9877,9893,9899,9919,9930,10035,10039,10052,10055,10060,10074,10080,10081,10085,10091,10096,10100,10113,10119,10122,10129,10140,10144,10145,10147,10159,10181,10199,10201,10204,10210,10218,10227,10232,10243,10245,10252,10255,10288,10299,10319,10320,10352,10378,10379,10387,10414,10415,10429,10433,10449,10460,10465,10499,10520,10524,10536,10538,10538,10544,10553,10602,10611,10613,10645,10677,10685,10686,10688,10690,10694,10725,10725,10733,10735,10742,10762,10771,10780,10817,10818,10830,10930,10946,10988,10993,10999,11009,11034,11037,11045,11085,11100,11101,11107,11135,11140,11177,11179,11181,11193,11200,11207,11256,11268,11317,11369,11388,11393,11404,11419,11423,11423,11451,11459,11495,11548,11550,11584,11596,11611,11658,11663,11677,11682,11728,11768,11835,11875,11886,11895,11992,12015,12022,12024,12058,12087,12109,12139,12159,12167,12183,12200,12207,12209,12231,12312,12315,12332,12342,12346,12357,12363,12375,12386,12390,12405,12414,12422,12427,12453,12461,12465,12474,12533,12574,12627,12669,12685,12692,12727,12764,12764,12770,12798,12827,12848,12850,12857,12862,12912,12954,12961,12986,13019,13041,13070,13072,13154,13162,13175,13217,13236,13238,13239,13272,13318,13368,13372,13379,13422,13459,13481,13541,13559,13566,13585,13630,13658,13743,13744,13755,13928,13953,14019,14055,14070,14112,14131,14172,14194,14269,14331,14335,14365,14370,14371,14433,14450,14461,14510,14549,14560,14581,14673,14687,14727,14810,14816,14890,14990,15010,15050,15090,15103,15108,15112,15112,15118,15126,15128,15148,15168,15299,15300,15337,15355,15447,15448,15482,15484,15506,15566,15764,15929,16057,16208,16358,16433,16520,16556,16674,16901,17022,17076,17298,18060,18134,18193,18213,18229,18258,18387,18785,18827,19377,19542,19769,19948,20031,20067,20159,20226,20500,20669,21129,21420,21727,22026,22244,22359,22770,22988,23186,23629,27745,29326,36019],\"xaxis\":\"x\",\"y\":[1665.7426768758307,1665.7426768758307,1665.7426768758307,1665.7426768758307,1665.7426768758307,1665.7426768758307,1665.7426768758307,1665.7426768758307,1665.7426768758307,1665.7426768758307,1665.7426768758307,1665.7426768758307,1665.7426768758307,1665.7426768758307,1665.7426768758307,1665.7426768758307,1665.7426768758307,1665.7426768758307,1665.7426768758307,1665.7426768758307,1665.7426768758307,1665.7426768758307,1665.7426768758307,1665.7426768758307,1665.7426768758307,1665.7426768758307,1665.7426768758307,1665.7426768758307,1665.7426768758307,1665.7426768758307,1665.7426768758307,1665.7426768758307,1665.7426768758307,1665.7426768758307,1665.7426768758307,1665.7426768758307,1665.7426768758307,1665.7426768758307,1665.7426768758307,1665.7426768758307,1665.7426768758307,1665.7426768758307,1665.7426768758307,1665.7426768758307,1665.7426768758307,1665.7426768758307,1665.7426768758307,1665.7426768758307,1665.7426768758307,1665.7426768758307,1665.7426768758307,1665.7426768758307,1665.7426768758307,1665.7426768758307,1665.7426768758307,1665.7426768758307,1665.7426768758307,1665.7426768758307,1665.7426768758307,1665.7426768758307,1665.7426768758307,1665.7426768758307,1665.7426768758307,1665.7426768758307,1665.7426768758307,1665.7426768758307,1665.7426768758307,1665.7426768758307,1665.7426768758307,1665.7426768758307,1665.7426768758307,1665.7426768758307,1665.7426768758307,1665.7426768758307,1665.7426768758307,1665.7426768758307,1665.7426768758307,1666.076729958041,1666.410783040251,1666.4942963108035,1667.0788892046712,1667.1624024752239,1668.1645617218542,1668.3315882629593,1669.2502342390371,1669.4172607801422,1670.9204996500878,1674.7621100955046,1677.7685878353957,1678.1861541881583,1678.436693999816,1682.1947911746802,1686.1199148906492,1686.1199148906492,1686.9550475961746,1695.4734011925332,1699.1479850968446,1705.4114803882846,1715.0155065018262,1718.9406302177954,1720.443869087741,1722.3646743104493,1724.4525060742626,1728.0435767080216,1729.8808686601774,1730.2149217423876,1735.7267975988548,1742.9089388663729,1747.5856820173146,1763.4532034222964,1766.042114809425,1766.1256280799773,1767.5453536793705,1767.8794067615806,1770.2177783370516,1772.8066897241802,1775.9801940051766,1776.063707275729,1776.4812736284916,1776.7318134401494,1791.8477154101581,1791.8477154101581,1793.6850073623139,1795.271759502812,1800.9506619003844,1804.7087590752485,1805.6274050513264,1808.9679358734277,1809.9700951200582,1810.3876614728208,1812.5590065071867,1814.8973780826577,1816.651156764261,1818.6554752575216,1821.7454662679656,1822.914652055701,1830.0132800526665,1830.1803065937715,1831.2659791109545,1838.1140672962624,1838.7821734606825,1839.450279625103,1840.2854123306283,1840.3689256011808,1841.1205450361535,1841.4545981183637,1843.7929696938347,1845.5467483754378,1846.3818810809632,1848.8872791975393,1852.5618631018508,1855.1507744889793,1855.8188806533997,1856.4034735472674,1858.5748185816333,1865.3393934963885,1867.9283048835173,1868.1788446951748,1869.1810039418053,1871.7699153289338,1872.0204551405914,1873.1061276577743,1873.4401807399845,1874.27531344551,1874.776393068825,1876.5301717504283,1878.4509769731367,1879.8707025725296,1880.6223220075026,1887.9714898161255,1888.8901357922034,1891.5625604498846,1892.3141798848574,1892.73174623762,1895.5711974364062,1896.155790330274,1900.999560022321,1901.5841529161887,1901.7511794572938,1909.1838605364694,1909.2673738070218,1909.8519667008895,1911.5222321119404,1911.6892586530453,1911.772771923598,1913.025470981886,1913.6935771463063,1913.8606036874112,1916.031948721777,1916.9505946978552,1918.9549131911158,1922.71301036598,1923.7986828831629,1926.3875942702916,1927.4732667874744,1927.556780058027,1928.5589393046573,1930.980824150681,1939.3321512059345,1940.668363534775,1943.0902483807984,1943.4243014630085,1944.259434168534,1946.76483228511,1947.09888536732,1948.4350976961607,1949.9383365661063,1950.021849836659,1950.4394161894215,1950.8569825421841,1951.4415754360518,1951.942655059367,1952.0261683299195,1952.1931948710248,1957.2039911041768,1959.3753361385427,1959.7093892207529,1963.8850527483796,1964.7201854539048,1965.3047783477728,1965.3882916183252,1965.3882916183252,1967.1420702999285,1969.2299020637417,1972.4034063447382,1972.4869196152906,1973.823131944131,1974.908804461314,1974.9923177318667,1976.9966362251275,1979.3350078005985,1979.585547612256,1979.8360874239138,1979.8360874239138,1982.1744589993846,1982.2579722699372,1983.0931049754627,1983.8447244104354,1984.8468836570657,1986.6841756092215,1986.7676888797741,1988.4379542908248,1992.697131089004,1995.20252920558,1997.540900781051,1997.6244140516037,1998.459546757129,2000.964944873705,2001.9671041203353,2002.9692633669658,2004.2219624252539,2004.723042048569,2005.474661483542,2006.5603340007247,2009.1492453878534,2013.5754487271377,2015.496253949846,2015.9138203026087,2017.5005724431069,2020.5905634535507,2030.1110762965395,2030.1110762965395,2030.6121559198548,2034.370253094719,2038.8799697045556,2039.6315891395284,2040.967801468369,2041.2183412800266,2041.5523943622368,2041.8029341738943,2042.5545536088673,2042.7215801499724,2043.6402261260503,2046.2291375131788,2046.6467038659414,2046.730217136494,2046.730217136494,2047.4818365714668,2049.6531816058327,2052.492632804619,2054.914517650642,2056.250729979483,2058.004508661086,2060.676933318767,2060.927473130425,2061.9296323770554,2062.1801721887127,2065.771242822472,2066.8569153396547,2069.2788001856784,2073.120410631095,2073.2874371722,2076.6279679943013,2077.1290476176164,2077.379587429274,2077.7136405114843,2077.880667052589,2078.298233405352,2079.1333661108774,2081.1376846041385,2081.471737686348,2082.7244367446365,2083.142003097399,2083.4760561796093,2084.47821542624,2085.7309144845276,2088.069286059999,2089.7395514710493,2089.9065780121546,2094.583321163096,2095.919533491937,2096.086560033042,2096.754666197462,2096.838179468015,2097.00520600912,2098.591958149618,2100.178710290116,2100.429250101774,2100.5127633723264,2102.6841084066923,2102.6841084066923,2102.851134947797,2103.7697809238753,2104.187347276638,2105.273019793821,2105.607072876031,2106.108152499346,2106.108152499346,2106.2751790404513,2109.949762944763,2110.450842568078,2114.2089397429418,2114.375966284047,2116.213258236203,2116.7978511300707,2118.134063458911,2119.9713554110667,2121.224054469355,2122.7272933393006,2125.900797620297,2126.067824161402,2127.4040364902426,2128.907275360188,2130.3270009595813,2130.494027500686,2130.9951071240016,2131.997266370632,2133.416991970025,2137.7596820387566,2138.761841285387,2141.517779213621,2142.519938460251,2144.3572304124073,2147.6977612345086,2151.2053185977147,2152.792070738213,2153.710716714291,2155.2974688547893,2158.136920053575,2159.1390793002056,2161.226911064019,2164.650955156673,2165.1520347799883,2166.154194026619,2166.404733838276,2166.5717603793814,2166.9058134615916,2168.242025790432,2170.747423907008,2172.167149506401,2173.1693087530316,2173.753901646899,2174.171467999662,2174.5890343524247,2175.8417334107125,2176.509839575133,2176.5933528456853,2177.8460519039736,2177.8460519039736,2179.7668571266818,2179.9338836677866,2181.3536092671798,2181.4371225377326,2181.4371225377326,2183.357927760441,2185.3622462537014,2185.7798126064645,2186.698458582542,2188.535750534698,2189.955476134091,2192.460874250667,2194.047626391165,2195.133298908348,2195.9684316138737,2196.9705908605038,2198.1397766482396,2199.643015518185,2202.2319269053137,2203.1505728813913,2203.568139234154,2205.73948426852,2206.40759043294,2206.40759043294,2208.328395655649,2209.0800150906216,2211.084333583882,2212.170006101065,2213.506218429906,2213.9237847826685,2215.2599971115087,2215.427023652614,2220.0202535330036,2220.5213331563186,2225.031049766156,2225.9496957422334,2225.9496957422334,2226.200235553891,2227.118881529969,2227.285908071074,2227.8705009649416,2228.9561734821245,2232.0461644925686,2233.4658900919617,2233.549403362514,2234.050482985829,2234.8856156913544,2236.05480147909,2236.221828020195,2239.7293853834017,2240.063438465612,2240.731544630032,2241.149110982795,2242.4018100410826,2242.568836582188,2242.8193763938452,2245.575314322079,2249.2498982263905,2250.9201636374414,2251.838809613519,2254.093667918438,2254.2606944595427,2255.5969067883834,2257.935278363854,2259.8560835865624,2261.3593224565084,2261.6098622681657,2262.1944551620336,2262.1944551620336,2262.862561326454,2263.2801276792165,2264.8668798197145,2266.37011868966,2266.453631960213,2266.871198312975,2268.1238973712634,2268.875516806236,2270.6292954878395,2270.796322028945,2273.3017201455204,2274.2203661215985,2274.4709059332563,2275.6400917209917,2277.7279234848047,2278.396029649225,2280.3168348719337,2280.8179144952487,2281.486020659669,2281.987100282984,2283.4068258823772,2283.657365694035,2284.743038211218,2286.9978965161363,2287.3319495983465,2288.000055762767,2292.2592325609457,2294.1800377836544,2296.267869547468,2297.604081876308,2300.7775861573045,2301.94677194504,2302.3643382978025,2302.6148781094603,2303.617037356091,2303.867577167748,2306.372975284324,2309.295939753663,2309.7135061064255,2310.9662051647138,2313.221063469632,2313.972682904605,2316.7286208328387,2317.3132137267066,2317.4802402678115,2319.9021251138347,2321.4053639837807,2322.1569834187535,2323.4096824770413,2323.910762100357,2324.745894805882,2325.831567323065,2326.33264694638,2326.5831867580378,2327.501832734116,2328.5875052512984,2328.5875052512984,2329.5061512273764,2333.0137085905826,2333.9323545666607,2338.2750446353925,2338.358557905945,2338.7761242587076,2339.1936906114706,2341.615575457494,2341.782601998599,2345.1231328207004,2347.2944778550664,2347.461504396171,2347.8790707489343,2350.38446886551,2350.4679821360623,2350.8855484888254,2351.0525750299303,2352.3052740882185,2353.223920064296,2353.641486417059,2353.8920262287165,2354.0590527698214,2354.4766191225845,2356.814990698055,2357.065530509713,2357.4830968624756,2357.733636674133,2358.401742838553,2358.986335732421,2360.072008249604,2361.408220578445,2363.913618695021,2364.4982115888884,2365.7509106471766,2371.596839585854,2373.016565185247,2374.10223770243,2378.7789808533716,2378.7789808533716,2378.8624941239245,2380.866812617185,2380.9503258877376,2381.2008656993953,2382.2865382165783,2382.704104569341,2383.622750545419,2385.1259894153645,2391.2224581656997,2392.391643953435,2393.3102899295127,2397.068387104377,2397.1519003749295,2400.074864844268,2400.325404655926,2404.3340416424476,2405.336200889078,2405.4197141596305,2405.5867407007354,2405.9207937829456,2406.4218734062606,2408.259165358417,2409.428351146152,2409.929430769467,2410.2634838516774,2411.098616557203,2412.351315615491,2413.5205014032263,2418.1972445541683,2419.282917071351,2420.1180497768764,2426.131005256659,2426.131005256659,2426.298031797764,2426.381545068317,2427.1331645032897,2427.6342441266047,2428.1353237499197,2428.636403373235,2429.3045095376556,2429.722075890418,2431.308828030916,2431.308828030916,2431.726394383679,2434.231792500255,2435.4844915585427,2436.737190616831,2438.741509110092,2438.9920489217493,2439.1590754628546,2440.912854144458,2443.8358186137966,2449.7652608230264,2451.1849864224196,2451.6860660457346,2452.688225292365,2455.026596867836,2455.2771366794937,2455.861729573361,2456.5298357377815,2456.696862278887,2457.615508254965,2458.033074607727,2459.202260395463,2461.123065618171,2462.7098177586695,2463.879003546405,2465.1317026046927,2466.8019680157436,2467.5535874507163,2467.720613991821,2470.142498837845,2470.3095253789497,2471.4787111666856,2474.568702177129,2476.23896758818,2477.074100293705,2478.577339163651,2480.2476045747017,2480.9992240096744,2481.5838169035424,2483.087055773488,2484.089215020118,2485.007860996196,2485.759480431169,2486.427586595589,2487.2627193011144,2487.5967723833246,2490.6032501232157,2491.9394624520564,2492.4405420753715,2494.1108074864223,2495.0294534625,2503.798346870516,2504.1323999527267,2505.218072469909,2505.468612281567,2505.8861786343296,2507.0553644220654,2507.5564440453804,2507.639957315933,2507.974010398143,2508.4750900214585,2508.8926563742207,2509.2267094564313,2510.312381973614,2510.8134615969293,2511.0640014085866,2511.6485943024545,2512.5672402785326,2512.901293360743,2512.984806631295,2513.1518331724,2514.1539924190306,2515.9912843711863,2517.494523241132,2517.661549782237,2517.9120895938945,2518.41316921721,2519.08127538163,2519.832894816603,2520.2504611693657,2521.1691071454434,2521.3361336865487,2521.920726580416,2522.171266392074,2524.9272043203077,2525.8458502963854,2527.5161157074363,2527.5996289779887,2530.2720536356696,2532.4433986700355,2532.5269119405884,2533.195018105009,2535.449876409927,2535.5333896804796,2536.702575468215,2537.036628550425,2538.372840879266,2539.2914868553435,2539.709053208106,2542.5485044068923,2544.3022830884956,2544.636336170706,2545.6384954173363,2545.805521958441,2545.805521958441,2546.3066015817567,2547.0582210167295,2551.1503712738036,2551.9019907087763,2552.069017249881,2554.7414419075626,2557.4138665652436,2558.081972729664,2558.1654860002163,2558.332512541321,2558.4995390824265,2558.8335921646367,2561.422503551765,2561.422503551765,2562.0906097161856,2562.2576362572904,2562.8422291511583,2564.512494562209,2565.264113997182,2566.015733432155,2569.1057244425983,2569.1892377131508,2570.1913969597813,2578.5427240150348,2579.8789363438755,2583.386493707082,2583.8040600598447,2584.3051396831597,2585.140272388685,2587.2281041524984,2587.478643964156,2588.146750128576,2591.487280950678,2592.7399800089656,2592.8234932795185,2593.3245729028336,2595.6629444783043,2596.080510831067,2599.170501841511,2599.3375283826163,2599.504554923721,2600.506714170351,2601.091307064219,2601.675899958087,2605.768050215161,2606.7702094617916,2610.8623597188657,2615.2050497875975,2616.791801928096,2617.209368280858,2618.1280142569362,2619.380713315224,2619.7147663974347,2619.7147663974347,2622.0531379729055,2622.721244137326,2625.727721877217,2630.153925216501,2630.3209517576065,2633.1604029563923,2634.162562203023,2635.415261261311,2639.3403849772803,2639.757951330043,2640.9271371177783,2641.344703470541,2645.1863139159577,2648.526844738059,2654.1222338650787,2657.46276468718,2658.381410663258,2659.133030098231,2667.2338173418266,2669.154622564535,2669.7392154584027,2669.906241999508,2672.7456931982942,2675.1675780443175,2677.004869996473,2679.5102681130493,2681.1805335240997,2681.84863968852,2683.1848520173608,2684.604577616754,2685.189170510622,2685.3561970517267,2687.1934890038824,2693.958063918638,2694.208603730295,2695.6283293296883,2696.4634620352135,2696.797515117424,2697.716161093502,2698.2172407168173,2699.2193999634474,2700.1380459395255,2700.4720990217356,2701.7247980800234,2702.4764175149962,2703.1445236794166,2703.562090032179,2705.733435066545,2706.4015412309654,2706.7355943131756,2707.4872137481484,2712.4144967107477,2715.838540803402,2720.264744142686,2723.7723015058928,2725.1085138347335,2725.693106728601,2728.6160711979396,2731.7060622083836,2731.7060622083836,2732.2071418316987,2734.54551340717,2736.967398253193,2738.7211769347964,2738.8882034759017,2739.472796369769,2739.890362722532,2744.0660262501588,2747.5735836133654,2748.158176507233,2750.246008271046,2753.0019461992797,2754.839238151436,2757.261122997459,2757.428149538564,2764.2762377238723,2764.944343888292,2766.030016405475,2769.537573768682,2771.12432590918,2771.2913524502846,2771.3748657208375,2774.130803649071,2777.9724140944877,2782.148077622114,2782.482130704325,2783.0667235981923,2786.6577942319514,2789.7477852423954,2791.5850771945506,2796.595873427703,2798.0991122976484,2798.6837051915163,2800.2704573320143,2804.028554506878,2806.3669260823494,2813.4655540793146,2813.5490673498675,2814.4677133259456,2828.915509131534,2831.0033408953473,2836.5152167518145,2839.5216944917056,2840.774393549994,2844.2819509132005,2845.8687030536985,2849.292747146352,2851.130039098508,2857.3935343899484,2862.5713571642054,2862.905410246415,2865.4108083629917,2865.828374715754,2865.9118879863067,2871.089710760564,2872.509436359957,2873.428082336035,2877.520232593109,2880.777250144658,2881.6958961207356,2883.449674802339,2891.132895693172,2892.302081480908,2895.6426123030087,2902.5742137588695,2903.0752933821846,2909.255275403072,2917.6066024583256,2919.2768678693765,2922.617398691478,2925.957929513579,2927.043602030762,2927.4611683835246,2927.795221465735,2927.795221465735,2928.29630108905,2928.96440725347,2929.1314337945755,2930.8016992056264,2932.471964616677,2943.412203059059,2943.4957163296112,2946.5857073400553,2948.088946210001,2955.772167100834,2955.8556803713864,2958.6951315701726,2958.8621581112775,2960.6994500634337,2965.710246296586,2982.2458738659875,2996.0255635071558,3006.71526213788,3019.325765991313,3031.8527565741933,3038.1162518656333,3045.381906403704,3048.388384143595,3058.242950068794,3077.2004624842193,3087.305568221076,3091.815284830913,3110.355230893576,3173.992343054607,3180.172325075495,3185.099608038094,3186.769873449145,3188.1060857779858,3190.527970624009,3201.301182525286,3234.5394642051947,3238.0470215684013,3283.9793203722957,3297.7590100134635,3316.716522428889,3331.6653978577924,3338.596999313653,3341.6034770535443,3349.2866979443775,3354.882087071397,3377.764723202792,3391.87846592617,3430.294570380336,3454.596932111124,3480.235506170752,3505.2059740659597,3523.411867046412,3533.0158931599535,3567.3398473570455,3585.545740337498,3602.0813679068997,3639.0777467616726,3982.8183683559055,4114.852849099463,4673.807168907578],\"yaxis\":\"y\",\"type\":\"scatter\"}],                        {\"template\":{\"data\":{\"histogram2dcontour\":[{\"type\":\"histogram2dcontour\",\"colorbar\":{\"outlinewidth\":0,\"ticks\":\"\"},\"colorscale\":[[0.0,\"#0d0887\"],[0.1111111111111111,\"#46039f\"],[0.2222222222222222,\"#7201a8\"],[0.3333333333333333,\"#9c179e\"],[0.4444444444444444,\"#bd3786\"],[0.5555555555555556,\"#d8576b\"],[0.6666666666666666,\"#ed7953\"],[0.7777777777777778,\"#fb9f3a\"],[0.8888888888888888,\"#fdca26\"],[1.0,\"#f0f921\"]]}],\"choropleth\":[{\"type\":\"choropleth\",\"colorbar\":{\"outlinewidth\":0,\"ticks\":\"\"}}],\"histogram2d\":[{\"type\":\"histogram2d\",\"colorbar\":{\"outlinewidth\":0,\"ticks\":\"\"},\"colorscale\":[[0.0,\"#0d0887\"],[0.1111111111111111,\"#46039f\"],[0.2222222222222222,\"#7201a8\"],[0.3333333333333333,\"#9c179e\"],[0.4444444444444444,\"#bd3786\"],[0.5555555555555556,\"#d8576b\"],[0.6666666666666666,\"#ed7953\"],[0.7777777777777778,\"#fb9f3a\"],[0.8888888888888888,\"#fdca26\"],[1.0,\"#f0f921\"]]}],\"heatmap\":[{\"type\":\"heatmap\",\"colorbar\":{\"outlinewidth\":0,\"ticks\":\"\"},\"colorscale\":[[0.0,\"#0d0887\"],[0.1111111111111111,\"#46039f\"],[0.2222222222222222,\"#7201a8\"],[0.3333333333333333,\"#9c179e\"],[0.4444444444444444,\"#bd3786\"],[0.5555555555555556,\"#d8576b\"],[0.6666666666666666,\"#ed7953\"],[0.7777777777777778,\"#fb9f3a\"],[0.8888888888888888,\"#fdca26\"],[1.0,\"#f0f921\"]]}],\"heatmapgl\":[{\"type\":\"heatmapgl\",\"colorbar\":{\"outlinewidth\":0,\"ticks\":\"\"},\"colorscale\":[[0.0,\"#0d0887\"],[0.1111111111111111,\"#46039f\"],[0.2222222222222222,\"#7201a8\"],[0.3333333333333333,\"#9c179e\"],[0.4444444444444444,\"#bd3786\"],[0.5555555555555556,\"#d8576b\"],[0.6666666666666666,\"#ed7953\"],[0.7777777777777778,\"#fb9f3a\"],[0.8888888888888888,\"#fdca26\"],[1.0,\"#f0f921\"]]}],\"contourcarpet\":[{\"type\":\"contourcarpet\",\"colorbar\":{\"outlinewidth\":0,\"ticks\":\"\"}}],\"contour\":[{\"type\":\"contour\",\"colorbar\":{\"outlinewidth\":0,\"ticks\":\"\"},\"colorscale\":[[0.0,\"#0d0887\"],[0.1111111111111111,\"#46039f\"],[0.2222222222222222,\"#7201a8\"],[0.3333333333333333,\"#9c179e\"],[0.4444444444444444,\"#bd3786\"],[0.5555555555555556,\"#d8576b\"],[0.6666666666666666,\"#ed7953\"],[0.7777777777777778,\"#fb9f3a\"],[0.8888888888888888,\"#fdca26\"],[1.0,\"#f0f921\"]]}],\"surface\":[{\"type\":\"surface\",\"colorbar\":{\"outlinewidth\":0,\"ticks\":\"\"},\"colorscale\":[[0.0,\"#0d0887\"],[0.1111111111111111,\"#46039f\"],[0.2222222222222222,\"#7201a8\"],[0.3333333333333333,\"#9c179e\"],[0.4444444444444444,\"#bd3786\"],[0.5555555555555556,\"#d8576b\"],[0.6666666666666666,\"#ed7953\"],[0.7777777777777778,\"#fb9f3a\"],[0.8888888888888888,\"#fdca26\"],[1.0,\"#f0f921\"]]}],\"mesh3d\":[{\"type\":\"mesh3d\",\"colorbar\":{\"outlinewidth\":0,\"ticks\":\"\"}}],\"scatter\":[{\"fillpattern\":{\"fillmode\":\"overlay\",\"size\":10,\"solidity\":0.2},\"type\":\"scatter\"}],\"parcoords\":[{\"type\":\"parcoords\",\"line\":{\"colorbar\":{\"outlinewidth\":0,\"ticks\":\"\"}}}],\"scatterpolargl\":[{\"type\":\"scatterpolargl\",\"marker\":{\"colorbar\":{\"outlinewidth\":0,\"ticks\":\"\"}}}],\"bar\":[{\"error_x\":{\"color\":\"#2a3f5f\"},\"error_y\":{\"color\":\"#2a3f5f\"},\"marker\":{\"line\":{\"color\":\"#E5ECF6\",\"width\":0.5},\"pattern\":{\"fillmode\":\"overlay\",\"size\":10,\"solidity\":0.2}},\"type\":\"bar\"}],\"scattergeo\":[{\"type\":\"scattergeo\",\"marker\":{\"colorbar\":{\"outlinewidth\":0,\"ticks\":\"\"}}}],\"scatterpolar\":[{\"type\":\"scatterpolar\",\"marker\":{\"colorbar\":{\"outlinewidth\":0,\"ticks\":\"\"}}}],\"histogram\":[{\"marker\":{\"pattern\":{\"fillmode\":\"overlay\",\"size\":10,\"solidity\":0.2}},\"type\":\"histogram\"}],\"scattergl\":[{\"type\":\"scattergl\",\"marker\":{\"colorbar\":{\"outlinewidth\":0,\"ticks\":\"\"}}}],\"scatter3d\":[{\"type\":\"scatter3d\",\"line\":{\"colorbar\":{\"outlinewidth\":0,\"ticks\":\"\"}},\"marker\":{\"colorbar\":{\"outlinewidth\":0,\"ticks\":\"\"}}}],\"scattermapbox\":[{\"type\":\"scattermapbox\",\"marker\":{\"colorbar\":{\"outlinewidth\":0,\"ticks\":\"\"}}}],\"scatterternary\":[{\"type\":\"scatterternary\",\"marker\":{\"colorbar\":{\"outlinewidth\":0,\"ticks\":\"\"}}}],\"scattercarpet\":[{\"type\":\"scattercarpet\",\"marker\":{\"colorbar\":{\"outlinewidth\":0,\"ticks\":\"\"}}}],\"carpet\":[{\"aaxis\":{\"endlinecolor\":\"#2a3f5f\",\"gridcolor\":\"white\",\"linecolor\":\"white\",\"minorgridcolor\":\"white\",\"startlinecolor\":\"#2a3f5f\"},\"baxis\":{\"endlinecolor\":\"#2a3f5f\",\"gridcolor\":\"white\",\"linecolor\":\"white\",\"minorgridcolor\":\"white\",\"startlinecolor\":\"#2a3f5f\"},\"type\":\"carpet\"}],\"table\":[{\"cells\":{\"fill\":{\"color\":\"#EBF0F8\"},\"line\":{\"color\":\"white\"}},\"header\":{\"fill\":{\"color\":\"#C8D4E3\"},\"line\":{\"color\":\"white\"}},\"type\":\"table\"}],\"barpolar\":[{\"marker\":{\"line\":{\"color\":\"#E5ECF6\",\"width\":0.5},\"pattern\":{\"fillmode\":\"overlay\",\"size\":10,\"solidity\":0.2}},\"type\":\"barpolar\"}],\"pie\":[{\"automargin\":true,\"type\":\"pie\"}]},\"layout\":{\"autotypenumbers\":\"strict\",\"colorway\":[\"#636efa\",\"#EF553B\",\"#00cc96\",\"#ab63fa\",\"#FFA15A\",\"#19d3f3\",\"#FF6692\",\"#B6E880\",\"#FF97FF\",\"#FECB52\"],\"font\":{\"color\":\"#2a3f5f\"},\"hovermode\":\"closest\",\"hoverlabel\":{\"align\":\"left\"},\"paper_bgcolor\":\"white\",\"plot_bgcolor\":\"#E5ECF6\",\"polar\":{\"bgcolor\":\"#E5ECF6\",\"angularaxis\":{\"gridcolor\":\"white\",\"linecolor\":\"white\",\"ticks\":\"\"},\"radialaxis\":{\"gridcolor\":\"white\",\"linecolor\":\"white\",\"ticks\":\"\"}},\"ternary\":{\"bgcolor\":\"#E5ECF6\",\"aaxis\":{\"gridcolor\":\"white\",\"linecolor\":\"white\",\"ticks\":\"\"},\"baxis\":{\"gridcolor\":\"white\",\"linecolor\":\"white\",\"ticks\":\"\"},\"caxis\":{\"gridcolor\":\"white\",\"linecolor\":\"white\",\"ticks\":\"\"}},\"coloraxis\":{\"colorbar\":{\"outlinewidth\":0,\"ticks\":\"\"}},\"colorscale\":{\"sequential\":[[0.0,\"#0d0887\"],[0.1111111111111111,\"#46039f\"],[0.2222222222222222,\"#7201a8\"],[0.3333333333333333,\"#9c179e\"],[0.4444444444444444,\"#bd3786\"],[0.5555555555555556,\"#d8576b\"],[0.6666666666666666,\"#ed7953\"],[0.7777777777777778,\"#fb9f3a\"],[0.8888888888888888,\"#fdca26\"],[1.0,\"#f0f921\"]],\"sequentialminus\":[[0.0,\"#0d0887\"],[0.1111111111111111,\"#46039f\"],[0.2222222222222222,\"#7201a8\"],[0.3333333333333333,\"#9c179e\"],[0.4444444444444444,\"#bd3786\"],[0.5555555555555556,\"#d8576b\"],[0.6666666666666666,\"#ed7953\"],[0.7777777777777778,\"#fb9f3a\"],[0.8888888888888888,\"#fdca26\"],[1.0,\"#f0f921\"]],\"diverging\":[[0,\"#8e0152\"],[0.1,\"#c51b7d\"],[0.2,\"#de77ae\"],[0.3,\"#f1b6da\"],[0.4,\"#fde0ef\"],[0.5,\"#f7f7f7\"],[0.6,\"#e6f5d0\"],[0.7,\"#b8e186\"],[0.8,\"#7fbc41\"],[0.9,\"#4d9221\"],[1,\"#276419\"]]},\"xaxis\":{\"gridcolor\":\"white\",\"linecolor\":\"white\",\"ticks\":\"\",\"title\":{\"standoff\":15},\"zerolinecolor\":\"white\",\"automargin\":true,\"zerolinewidth\":2},\"yaxis\":{\"gridcolor\":\"white\",\"linecolor\":\"white\",\"ticks\":\"\",\"title\":{\"standoff\":15},\"zerolinecolor\":\"white\",\"automargin\":true,\"zerolinewidth\":2},\"scene\":{\"xaxis\":{\"backgroundcolor\":\"#E5ECF6\",\"gridcolor\":\"white\",\"linecolor\":\"white\",\"showbackground\":true,\"ticks\":\"\",\"zerolinecolor\":\"white\",\"gridwidth\":2},\"yaxis\":{\"backgroundcolor\":\"#E5ECF6\",\"gridcolor\":\"white\",\"linecolor\":\"white\",\"showbackground\":true,\"ticks\":\"\",\"zerolinecolor\":\"white\",\"gridwidth\":2},\"zaxis\":{\"backgroundcolor\":\"#E5ECF6\",\"gridcolor\":\"white\",\"linecolor\":\"white\",\"showbackground\":true,\"ticks\":\"\",\"zerolinecolor\":\"white\",\"gridwidth\":2}},\"shapedefaults\":{\"line\":{\"color\":\"#2a3f5f\"}},\"annotationdefaults\":{\"arrowcolor\":\"#2a3f5f\",\"arrowhead\":0,\"arrowwidth\":1},\"geo\":{\"bgcolor\":\"white\",\"landcolor\":\"#E5ECF6\",\"subunitcolor\":\"white\",\"showland\":true,\"showlakes\":true,\"lakecolor\":\"white\"},\"title\":{\"x\":0.05},\"mapbox\":{\"style\":\"light\"}}},\"xaxis\":{\"anchor\":\"y\",\"domain\":[0.0,1.0],\"title\":{\"text\":\"TotalSteps\"}},\"yaxis\":{\"anchor\":\"x\",\"domain\":[0.0,1.0],\"title\":{\"text\":\"Calories\"}},\"legend\":{\"tracegroupgap\":0,\"itemsizing\":\"constant\"},\"title\":{\"text\":\"Calories burned based on steps\"}},                        {\"responsive\": true}                    ).then(function(){\n",
       "                            \n",
       "var gd = document.getElementById('79de43cc-89da-46d4-8f8f-24aab65a274e');\n",
       "var x = new MutationObserver(function (mutations, observer) {{\n",
       "        var display = window.getComputedStyle(gd).display;\n",
       "        if (!display || display === 'none') {{\n",
       "            console.log([gd, 'removed!']);\n",
       "            Plotly.purge(gd);\n",
       "            observer.disconnect();\n",
       "        }}\n",
       "}});\n",
       "\n",
       "// Listen for the removal of the full notebook cells\n",
       "var notebookContainer = gd.closest('#notebook-container');\n",
       "if (notebookContainer) {{\n",
       "    x.observe(notebookContainer, {childList: true});\n",
       "}}\n",
       "\n",
       "// Listen for the clearing of the current output cell\n",
       "var outputEl = gd.closest('.output');\n",
       "if (outputEl) {{\n",
       "    x.observe(outputEl, {childList: true});\n",
       "}}\n",
       "\n",
       "                        })                };                });            </script>        </div>"
      ]
     },
     "metadata": {},
     "output_type": "display_data"
    }
   ],
   "source": [
    "fig = px.scatter(df, x='TotalSteps', y='Calories', size='VeryActiveMinutes',\n",
    "                 title = 'Calories burned based on steps',\n",
    "                 trendline = 'ols')\n",
    "\n",
    "fig.show()"
   ]
  },
  {
   "cell_type": "code",
   "execution_count": 21,
   "id": "5f5c743f",
   "metadata": {},
   "outputs": [
    {
     "data": {
      "application/vnd.plotly.v1+json": {
       "config": {
        "plotlyServerURL": "https://plot.ly"
       },
       "data": [
        {
         "domain": {
          "x": [
           0,
           1
          ],
          "y": [
           0,
           1
          ]
         },
         "hovertemplate": "index=%{label}<br>value=%{value}<extra></extra>",
         "labels": [
          "VeryActiveMinutes",
          "FairlyActiveMinutes",
          "LightlyActiveMinutes",
          "SedentaryMinutes"
         ],
         "legendgroup": "",
         "name": "",
         "showlegend": true,
         "type": "pie",
         "values": [
          21.164893617021278,
          13.564893617021276,
          192.8127659574468,
          991.2106382978724
         ]
        }
       ],
       "layout": {
        "legend": {
         "tracegroupgap": 0
        },
        "template": {
         "data": {
          "bar": [
           {
            "error_x": {
             "color": "#2a3f5f"
            },
            "error_y": {
             "color": "#2a3f5f"
            },
            "marker": {
             "line": {
              "color": "#E5ECF6",
              "width": 0.5
             },
             "pattern": {
              "fillmode": "overlay",
              "size": 10,
              "solidity": 0.2
             }
            },
            "type": "bar"
           }
          ],
          "barpolar": [
           {
            "marker": {
             "line": {
              "color": "#E5ECF6",
              "width": 0.5
             },
             "pattern": {
              "fillmode": "overlay",
              "size": 10,
              "solidity": 0.2
             }
            },
            "type": "barpolar"
           }
          ],
          "carpet": [
           {
            "aaxis": {
             "endlinecolor": "#2a3f5f",
             "gridcolor": "white",
             "linecolor": "white",
             "minorgridcolor": "white",
             "startlinecolor": "#2a3f5f"
            },
            "baxis": {
             "endlinecolor": "#2a3f5f",
             "gridcolor": "white",
             "linecolor": "white",
             "minorgridcolor": "white",
             "startlinecolor": "#2a3f5f"
            },
            "type": "carpet"
           }
          ],
          "choropleth": [
           {
            "colorbar": {
             "outlinewidth": 0,
             "ticks": ""
            },
            "type": "choropleth"
           }
          ],
          "contour": [
           {
            "colorbar": {
             "outlinewidth": 0,
             "ticks": ""
            },
            "colorscale": [
             [
              0,
              "#0d0887"
             ],
             [
              0.1111111111111111,
              "#46039f"
             ],
             [
              0.2222222222222222,
              "#7201a8"
             ],
             [
              0.3333333333333333,
              "#9c179e"
             ],
             [
              0.4444444444444444,
              "#bd3786"
             ],
             [
              0.5555555555555556,
              "#d8576b"
             ],
             [
              0.6666666666666666,
              "#ed7953"
             ],
             [
              0.7777777777777778,
              "#fb9f3a"
             ],
             [
              0.8888888888888888,
              "#fdca26"
             ],
             [
              1,
              "#f0f921"
             ]
            ],
            "type": "contour"
           }
          ],
          "contourcarpet": [
           {
            "colorbar": {
             "outlinewidth": 0,
             "ticks": ""
            },
            "type": "contourcarpet"
           }
          ],
          "heatmap": [
           {
            "colorbar": {
             "outlinewidth": 0,
             "ticks": ""
            },
            "colorscale": [
             [
              0,
              "#0d0887"
             ],
             [
              0.1111111111111111,
              "#46039f"
             ],
             [
              0.2222222222222222,
              "#7201a8"
             ],
             [
              0.3333333333333333,
              "#9c179e"
             ],
             [
              0.4444444444444444,
              "#bd3786"
             ],
             [
              0.5555555555555556,
              "#d8576b"
             ],
             [
              0.6666666666666666,
              "#ed7953"
             ],
             [
              0.7777777777777778,
              "#fb9f3a"
             ],
             [
              0.8888888888888888,
              "#fdca26"
             ],
             [
              1,
              "#f0f921"
             ]
            ],
            "type": "heatmap"
           }
          ],
          "heatmapgl": [
           {
            "colorbar": {
             "outlinewidth": 0,
             "ticks": ""
            },
            "colorscale": [
             [
              0,
              "#0d0887"
             ],
             [
              0.1111111111111111,
              "#46039f"
             ],
             [
              0.2222222222222222,
              "#7201a8"
             ],
             [
              0.3333333333333333,
              "#9c179e"
             ],
             [
              0.4444444444444444,
              "#bd3786"
             ],
             [
              0.5555555555555556,
              "#d8576b"
             ],
             [
              0.6666666666666666,
              "#ed7953"
             ],
             [
              0.7777777777777778,
              "#fb9f3a"
             ],
             [
              0.8888888888888888,
              "#fdca26"
             ],
             [
              1,
              "#f0f921"
             ]
            ],
            "type": "heatmapgl"
           }
          ],
          "histogram": [
           {
            "marker": {
             "pattern": {
              "fillmode": "overlay",
              "size": 10,
              "solidity": 0.2
             }
            },
            "type": "histogram"
           }
          ],
          "histogram2d": [
           {
            "colorbar": {
             "outlinewidth": 0,
             "ticks": ""
            },
            "colorscale": [
             [
              0,
              "#0d0887"
             ],
             [
              0.1111111111111111,
              "#46039f"
             ],
             [
              0.2222222222222222,
              "#7201a8"
             ],
             [
              0.3333333333333333,
              "#9c179e"
             ],
             [
              0.4444444444444444,
              "#bd3786"
             ],
             [
              0.5555555555555556,
              "#d8576b"
             ],
             [
              0.6666666666666666,
              "#ed7953"
             ],
             [
              0.7777777777777778,
              "#fb9f3a"
             ],
             [
              0.8888888888888888,
              "#fdca26"
             ],
             [
              1,
              "#f0f921"
             ]
            ],
            "type": "histogram2d"
           }
          ],
          "histogram2dcontour": [
           {
            "colorbar": {
             "outlinewidth": 0,
             "ticks": ""
            },
            "colorscale": [
             [
              0,
              "#0d0887"
             ],
             [
              0.1111111111111111,
              "#46039f"
             ],
             [
              0.2222222222222222,
              "#7201a8"
             ],
             [
              0.3333333333333333,
              "#9c179e"
             ],
             [
              0.4444444444444444,
              "#bd3786"
             ],
             [
              0.5555555555555556,
              "#d8576b"
             ],
             [
              0.6666666666666666,
              "#ed7953"
             ],
             [
              0.7777777777777778,
              "#fb9f3a"
             ],
             [
              0.8888888888888888,
              "#fdca26"
             ],
             [
              1,
              "#f0f921"
             ]
            ],
            "type": "histogram2dcontour"
           }
          ],
          "mesh3d": [
           {
            "colorbar": {
             "outlinewidth": 0,
             "ticks": ""
            },
            "type": "mesh3d"
           }
          ],
          "parcoords": [
           {
            "line": {
             "colorbar": {
              "outlinewidth": 0,
              "ticks": ""
             }
            },
            "type": "parcoords"
           }
          ],
          "pie": [
           {
            "automargin": true,
            "type": "pie"
           }
          ],
          "scatter": [
           {
            "fillpattern": {
             "fillmode": "overlay",
             "size": 10,
             "solidity": 0.2
            },
            "type": "scatter"
           }
          ],
          "scatter3d": [
           {
            "line": {
             "colorbar": {
              "outlinewidth": 0,
              "ticks": ""
             }
            },
            "marker": {
             "colorbar": {
              "outlinewidth": 0,
              "ticks": ""
             }
            },
            "type": "scatter3d"
           }
          ],
          "scattercarpet": [
           {
            "marker": {
             "colorbar": {
              "outlinewidth": 0,
              "ticks": ""
             }
            },
            "type": "scattercarpet"
           }
          ],
          "scattergeo": [
           {
            "marker": {
             "colorbar": {
              "outlinewidth": 0,
              "ticks": ""
             }
            },
            "type": "scattergeo"
           }
          ],
          "scattergl": [
           {
            "marker": {
             "colorbar": {
              "outlinewidth": 0,
              "ticks": ""
             }
            },
            "type": "scattergl"
           }
          ],
          "scattermapbox": [
           {
            "marker": {
             "colorbar": {
              "outlinewidth": 0,
              "ticks": ""
             }
            },
            "type": "scattermapbox"
           }
          ],
          "scatterpolar": [
           {
            "marker": {
             "colorbar": {
              "outlinewidth": 0,
              "ticks": ""
             }
            },
            "type": "scatterpolar"
           }
          ],
          "scatterpolargl": [
           {
            "marker": {
             "colorbar": {
              "outlinewidth": 0,
              "ticks": ""
             }
            },
            "type": "scatterpolargl"
           }
          ],
          "scatterternary": [
           {
            "marker": {
             "colorbar": {
              "outlinewidth": 0,
              "ticks": ""
             }
            },
            "type": "scatterternary"
           }
          ],
          "surface": [
           {
            "colorbar": {
             "outlinewidth": 0,
             "ticks": ""
            },
            "colorscale": [
             [
              0,
              "#0d0887"
             ],
             [
              0.1111111111111111,
              "#46039f"
             ],
             [
              0.2222222222222222,
              "#7201a8"
             ],
             [
              0.3333333333333333,
              "#9c179e"
             ],
             [
              0.4444444444444444,
              "#bd3786"
             ],
             [
              0.5555555555555556,
              "#d8576b"
             ],
             [
              0.6666666666666666,
              "#ed7953"
             ],
             [
              0.7777777777777778,
              "#fb9f3a"
             ],
             [
              0.8888888888888888,
              "#fdca26"
             ],
             [
              1,
              "#f0f921"
             ]
            ],
            "type": "surface"
           }
          ],
          "table": [
           {
            "cells": {
             "fill": {
              "color": "#EBF0F8"
             },
             "line": {
              "color": "white"
             }
            },
            "header": {
             "fill": {
              "color": "#C8D4E3"
             },
             "line": {
              "color": "white"
             }
            },
            "type": "table"
           }
          ]
         },
         "layout": {
          "annotationdefaults": {
           "arrowcolor": "#2a3f5f",
           "arrowhead": 0,
           "arrowwidth": 1
          },
          "autotypenumbers": "strict",
          "coloraxis": {
           "colorbar": {
            "outlinewidth": 0,
            "ticks": ""
           }
          },
          "colorscale": {
           "diverging": [
            [
             0,
             "#8e0152"
            ],
            [
             0.1,
             "#c51b7d"
            ],
            [
             0.2,
             "#de77ae"
            ],
            [
             0.3,
             "#f1b6da"
            ],
            [
             0.4,
             "#fde0ef"
            ],
            [
             0.5,
             "#f7f7f7"
            ],
            [
             0.6,
             "#e6f5d0"
            ],
            [
             0.7,
             "#b8e186"
            ],
            [
             0.8,
             "#7fbc41"
            ],
            [
             0.9,
             "#4d9221"
            ],
            [
             1,
             "#276419"
            ]
           ],
           "sequential": [
            [
             0,
             "#0d0887"
            ],
            [
             0.1111111111111111,
             "#46039f"
            ],
            [
             0.2222222222222222,
             "#7201a8"
            ],
            [
             0.3333333333333333,
             "#9c179e"
            ],
            [
             0.4444444444444444,
             "#bd3786"
            ],
            [
             0.5555555555555556,
             "#d8576b"
            ],
            [
             0.6666666666666666,
             "#ed7953"
            ],
            [
             0.7777777777777778,
             "#fb9f3a"
            ],
            [
             0.8888888888888888,
             "#fdca26"
            ],
            [
             1,
             "#f0f921"
            ]
           ],
           "sequentialminus": [
            [
             0,
             "#0d0887"
            ],
            [
             0.1111111111111111,
             "#46039f"
            ],
            [
             0.2222222222222222,
             "#7201a8"
            ],
            [
             0.3333333333333333,
             "#9c179e"
            ],
            [
             0.4444444444444444,
             "#bd3786"
            ],
            [
             0.5555555555555556,
             "#d8576b"
            ],
            [
             0.6666666666666666,
             "#ed7953"
            ],
            [
             0.7777777777777778,
             "#fb9f3a"
            ],
            [
             0.8888888888888888,
             "#fdca26"
            ],
            [
             1,
             "#f0f921"
            ]
           ]
          },
          "colorway": [
           "#636efa",
           "#EF553B",
           "#00cc96",
           "#ab63fa",
           "#FFA15A",
           "#19d3f3",
           "#FF6692",
           "#B6E880",
           "#FF97FF",
           "#FECB52"
          ],
          "font": {
           "color": "#2a3f5f"
          },
          "geo": {
           "bgcolor": "white",
           "lakecolor": "white",
           "landcolor": "#E5ECF6",
           "showlakes": true,
           "showland": true,
           "subunitcolor": "white"
          },
          "hoverlabel": {
           "align": "left"
          },
          "hovermode": "closest",
          "mapbox": {
           "style": "light"
          },
          "paper_bgcolor": "white",
          "plot_bgcolor": "#E5ECF6",
          "polar": {
           "angularaxis": {
            "gridcolor": "white",
            "linecolor": "white",
            "ticks": ""
           },
           "bgcolor": "#E5ECF6",
           "radialaxis": {
            "gridcolor": "white",
            "linecolor": "white",
            "ticks": ""
           }
          },
          "scene": {
           "xaxis": {
            "backgroundcolor": "#E5ECF6",
            "gridcolor": "white",
            "gridwidth": 2,
            "linecolor": "white",
            "showbackground": true,
            "ticks": "",
            "zerolinecolor": "white"
           },
           "yaxis": {
            "backgroundcolor": "#E5ECF6",
            "gridcolor": "white",
            "gridwidth": 2,
            "linecolor": "white",
            "showbackground": true,
            "ticks": "",
            "zerolinecolor": "white"
           },
           "zaxis": {
            "backgroundcolor": "#E5ECF6",
            "gridcolor": "white",
            "gridwidth": 2,
            "linecolor": "white",
            "showbackground": true,
            "ticks": "",
            "zerolinecolor": "white"
           }
          },
          "shapedefaults": {
           "line": {
            "color": "#2a3f5f"
           }
          },
          "ternary": {
           "aaxis": {
            "gridcolor": "white",
            "linecolor": "white",
            "ticks": ""
           },
           "baxis": {
            "gridcolor": "white",
            "linecolor": "white",
            "ticks": ""
           },
           "bgcolor": "#E5ECF6",
           "caxis": {
            "gridcolor": "white",
            "linecolor": "white",
            "ticks": ""
           }
          },
          "title": {
           "x": 0.05
          },
          "xaxis": {
           "automargin": true,
           "gridcolor": "white",
           "linecolor": "white",
           "ticks": "",
           "title": {
            "standoff": 15
           },
           "zerolinecolor": "white",
           "zerolinewidth": 2
          },
          "yaxis": {
           "automargin": true,
           "gridcolor": "white",
           "linecolor": "white",
           "ticks": "",
           "title": {
            "standoff": 15
           },
           "zerolinecolor": "white",
           "zerolinewidth": 2
          }
         }
        },
        "title": {
         "text": "Average of Total Active Minutes"
        }
       }
      },
      "text/html": [
       "<div>                            <div id=\"744a2657-7251-43ca-a0c5-ee0bd7e5dc7f\" class=\"plotly-graph-div\" style=\"height:525px; width:100%;\"></div>            <script type=\"text/javascript\">                require([\"plotly\"], function(Plotly) {                    window.PLOTLYENV=window.PLOTLYENV || {};                                    if (document.getElementById(\"744a2657-7251-43ca-a0c5-ee0bd7e5dc7f\")) {                    Plotly.newPlot(                        \"744a2657-7251-43ca-a0c5-ee0bd7e5dc7f\",                        [{\"domain\":{\"x\":[0.0,1.0],\"y\":[0.0,1.0]},\"hovertemplate\":\"index=%{label}<br>value=%{value}<extra></extra>\",\"labels\":[\"VeryActiveMinutes\",\"FairlyActiveMinutes\",\"LightlyActiveMinutes\",\"SedentaryMinutes\"],\"legendgroup\":\"\",\"name\":\"\",\"showlegend\":true,\"values\":[21.164893617021278,13.564893617021276,192.8127659574468,991.2106382978724],\"type\":\"pie\"}],                        {\"template\":{\"data\":{\"histogram2dcontour\":[{\"type\":\"histogram2dcontour\",\"colorbar\":{\"outlinewidth\":0,\"ticks\":\"\"},\"colorscale\":[[0.0,\"#0d0887\"],[0.1111111111111111,\"#46039f\"],[0.2222222222222222,\"#7201a8\"],[0.3333333333333333,\"#9c179e\"],[0.4444444444444444,\"#bd3786\"],[0.5555555555555556,\"#d8576b\"],[0.6666666666666666,\"#ed7953\"],[0.7777777777777778,\"#fb9f3a\"],[0.8888888888888888,\"#fdca26\"],[1.0,\"#f0f921\"]]}],\"choropleth\":[{\"type\":\"choropleth\",\"colorbar\":{\"outlinewidth\":0,\"ticks\":\"\"}}],\"histogram2d\":[{\"type\":\"histogram2d\",\"colorbar\":{\"outlinewidth\":0,\"ticks\":\"\"},\"colorscale\":[[0.0,\"#0d0887\"],[0.1111111111111111,\"#46039f\"],[0.2222222222222222,\"#7201a8\"],[0.3333333333333333,\"#9c179e\"],[0.4444444444444444,\"#bd3786\"],[0.5555555555555556,\"#d8576b\"],[0.6666666666666666,\"#ed7953\"],[0.7777777777777778,\"#fb9f3a\"],[0.8888888888888888,\"#fdca26\"],[1.0,\"#f0f921\"]]}],\"heatmap\":[{\"type\":\"heatmap\",\"colorbar\":{\"outlinewidth\":0,\"ticks\":\"\"},\"colorscale\":[[0.0,\"#0d0887\"],[0.1111111111111111,\"#46039f\"],[0.2222222222222222,\"#7201a8\"],[0.3333333333333333,\"#9c179e\"],[0.4444444444444444,\"#bd3786\"],[0.5555555555555556,\"#d8576b\"],[0.6666666666666666,\"#ed7953\"],[0.7777777777777778,\"#fb9f3a\"],[0.8888888888888888,\"#fdca26\"],[1.0,\"#f0f921\"]]}],\"heatmapgl\":[{\"type\":\"heatmapgl\",\"colorbar\":{\"outlinewidth\":0,\"ticks\":\"\"},\"colorscale\":[[0.0,\"#0d0887\"],[0.1111111111111111,\"#46039f\"],[0.2222222222222222,\"#7201a8\"],[0.3333333333333333,\"#9c179e\"],[0.4444444444444444,\"#bd3786\"],[0.5555555555555556,\"#d8576b\"],[0.6666666666666666,\"#ed7953\"],[0.7777777777777778,\"#fb9f3a\"],[0.8888888888888888,\"#fdca26\"],[1.0,\"#f0f921\"]]}],\"contourcarpet\":[{\"type\":\"contourcarpet\",\"colorbar\":{\"outlinewidth\":0,\"ticks\":\"\"}}],\"contour\":[{\"type\":\"contour\",\"colorbar\":{\"outlinewidth\":0,\"ticks\":\"\"},\"colorscale\":[[0.0,\"#0d0887\"],[0.1111111111111111,\"#46039f\"],[0.2222222222222222,\"#7201a8\"],[0.3333333333333333,\"#9c179e\"],[0.4444444444444444,\"#bd3786\"],[0.5555555555555556,\"#d8576b\"],[0.6666666666666666,\"#ed7953\"],[0.7777777777777778,\"#fb9f3a\"],[0.8888888888888888,\"#fdca26\"],[1.0,\"#f0f921\"]]}],\"surface\":[{\"type\":\"surface\",\"colorbar\":{\"outlinewidth\":0,\"ticks\":\"\"},\"colorscale\":[[0.0,\"#0d0887\"],[0.1111111111111111,\"#46039f\"],[0.2222222222222222,\"#7201a8\"],[0.3333333333333333,\"#9c179e\"],[0.4444444444444444,\"#bd3786\"],[0.5555555555555556,\"#d8576b\"],[0.6666666666666666,\"#ed7953\"],[0.7777777777777778,\"#fb9f3a\"],[0.8888888888888888,\"#fdca26\"],[1.0,\"#f0f921\"]]}],\"mesh3d\":[{\"type\":\"mesh3d\",\"colorbar\":{\"outlinewidth\":0,\"ticks\":\"\"}}],\"scatter\":[{\"fillpattern\":{\"fillmode\":\"overlay\",\"size\":10,\"solidity\":0.2},\"type\":\"scatter\"}],\"parcoords\":[{\"type\":\"parcoords\",\"line\":{\"colorbar\":{\"outlinewidth\":0,\"ticks\":\"\"}}}],\"scatterpolargl\":[{\"type\":\"scatterpolargl\",\"marker\":{\"colorbar\":{\"outlinewidth\":0,\"ticks\":\"\"}}}],\"bar\":[{\"error_x\":{\"color\":\"#2a3f5f\"},\"error_y\":{\"color\":\"#2a3f5f\"},\"marker\":{\"line\":{\"color\":\"#E5ECF6\",\"width\":0.5},\"pattern\":{\"fillmode\":\"overlay\",\"size\":10,\"solidity\":0.2}},\"type\":\"bar\"}],\"scattergeo\":[{\"type\":\"scattergeo\",\"marker\":{\"colorbar\":{\"outlinewidth\":0,\"ticks\":\"\"}}}],\"scatterpolar\":[{\"type\":\"scatterpolar\",\"marker\":{\"colorbar\":{\"outlinewidth\":0,\"ticks\":\"\"}}}],\"histogram\":[{\"marker\":{\"pattern\":{\"fillmode\":\"overlay\",\"size\":10,\"solidity\":0.2}},\"type\":\"histogram\"}],\"scattergl\":[{\"type\":\"scattergl\",\"marker\":{\"colorbar\":{\"outlinewidth\":0,\"ticks\":\"\"}}}],\"scatter3d\":[{\"type\":\"scatter3d\",\"line\":{\"colorbar\":{\"outlinewidth\":0,\"ticks\":\"\"}},\"marker\":{\"colorbar\":{\"outlinewidth\":0,\"ticks\":\"\"}}}],\"scattermapbox\":[{\"type\":\"scattermapbox\",\"marker\":{\"colorbar\":{\"outlinewidth\":0,\"ticks\":\"\"}}}],\"scatterternary\":[{\"type\":\"scatterternary\",\"marker\":{\"colorbar\":{\"outlinewidth\":0,\"ticks\":\"\"}}}],\"scattercarpet\":[{\"type\":\"scattercarpet\",\"marker\":{\"colorbar\":{\"outlinewidth\":0,\"ticks\":\"\"}}}],\"carpet\":[{\"aaxis\":{\"endlinecolor\":\"#2a3f5f\",\"gridcolor\":\"white\",\"linecolor\":\"white\",\"minorgridcolor\":\"white\",\"startlinecolor\":\"#2a3f5f\"},\"baxis\":{\"endlinecolor\":\"#2a3f5f\",\"gridcolor\":\"white\",\"linecolor\":\"white\",\"minorgridcolor\":\"white\",\"startlinecolor\":\"#2a3f5f\"},\"type\":\"carpet\"}],\"table\":[{\"cells\":{\"fill\":{\"color\":\"#EBF0F8\"},\"line\":{\"color\":\"white\"}},\"header\":{\"fill\":{\"color\":\"#C8D4E3\"},\"line\":{\"color\":\"white\"}},\"type\":\"table\"}],\"barpolar\":[{\"marker\":{\"line\":{\"color\":\"#E5ECF6\",\"width\":0.5},\"pattern\":{\"fillmode\":\"overlay\",\"size\":10,\"solidity\":0.2}},\"type\":\"barpolar\"}],\"pie\":[{\"automargin\":true,\"type\":\"pie\"}]},\"layout\":{\"autotypenumbers\":\"strict\",\"colorway\":[\"#636efa\",\"#EF553B\",\"#00cc96\",\"#ab63fa\",\"#FFA15A\",\"#19d3f3\",\"#FF6692\",\"#B6E880\",\"#FF97FF\",\"#FECB52\"],\"font\":{\"color\":\"#2a3f5f\"},\"hovermode\":\"closest\",\"hoverlabel\":{\"align\":\"left\"},\"paper_bgcolor\":\"white\",\"plot_bgcolor\":\"#E5ECF6\",\"polar\":{\"bgcolor\":\"#E5ECF6\",\"angularaxis\":{\"gridcolor\":\"white\",\"linecolor\":\"white\",\"ticks\":\"\"},\"radialaxis\":{\"gridcolor\":\"white\",\"linecolor\":\"white\",\"ticks\":\"\"}},\"ternary\":{\"bgcolor\":\"#E5ECF6\",\"aaxis\":{\"gridcolor\":\"white\",\"linecolor\":\"white\",\"ticks\":\"\"},\"baxis\":{\"gridcolor\":\"white\",\"linecolor\":\"white\",\"ticks\":\"\"},\"caxis\":{\"gridcolor\":\"white\",\"linecolor\":\"white\",\"ticks\":\"\"}},\"coloraxis\":{\"colorbar\":{\"outlinewidth\":0,\"ticks\":\"\"}},\"colorscale\":{\"sequential\":[[0.0,\"#0d0887\"],[0.1111111111111111,\"#46039f\"],[0.2222222222222222,\"#7201a8\"],[0.3333333333333333,\"#9c179e\"],[0.4444444444444444,\"#bd3786\"],[0.5555555555555556,\"#d8576b\"],[0.6666666666666666,\"#ed7953\"],[0.7777777777777778,\"#fb9f3a\"],[0.8888888888888888,\"#fdca26\"],[1.0,\"#f0f921\"]],\"sequentialminus\":[[0.0,\"#0d0887\"],[0.1111111111111111,\"#46039f\"],[0.2222222222222222,\"#7201a8\"],[0.3333333333333333,\"#9c179e\"],[0.4444444444444444,\"#bd3786\"],[0.5555555555555556,\"#d8576b\"],[0.6666666666666666,\"#ed7953\"],[0.7777777777777778,\"#fb9f3a\"],[0.8888888888888888,\"#fdca26\"],[1.0,\"#f0f921\"]],\"diverging\":[[0,\"#8e0152\"],[0.1,\"#c51b7d\"],[0.2,\"#de77ae\"],[0.3,\"#f1b6da\"],[0.4,\"#fde0ef\"],[0.5,\"#f7f7f7\"],[0.6,\"#e6f5d0\"],[0.7,\"#b8e186\"],[0.8,\"#7fbc41\"],[0.9,\"#4d9221\"],[1,\"#276419\"]]},\"xaxis\":{\"gridcolor\":\"white\",\"linecolor\":\"white\",\"ticks\":\"\",\"title\":{\"standoff\":15},\"zerolinecolor\":\"white\",\"automargin\":true,\"zerolinewidth\":2},\"yaxis\":{\"gridcolor\":\"white\",\"linecolor\":\"white\",\"ticks\":\"\",\"title\":{\"standoff\":15},\"zerolinecolor\":\"white\",\"automargin\":true,\"zerolinewidth\":2},\"scene\":{\"xaxis\":{\"backgroundcolor\":\"#E5ECF6\",\"gridcolor\":\"white\",\"linecolor\":\"white\",\"showbackground\":true,\"ticks\":\"\",\"zerolinecolor\":\"white\",\"gridwidth\":2},\"yaxis\":{\"backgroundcolor\":\"#E5ECF6\",\"gridcolor\":\"white\",\"linecolor\":\"white\",\"showbackground\":true,\"ticks\":\"\",\"zerolinecolor\":\"white\",\"gridwidth\":2},\"zaxis\":{\"backgroundcolor\":\"#E5ECF6\",\"gridcolor\":\"white\",\"linecolor\":\"white\",\"showbackground\":true,\"ticks\":\"\",\"zerolinecolor\":\"white\",\"gridwidth\":2}},\"shapedefaults\":{\"line\":{\"color\":\"#2a3f5f\"}},\"annotationdefaults\":{\"arrowcolor\":\"#2a3f5f\",\"arrowhead\":0,\"arrowwidth\":1},\"geo\":{\"bgcolor\":\"white\",\"landcolor\":\"#E5ECF6\",\"subunitcolor\":\"white\",\"showland\":true,\"showlakes\":true,\"lakecolor\":\"white\"},\"title\":{\"x\":0.05},\"mapbox\":{\"style\":\"light\"}}},\"legend\":{\"tracegroupgap\":0},\"title\":{\"text\":\"Average of Total Active Minutes\"}},                        {\"responsive\": true}                    ).then(function(){\n",
       "                            \n",
       "var gd = document.getElementById('744a2657-7251-43ca-a0c5-ee0bd7e5dc7f');\n",
       "var x = new MutationObserver(function (mutations, observer) {{\n",
       "        var display = window.getComputedStyle(gd).display;\n",
       "        if (!display || display === 'none') {{\n",
       "            console.log([gd, 'removed!']);\n",
       "            Plotly.purge(gd);\n",
       "            observer.disconnect();\n",
       "        }}\n",
       "}});\n",
       "\n",
       "// Listen for the removal of the full notebook cells\n",
       "var notebookContainer = gd.closest('#notebook-container');\n",
       "if (notebookContainer) {{\n",
       "    x.observe(notebookContainer, {childList: true});\n",
       "}}\n",
       "\n",
       "// Listen for the clearing of the current output cell\n",
       "var outputEl = gd.closest('.output');\n",
       "if (outputEl) {{\n",
       "    x.observe(outputEl, {childList: true});\n",
       "}}\n",
       "\n",
       "                        })                };                });            </script>        </div>"
      ]
     },
     "metadata": {},
     "output_type": "display_data"
    },
    {
     "data": {
      "application/vnd.plotly.v1+json": {
       "config": {
        "plotlyServerURL": "https://plot.ly"
       },
       "data": [
        {
         "hoverinfo": "label+percent",
         "labels": [
          "VeryActiveMinutes",
          "FairlyActiveMinutes",
          "LightlyActiveMinutes",
          "SedentaryMinutes"
         ],
         "marker": {
          "line": {
           "color": "black",
           "width": 3
          }
         },
         "textfont": {
          "size": 30
         },
         "textinfo": "value",
         "type": "pie",
         "values": [
          21.164893617021278,
          13.564893617021276,
          192.8127659574468,
          991.2106382978724
         ]
        }
       ],
       "layout": {
        "template": {
         "data": {
          "bar": [
           {
            "error_x": {
             "color": "#2a3f5f"
            },
            "error_y": {
             "color": "#2a3f5f"
            },
            "marker": {
             "line": {
              "color": "#E5ECF6",
              "width": 0.5
             },
             "pattern": {
              "fillmode": "overlay",
              "size": 10,
              "solidity": 0.2
             }
            },
            "type": "bar"
           }
          ],
          "barpolar": [
           {
            "marker": {
             "line": {
              "color": "#E5ECF6",
              "width": 0.5
             },
             "pattern": {
              "fillmode": "overlay",
              "size": 10,
              "solidity": 0.2
             }
            },
            "type": "barpolar"
           }
          ],
          "carpet": [
           {
            "aaxis": {
             "endlinecolor": "#2a3f5f",
             "gridcolor": "white",
             "linecolor": "white",
             "minorgridcolor": "white",
             "startlinecolor": "#2a3f5f"
            },
            "baxis": {
             "endlinecolor": "#2a3f5f",
             "gridcolor": "white",
             "linecolor": "white",
             "minorgridcolor": "white",
             "startlinecolor": "#2a3f5f"
            },
            "type": "carpet"
           }
          ],
          "choropleth": [
           {
            "colorbar": {
             "outlinewidth": 0,
             "ticks": ""
            },
            "type": "choropleth"
           }
          ],
          "contour": [
           {
            "colorbar": {
             "outlinewidth": 0,
             "ticks": ""
            },
            "colorscale": [
             [
              0,
              "#0d0887"
             ],
             [
              0.1111111111111111,
              "#46039f"
             ],
             [
              0.2222222222222222,
              "#7201a8"
             ],
             [
              0.3333333333333333,
              "#9c179e"
             ],
             [
              0.4444444444444444,
              "#bd3786"
             ],
             [
              0.5555555555555556,
              "#d8576b"
             ],
             [
              0.6666666666666666,
              "#ed7953"
             ],
             [
              0.7777777777777778,
              "#fb9f3a"
             ],
             [
              0.8888888888888888,
              "#fdca26"
             ],
             [
              1,
              "#f0f921"
             ]
            ],
            "type": "contour"
           }
          ],
          "contourcarpet": [
           {
            "colorbar": {
             "outlinewidth": 0,
             "ticks": ""
            },
            "type": "contourcarpet"
           }
          ],
          "heatmap": [
           {
            "colorbar": {
             "outlinewidth": 0,
             "ticks": ""
            },
            "colorscale": [
             [
              0,
              "#0d0887"
             ],
             [
              0.1111111111111111,
              "#46039f"
             ],
             [
              0.2222222222222222,
              "#7201a8"
             ],
             [
              0.3333333333333333,
              "#9c179e"
             ],
             [
              0.4444444444444444,
              "#bd3786"
             ],
             [
              0.5555555555555556,
              "#d8576b"
             ],
             [
              0.6666666666666666,
              "#ed7953"
             ],
             [
              0.7777777777777778,
              "#fb9f3a"
             ],
             [
              0.8888888888888888,
              "#fdca26"
             ],
             [
              1,
              "#f0f921"
             ]
            ],
            "type": "heatmap"
           }
          ],
          "heatmapgl": [
           {
            "colorbar": {
             "outlinewidth": 0,
             "ticks": ""
            },
            "colorscale": [
             [
              0,
              "#0d0887"
             ],
             [
              0.1111111111111111,
              "#46039f"
             ],
             [
              0.2222222222222222,
              "#7201a8"
             ],
             [
              0.3333333333333333,
              "#9c179e"
             ],
             [
              0.4444444444444444,
              "#bd3786"
             ],
             [
              0.5555555555555556,
              "#d8576b"
             ],
             [
              0.6666666666666666,
              "#ed7953"
             ],
             [
              0.7777777777777778,
              "#fb9f3a"
             ],
             [
              0.8888888888888888,
              "#fdca26"
             ],
             [
              1,
              "#f0f921"
             ]
            ],
            "type": "heatmapgl"
           }
          ],
          "histogram": [
           {
            "marker": {
             "pattern": {
              "fillmode": "overlay",
              "size": 10,
              "solidity": 0.2
             }
            },
            "type": "histogram"
           }
          ],
          "histogram2d": [
           {
            "colorbar": {
             "outlinewidth": 0,
             "ticks": ""
            },
            "colorscale": [
             [
              0,
              "#0d0887"
             ],
             [
              0.1111111111111111,
              "#46039f"
             ],
             [
              0.2222222222222222,
              "#7201a8"
             ],
             [
              0.3333333333333333,
              "#9c179e"
             ],
             [
              0.4444444444444444,
              "#bd3786"
             ],
             [
              0.5555555555555556,
              "#d8576b"
             ],
             [
              0.6666666666666666,
              "#ed7953"
             ],
             [
              0.7777777777777778,
              "#fb9f3a"
             ],
             [
              0.8888888888888888,
              "#fdca26"
             ],
             [
              1,
              "#f0f921"
             ]
            ],
            "type": "histogram2d"
           }
          ],
          "histogram2dcontour": [
           {
            "colorbar": {
             "outlinewidth": 0,
             "ticks": ""
            },
            "colorscale": [
             [
              0,
              "#0d0887"
             ],
             [
              0.1111111111111111,
              "#46039f"
             ],
             [
              0.2222222222222222,
              "#7201a8"
             ],
             [
              0.3333333333333333,
              "#9c179e"
             ],
             [
              0.4444444444444444,
              "#bd3786"
             ],
             [
              0.5555555555555556,
              "#d8576b"
             ],
             [
              0.6666666666666666,
              "#ed7953"
             ],
             [
              0.7777777777777778,
              "#fb9f3a"
             ],
             [
              0.8888888888888888,
              "#fdca26"
             ],
             [
              1,
              "#f0f921"
             ]
            ],
            "type": "histogram2dcontour"
           }
          ],
          "mesh3d": [
           {
            "colorbar": {
             "outlinewidth": 0,
             "ticks": ""
            },
            "type": "mesh3d"
           }
          ],
          "parcoords": [
           {
            "line": {
             "colorbar": {
              "outlinewidth": 0,
              "ticks": ""
             }
            },
            "type": "parcoords"
           }
          ],
          "pie": [
           {
            "automargin": true,
            "type": "pie"
           }
          ],
          "scatter": [
           {
            "fillpattern": {
             "fillmode": "overlay",
             "size": 10,
             "solidity": 0.2
            },
            "type": "scatter"
           }
          ],
          "scatter3d": [
           {
            "line": {
             "colorbar": {
              "outlinewidth": 0,
              "ticks": ""
             }
            },
            "marker": {
             "colorbar": {
              "outlinewidth": 0,
              "ticks": ""
             }
            },
            "type": "scatter3d"
           }
          ],
          "scattercarpet": [
           {
            "marker": {
             "colorbar": {
              "outlinewidth": 0,
              "ticks": ""
             }
            },
            "type": "scattercarpet"
           }
          ],
          "scattergeo": [
           {
            "marker": {
             "colorbar": {
              "outlinewidth": 0,
              "ticks": ""
             }
            },
            "type": "scattergeo"
           }
          ],
          "scattergl": [
           {
            "marker": {
             "colorbar": {
              "outlinewidth": 0,
              "ticks": ""
             }
            },
            "type": "scattergl"
           }
          ],
          "scattermapbox": [
           {
            "marker": {
             "colorbar": {
              "outlinewidth": 0,
              "ticks": ""
             }
            },
            "type": "scattermapbox"
           }
          ],
          "scatterpolar": [
           {
            "marker": {
             "colorbar": {
              "outlinewidth": 0,
              "ticks": ""
             }
            },
            "type": "scatterpolar"
           }
          ],
          "scatterpolargl": [
           {
            "marker": {
             "colorbar": {
              "outlinewidth": 0,
              "ticks": ""
             }
            },
            "type": "scatterpolargl"
           }
          ],
          "scatterternary": [
           {
            "marker": {
             "colorbar": {
              "outlinewidth": 0,
              "ticks": ""
             }
            },
            "type": "scatterternary"
           }
          ],
          "surface": [
           {
            "colorbar": {
             "outlinewidth": 0,
             "ticks": ""
            },
            "colorscale": [
             [
              0,
              "#0d0887"
             ],
             [
              0.1111111111111111,
              "#46039f"
             ],
             [
              0.2222222222222222,
              "#7201a8"
             ],
             [
              0.3333333333333333,
              "#9c179e"
             ],
             [
              0.4444444444444444,
              "#bd3786"
             ],
             [
              0.5555555555555556,
              "#d8576b"
             ],
             [
              0.6666666666666666,
              "#ed7953"
             ],
             [
              0.7777777777777778,
              "#fb9f3a"
             ],
             [
              0.8888888888888888,
              "#fdca26"
             ],
             [
              1,
              "#f0f921"
             ]
            ],
            "type": "surface"
           }
          ],
          "table": [
           {
            "cells": {
             "fill": {
              "color": "#EBF0F8"
             },
             "line": {
              "color": "white"
             }
            },
            "header": {
             "fill": {
              "color": "#C8D4E3"
             },
             "line": {
              "color": "white"
             }
            },
            "type": "table"
           }
          ]
         },
         "layout": {
          "annotationdefaults": {
           "arrowcolor": "#2a3f5f",
           "arrowhead": 0,
           "arrowwidth": 1
          },
          "autotypenumbers": "strict",
          "coloraxis": {
           "colorbar": {
            "outlinewidth": 0,
            "ticks": ""
           }
          },
          "colorscale": {
           "diverging": [
            [
             0,
             "#8e0152"
            ],
            [
             0.1,
             "#c51b7d"
            ],
            [
             0.2,
             "#de77ae"
            ],
            [
             0.3,
             "#f1b6da"
            ],
            [
             0.4,
             "#fde0ef"
            ],
            [
             0.5,
             "#f7f7f7"
            ],
            [
             0.6,
             "#e6f5d0"
            ],
            [
             0.7,
             "#b8e186"
            ],
            [
             0.8,
             "#7fbc41"
            ],
            [
             0.9,
             "#4d9221"
            ],
            [
             1,
             "#276419"
            ]
           ],
           "sequential": [
            [
             0,
             "#0d0887"
            ],
            [
             0.1111111111111111,
             "#46039f"
            ],
            [
             0.2222222222222222,
             "#7201a8"
            ],
            [
             0.3333333333333333,
             "#9c179e"
            ],
            [
             0.4444444444444444,
             "#bd3786"
            ],
            [
             0.5555555555555556,
             "#d8576b"
            ],
            [
             0.6666666666666666,
             "#ed7953"
            ],
            [
             0.7777777777777778,
             "#fb9f3a"
            ],
            [
             0.8888888888888888,
             "#fdca26"
            ],
            [
             1,
             "#f0f921"
            ]
           ],
           "sequentialminus": [
            [
             0,
             "#0d0887"
            ],
            [
             0.1111111111111111,
             "#46039f"
            ],
            [
             0.2222222222222222,
             "#7201a8"
            ],
            [
             0.3333333333333333,
             "#9c179e"
            ],
            [
             0.4444444444444444,
             "#bd3786"
            ],
            [
             0.5555555555555556,
             "#d8576b"
            ],
            [
             0.6666666666666666,
             "#ed7953"
            ],
            [
             0.7777777777777778,
             "#fb9f3a"
            ],
            [
             0.8888888888888888,
             "#fdca26"
            ],
            [
             1,
             "#f0f921"
            ]
           ]
          },
          "colorway": [
           "#636efa",
           "#EF553B",
           "#00cc96",
           "#ab63fa",
           "#FFA15A",
           "#19d3f3",
           "#FF6692",
           "#B6E880",
           "#FF97FF",
           "#FECB52"
          ],
          "font": {
           "color": "#2a3f5f"
          },
          "geo": {
           "bgcolor": "white",
           "lakecolor": "white",
           "landcolor": "#E5ECF6",
           "showlakes": true,
           "showland": true,
           "subunitcolor": "white"
          },
          "hoverlabel": {
           "align": "left"
          },
          "hovermode": "closest",
          "mapbox": {
           "style": "light"
          },
          "paper_bgcolor": "white",
          "plot_bgcolor": "#E5ECF6",
          "polar": {
           "angularaxis": {
            "gridcolor": "white",
            "linecolor": "white",
            "ticks": ""
           },
           "bgcolor": "#E5ECF6",
           "radialaxis": {
            "gridcolor": "white",
            "linecolor": "white",
            "ticks": ""
           }
          },
          "scene": {
           "xaxis": {
            "backgroundcolor": "#E5ECF6",
            "gridcolor": "white",
            "gridwidth": 2,
            "linecolor": "white",
            "showbackground": true,
            "ticks": "",
            "zerolinecolor": "white"
           },
           "yaxis": {
            "backgroundcolor": "#E5ECF6",
            "gridcolor": "white",
            "gridwidth": 2,
            "linecolor": "white",
            "showbackground": true,
            "ticks": "",
            "zerolinecolor": "white"
           },
           "zaxis": {
            "backgroundcolor": "#E5ECF6",
            "gridcolor": "white",
            "gridwidth": 2,
            "linecolor": "white",
            "showbackground": true,
            "ticks": "",
            "zerolinecolor": "white"
           }
          },
          "shapedefaults": {
           "line": {
            "color": "#2a3f5f"
           }
          },
          "ternary": {
           "aaxis": {
            "gridcolor": "white",
            "linecolor": "white",
            "ticks": ""
           },
           "baxis": {
            "gridcolor": "white",
            "linecolor": "white",
            "ticks": ""
           },
           "bgcolor": "#E5ECF6",
           "caxis": {
            "gridcolor": "white",
            "linecolor": "white",
            "ticks": ""
           }
          },
          "title": {
           "x": 0.05
          },
          "xaxis": {
           "automargin": true,
           "gridcolor": "white",
           "linecolor": "white",
           "ticks": "",
           "title": {
            "standoff": 15
           },
           "zerolinecolor": "white",
           "zerolinewidth": 2
          },
          "yaxis": {
           "automargin": true,
           "gridcolor": "white",
           "linecolor": "white",
           "ticks": "",
           "title": {
            "standoff": 15
           },
           "zerolinecolor": "white",
           "zerolinewidth": 2
          }
         }
        },
        "title": {
         "text": "Average of Total Active Minutes"
        }
       }
      },
      "text/html": [
       "<div>                            <div id=\"a3a6958d-451a-4e30-a2aa-2131ed4512f2\" class=\"plotly-graph-div\" style=\"height:525px; width:100%;\"></div>            <script type=\"text/javascript\">                require([\"plotly\"], function(Plotly) {                    window.PLOTLYENV=window.PLOTLYENV || {};                                    if (document.getElementById(\"a3a6958d-451a-4e30-a2aa-2131ed4512f2\")) {                    Plotly.newPlot(                        \"a3a6958d-451a-4e30-a2aa-2131ed4512f2\",                        [{\"labels\":[\"VeryActiveMinutes\",\"FairlyActiveMinutes\",\"LightlyActiveMinutes\",\"SedentaryMinutes\"],\"values\":[21.164893617021278,13.564893617021276,192.8127659574468,991.2106382978724],\"type\":\"pie\",\"textfont\":{\"size\":30},\"marker\":{\"line\":{\"color\":\"black\",\"width\":3}},\"hoverinfo\":\"label+percent\",\"textinfo\":\"value\"}],                        {\"template\":{\"data\":{\"histogram2dcontour\":[{\"type\":\"histogram2dcontour\",\"colorbar\":{\"outlinewidth\":0,\"ticks\":\"\"},\"colorscale\":[[0.0,\"#0d0887\"],[0.1111111111111111,\"#46039f\"],[0.2222222222222222,\"#7201a8\"],[0.3333333333333333,\"#9c179e\"],[0.4444444444444444,\"#bd3786\"],[0.5555555555555556,\"#d8576b\"],[0.6666666666666666,\"#ed7953\"],[0.7777777777777778,\"#fb9f3a\"],[0.8888888888888888,\"#fdca26\"],[1.0,\"#f0f921\"]]}],\"choropleth\":[{\"type\":\"choropleth\",\"colorbar\":{\"outlinewidth\":0,\"ticks\":\"\"}}],\"histogram2d\":[{\"type\":\"histogram2d\",\"colorbar\":{\"outlinewidth\":0,\"ticks\":\"\"},\"colorscale\":[[0.0,\"#0d0887\"],[0.1111111111111111,\"#46039f\"],[0.2222222222222222,\"#7201a8\"],[0.3333333333333333,\"#9c179e\"],[0.4444444444444444,\"#bd3786\"],[0.5555555555555556,\"#d8576b\"],[0.6666666666666666,\"#ed7953\"],[0.7777777777777778,\"#fb9f3a\"],[0.8888888888888888,\"#fdca26\"],[1.0,\"#f0f921\"]]}],\"heatmap\":[{\"type\":\"heatmap\",\"colorbar\":{\"outlinewidth\":0,\"ticks\":\"\"},\"colorscale\":[[0.0,\"#0d0887\"],[0.1111111111111111,\"#46039f\"],[0.2222222222222222,\"#7201a8\"],[0.3333333333333333,\"#9c179e\"],[0.4444444444444444,\"#bd3786\"],[0.5555555555555556,\"#d8576b\"],[0.6666666666666666,\"#ed7953\"],[0.7777777777777778,\"#fb9f3a\"],[0.8888888888888888,\"#fdca26\"],[1.0,\"#f0f921\"]]}],\"heatmapgl\":[{\"type\":\"heatmapgl\",\"colorbar\":{\"outlinewidth\":0,\"ticks\":\"\"},\"colorscale\":[[0.0,\"#0d0887\"],[0.1111111111111111,\"#46039f\"],[0.2222222222222222,\"#7201a8\"],[0.3333333333333333,\"#9c179e\"],[0.4444444444444444,\"#bd3786\"],[0.5555555555555556,\"#d8576b\"],[0.6666666666666666,\"#ed7953\"],[0.7777777777777778,\"#fb9f3a\"],[0.8888888888888888,\"#fdca26\"],[1.0,\"#f0f921\"]]}],\"contourcarpet\":[{\"type\":\"contourcarpet\",\"colorbar\":{\"outlinewidth\":0,\"ticks\":\"\"}}],\"contour\":[{\"type\":\"contour\",\"colorbar\":{\"outlinewidth\":0,\"ticks\":\"\"},\"colorscale\":[[0.0,\"#0d0887\"],[0.1111111111111111,\"#46039f\"],[0.2222222222222222,\"#7201a8\"],[0.3333333333333333,\"#9c179e\"],[0.4444444444444444,\"#bd3786\"],[0.5555555555555556,\"#d8576b\"],[0.6666666666666666,\"#ed7953\"],[0.7777777777777778,\"#fb9f3a\"],[0.8888888888888888,\"#fdca26\"],[1.0,\"#f0f921\"]]}],\"surface\":[{\"type\":\"surface\",\"colorbar\":{\"outlinewidth\":0,\"ticks\":\"\"},\"colorscale\":[[0.0,\"#0d0887\"],[0.1111111111111111,\"#46039f\"],[0.2222222222222222,\"#7201a8\"],[0.3333333333333333,\"#9c179e\"],[0.4444444444444444,\"#bd3786\"],[0.5555555555555556,\"#d8576b\"],[0.6666666666666666,\"#ed7953\"],[0.7777777777777778,\"#fb9f3a\"],[0.8888888888888888,\"#fdca26\"],[1.0,\"#f0f921\"]]}],\"mesh3d\":[{\"type\":\"mesh3d\",\"colorbar\":{\"outlinewidth\":0,\"ticks\":\"\"}}],\"scatter\":[{\"fillpattern\":{\"fillmode\":\"overlay\",\"size\":10,\"solidity\":0.2},\"type\":\"scatter\"}],\"parcoords\":[{\"type\":\"parcoords\",\"line\":{\"colorbar\":{\"outlinewidth\":0,\"ticks\":\"\"}}}],\"scatterpolargl\":[{\"type\":\"scatterpolargl\",\"marker\":{\"colorbar\":{\"outlinewidth\":0,\"ticks\":\"\"}}}],\"bar\":[{\"error_x\":{\"color\":\"#2a3f5f\"},\"error_y\":{\"color\":\"#2a3f5f\"},\"marker\":{\"line\":{\"color\":\"#E5ECF6\",\"width\":0.5},\"pattern\":{\"fillmode\":\"overlay\",\"size\":10,\"solidity\":0.2}},\"type\":\"bar\"}],\"scattergeo\":[{\"type\":\"scattergeo\",\"marker\":{\"colorbar\":{\"outlinewidth\":0,\"ticks\":\"\"}}}],\"scatterpolar\":[{\"type\":\"scatterpolar\",\"marker\":{\"colorbar\":{\"outlinewidth\":0,\"ticks\":\"\"}}}],\"histogram\":[{\"marker\":{\"pattern\":{\"fillmode\":\"overlay\",\"size\":10,\"solidity\":0.2}},\"type\":\"histogram\"}],\"scattergl\":[{\"type\":\"scattergl\",\"marker\":{\"colorbar\":{\"outlinewidth\":0,\"ticks\":\"\"}}}],\"scatter3d\":[{\"type\":\"scatter3d\",\"line\":{\"colorbar\":{\"outlinewidth\":0,\"ticks\":\"\"}},\"marker\":{\"colorbar\":{\"outlinewidth\":0,\"ticks\":\"\"}}}],\"scattermapbox\":[{\"type\":\"scattermapbox\",\"marker\":{\"colorbar\":{\"outlinewidth\":0,\"ticks\":\"\"}}}],\"scatterternary\":[{\"type\":\"scatterternary\",\"marker\":{\"colorbar\":{\"outlinewidth\":0,\"ticks\":\"\"}}}],\"scattercarpet\":[{\"type\":\"scattercarpet\",\"marker\":{\"colorbar\":{\"outlinewidth\":0,\"ticks\":\"\"}}}],\"carpet\":[{\"aaxis\":{\"endlinecolor\":\"#2a3f5f\",\"gridcolor\":\"white\",\"linecolor\":\"white\",\"minorgridcolor\":\"white\",\"startlinecolor\":\"#2a3f5f\"},\"baxis\":{\"endlinecolor\":\"#2a3f5f\",\"gridcolor\":\"white\",\"linecolor\":\"white\",\"minorgridcolor\":\"white\",\"startlinecolor\":\"#2a3f5f\"},\"type\":\"carpet\"}],\"table\":[{\"cells\":{\"fill\":{\"color\":\"#EBF0F8\"},\"line\":{\"color\":\"white\"}},\"header\":{\"fill\":{\"color\":\"#C8D4E3\"},\"line\":{\"color\":\"white\"}},\"type\":\"table\"}],\"barpolar\":[{\"marker\":{\"line\":{\"color\":\"#E5ECF6\",\"width\":0.5},\"pattern\":{\"fillmode\":\"overlay\",\"size\":10,\"solidity\":0.2}},\"type\":\"barpolar\"}],\"pie\":[{\"automargin\":true,\"type\":\"pie\"}]},\"layout\":{\"autotypenumbers\":\"strict\",\"colorway\":[\"#636efa\",\"#EF553B\",\"#00cc96\",\"#ab63fa\",\"#FFA15A\",\"#19d3f3\",\"#FF6692\",\"#B6E880\",\"#FF97FF\",\"#FECB52\"],\"font\":{\"color\":\"#2a3f5f\"},\"hovermode\":\"closest\",\"hoverlabel\":{\"align\":\"left\"},\"paper_bgcolor\":\"white\",\"plot_bgcolor\":\"#E5ECF6\",\"polar\":{\"bgcolor\":\"#E5ECF6\",\"angularaxis\":{\"gridcolor\":\"white\",\"linecolor\":\"white\",\"ticks\":\"\"},\"radialaxis\":{\"gridcolor\":\"white\",\"linecolor\":\"white\",\"ticks\":\"\"}},\"ternary\":{\"bgcolor\":\"#E5ECF6\",\"aaxis\":{\"gridcolor\":\"white\",\"linecolor\":\"white\",\"ticks\":\"\"},\"baxis\":{\"gridcolor\":\"white\",\"linecolor\":\"white\",\"ticks\":\"\"},\"caxis\":{\"gridcolor\":\"white\",\"linecolor\":\"white\",\"ticks\":\"\"}},\"coloraxis\":{\"colorbar\":{\"outlinewidth\":0,\"ticks\":\"\"}},\"colorscale\":{\"sequential\":[[0.0,\"#0d0887\"],[0.1111111111111111,\"#46039f\"],[0.2222222222222222,\"#7201a8\"],[0.3333333333333333,\"#9c179e\"],[0.4444444444444444,\"#bd3786\"],[0.5555555555555556,\"#d8576b\"],[0.6666666666666666,\"#ed7953\"],[0.7777777777777778,\"#fb9f3a\"],[0.8888888888888888,\"#fdca26\"],[1.0,\"#f0f921\"]],\"sequentialminus\":[[0.0,\"#0d0887\"],[0.1111111111111111,\"#46039f\"],[0.2222222222222222,\"#7201a8\"],[0.3333333333333333,\"#9c179e\"],[0.4444444444444444,\"#bd3786\"],[0.5555555555555556,\"#d8576b\"],[0.6666666666666666,\"#ed7953\"],[0.7777777777777778,\"#fb9f3a\"],[0.8888888888888888,\"#fdca26\"],[1.0,\"#f0f921\"]],\"diverging\":[[0,\"#8e0152\"],[0.1,\"#c51b7d\"],[0.2,\"#de77ae\"],[0.3,\"#f1b6da\"],[0.4,\"#fde0ef\"],[0.5,\"#f7f7f7\"],[0.6,\"#e6f5d0\"],[0.7,\"#b8e186\"],[0.8,\"#7fbc41\"],[0.9,\"#4d9221\"],[1,\"#276419\"]]},\"xaxis\":{\"gridcolor\":\"white\",\"linecolor\":\"white\",\"ticks\":\"\",\"title\":{\"standoff\":15},\"zerolinecolor\":\"white\",\"automargin\":true,\"zerolinewidth\":2},\"yaxis\":{\"gridcolor\":\"white\",\"linecolor\":\"white\",\"ticks\":\"\",\"title\":{\"standoff\":15},\"zerolinecolor\":\"white\",\"automargin\":true,\"zerolinewidth\":2},\"scene\":{\"xaxis\":{\"backgroundcolor\":\"#E5ECF6\",\"gridcolor\":\"white\",\"linecolor\":\"white\",\"showbackground\":true,\"ticks\":\"\",\"zerolinecolor\":\"white\",\"gridwidth\":2},\"yaxis\":{\"backgroundcolor\":\"#E5ECF6\",\"gridcolor\":\"white\",\"linecolor\":\"white\",\"showbackground\":true,\"ticks\":\"\",\"zerolinecolor\":\"white\",\"gridwidth\":2},\"zaxis\":{\"backgroundcolor\":\"#E5ECF6\",\"gridcolor\":\"white\",\"linecolor\":\"white\",\"showbackground\":true,\"ticks\":\"\",\"zerolinecolor\":\"white\",\"gridwidth\":2}},\"shapedefaults\":{\"line\":{\"color\":\"#2a3f5f\"}},\"annotationdefaults\":{\"arrowcolor\":\"#2a3f5f\",\"arrowhead\":0,\"arrowwidth\":1},\"geo\":{\"bgcolor\":\"white\",\"landcolor\":\"#E5ECF6\",\"subunitcolor\":\"white\",\"showland\":true,\"showlakes\":true,\"lakecolor\":\"white\"},\"title\":{\"x\":0.05},\"mapbox\":{\"style\":\"light\"}}},\"title\":{\"text\":\"Average of Total Active Minutes\"}},                        {\"responsive\": true}                    ).then(function(){\n",
       "                            \n",
       "var gd = document.getElementById('a3a6958d-451a-4e30-a2aa-2131ed4512f2');\n",
       "var x = new MutationObserver(function (mutations, observer) {{\n",
       "        var display = window.getComputedStyle(gd).display;\n",
       "        if (!display || display === 'none') {{\n",
       "            console.log([gd, 'removed!']);\n",
       "            Plotly.purge(gd);\n",
       "            observer.disconnect();\n",
       "        }}\n",
       "}});\n",
       "\n",
       "// Listen for the removal of the full notebook cells\n",
       "var notebookContainer = gd.closest('#notebook-container');\n",
       "if (notebookContainer) {{\n",
       "    x.observe(notebookContainer, {childList: true});\n",
       "}}\n",
       "\n",
       "// Listen for the clearing of the current output cell\n",
       "var outputEl = gd.closest('.output');\n",
       "if (outputEl) {{\n",
       "    x.observe(outputEl, {childList: true});\n",
       "}}\n",
       "\n",
       "                        })                };                });            </script>        </div>"
      ]
     },
     "metadata": {},
     "output_type": "display_data"
    }
   ],
   "source": [
    "avg_mins = df[['VeryActiveMinutes', 'FairlyActiveMinutes', 'LightlyActiveMinutes', 'SedentaryMinutes']].mean()\n",
    "#labels = ['VeryActiveMinutes', 'FairlyActiveMinutes', 'LightlyActiveMinutes', 'SedentaryMinutes']\n",
    "\n",
    "fig1 = px.pie(avg_mins, values = avg_mins.values, names=avg_mins.index, title = 'Average of Total Active Minutes')\n",
    "fig1.show()\n",
    "\n",
    "\n",
    "fig2 = go.Figure(data=[go.Pie(labels=avg_mins.index, values=avg_mins.values)])\n",
    "fig2.update_layout(title_text='Average of Total Active Minutes')\n",
    "fig2.update_traces(hoverinfo='label+percent', textinfo='value', textfont_size=30,\n",
    "                  marker=dict(line=dict(color='black', width=3)))\n",
    "fig2.show()"
   ]
  },
  {
   "cell_type": "code",
   "execution_count": 28,
   "id": "f7a8803a",
   "metadata": {},
   "outputs": [
    {
     "name": "stdout",
     "output_type": "stream",
     "text": [
      "0        Tuesday\n",
      "1      Wednesday\n",
      "2       Thursday\n",
      "3         Friday\n",
      "4       Saturday\n",
      "         ...    \n",
      "935       Sunday\n",
      "936       Monday\n",
      "937      Tuesday\n",
      "938    Wednesday\n",
      "939     Thursday\n",
      "Name: Day, Length: 940, dtype: object\n"
     ]
    },
    {
     "data": {
      "text/html": [
       "<div>\n",
       "<style scoped>\n",
       "    .dataframe tbody tr th:only-of-type {\n",
       "        vertical-align: middle;\n",
       "    }\n",
       "\n",
       "    .dataframe tbody tr th {\n",
       "        vertical-align: top;\n",
       "    }\n",
       "\n",
       "    .dataframe thead th {\n",
       "        text-align: right;\n",
       "    }\n",
       "</style>\n",
       "<table border=\"1\" class=\"dataframe\">\n",
       "  <thead>\n",
       "    <tr style=\"text-align: right;\">\n",
       "      <th></th>\n",
       "      <th>Id</th>\n",
       "      <th>ActivityDate</th>\n",
       "      <th>TotalSteps</th>\n",
       "      <th>TotalDistance</th>\n",
       "      <th>TrackerDistance</th>\n",
       "      <th>LoggedActivitiesDistance</th>\n",
       "      <th>VeryActiveDistance</th>\n",
       "      <th>ModeratelyActiveDistance</th>\n",
       "      <th>LightActiveDistance</th>\n",
       "      <th>SedentaryActiveDistance</th>\n",
       "      <th>VeryActiveMinutes</th>\n",
       "      <th>FairlyActiveMinutes</th>\n",
       "      <th>LightlyActiveMinutes</th>\n",
       "      <th>SedentaryMinutes</th>\n",
       "      <th>Calories</th>\n",
       "      <th>Total_minutes</th>\n",
       "      <th>Day</th>\n",
       "    </tr>\n",
       "  </thead>\n",
       "  <tbody>\n",
       "    <tr>\n",
       "      <th>0</th>\n",
       "      <td>1503960366</td>\n",
       "      <td>2016-04-12</td>\n",
       "      <td>13162</td>\n",
       "      <td>8.50</td>\n",
       "      <td>8.50</td>\n",
       "      <td>0.0</td>\n",
       "      <td>1.88</td>\n",
       "      <td>0.55</td>\n",
       "      <td>6.06</td>\n",
       "      <td>0.0</td>\n",
       "      <td>25</td>\n",
       "      <td>13</td>\n",
       "      <td>328</td>\n",
       "      <td>728</td>\n",
       "      <td>1985</td>\n",
       "      <td>1094</td>\n",
       "      <td>Tuesday</td>\n",
       "    </tr>\n",
       "    <tr>\n",
       "      <th>1</th>\n",
       "      <td>1503960366</td>\n",
       "      <td>2016-04-13</td>\n",
       "      <td>10735</td>\n",
       "      <td>6.97</td>\n",
       "      <td>6.97</td>\n",
       "      <td>0.0</td>\n",
       "      <td>1.57</td>\n",
       "      <td>0.69</td>\n",
       "      <td>4.71</td>\n",
       "      <td>0.0</td>\n",
       "      <td>21</td>\n",
       "      <td>19</td>\n",
       "      <td>217</td>\n",
       "      <td>776</td>\n",
       "      <td>1797</td>\n",
       "      <td>1033</td>\n",
       "      <td>Wednesday</td>\n",
       "    </tr>\n",
       "    <tr>\n",
       "      <th>2</th>\n",
       "      <td>1503960366</td>\n",
       "      <td>2016-04-14</td>\n",
       "      <td>10460</td>\n",
       "      <td>6.74</td>\n",
       "      <td>6.74</td>\n",
       "      <td>0.0</td>\n",
       "      <td>2.44</td>\n",
       "      <td>0.40</td>\n",
       "      <td>3.91</td>\n",
       "      <td>0.0</td>\n",
       "      <td>30</td>\n",
       "      <td>11</td>\n",
       "      <td>181</td>\n",
       "      <td>1218</td>\n",
       "      <td>1776</td>\n",
       "      <td>1440</td>\n",
       "      <td>Thursday</td>\n",
       "    </tr>\n",
       "    <tr>\n",
       "      <th>3</th>\n",
       "      <td>1503960366</td>\n",
       "      <td>2016-04-15</td>\n",
       "      <td>9762</td>\n",
       "      <td>6.28</td>\n",
       "      <td>6.28</td>\n",
       "      <td>0.0</td>\n",
       "      <td>2.14</td>\n",
       "      <td>1.26</td>\n",
       "      <td>2.83</td>\n",
       "      <td>0.0</td>\n",
       "      <td>29</td>\n",
       "      <td>34</td>\n",
       "      <td>209</td>\n",
       "      <td>726</td>\n",
       "      <td>1745</td>\n",
       "      <td>998</td>\n",
       "      <td>Friday</td>\n",
       "    </tr>\n",
       "    <tr>\n",
       "      <th>4</th>\n",
       "      <td>1503960366</td>\n",
       "      <td>2016-04-16</td>\n",
       "      <td>12669</td>\n",
       "      <td>8.16</td>\n",
       "      <td>8.16</td>\n",
       "      <td>0.0</td>\n",
       "      <td>2.71</td>\n",
       "      <td>0.41</td>\n",
       "      <td>5.04</td>\n",
       "      <td>0.0</td>\n",
       "      <td>36</td>\n",
       "      <td>10</td>\n",
       "      <td>221</td>\n",
       "      <td>773</td>\n",
       "      <td>1863</td>\n",
       "      <td>1040</td>\n",
       "      <td>Saturday</td>\n",
       "    </tr>\n",
       "  </tbody>\n",
       "</table>\n",
       "</div>"
      ],
      "text/plain": [
       "           Id ActivityDate  TotalSteps  TotalDistance  TrackerDistance  \\\n",
       "0  1503960366   2016-04-12       13162           8.50             8.50   \n",
       "1  1503960366   2016-04-13       10735           6.97             6.97   \n",
       "2  1503960366   2016-04-14       10460           6.74             6.74   \n",
       "3  1503960366   2016-04-15        9762           6.28             6.28   \n",
       "4  1503960366   2016-04-16       12669           8.16             8.16   \n",
       "\n",
       "   LoggedActivitiesDistance  VeryActiveDistance  ModeratelyActiveDistance  \\\n",
       "0                       0.0                1.88                      0.55   \n",
       "1                       0.0                1.57                      0.69   \n",
       "2                       0.0                2.44                      0.40   \n",
       "3                       0.0                2.14                      1.26   \n",
       "4                       0.0                2.71                      0.41   \n",
       "\n",
       "   LightActiveDistance  SedentaryActiveDistance  VeryActiveMinutes  \\\n",
       "0                 6.06                      0.0                 25   \n",
       "1                 4.71                      0.0                 21   \n",
       "2                 3.91                      0.0                 30   \n",
       "3                 2.83                      0.0                 29   \n",
       "4                 5.04                      0.0                 36   \n",
       "\n",
       "   FairlyActiveMinutes  LightlyActiveMinutes  SedentaryMinutes  Calories  \\\n",
       "0                   13                   328               728      1985   \n",
       "1                   19                   217               776      1797   \n",
       "2                   11                   181              1218      1776   \n",
       "3                   34                   209               726      1745   \n",
       "4                   10                   221               773      1863   \n",
       "\n",
       "   Total_minutes        Day  \n",
       "0           1094    Tuesday  \n",
       "1           1033  Wednesday  \n",
       "2           1440   Thursday  \n",
       "3            998     Friday  \n",
       "4           1040   Saturday  "
      ]
     },
     "execution_count": 28,
     "metadata": {},
     "output_type": "execute_result"
    }
   ],
   "source": [
    "df['Day'] = pd.to_datetime(df['ActivityDate']).dt.day_name()\n",
    "print(df['Day'])\n",
    "df.head()\n",
    "#df.drop(columns='day', inplace=True)"
   ]
  },
  {
   "cell_type": "code",
   "execution_count": 43,
   "id": "5df11b89",
   "metadata": {},
   "outputs": [
    {
     "data": {
      "application/vnd.plotly.v1+json": {
       "config": {
        "plotlyServerURL": "https://plot.ly"
       },
       "data": [
        {
         "marker": {
          "color": "blue"
         },
         "name": "Very Active",
         "type": "bar",
         "x": [
          "Tuesday",
          "Wednesday",
          "Thursday",
          "Friday",
          "Saturday",
          "Sunday",
          "Monday",
          "Tuesday",
          "Wednesday",
          "Thursday",
          "Friday",
          "Saturday",
          "Sunday",
          "Monday",
          "Tuesday",
          "Wednesday",
          "Thursday",
          "Friday",
          "Saturday",
          "Sunday",
          "Monday",
          "Tuesday",
          "Wednesday",
          "Thursday",
          "Friday",
          "Saturday",
          "Sunday",
          "Monday",
          "Tuesday",
          "Wednesday",
          "Thursday",
          "Tuesday",
          "Wednesday",
          "Thursday",
          "Friday",
          "Saturday",
          "Sunday",
          "Monday",
          "Tuesday",
          "Wednesday",
          "Thursday",
          "Friday",
          "Saturday",
          "Sunday",
          "Monday",
          "Tuesday",
          "Wednesday",
          "Thursday",
          "Friday",
          "Saturday",
          "Sunday",
          "Monday",
          "Tuesday",
          "Wednesday",
          "Thursday",
          "Friday",
          "Saturday",
          "Sunday",
          "Monday",
          "Tuesday",
          "Wednesday",
          "Thursday",
          "Tuesday",
          "Wednesday",
          "Thursday",
          "Friday",
          "Saturday",
          "Sunday",
          "Monday",
          "Tuesday",
          "Wednesday",
          "Thursday",
          "Friday",
          "Saturday",
          "Sunday",
          "Monday",
          "Tuesday",
          "Wednesday",
          "Thursday",
          "Friday",
          "Saturday",
          "Sunday",
          "Monday",
          "Tuesday",
          "Wednesday",
          "Thursday",
          "Friday",
          "Saturday",
          "Sunday",
          "Monday",
          "Tuesday",
          "Wednesday",
          "Tuesday",
          "Wednesday",
          "Thursday",
          "Friday",
          "Saturday",
          "Sunday",
          "Monday",
          "Tuesday",
          "Wednesday",
          "Thursday",
          "Friday",
          "Saturday",
          "Sunday",
          "Monday",
          "Tuesday",
          "Wednesday",
          "Thursday",
          "Friday",
          "Saturday",
          "Sunday",
          "Monday",
          "Tuesday",
          "Wednesday",
          "Thursday",
          "Friday",
          "Saturday",
          "Sunday",
          "Monday",
          "Tuesday",
          "Wednesday",
          "Thursday",
          "Tuesday",
          "Wednesday",
          "Thursday",
          "Friday",
          "Saturday",
          "Sunday",
          "Monday",
          "Tuesday",
          "Wednesday",
          "Thursday",
          "Friday",
          "Saturday",
          "Sunday",
          "Monday",
          "Tuesday",
          "Wednesday",
          "Thursday",
          "Friday",
          "Saturday",
          "Sunday",
          "Monday",
          "Tuesday",
          "Wednesday",
          "Thursday",
          "Friday",
          "Saturday",
          "Sunday",
          "Monday",
          "Tuesday",
          "Wednesday",
          "Thursday",
          "Tuesday",
          "Wednesday",
          "Thursday",
          "Friday",
          "Saturday",
          "Sunday",
          "Monday",
          "Tuesday",
          "Wednesday",
          "Thursday",
          "Friday",
          "Saturday",
          "Sunday",
          "Monday",
          "Tuesday",
          "Wednesday",
          "Thursday",
          "Friday",
          "Saturday",
          "Sunday",
          "Monday",
          "Tuesday",
          "Wednesday",
          "Thursday",
          "Friday",
          "Saturday",
          "Sunday",
          "Monday",
          "Tuesday",
          "Wednesday",
          "Thursday",
          "Tuesday",
          "Wednesday",
          "Thursday",
          "Friday",
          "Saturday",
          "Sunday",
          "Monday",
          "Tuesday",
          "Wednesday",
          "Thursday",
          "Friday",
          "Saturday",
          "Sunday",
          "Monday",
          "Tuesday",
          "Wednesday",
          "Thursday",
          "Friday",
          "Saturday",
          "Sunday",
          "Monday",
          "Tuesday",
          "Wednesday",
          "Thursday",
          "Friday",
          "Saturday",
          "Sunday",
          "Monday",
          "Tuesday",
          "Wednesday",
          "Thursday",
          "Tuesday",
          "Wednesday",
          "Thursday",
          "Friday",
          "Saturday",
          "Sunday",
          "Monday",
          "Tuesday",
          "Wednesday",
          "Thursday",
          "Friday",
          "Saturday",
          "Sunday",
          "Monday",
          "Tuesday",
          "Wednesday",
          "Thursday",
          "Friday",
          "Saturday",
          "Sunday",
          "Monday",
          "Tuesday",
          "Wednesday",
          "Thursday",
          "Friday",
          "Saturday",
          "Sunday",
          "Monday",
          "Tuesday",
          "Wednesday",
          "Thursday",
          "Tuesday",
          "Wednesday",
          "Thursday",
          "Friday",
          "Saturday",
          "Sunday",
          "Monday",
          "Tuesday",
          "Wednesday",
          "Thursday",
          "Friday",
          "Saturday",
          "Sunday",
          "Monday",
          "Tuesday",
          "Wednesday",
          "Thursday",
          "Friday",
          "Tuesday",
          "Wednesday",
          "Thursday",
          "Friday",
          "Saturday",
          "Sunday",
          "Monday",
          "Tuesday",
          "Wednesday",
          "Thursday",
          "Friday",
          "Saturday",
          "Sunday",
          "Monday",
          "Tuesday",
          "Wednesday",
          "Thursday",
          "Friday",
          "Saturday",
          "Sunday",
          "Monday",
          "Tuesday",
          "Wednesday",
          "Thursday",
          "Friday",
          "Saturday",
          "Sunday",
          "Monday",
          "Tuesday",
          "Wednesday",
          "Thursday",
          "Tuesday",
          "Wednesday",
          "Thursday",
          "Friday",
          "Saturday",
          "Sunday",
          "Monday",
          "Tuesday",
          "Wednesday",
          "Thursday",
          "Friday",
          "Saturday",
          "Sunday",
          "Monday",
          "Tuesday",
          "Wednesday",
          "Thursday",
          "Friday",
          "Saturday",
          "Sunday",
          "Tuesday",
          "Wednesday",
          "Thursday",
          "Friday",
          "Saturday",
          "Sunday",
          "Monday",
          "Tuesday",
          "Wednesday",
          "Thursday",
          "Friday",
          "Saturday",
          "Sunday",
          "Monday",
          "Tuesday",
          "Wednesday",
          "Thursday",
          "Friday",
          "Saturday",
          "Sunday",
          "Monday",
          "Tuesday",
          "Wednesday",
          "Thursday",
          "Friday",
          "Saturday",
          "Sunday",
          "Monday",
          "Tuesday",
          "Wednesday",
          "Tuesday",
          "Wednesday",
          "Thursday",
          "Friday",
          "Saturday",
          "Sunday",
          "Monday",
          "Tuesday",
          "Wednesday",
          "Thursday",
          "Friday",
          "Saturday",
          "Sunday",
          "Monday",
          "Tuesday",
          "Wednesday",
          "Thursday",
          "Friday",
          "Saturday",
          "Sunday",
          "Monday",
          "Tuesday",
          "Wednesday",
          "Thursday",
          "Friday",
          "Saturday",
          "Sunday",
          "Monday",
          "Tuesday",
          "Wednesday",
          "Thursday",
          "Tuesday",
          "Wednesday",
          "Thursday",
          "Friday",
          "Tuesday",
          "Wednesday",
          "Thursday",
          "Friday",
          "Saturday",
          "Sunday",
          "Monday",
          "Tuesday",
          "Wednesday",
          "Thursday",
          "Friday",
          "Saturday",
          "Sunday",
          "Monday",
          "Tuesday",
          "Wednesday",
          "Thursday",
          "Friday",
          "Saturday",
          "Sunday",
          "Monday",
          "Tuesday",
          "Wednesday",
          "Thursday",
          "Friday",
          "Saturday",
          "Sunday",
          "Monday",
          "Tuesday",
          "Wednesday",
          "Thursday",
          "Tuesday",
          "Wednesday",
          "Thursday",
          "Friday",
          "Saturday",
          "Sunday",
          "Monday",
          "Tuesday",
          "Wednesday",
          "Thursday",
          "Friday",
          "Saturday",
          "Sunday",
          "Monday",
          "Tuesday",
          "Wednesday",
          "Thursday",
          "Friday",
          "Saturday",
          "Sunday",
          "Monday",
          "Tuesday",
          "Wednesday",
          "Thursday",
          "Friday",
          "Saturday",
          "Sunday",
          "Monday",
          "Tuesday",
          "Wednesday",
          "Thursday",
          "Tuesday",
          "Wednesday",
          "Thursday",
          "Friday",
          "Saturday",
          "Sunday",
          "Monday",
          "Tuesday",
          "Wednesday",
          "Thursday",
          "Friday",
          "Saturday",
          "Sunday",
          "Monday",
          "Tuesday",
          "Wednesday",
          "Thursday",
          "Friday",
          "Saturday",
          "Sunday",
          "Monday",
          "Tuesday",
          "Wednesday",
          "Thursday",
          "Friday",
          "Saturday",
          "Sunday",
          "Monday",
          "Tuesday",
          "Wednesday",
          "Thursday",
          "Tuesday",
          "Wednesday",
          "Thursday",
          "Friday",
          "Saturday",
          "Sunday",
          "Monday",
          "Tuesday",
          "Wednesday",
          "Thursday",
          "Friday",
          "Saturday",
          "Sunday",
          "Monday",
          "Tuesday",
          "Wednesday",
          "Thursday",
          "Friday",
          "Saturday",
          "Sunday",
          "Monday",
          "Tuesday",
          "Wednesday",
          "Thursday",
          "Friday",
          "Saturday",
          "Sunday",
          "Monday",
          "Tuesday",
          "Wednesday",
          "Thursday",
          "Tuesday",
          "Wednesday",
          "Thursday",
          "Friday",
          "Saturday",
          "Sunday",
          "Monday",
          "Tuesday",
          "Wednesday",
          "Thursday",
          "Friday",
          "Saturday",
          "Sunday",
          "Monday",
          "Tuesday",
          "Wednesday",
          "Thursday",
          "Friday",
          "Saturday",
          "Sunday",
          "Monday",
          "Tuesday",
          "Wednesday",
          "Thursday",
          "Friday",
          "Saturday",
          "Sunday",
          "Monday",
          "Tuesday",
          "Wednesday",
          "Thursday",
          "Tuesday",
          "Wednesday",
          "Thursday",
          "Friday",
          "Saturday",
          "Sunday",
          "Monday",
          "Tuesday",
          "Wednesday",
          "Thursday",
          "Friday",
          "Saturday",
          "Sunday",
          "Monday",
          "Tuesday",
          "Wednesday",
          "Thursday",
          "Friday",
          "Saturday",
          "Sunday",
          "Monday",
          "Tuesday",
          "Wednesday",
          "Thursday",
          "Friday",
          "Saturday",
          "Sunday",
          "Monday",
          "Tuesday",
          "Wednesday",
          "Thursday",
          "Tuesday",
          "Wednesday",
          "Thursday",
          "Friday",
          "Saturday",
          "Sunday",
          "Monday",
          "Tuesday",
          "Wednesday",
          "Thursday",
          "Friday",
          "Saturday",
          "Sunday",
          "Monday",
          "Tuesday",
          "Wednesday",
          "Thursday",
          "Friday",
          "Saturday",
          "Sunday",
          "Monday",
          "Tuesday",
          "Wednesday",
          "Thursday",
          "Friday",
          "Saturday",
          "Sunday",
          "Monday",
          "Tuesday",
          "Wednesday",
          "Tuesday",
          "Wednesday",
          "Thursday",
          "Friday",
          "Saturday",
          "Sunday",
          "Monday",
          "Tuesday",
          "Wednesday",
          "Thursday",
          "Friday",
          "Saturday",
          "Sunday",
          "Monday",
          "Tuesday",
          "Wednesday",
          "Thursday",
          "Friday",
          "Saturday",
          "Sunday",
          "Monday",
          "Tuesday",
          "Wednesday",
          "Thursday",
          "Friday",
          "Saturday",
          "Sunday",
          "Monday",
          "Tuesday",
          "Wednesday",
          "Thursday",
          "Friday",
          "Saturday",
          "Sunday",
          "Monday",
          "Tuesday",
          "Wednesday",
          "Thursday",
          "Friday",
          "Saturday",
          "Sunday",
          "Monday",
          "Tuesday",
          "Wednesday",
          "Thursday",
          "Friday",
          "Saturday",
          "Sunday",
          "Monday",
          "Tuesday",
          "Wednesday",
          "Thursday",
          "Friday",
          "Saturday",
          "Sunday",
          "Monday",
          "Tuesday",
          "Tuesday",
          "Wednesday",
          "Thursday",
          "Friday",
          "Saturday",
          "Sunday",
          "Monday",
          "Tuesday",
          "Wednesday",
          "Thursday",
          "Friday",
          "Saturday",
          "Sunday",
          "Monday",
          "Tuesday",
          "Wednesday",
          "Thursday",
          "Friday",
          "Saturday",
          "Sunday",
          "Monday",
          "Tuesday",
          "Wednesday",
          "Thursday",
          "Friday",
          "Saturday",
          "Tuesday",
          "Wednesday",
          "Thursday",
          "Friday",
          "Saturday",
          "Sunday",
          "Monday",
          "Tuesday",
          "Wednesday",
          "Thursday",
          "Friday",
          "Saturday",
          "Sunday",
          "Monday",
          "Tuesday",
          "Wednesday",
          "Thursday",
          "Friday",
          "Saturday",
          "Sunday",
          "Monday",
          "Tuesday",
          "Wednesday",
          "Thursday",
          "Friday",
          "Saturday",
          "Sunday",
          "Monday",
          "Tuesday",
          "Wednesday",
          "Thursday",
          "Tuesday",
          "Wednesday",
          "Thursday",
          "Friday",
          "Saturday",
          "Sunday",
          "Monday",
          "Tuesday",
          "Wednesday",
          "Thursday",
          "Friday",
          "Saturday",
          "Sunday",
          "Monday",
          "Tuesday",
          "Wednesday",
          "Thursday",
          "Friday",
          "Saturday",
          "Sunday",
          "Monday",
          "Tuesday",
          "Wednesday",
          "Thursday",
          "Friday",
          "Saturday",
          "Tuesday",
          "Wednesday",
          "Thursday",
          "Friday",
          "Saturday",
          "Sunday",
          "Monday",
          "Tuesday",
          "Wednesday",
          "Thursday",
          "Friday",
          "Saturday",
          "Sunday",
          "Monday",
          "Tuesday",
          "Wednesday",
          "Thursday",
          "Friday",
          "Saturday",
          "Sunday",
          "Monday",
          "Tuesday",
          "Wednesday",
          "Thursday",
          "Friday",
          "Saturday",
          "Sunday",
          "Monday",
          "Tuesday",
          "Wednesday",
          "Thursday",
          "Tuesday",
          "Wednesday",
          "Thursday",
          "Friday",
          "Saturday",
          "Sunday",
          "Monday",
          "Tuesday",
          "Wednesday",
          "Thursday",
          "Friday",
          "Saturday",
          "Sunday",
          "Monday",
          "Tuesday",
          "Wednesday",
          "Thursday",
          "Friday",
          "Saturday",
          "Sunday",
          "Monday",
          "Tuesday",
          "Wednesday",
          "Thursday",
          "Friday",
          "Saturday",
          "Sunday",
          "Monday",
          "Tuesday",
          "Wednesday",
          "Thursday",
          "Tuesday",
          "Wednesday",
          "Thursday",
          "Friday",
          "Saturday",
          "Sunday",
          "Monday",
          "Tuesday",
          "Wednesday",
          "Thursday",
          "Friday",
          "Saturday",
          "Sunday",
          "Monday",
          "Tuesday",
          "Wednesday",
          "Thursday",
          "Friday",
          "Saturday",
          "Tuesday",
          "Wednesday",
          "Thursday",
          "Friday",
          "Saturday",
          "Sunday",
          "Monday",
          "Tuesday",
          "Wednesday",
          "Thursday",
          "Friday",
          "Saturday",
          "Sunday",
          "Monday",
          "Tuesday",
          "Wednesday",
          "Thursday",
          "Friday",
          "Saturday",
          "Sunday",
          "Monday",
          "Tuesday",
          "Wednesday",
          "Thursday",
          "Friday",
          "Saturday",
          "Sunday",
          "Monday",
          "Tuesday",
          "Wednesday",
          "Thursday",
          "Tuesday",
          "Wednesday",
          "Thursday",
          "Friday",
          "Saturday",
          "Sunday",
          "Monday",
          "Tuesday",
          "Wednesday",
          "Thursday",
          "Friday",
          "Saturday",
          "Sunday",
          "Monday",
          "Tuesday",
          "Wednesday",
          "Thursday",
          "Friday",
          "Saturday",
          "Sunday",
          "Monday",
          "Tuesday",
          "Wednesday",
          "Thursday",
          "Friday",
          "Saturday",
          "Sunday",
          "Monday",
          "Tuesday",
          "Wednesday",
          "Thursday",
          "Tuesday",
          "Wednesday",
          "Thursday",
          "Friday",
          "Saturday",
          "Sunday",
          "Monday",
          "Tuesday",
          "Wednesday",
          "Thursday",
          "Friday",
          "Saturday",
          "Sunday",
          "Monday",
          "Tuesday",
          "Wednesday",
          "Thursday",
          "Friday",
          "Saturday",
          "Sunday",
          "Monday",
          "Tuesday",
          "Wednesday",
          "Thursday",
          "Friday",
          "Saturday",
          "Sunday",
          "Monday",
          "Tuesday",
          "Tuesday",
          "Wednesday",
          "Thursday",
          "Friday",
          "Saturday",
          "Sunday",
          "Monday",
          "Tuesday",
          "Wednesday",
          "Thursday",
          "Friday",
          "Saturday",
          "Sunday",
          "Monday",
          "Tuesday",
          "Wednesday",
          "Thursday",
          "Friday",
          "Saturday",
          "Sunday",
          "Monday",
          "Tuesday",
          "Wednesday",
          "Thursday",
          "Friday",
          "Saturday",
          "Sunday",
          "Monday",
          "Tuesday",
          "Wednesday",
          "Thursday"
         ],
         "y": [
          25,
          21,
          30,
          29,
          36,
          38,
          42,
          50,
          28,
          19,
          66,
          41,
          39,
          73,
          31,
          78,
          48,
          16,
          52,
          33,
          41,
          50,
          36,
          45,
          24,
          37,
          44,
          46,
          46,
          36,
          0,
          0,
          0,
          0,
          0,
          0,
          15,
          17,
          0,
          0,
          0,
          0,
          0,
          16,
          0,
          0,
          17,
          0,
          0,
          11,
          186,
          7,
          0,
          0,
          0,
          0,
          0,
          0,
          0,
          0,
          0,
          0,
          2,
          30,
          5,
          3,
          51,
          29,
          15,
          5,
          0,
          0,
          0,
          0,
          0,
          8,
          11,
          0,
          3,
          0,
          9,
          3,
          1,
          10,
          0,
          6,
          11,
          41,
          0,
          32,
          12,
          0,
          0,
          0,
          0,
          0,
          0,
          2,
          0,
          0,
          0,
          2,
          0,
          0,
          0,
          0,
          0,
          0,
          0,
          0,
          0,
          0,
          0,
          0,
          0,
          0,
          0,
          0,
          0,
          0,
          0,
          0,
          0,
          0,
          0,
          0,
          0,
          0,
          0,
          0,
          0,
          0,
          0,
          0,
          0,
          1,
          0,
          0,
          0,
          0,
          0,
          0,
          14,
          16,
          10,
          0,
          0,
          0,
          0,
          0,
          0,
          0,
          0,
          0,
          42,
          43,
          32,
          27,
          41,
          28,
          48,
          31,
          48,
          104,
          52,
          0,
          37,
          44,
          55,
          19,
          6,
          21,
          13,
          25,
          36,
          72,
          36,
          55,
          24,
          20,
          0,
          35,
          57,
          58,
          16,
          3,
          0,
          0,
          0,
          0,
          0,
          0,
          0,
          0,
          0,
          0,
          0,
          0,
          0,
          0,
          0,
          0,
          0,
          0,
          0,
          0,
          0,
          0,
          0,
          0,
          0,
          0,
          0,
          0,
          0,
          0,
          13,
          0,
          0,
          0,
          0,
          0,
          0,
          0,
          0,
          1,
          0,
          0,
          0,
          3,
          0,
          0,
          0,
          0,
          0,
          0,
          5,
          20,
          0,
          0,
          0,
          0,
          0,
          0,
          0,
          0,
          0,
          28,
          19,
          1,
          1,
          66,
          1,
          11,
          0,
          11,
          23,
          9,
          32,
          0,
          15,
          0,
          26,
          0,
          0,
          2,
          0,
          0,
          0,
          47,
          0,
          1,
          0,
          22,
          2,
          46,
          28,
          46,
          0,
          2,
          46,
          28,
          20,
          5,
          7,
          0,
          1,
          0,
          13,
          0,
          75,
          46,
          0,
          0,
          0,
          0,
          0,
          16,
          6,
          0,
          0,
          11,
          20,
          0,
          15,
          18,
          0,
          20,
          14,
          0,
          22,
          24,
          0,
          0,
          17,
          0,
          44,
          31,
          5,
          15,
          31,
          11,
          4,
          19,
          2,
          0,
          33,
          0,
          30,
          50,
          7,
          0,
          15,
          36,
          43,
          41,
          24,
          47,
          14,
          14,
          29,
          0,
          9,
          8,
          1,
          4,
          4,
          0,
          0,
          36,
          65,
          0,
          0,
          0,
          0,
          0,
          0,
          0,
          0,
          0,
          0,
          0,
          0,
          0,
          0,
          0,
          0,
          0,
          13,
          38,
          0,
          0,
          0,
          3,
          0,
          2,
          0,
          0,
          0,
          0,
          3,
          0,
          8,
          1,
          0,
          0,
          0,
          1,
          0,
          0,
          0,
          1,
          0,
          1,
          0,
          8,
          6,
          13,
          6,
          6,
          0,
          0,
          8,
          8,
          27,
          6,
          3,
          0,
          2,
          3,
          3,
          0,
          0,
          1,
          10,
          0,
          6,
          0,
          27,
          20,
          19,
          7,
          77,
          58,
          14,
          11,
          14,
          11,
          19,
          13,
          14,
          12,
          33,
          18,
          35,
          12,
          33,
          120,
          107,
          6,
          13,
          8,
          0,
          0,
          0,
          0,
          0,
          0,
          0,
          25,
          0,
          0,
          0,
          0,
          0,
          0,
          0,
          29,
          32,
          0,
          0,
          0,
          0,
          27,
          30,
          0,
          2,
          0,
          26,
          0,
          0,
          0,
          34,
          0,
          0,
          19,
          0,
          17,
          8,
          7,
          14,
          1,
          0,
          6,
          20,
          5,
          0,
          18,
          12,
          27,
          1,
          15,
          7,
          0,
          0,
          21,
          0,
          14,
          0,
          23,
          66,
          6,
          11,
          4,
          0,
          0,
          0,
          0,
          1,
          3,
          12,
          22,
          10,
          2,
          4,
          0,
          9,
          15,
          6,
          1,
          1,
          14,
          12,
          4,
          0,
          5,
          0,
          4,
          8,
          1,
          5,
          9,
          0,
          1,
          10,
          0,
          19,
          0,
          61,
          58,
          0,
          0,
          0,
          69,
          0,
          47,
          25,
          0,
          0,
          51,
          40,
          16,
          49,
          46,
          0,
          0,
          23,
          26,
          0,
          44,
          21,
          0,
          3,
          59,
          61,
          0,
          8,
          86,
          15,
          118,
          115,
          184,
          200,
          114,
          108,
          87,
          110,
          62,
          24,
          210,
          61,
          38,
          63,
          99,
          97,
          207,
          194,
          37,
          97,
          25,
          45,
          41,
          0,
          0,
          34,
          104,
          45,
          0,
          0,
          0,
          0,
          7,
          0,
          0,
          0,
          26,
          11,
          0,
          0,
          0,
          0,
          0,
          0,
          0,
          0,
          0,
          0,
          0,
          0,
          0,
          0,
          0,
          0,
          0,
          0,
          0,
          0,
          0,
          0,
          0,
          31,
          0,
          0,
          0,
          0,
          0,
          33,
          0,
          8,
          0,
          0,
          0,
          0,
          0,
          8,
          0,
          0,
          0,
          0,
          0,
          0,
          0,
          0,
          0,
          0,
          17,
          14,
          0,
          36,
          5,
          30,
          0,
          70,
          0,
          0,
          0,
          11,
          33,
          42,
          0,
          2,
          0,
          3,
          9,
          0,
          0,
          0,
          0,
          12,
          2,
          50,
          8,
          0,
          0,
          50,
          5,
          13,
          35,
          48,
          53,
          30,
          58,
          0,
          35,
          36,
          7,
          38,
          12,
          32,
          0,
          18,
          21,
          15,
          14,
          0,
          0,
          0,
          43,
          62,
          24,
          0,
          53,
          56,
          34,
          0,
          0,
          0,
          48,
          53,
          60,
          30,
          64,
          2,
          0,
          51,
          16,
          50,
          16,
          55,
          0,
          0,
          64,
          58,
          0,
          53,
          44,
          0,
          59,
          31,
          35,
          30,
          0,
          0,
          61,
          67,
          87,
          19,
          58,
          0,
          0,
          69,
          70,
          55,
          54,
          24,
          42,
          30,
          66,
          57,
          45,
          24,
          84,
          20,
          32,
          67,
          72,
          57,
          5,
          116,
          95,
          119,
          132,
          96,
          111,
          102,
          90,
          89,
          100,
          60,
          125,
          129,
          118,
          68,
          60,
          90,
          58,
          27,
          0,
          0,
          87,
          89,
          93,
          90,
          121,
          125,
          66,
          96,
          60,
          28,
          40,
          35,
          29,
          0,
          6,
          41,
          16,
          0,
          5,
          49,
          0,
          30,
          41,
          7,
          19,
          45,
          11,
          16,
          0,
          65,
          116,
          123,
          60,
          64,
          0,
          117,
          120,
          82,
          137,
          113,
          19,
          0,
          117,
          90,
          4,
          11,
          3,
          0,
          71,
          63,
          71,
          19,
          66,
          74,
          0,
          0,
          71,
          63,
          72,
          8,
          0,
          2,
          0,
          0,
          0,
          0,
          4,
          7,
          0,
          35,
          4,
          7,
          2,
          18,
          1,
          77,
          0,
          46,
          2,
          10,
          0,
          0,
          0,
          0,
          2,
          0,
          3,
          66,
          9,
          5,
          0,
          0,
          0,
          0,
          0,
          0,
          0,
          0,
          0,
          0,
          0,
          1,
          8,
          3,
          0,
          0,
          0,
          0,
          6,
          10,
          0,
          0,
          0,
          0,
          0,
          0,
          0,
          0,
          0,
          0,
          85,
          108,
          68,
          106,
          94,
          58,
          29,
          82,
          73,
          82,
          61,
          102,
          64,
          113,
          22,
          93,
          58,
          18,
          124,
          36,
          0,
          19,
          66,
          67,
          96,
          105,
          17,
          73,
          18,
          88,
          23
         ]
        },
        {
         "marker": {
          "color": "green"
         },
         "name": "Fairly Active",
         "type": "bar",
         "x": [
          "Tuesday",
          "Wednesday",
          "Thursday",
          "Friday",
          "Saturday",
          "Sunday",
          "Monday",
          "Tuesday",
          "Wednesday",
          "Thursday",
          "Friday",
          "Saturday",
          "Sunday",
          "Monday",
          "Tuesday",
          "Wednesday",
          "Thursday",
          "Friday",
          "Saturday",
          "Sunday",
          "Monday",
          "Tuesday",
          "Wednesday",
          "Thursday",
          "Friday",
          "Saturday",
          "Sunday",
          "Monday",
          "Tuesday",
          "Wednesday",
          "Thursday",
          "Tuesday",
          "Wednesday",
          "Thursday",
          "Friday",
          "Saturday",
          "Sunday",
          "Monday",
          "Tuesday",
          "Wednesday",
          "Thursday",
          "Friday",
          "Saturday",
          "Sunday",
          "Monday",
          "Tuesday",
          "Wednesday",
          "Thursday",
          "Friday",
          "Saturday",
          "Sunday",
          "Monday",
          "Tuesday",
          "Wednesday",
          "Thursday",
          "Friday",
          "Saturday",
          "Sunday",
          "Monday",
          "Tuesday",
          "Wednesday",
          "Thursday",
          "Tuesday",
          "Wednesday",
          "Thursday",
          "Friday",
          "Saturday",
          "Sunday",
          "Monday",
          "Tuesday",
          "Wednesday",
          "Thursday",
          "Friday",
          "Saturday",
          "Sunday",
          "Monday",
          "Tuesday",
          "Wednesday",
          "Thursday",
          "Friday",
          "Saturday",
          "Sunday",
          "Monday",
          "Tuesday",
          "Wednesday",
          "Thursday",
          "Friday",
          "Saturday",
          "Sunday",
          "Monday",
          "Tuesday",
          "Wednesday",
          "Tuesday",
          "Wednesday",
          "Thursday",
          "Friday",
          "Saturday",
          "Sunday",
          "Monday",
          "Tuesday",
          "Wednesday",
          "Thursday",
          "Friday",
          "Saturday",
          "Sunday",
          "Monday",
          "Tuesday",
          "Wednesday",
          "Thursday",
          "Friday",
          "Saturday",
          "Sunday",
          "Monday",
          "Tuesday",
          "Wednesday",
          "Thursday",
          "Friday",
          "Saturday",
          "Sunday",
          "Monday",
          "Tuesday",
          "Wednesday",
          "Thursday",
          "Tuesday",
          "Wednesday",
          "Thursday",
          "Friday",
          "Saturday",
          "Sunday",
          "Monday",
          "Tuesday",
          "Wednesday",
          "Thursday",
          "Friday",
          "Saturday",
          "Sunday",
          "Monday",
          "Tuesday",
          "Wednesday",
          "Thursday",
          "Friday",
          "Saturday",
          "Sunday",
          "Monday",
          "Tuesday",
          "Wednesday",
          "Thursday",
          "Friday",
          "Saturday",
          "Sunday",
          "Monday",
          "Tuesday",
          "Wednesday",
          "Thursday",
          "Tuesday",
          "Wednesday",
          "Thursday",
          "Friday",
          "Saturday",
          "Sunday",
          "Monday",
          "Tuesday",
          "Wednesday",
          "Thursday",
          "Friday",
          "Saturday",
          "Sunday",
          "Monday",
          "Tuesday",
          "Wednesday",
          "Thursday",
          "Friday",
          "Saturday",
          "Sunday",
          "Monday",
          "Tuesday",
          "Wednesday",
          "Thursday",
          "Friday",
          "Saturday",
          "Sunday",
          "Monday",
          "Tuesday",
          "Wednesday",
          "Thursday",
          "Tuesday",
          "Wednesday",
          "Thursday",
          "Friday",
          "Saturday",
          "Sunday",
          "Monday",
          "Tuesday",
          "Wednesday",
          "Thursday",
          "Friday",
          "Saturday",
          "Sunday",
          "Monday",
          "Tuesday",
          "Wednesday",
          "Thursday",
          "Friday",
          "Saturday",
          "Sunday",
          "Monday",
          "Tuesday",
          "Wednesday",
          "Thursday",
          "Friday",
          "Saturday",
          "Sunday",
          "Monday",
          "Tuesday",
          "Wednesday",
          "Thursday",
          "Tuesday",
          "Wednesday",
          "Thursday",
          "Friday",
          "Saturday",
          "Sunday",
          "Monday",
          "Tuesday",
          "Wednesday",
          "Thursday",
          "Friday",
          "Saturday",
          "Sunday",
          "Monday",
          "Tuesday",
          "Wednesday",
          "Thursday",
          "Friday",
          "Saturday",
          "Sunday",
          "Monday",
          "Tuesday",
          "Wednesday",
          "Thursday",
          "Friday",
          "Saturday",
          "Sunday",
          "Monday",
          "Tuesday",
          "Wednesday",
          "Thursday",
          "Tuesday",
          "Wednesday",
          "Thursday",
          "Friday",
          "Saturday",
          "Sunday",
          "Monday",
          "Tuesday",
          "Wednesday",
          "Thursday",
          "Friday",
          "Saturday",
          "Sunday",
          "Monday",
          "Tuesday",
          "Wednesday",
          "Thursday",
          "Friday",
          "Tuesday",
          "Wednesday",
          "Thursday",
          "Friday",
          "Saturday",
          "Sunday",
          "Monday",
          "Tuesday",
          "Wednesday",
          "Thursday",
          "Friday",
          "Saturday",
          "Sunday",
          "Monday",
          "Tuesday",
          "Wednesday",
          "Thursday",
          "Friday",
          "Saturday",
          "Sunday",
          "Monday",
          "Tuesday",
          "Wednesday",
          "Thursday",
          "Friday",
          "Saturday",
          "Sunday",
          "Monday",
          "Tuesday",
          "Wednesday",
          "Thursday",
          "Tuesday",
          "Wednesday",
          "Thursday",
          "Friday",
          "Saturday",
          "Sunday",
          "Monday",
          "Tuesday",
          "Wednesday",
          "Thursday",
          "Friday",
          "Saturday",
          "Sunday",
          "Monday",
          "Tuesday",
          "Wednesday",
          "Thursday",
          "Friday",
          "Saturday",
          "Sunday",
          "Tuesday",
          "Wednesday",
          "Thursday",
          "Friday",
          "Saturday",
          "Sunday",
          "Monday",
          "Tuesday",
          "Wednesday",
          "Thursday",
          "Friday",
          "Saturday",
          "Sunday",
          "Monday",
          "Tuesday",
          "Wednesday",
          "Thursday",
          "Friday",
          "Saturday",
          "Sunday",
          "Monday",
          "Tuesday",
          "Wednesday",
          "Thursday",
          "Friday",
          "Saturday",
          "Sunday",
          "Monday",
          "Tuesday",
          "Wednesday",
          "Tuesday",
          "Wednesday",
          "Thursday",
          "Friday",
          "Saturday",
          "Sunday",
          "Monday",
          "Tuesday",
          "Wednesday",
          "Thursday",
          "Friday",
          "Saturday",
          "Sunday",
          "Monday",
          "Tuesday",
          "Wednesday",
          "Thursday",
          "Friday",
          "Saturday",
          "Sunday",
          "Monday",
          "Tuesday",
          "Wednesday",
          "Thursday",
          "Friday",
          "Saturday",
          "Sunday",
          "Monday",
          "Tuesday",
          "Wednesday",
          "Thursday",
          "Tuesday",
          "Wednesday",
          "Thursday",
          "Friday",
          "Tuesday",
          "Wednesday",
          "Thursday",
          "Friday",
          "Saturday",
          "Sunday",
          "Monday",
          "Tuesday",
          "Wednesday",
          "Thursday",
          "Friday",
          "Saturday",
          "Sunday",
          "Monday",
          "Tuesday",
          "Wednesday",
          "Thursday",
          "Friday",
          "Saturday",
          "Sunday",
          "Monday",
          "Tuesday",
          "Wednesday",
          "Thursday",
          "Friday",
          "Saturday",
          "Sunday",
          "Monday",
          "Tuesday",
          "Wednesday",
          "Thursday",
          "Tuesday",
          "Wednesday",
          "Thursday",
          "Friday",
          "Saturday",
          "Sunday",
          "Monday",
          "Tuesday",
          "Wednesday",
          "Thursday",
          "Friday",
          "Saturday",
          "Sunday",
          "Monday",
          "Tuesday",
          "Wednesday",
          "Thursday",
          "Friday",
          "Saturday",
          "Sunday",
          "Monday",
          "Tuesday",
          "Wednesday",
          "Thursday",
          "Friday",
          "Saturday",
          "Sunday",
          "Monday",
          "Tuesday",
          "Wednesday",
          "Thursday",
          "Tuesday",
          "Wednesday",
          "Thursday",
          "Friday",
          "Saturday",
          "Sunday",
          "Monday",
          "Tuesday",
          "Wednesday",
          "Thursday",
          "Friday",
          "Saturday",
          "Sunday",
          "Monday",
          "Tuesday",
          "Wednesday",
          "Thursday",
          "Friday",
          "Saturday",
          "Sunday",
          "Monday",
          "Tuesday",
          "Wednesday",
          "Thursday",
          "Friday",
          "Saturday",
          "Sunday",
          "Monday",
          "Tuesday",
          "Wednesday",
          "Thursday",
          "Tuesday",
          "Wednesday",
          "Thursday",
          "Friday",
          "Saturday",
          "Sunday",
          "Monday",
          "Tuesday",
          "Wednesday",
          "Thursday",
          "Friday",
          "Saturday",
          "Sunday",
          "Monday",
          "Tuesday",
          "Wednesday",
          "Thursday",
          "Friday",
          "Saturday",
          "Sunday",
          "Monday",
          "Tuesday",
          "Wednesday",
          "Thursday",
          "Friday",
          "Saturday",
          "Sunday",
          "Monday",
          "Tuesday",
          "Wednesday",
          "Thursday",
          "Tuesday",
          "Wednesday",
          "Thursday",
          "Friday",
          "Saturday",
          "Sunday",
          "Monday",
          "Tuesday",
          "Wednesday",
          "Thursday",
          "Friday",
          "Saturday",
          "Sunday",
          "Monday",
          "Tuesday",
          "Wednesday",
          "Thursday",
          "Friday",
          "Saturday",
          "Sunday",
          "Monday",
          "Tuesday",
          "Wednesday",
          "Thursday",
          "Friday",
          "Saturday",
          "Sunday",
          "Monday",
          "Tuesday",
          "Wednesday",
          "Thursday",
          "Tuesday",
          "Wednesday",
          "Thursday",
          "Friday",
          "Saturday",
          "Sunday",
          "Monday",
          "Tuesday",
          "Wednesday",
          "Thursday",
          "Friday",
          "Saturday",
          "Sunday",
          "Monday",
          "Tuesday",
          "Wednesday",
          "Thursday",
          "Friday",
          "Saturday",
          "Sunday",
          "Monday",
          "Tuesday",
          "Wednesday",
          "Thursday",
          "Friday",
          "Saturday",
          "Sunday",
          "Monday",
          "Tuesday",
          "Wednesday",
          "Thursday",
          "Tuesday",
          "Wednesday",
          "Thursday",
          "Friday",
          "Saturday",
          "Sunday",
          "Monday",
          "Tuesday",
          "Wednesday",
          "Thursday",
          "Friday",
          "Saturday",
          "Sunday",
          "Monday",
          "Tuesday",
          "Wednesday",
          "Thursday",
          "Friday",
          "Saturday",
          "Sunday",
          "Monday",
          "Tuesday",
          "Wednesday",
          "Thursday",
          "Friday",
          "Saturday",
          "Sunday",
          "Monday",
          "Tuesday",
          "Wednesday",
          "Tuesday",
          "Wednesday",
          "Thursday",
          "Friday",
          "Saturday",
          "Sunday",
          "Monday",
          "Tuesday",
          "Wednesday",
          "Thursday",
          "Friday",
          "Saturday",
          "Sunday",
          "Monday",
          "Tuesday",
          "Wednesday",
          "Thursday",
          "Friday",
          "Saturday",
          "Sunday",
          "Monday",
          "Tuesday",
          "Wednesday",
          "Thursday",
          "Friday",
          "Saturday",
          "Sunday",
          "Monday",
          "Tuesday",
          "Wednesday",
          "Thursday",
          "Friday",
          "Saturday",
          "Sunday",
          "Monday",
          "Tuesday",
          "Wednesday",
          "Thursday",
          "Friday",
          "Saturday",
          "Sunday",
          "Monday",
          "Tuesday",
          "Wednesday",
          "Thursday",
          "Friday",
          "Saturday",
          "Sunday",
          "Monday",
          "Tuesday",
          "Wednesday",
          "Thursday",
          "Friday",
          "Saturday",
          "Sunday",
          "Monday",
          "Tuesday",
          "Tuesday",
          "Wednesday",
          "Thursday",
          "Friday",
          "Saturday",
          "Sunday",
          "Monday",
          "Tuesday",
          "Wednesday",
          "Thursday",
          "Friday",
          "Saturday",
          "Sunday",
          "Monday",
          "Tuesday",
          "Wednesday",
          "Thursday",
          "Friday",
          "Saturday",
          "Sunday",
          "Monday",
          "Tuesday",
          "Wednesday",
          "Thursday",
          "Friday",
          "Saturday",
          "Tuesday",
          "Wednesday",
          "Thursday",
          "Friday",
          "Saturday",
          "Sunday",
          "Monday",
          "Tuesday",
          "Wednesday",
          "Thursday",
          "Friday",
          "Saturday",
          "Sunday",
          "Monday",
          "Tuesday",
          "Wednesday",
          "Thursday",
          "Friday",
          "Saturday",
          "Sunday",
          "Monday",
          "Tuesday",
          "Wednesday",
          "Thursday",
          "Friday",
          "Saturday",
          "Sunday",
          "Monday",
          "Tuesday",
          "Wednesday",
          "Thursday",
          "Tuesday",
          "Wednesday",
          "Thursday",
          "Friday",
          "Saturday",
          "Sunday",
          "Monday",
          "Tuesday",
          "Wednesday",
          "Thursday",
          "Friday",
          "Saturday",
          "Sunday",
          "Monday",
          "Tuesday",
          "Wednesday",
          "Thursday",
          "Friday",
          "Saturday",
          "Sunday",
          "Monday",
          "Tuesday",
          "Wednesday",
          "Thursday",
          "Friday",
          "Saturday",
          "Tuesday",
          "Wednesday",
          "Thursday",
          "Friday",
          "Saturday",
          "Sunday",
          "Monday",
          "Tuesday",
          "Wednesday",
          "Thursday",
          "Friday",
          "Saturday",
          "Sunday",
          "Monday",
          "Tuesday",
          "Wednesday",
          "Thursday",
          "Friday",
          "Saturday",
          "Sunday",
          "Monday",
          "Tuesday",
          "Wednesday",
          "Thursday",
          "Friday",
          "Saturday",
          "Sunday",
          "Monday",
          "Tuesday",
          "Wednesday",
          "Thursday",
          "Tuesday",
          "Wednesday",
          "Thursday",
          "Friday",
          "Saturday",
          "Sunday",
          "Monday",
          "Tuesday",
          "Wednesday",
          "Thursday",
          "Friday",
          "Saturday",
          "Sunday",
          "Monday",
          "Tuesday",
          "Wednesday",
          "Thursday",
          "Friday",
          "Saturday",
          "Sunday",
          "Monday",
          "Tuesday",
          "Wednesday",
          "Thursday",
          "Friday",
          "Saturday",
          "Sunday",
          "Monday",
          "Tuesday",
          "Wednesday",
          "Thursday",
          "Tuesday",
          "Wednesday",
          "Thursday",
          "Friday",
          "Saturday",
          "Sunday",
          "Monday",
          "Tuesday",
          "Wednesday",
          "Thursday",
          "Friday",
          "Saturday",
          "Sunday",
          "Monday",
          "Tuesday",
          "Wednesday",
          "Thursday",
          "Friday",
          "Saturday",
          "Tuesday",
          "Wednesday",
          "Thursday",
          "Friday",
          "Saturday",
          "Sunday",
          "Monday",
          "Tuesday",
          "Wednesday",
          "Thursday",
          "Friday",
          "Saturday",
          "Sunday",
          "Monday",
          "Tuesday",
          "Wednesday",
          "Thursday",
          "Friday",
          "Saturday",
          "Sunday",
          "Monday",
          "Tuesday",
          "Wednesday",
          "Thursday",
          "Friday",
          "Saturday",
          "Sunday",
          "Monday",
          "Tuesday",
          "Wednesday",
          "Thursday",
          "Tuesday",
          "Wednesday",
          "Thursday",
          "Friday",
          "Saturday",
          "Sunday",
          "Monday",
          "Tuesday",
          "Wednesday",
          "Thursday",
          "Friday",
          "Saturday",
          "Sunday",
          "Monday",
          "Tuesday",
          "Wednesday",
          "Thursday",
          "Friday",
          "Saturday",
          "Sunday",
          "Monday",
          "Tuesday",
          "Wednesday",
          "Thursday",
          "Friday",
          "Saturday",
          "Sunday",
          "Monday",
          "Tuesday",
          "Wednesday",
          "Thursday",
          "Tuesday",
          "Wednesday",
          "Thursday",
          "Friday",
          "Saturday",
          "Sunday",
          "Monday",
          "Tuesday",
          "Wednesday",
          "Thursday",
          "Friday",
          "Saturday",
          "Sunday",
          "Monday",
          "Tuesday",
          "Wednesday",
          "Thursday",
          "Friday",
          "Saturday",
          "Sunday",
          "Monday",
          "Tuesday",
          "Wednesday",
          "Thursday",
          "Friday",
          "Saturday",
          "Sunday",
          "Monday",
          "Tuesday",
          "Tuesday",
          "Wednesday",
          "Thursday",
          "Friday",
          "Saturday",
          "Sunday",
          "Monday",
          "Tuesday",
          "Wednesday",
          "Thursday",
          "Friday",
          "Saturday",
          "Sunday",
          "Monday",
          "Tuesday",
          "Wednesday",
          "Thursday",
          "Friday",
          "Saturday",
          "Sunday",
          "Monday",
          "Tuesday",
          "Wednesday",
          "Thursday",
          "Friday",
          "Saturday",
          "Sunday",
          "Monday",
          "Tuesday",
          "Wednesday",
          "Thursday"
         ],
         "y": [
          13,
          19,
          11,
          34,
          10,
          20,
          16,
          31,
          12,
          8,
          27,
          21,
          5,
          14,
          23,
          11,
          28,
          12,
          34,
          35,
          15,
          24,
          22,
          24,
          6,
          46,
          8,
          11,
          31,
          23,
          0,
          0,
          0,
          0,
          0,
          0,
          22,
          7,
          0,
          0,
          0,
          0,
          0,
          18,
          0,
          0,
          36,
          5,
          0,
          23,
          63,
          6,
          0,
          0,
          0,
          0,
          0,
          0,
          0,
          0,
          0,
          0,
          51,
          16,
          58,
          4,
          42,
          13,
          33,
          58,
          0,
          0,
          0,
          15,
          0,
          1,
          41,
          0,
          53,
          0,
          71,
          24,
          7,
          94,
          0,
          12,
          6,
          17,
          0,
          6,
          19,
          0,
          0,
          0,
          0,
          0,
          0,
          8,
          12,
          0,
          0,
          13,
          0,
          0,
          0,
          0,
          0,
          0,
          0,
          0,
          0,
          7,
          0,
          0,
          0,
          0,
          0,
          0,
          0,
          0,
          0,
          0,
          0,
          0,
          0,
          9,
          0,
          0,
          0,
          0,
          0,
          0,
          0,
          0,
          0,
          6,
          0,
          0,
          0,
          0,
          0,
          0,
          1,
          8,
          0,
          0,
          0,
          0,
          0,
          0,
          0,
          0,
          0,
          0,
          14,
          5,
          3,
          9,
          11,
          29,
          3,
          7,
          63,
          53,
          10,
          0,
          26,
          8,
          24,
          20,
          20,
          40,
          23,
          28,
          8,
          14,
          27,
          20,
          17,
          2,
          0,
          47,
          28,
          25,
          16,
          8,
          0,
          0,
          0,
          0,
          0,
          0,
          0,
          0,
          0,
          0,
          0,
          0,
          0,
          0,
          0,
          0,
          0,
          0,
          0,
          0,
          0,
          0,
          0,
          0,
          0,
          0,
          0,
          0,
          0,
          0,
          9,
          0,
          0,
          0,
          0,
          0,
          7,
          11,
          11,
          10,
          0,
          0,
          0,
          5,
          0,
          0,
          0,
          0,
          0,
          0,
          6,
          10,
          0,
          11,
          0,
          0,
          0,
          0,
          0,
          0,
          0,
          13,
          32,
          48,
          24,
          72,
          7,
          16,
          7,
          43,
          26,
          27,
          35,
          0,
          11,
          0,
          9,
          0,
          0,
          21,
          8,
          0,
          0,
          1,
          8,
          6,
          0,
          5,
          10,
          0,
          5,
          1,
          0,
          5,
          0,
          7,
          23,
          20,
          18,
          7,
          6,
          0,
          23,
          5,
          11,
          0,
          0,
          0,
          0,
          0,
          0,
          8,
          25,
          0,
          0,
          2,
          7,
          0,
          3,
          9,
          0,
          2,
          7,
          0,
          2,
          13,
          0,
          0,
          4,
          0,
          19,
          46,
          23,
          42,
          83,
          58,
          95,
          67,
          98,
          0,
          12,
          92,
          95,
          9,
          95,
          10,
          8,
          32,
          52,
          40,
          143,
          41,
          96,
          88,
          55,
          86,
          116,
          122,
          115,
          0,
          15,
          0,
          0,
          18,
          21,
          0,
          0,
          0,
          0,
          0,
          0,
          0,
          0,
          0,
          0,
          0,
          0,
          0,
          0,
          0,
          11,
          0,
          46,
          42,
          0,
          0,
          0,
          5,
          0,
          8,
          0,
          0,
          0,
          0,
          6,
          0,
          15,
          9,
          0,
          0,
          0,
          9,
          0,
          18,
          0,
          19,
          0,
          5,
          8,
          21,
          47,
          8,
          18,
          38,
          0,
          11,
          26,
          13,
          34,
          11,
          28,
          0,
          14,
          12,
          18,
          0,
          0,
          14,
          35,
          0,
          9,
          0,
          8,
          16,
          42,
          12,
          25,
          5,
          8,
          31,
          23,
          48,
          9,
          16,
          43,
          15,
          4,
          18,
          21,
          39,
          45,
          56,
          38,
          19,
          14,
          18,
          0,
          0,
          0,
          0,
          0,
          0,
          0,
          6,
          0,
          0,
          0,
          0,
          0,
          0,
          0,
          1,
          1,
          0,
          0,
          0,
          0,
          4,
          2,
          0,
          6,
          0,
          4,
          8,
          0,
          0,
          22,
          0,
          0,
          7,
          0,
          30,
          12,
          19,
          15,
          9,
          0,
          21,
          25,
          5,
          0,
          10,
          41,
          14,
          11,
          29,
          29,
          0,
          0,
          10,
          0,
          8,
          0,
          16,
          35,
          30,
          18,
          31,
          0,
          0,
          0,
          0,
          8,
          24,
          66,
          30,
          8,
          29,
          41,
          0,
          66,
          95,
          15,
          8,
          16,
          9,
          19,
          36,
          0,
          40,
          0,
          15,
          5,
          16,
          46,
          125,
          12,
          37,
          41,
          0,
          13,
          0,
          41,
          38,
          0,
          0,
          0,
          28,
          0,
          42,
          16,
          0,
          0,
          11,
          18,
          16,
          13,
          15,
          0,
          0,
          9,
          29,
          0,
          29,
          9,
          0,
          8,
          22,
          40,
          0,
          6,
          16,
          11,
          30,
          54,
          56,
          37,
          32,
          23,
          16,
          74,
          30,
          24,
          65,
          38,
          32,
          16,
          51,
          36,
          45,
          72,
          20,
          8,
          9,
          21,
          16,
          0,
          0,
          11,
          37,
          15,
          0,
          0,
          0,
          6,
          15,
          0,
          0,
          0,
          10,
          19,
          0,
          0,
          0,
          0,
          7,
          0,
          0,
          0,
          0,
          0,
          0,
          0,
          0,
          0,
          0,
          0,
          0,
          0,
          0,
          0,
          0,
          0,
          0,
          12,
          0,
          0,
          0,
          0,
          0,
          0,
          0,
          3,
          0,
          0,
          0,
          0,
          0,
          95,
          0,
          0,
          0,
          0,
          0,
          0,
          0,
          0,
          0,
          0,
          18,
          24,
          0,
          18,
          24,
          31,
          0,
          113,
          0,
          0,
          0,
          18,
          13,
          30,
          0,
          13,
          0,
          9,
          34,
          0,
          0,
          0,
          0,
          35,
          5,
          14,
          24,
          0,
          0,
          3,
          13,
          42,
          41,
          4,
          27,
          33,
          41,
          0,
          31,
          7,
          38,
          8,
          15,
          16,
          0,
          39,
          36,
          36,
          22,
          0,
          0,
          14,
          21,
          34,
          7,
          8,
          8,
          22,
          6,
          0,
          0,
          0,
          31,
          17,
          33,
          34,
          50,
          25,
          0,
          24,
          22,
          12,
          16,
          42,
          0,
          0,
          14,
          31,
          0,
          23,
          13,
          0,
          6,
          26,
          32,
          21,
          0,
          0,
          51,
          69,
          13,
          6,
          59,
          0,
          0,
          39,
          33,
          6,
          48,
          36,
          17,
          15,
          26,
          36,
          12,
          14,
          35,
          42,
          27,
          50,
          23,
          40,
          4,
          8,
          12,
          5,
          8,
          6,
          21,
          6,
          7,
          5,
          6,
          3,
          14,
          33,
          9,
          5,
          10,
          9,
          8,
          1,
          0,
          0,
          22,
          8,
          9,
          15,
          20,
          14,
          12,
          10,
          7,
          4,
          2,
          11,
          16,
          0,
          51,
          5,
          16,
          0,
          18,
          20,
          0,
          26,
          4,
          54,
          14,
          5,
          16,
          14,
          0,
          15,
          14,
          21,
          23,
          21,
          0,
          10,
          19,
          8,
          16,
          12,
          10,
          0,
          16,
          18,
          4,
          10,
          7,
          0,
          10,
          4,
          20,
          10,
          3,
          5,
          0,
          0,
          13,
          13,
          10,
          6,
          7,
          23,
          0,
          0,
          0,
          0,
          22,
          10,
          27,
          18,
          54,
          44,
          44,
          6,
          91,
          5,
          28,
          67,
          28,
          2,
          0,
          0,
          0,
          0,
          22,
          0,
          72,
          4,
          43,
          71,
          0,
          0,
          0,
          0,
          0,
          0,
          0,
          0,
          0,
          10,
          0,
          20,
          45,
          8,
          0,
          0,
          0,
          0,
          14,
          20,
          0,
          0,
          0,
          0,
          0,
          0,
          0,
          0,
          0,
          0,
          7,
          18,
          13,
          1,
          29,
          15,
          5,
          13,
          19,
          13,
          2,
          6,
          1,
          8,
          3,
          8,
          8,
          5,
          4,
          12,
          0,
          3,
          8,
          15,
          17,
          28,
          4,
          19,
          11,
          12,
          1
         ]
        },
        {
         "marker": {
          "color": "red"
         },
         "name": "Lightly Active",
         "type": "bar",
         "x": [
          "Tuesday",
          "Wednesday",
          "Thursday",
          "Friday",
          "Saturday",
          "Sunday",
          "Monday",
          "Tuesday",
          "Wednesday",
          "Thursday",
          "Friday",
          "Saturday",
          "Sunday",
          "Monday",
          "Tuesday",
          "Wednesday",
          "Thursday",
          "Friday",
          "Saturday",
          "Sunday",
          "Monday",
          "Tuesday",
          "Wednesday",
          "Thursday",
          "Friday",
          "Saturday",
          "Sunday",
          "Monday",
          "Tuesday",
          "Wednesday",
          "Thursday",
          "Tuesday",
          "Wednesday",
          "Thursday",
          "Friday",
          "Saturday",
          "Sunday",
          "Monday",
          "Tuesday",
          "Wednesday",
          "Thursday",
          "Friday",
          "Saturday",
          "Sunday",
          "Monday",
          "Tuesday",
          "Wednesday",
          "Thursday",
          "Friday",
          "Saturday",
          "Sunday",
          "Monday",
          "Tuesday",
          "Wednesday",
          "Thursday",
          "Friday",
          "Saturday",
          "Sunday",
          "Monday",
          "Tuesday",
          "Wednesday",
          "Thursday",
          "Tuesday",
          "Wednesday",
          "Thursday",
          "Friday",
          "Saturday",
          "Sunday",
          "Monday",
          "Tuesday",
          "Wednesday",
          "Thursday",
          "Friday",
          "Saturday",
          "Sunday",
          "Monday",
          "Tuesday",
          "Wednesday",
          "Thursday",
          "Friday",
          "Saturday",
          "Sunday",
          "Monday",
          "Tuesday",
          "Wednesday",
          "Thursday",
          "Friday",
          "Saturday",
          "Sunday",
          "Monday",
          "Tuesday",
          "Wednesday",
          "Tuesday",
          "Wednesday",
          "Thursday",
          "Friday",
          "Saturday",
          "Sunday",
          "Monday",
          "Tuesday",
          "Wednesday",
          "Thursday",
          "Friday",
          "Saturday",
          "Sunday",
          "Monday",
          "Tuesday",
          "Wednesday",
          "Thursday",
          "Friday",
          "Saturday",
          "Sunday",
          "Monday",
          "Tuesday",
          "Wednesday",
          "Thursday",
          "Friday",
          "Saturday",
          "Sunday",
          "Monday",
          "Tuesday",
          "Wednesday",
          "Thursday",
          "Tuesday",
          "Wednesday",
          "Thursday",
          "Friday",
          "Saturday",
          "Sunday",
          "Monday",
          "Tuesday",
          "Wednesday",
          "Thursday",
          "Friday",
          "Saturday",
          "Sunday",
          "Monday",
          "Tuesday",
          "Wednesday",
          "Thursday",
          "Friday",
          "Saturday",
          "Sunday",
          "Monday",
          "Tuesday",
          "Wednesday",
          "Thursday",
          "Friday",
          "Saturday",
          "Sunday",
          "Monday",
          "Tuesday",
          "Wednesday",
          "Thursday",
          "Tuesday",
          "Wednesday",
          "Thursday",
          "Friday",
          "Saturday",
          "Sunday",
          "Monday",
          "Tuesday",
          "Wednesday",
          "Thursday",
          "Friday",
          "Saturday",
          "Sunday",
          "Monday",
          "Tuesday",
          "Wednesday",
          "Thursday",
          "Friday",
          "Saturday",
          "Sunday",
          "Monday",
          "Tuesday",
          "Wednesday",
          "Thursday",
          "Friday",
          "Saturday",
          "Sunday",
          "Monday",
          "Tuesday",
          "Wednesday",
          "Thursday",
          "Tuesday",
          "Wednesday",
          "Thursday",
          "Friday",
          "Saturday",
          "Sunday",
          "Monday",
          "Tuesday",
          "Wednesday",
          "Thursday",
          "Friday",
          "Saturday",
          "Sunday",
          "Monday",
          "Tuesday",
          "Wednesday",
          "Thursday",
          "Friday",
          "Saturday",
          "Sunday",
          "Monday",
          "Tuesday",
          "Wednesday",
          "Thursday",
          "Friday",
          "Saturday",
          "Sunday",
          "Monday",
          "Tuesday",
          "Wednesday",
          "Thursday",
          "Tuesday",
          "Wednesday",
          "Thursday",
          "Friday",
          "Saturday",
          "Sunday",
          "Monday",
          "Tuesday",
          "Wednesday",
          "Thursday",
          "Friday",
          "Saturday",
          "Sunday",
          "Monday",
          "Tuesday",
          "Wednesday",
          "Thursday",
          "Friday",
          "Saturday",
          "Sunday",
          "Monday",
          "Tuesday",
          "Wednesday",
          "Thursday",
          "Friday",
          "Saturday",
          "Sunday",
          "Monday",
          "Tuesday",
          "Wednesday",
          "Thursday",
          "Tuesday",
          "Wednesday",
          "Thursday",
          "Friday",
          "Saturday",
          "Sunday",
          "Monday",
          "Tuesday",
          "Wednesday",
          "Thursday",
          "Friday",
          "Saturday",
          "Sunday",
          "Monday",
          "Tuesday",
          "Wednesday",
          "Thursday",
          "Friday",
          "Tuesday",
          "Wednesday",
          "Thursday",
          "Friday",
          "Saturday",
          "Sunday",
          "Monday",
          "Tuesday",
          "Wednesday",
          "Thursday",
          "Friday",
          "Saturday",
          "Sunday",
          "Monday",
          "Tuesday",
          "Wednesday",
          "Thursday",
          "Friday",
          "Saturday",
          "Sunday",
          "Monday",
          "Tuesday",
          "Wednesday",
          "Thursday",
          "Friday",
          "Saturday",
          "Sunday",
          "Monday",
          "Tuesday",
          "Wednesday",
          "Thursday",
          "Tuesday",
          "Wednesday",
          "Thursday",
          "Friday",
          "Saturday",
          "Sunday",
          "Monday",
          "Tuesday",
          "Wednesday",
          "Thursday",
          "Friday",
          "Saturday",
          "Sunday",
          "Monday",
          "Tuesday",
          "Wednesday",
          "Thursday",
          "Friday",
          "Saturday",
          "Sunday",
          "Tuesday",
          "Wednesday",
          "Thursday",
          "Friday",
          "Saturday",
          "Sunday",
          "Monday",
          "Tuesday",
          "Wednesday",
          "Thursday",
          "Friday",
          "Saturday",
          "Sunday",
          "Monday",
          "Tuesday",
          "Wednesday",
          "Thursday",
          "Friday",
          "Saturday",
          "Sunday",
          "Monday",
          "Tuesday",
          "Wednesday",
          "Thursday",
          "Friday",
          "Saturday",
          "Sunday",
          "Monday",
          "Tuesday",
          "Wednesday",
          "Tuesday",
          "Wednesday",
          "Thursday",
          "Friday",
          "Saturday",
          "Sunday",
          "Monday",
          "Tuesday",
          "Wednesday",
          "Thursday",
          "Friday",
          "Saturday",
          "Sunday",
          "Monday",
          "Tuesday",
          "Wednesday",
          "Thursday",
          "Friday",
          "Saturday",
          "Sunday",
          "Monday",
          "Tuesday",
          "Wednesday",
          "Thursday",
          "Friday",
          "Saturday",
          "Sunday",
          "Monday",
          "Tuesday",
          "Wednesday",
          "Thursday",
          "Tuesday",
          "Wednesday",
          "Thursday",
          "Friday",
          "Tuesday",
          "Wednesday",
          "Thursday",
          "Friday",
          "Saturday",
          "Sunday",
          "Monday",
          "Tuesday",
          "Wednesday",
          "Thursday",
          "Friday",
          "Saturday",
          "Sunday",
          "Monday",
          "Tuesday",
          "Wednesday",
          "Thursday",
          "Friday",
          "Saturday",
          "Sunday",
          "Monday",
          "Tuesday",
          "Wednesday",
          "Thursday",
          "Friday",
          "Saturday",
          "Sunday",
          "Monday",
          "Tuesday",
          "Wednesday",
          "Thursday",
          "Tuesday",
          "Wednesday",
          "Thursday",
          "Friday",
          "Saturday",
          "Sunday",
          "Monday",
          "Tuesday",
          "Wednesday",
          "Thursday",
          "Friday",
          "Saturday",
          "Sunday",
          "Monday",
          "Tuesday",
          "Wednesday",
          "Thursday",
          "Friday",
          "Saturday",
          "Sunday",
          "Monday",
          "Tuesday",
          "Wednesday",
          "Thursday",
          "Friday",
          "Saturday",
          "Sunday",
          "Monday",
          "Tuesday",
          "Wednesday",
          "Thursday",
          "Tuesday",
          "Wednesday",
          "Thursday",
          "Friday",
          "Saturday",
          "Sunday",
          "Monday",
          "Tuesday",
          "Wednesday",
          "Thursday",
          "Friday",
          "Saturday",
          "Sunday",
          "Monday",
          "Tuesday",
          "Wednesday",
          "Thursday",
          "Friday",
          "Saturday",
          "Sunday",
          "Monday",
          "Tuesday",
          "Wednesday",
          "Thursday",
          "Friday",
          "Saturday",
          "Sunday",
          "Monday",
          "Tuesday",
          "Wednesday",
          "Thursday",
          "Tuesday",
          "Wednesday",
          "Thursday",
          "Friday",
          "Saturday",
          "Sunday",
          "Monday",
          "Tuesday",
          "Wednesday",
          "Thursday",
          "Friday",
          "Saturday",
          "Sunday",
          "Monday",
          "Tuesday",
          "Wednesday",
          "Thursday",
          "Friday",
          "Saturday",
          "Sunday",
          "Monday",
          "Tuesday",
          "Wednesday",
          "Thursday",
          "Friday",
          "Saturday",
          "Sunday",
          "Monday",
          "Tuesday",
          "Wednesday",
          "Thursday",
          "Tuesday",
          "Wednesday",
          "Thursday",
          "Friday",
          "Saturday",
          "Sunday",
          "Monday",
          "Tuesday",
          "Wednesday",
          "Thursday",
          "Friday",
          "Saturday",
          "Sunday",
          "Monday",
          "Tuesday",
          "Wednesday",
          "Thursday",
          "Friday",
          "Saturday",
          "Sunday",
          "Monday",
          "Tuesday",
          "Wednesday",
          "Thursday",
          "Friday",
          "Saturday",
          "Sunday",
          "Monday",
          "Tuesday",
          "Wednesday",
          "Thursday",
          "Tuesday",
          "Wednesday",
          "Thursday",
          "Friday",
          "Saturday",
          "Sunday",
          "Monday",
          "Tuesday",
          "Wednesday",
          "Thursday",
          "Friday",
          "Saturday",
          "Sunday",
          "Monday",
          "Tuesday",
          "Wednesday",
          "Thursday",
          "Friday",
          "Saturday",
          "Sunday",
          "Monday",
          "Tuesday",
          "Wednesday",
          "Thursday",
          "Friday",
          "Saturday",
          "Sunday",
          "Monday",
          "Tuesday",
          "Wednesday",
          "Thursday",
          "Tuesday",
          "Wednesday",
          "Thursday",
          "Friday",
          "Saturday",
          "Sunday",
          "Monday",
          "Tuesday",
          "Wednesday",
          "Thursday",
          "Friday",
          "Saturday",
          "Sunday",
          "Monday",
          "Tuesday",
          "Wednesday",
          "Thursday",
          "Friday",
          "Saturday",
          "Sunday",
          "Monday",
          "Tuesday",
          "Wednesday",
          "Thursday",
          "Friday",
          "Saturday",
          "Sunday",
          "Monday",
          "Tuesday",
          "Wednesday",
          "Tuesday",
          "Wednesday",
          "Thursday",
          "Friday",
          "Saturday",
          "Sunday",
          "Monday",
          "Tuesday",
          "Wednesday",
          "Thursday",
          "Friday",
          "Saturday",
          "Sunday",
          "Monday",
          "Tuesday",
          "Wednesday",
          "Thursday",
          "Friday",
          "Saturday",
          "Sunday",
          "Monday",
          "Tuesday",
          "Wednesday",
          "Thursday",
          "Friday",
          "Saturday",
          "Sunday",
          "Monday",
          "Tuesday",
          "Wednesday",
          "Thursday",
          "Friday",
          "Saturday",
          "Sunday",
          "Monday",
          "Tuesday",
          "Wednesday",
          "Thursday",
          "Friday",
          "Saturday",
          "Sunday",
          "Monday",
          "Tuesday",
          "Wednesday",
          "Thursday",
          "Friday",
          "Saturday",
          "Sunday",
          "Monday",
          "Tuesday",
          "Wednesday",
          "Thursday",
          "Friday",
          "Saturday",
          "Sunday",
          "Monday",
          "Tuesday",
          "Tuesday",
          "Wednesday",
          "Thursday",
          "Friday",
          "Saturday",
          "Sunday",
          "Monday",
          "Tuesday",
          "Wednesday",
          "Thursday",
          "Friday",
          "Saturday",
          "Sunday",
          "Monday",
          "Tuesday",
          "Wednesday",
          "Thursday",
          "Friday",
          "Saturday",
          "Sunday",
          "Monday",
          "Tuesday",
          "Wednesday",
          "Thursday",
          "Friday",
          "Saturday",
          "Tuesday",
          "Wednesday",
          "Thursday",
          "Friday",
          "Saturday",
          "Sunday",
          "Monday",
          "Tuesday",
          "Wednesday",
          "Thursday",
          "Friday",
          "Saturday",
          "Sunday",
          "Monday",
          "Tuesday",
          "Wednesday",
          "Thursday",
          "Friday",
          "Saturday",
          "Sunday",
          "Monday",
          "Tuesday",
          "Wednesday",
          "Thursday",
          "Friday",
          "Saturday",
          "Sunday",
          "Monday",
          "Tuesday",
          "Wednesday",
          "Thursday",
          "Tuesday",
          "Wednesday",
          "Thursday",
          "Friday",
          "Saturday",
          "Sunday",
          "Monday",
          "Tuesday",
          "Wednesday",
          "Thursday",
          "Friday",
          "Saturday",
          "Sunday",
          "Monday",
          "Tuesday",
          "Wednesday",
          "Thursday",
          "Friday",
          "Saturday",
          "Sunday",
          "Monday",
          "Tuesday",
          "Wednesday",
          "Thursday",
          "Friday",
          "Saturday",
          "Tuesday",
          "Wednesday",
          "Thursday",
          "Friday",
          "Saturday",
          "Sunday",
          "Monday",
          "Tuesday",
          "Wednesday",
          "Thursday",
          "Friday",
          "Saturday",
          "Sunday",
          "Monday",
          "Tuesday",
          "Wednesday",
          "Thursday",
          "Friday",
          "Saturday",
          "Sunday",
          "Monday",
          "Tuesday",
          "Wednesday",
          "Thursday",
          "Friday",
          "Saturday",
          "Sunday",
          "Monday",
          "Tuesday",
          "Wednesday",
          "Thursday",
          "Tuesday",
          "Wednesday",
          "Thursday",
          "Friday",
          "Saturday",
          "Sunday",
          "Monday",
          "Tuesday",
          "Wednesday",
          "Thursday",
          "Friday",
          "Saturday",
          "Sunday",
          "Monday",
          "Tuesday",
          "Wednesday",
          "Thursday",
          "Friday",
          "Saturday",
          "Sunday",
          "Monday",
          "Tuesday",
          "Wednesday",
          "Thursday",
          "Friday",
          "Saturday",
          "Sunday",
          "Monday",
          "Tuesday",
          "Wednesday",
          "Thursday",
          "Tuesday",
          "Wednesday",
          "Thursday",
          "Friday",
          "Saturday",
          "Sunday",
          "Monday",
          "Tuesday",
          "Wednesday",
          "Thursday",
          "Friday",
          "Saturday",
          "Sunday",
          "Monday",
          "Tuesday",
          "Wednesday",
          "Thursday",
          "Friday",
          "Saturday",
          "Tuesday",
          "Wednesday",
          "Thursday",
          "Friday",
          "Saturday",
          "Sunday",
          "Monday",
          "Tuesday",
          "Wednesday",
          "Thursday",
          "Friday",
          "Saturday",
          "Sunday",
          "Monday",
          "Tuesday",
          "Wednesday",
          "Thursday",
          "Friday",
          "Saturday",
          "Sunday",
          "Monday",
          "Tuesday",
          "Wednesday",
          "Thursday",
          "Friday",
          "Saturday",
          "Sunday",
          "Monday",
          "Tuesday",
          "Wednesday",
          "Thursday",
          "Tuesday",
          "Wednesday",
          "Thursday",
          "Friday",
          "Saturday",
          "Sunday",
          "Monday",
          "Tuesday",
          "Wednesday",
          "Thursday",
          "Friday",
          "Saturday",
          "Sunday",
          "Monday",
          "Tuesday",
          "Wednesday",
          "Thursday",
          "Friday",
          "Saturday",
          "Sunday",
          "Monday",
          "Tuesday",
          "Wednesday",
          "Thursday",
          "Friday",
          "Saturday",
          "Sunday",
          "Monday",
          "Tuesday",
          "Wednesday",
          "Thursday",
          "Tuesday",
          "Wednesday",
          "Thursday",
          "Friday",
          "Saturday",
          "Sunday",
          "Monday",
          "Tuesday",
          "Wednesday",
          "Thursday",
          "Friday",
          "Saturday",
          "Sunday",
          "Monday",
          "Tuesday",
          "Wednesday",
          "Thursday",
          "Friday",
          "Saturday",
          "Sunday",
          "Monday",
          "Tuesday",
          "Wednesday",
          "Thursday",
          "Friday",
          "Saturday",
          "Sunday",
          "Monday",
          "Tuesday",
          "Tuesday",
          "Wednesday",
          "Thursday",
          "Friday",
          "Saturday",
          "Sunday",
          "Monday",
          "Tuesday",
          "Wednesday",
          "Thursday",
          "Friday",
          "Saturday",
          "Sunday",
          "Monday",
          "Tuesday",
          "Wednesday",
          "Thursday",
          "Friday",
          "Saturday",
          "Sunday",
          "Monday",
          "Tuesday",
          "Wednesday",
          "Thursday",
          "Friday",
          "Saturday",
          "Sunday",
          "Monday",
          "Tuesday",
          "Wednesday",
          "Thursday"
         ],
         "y": [
          328,
          217,
          181,
          209,
          221,
          164,
          233,
          264,
          205,
          211,
          130,
          262,
          238,
          216,
          279,
          243,
          189,
          243,
          217,
          246,
          277,
          254,
          203,
          250,
          289,
          175,
          203,
          206,
          214,
          251,
          0,
          146,
          148,
          236,
          96,
          176,
          127,
          202,
          141,
          151,
          186,
          199,
          227,
          185,
          202,
          140,
          154,
          115,
          150,
          224,
          171,
          166,
          96,
          118,
          117,
          102,
          182,
          152,
          91,
          139,
          112,
          107,
          256,
          135,
          252,
          170,
          212,
          186,
          121,
          278,
          125,
          38,
          86,
          160,
          89,
          94,
          223,
          118,
          227,
          120,
          402,
          146,
          148,
          221,
          52,
          81,
          369,
          243,
          295,
          303,
          155,
          49,
          339,
          248,
          373,
          176,
          147,
          199,
          217,
          10,
          1,
          308,
          220,
          139,
          0,
          0,
          0,
          1,
          302,
          247,
          184,
          75,
          0,
          184,
          87,
          120,
          2,
          0,
          0,
          0,
          0,
          0,
          0,
          55,
          32,
          88,
          51,
          0,
          0,
          17,
          0,
          0,
          0,
          10,
          145,
          75,
          12,
          192,
          0,
          95,
          0,
          0,
          70,
          94,
          17,
          87,
          0,
          108,
          48,
          0,
          0,
          0,
          0,
          0,
          227,
          292,
          257,
          282,
          151,
          331,
          311,
          250,
          276,
          255,
          273,
          249,
          216,
          217,
          275,
          282,
          291,
          281,
          361,
          245,
          277,
          250,
          272,
          253,
          295,
          149,
          135,
          297,
          271,
          224,
          236,
          181,
          238,
          197,
          188,
          150,
          60,
          182,
          141,
          327,
          153,
          162,
          432,
          164,
          260,
          288,
          286,
          331,
          352,
          233,
          191,
          355,
          304,
          345,
          475,
          383,
          229,
          258,
          401,
          17,
          330,
          343,
          306,
          335,
          191,
          245,
          195,
          249,
          260,
          228,
          283,
          127,
          266,
          242,
          204,
          152,
          147,
          82,
          76,
          45,
          234,
          40,
          123,
          206,
          52,
          223,
          204,
          319,
          247,
          145,
          290,
          300,
          128,
          320,
          195,
          206,
          284,
          268,
          249,
          206,
          382,
          269,
          208,
          206,
          360,
          360,
          277,
          227,
          295,
          229,
          4,
          356,
          404,
          331,
          448,
          305,
          160,
          311,
          389,
          378,
          371,
          366,
          330,
          190,
          359,
          309,
          197,
          213,
          206,
          248,
          196,
          334,
          363,
          420,
          311,
          370,
          52,
          326,
          345,
          373,
          319,
          268,
          280,
          371,
          370,
          335,
          356,
          322,
          343,
          376,
          274,
          376,
          206,
          303,
          292,
          416,
          333,
          346,
          385,
          402,
          300,
          172,
          131,
          153,
          214,
          183,
          153,
          205,
          214,
          221,
          164,
          242,
          188,
          252,
          129,
          133,
          170,
          176,
          190,
          150,
          194,
          124,
          176,
          258,
          142,
          178,
          168,
          208,
          171,
          151,
          196,
          9,
          331,
          0,
          3,
          87,
          55,
          2,
          2,
          0,
          0,
          0,
          0,
          0,
          0,
          0,
          0,
          0,
          0,
          0,
          0,
          0,
          31,
          174,
          346,
          196,
          177,
          184,
          263,
          173,
          206,
          134,
          21,
          164,
          160,
          0,
          88,
          0,
          96,
          339,
          228,
          194,
          3,
          58,
          311,
          306,
          34,
          176,
          233,
          191,
          390,
          288,
          300,
          359,
          289,
          196,
          67,
          344,
          287,
          313,
          328,
          314,
          279,
          153,
          374,
          329,
          311,
          2,
          0,
          150,
          219,
          299,
          253,
          201,
          239,
          249,
          228,
          272,
          220,
          215,
          239,
          301,
          224,
          241,
          234,
          236,
          300,
          241,
          204,
          306,
          251,
          199,
          262,
          260,
          178,
          258,
          267,
          256,
          108,
          196,
          194,
          231,
          350,
          225,
          114,
          162,
          121,
          137,
          215,
          317,
          201,
          244,
          179,
          180,
          194,
          236,
          226,
          290,
          240,
          200,
          233,
          180,
          185,
          229,
          108,
          308,
          266,
          231,
          232,
          58,
          318,
          127,
          279,
          262,
          308,
          304,
          331,
          248,
          222,
          432,
          273,
          308,
          395,
          340,
          283,
          312,
          367,
          197,
          293,
          190,
          383,
          237,
          252,
          370,
          202,
          233,
          238,
          339,
          220,
          324,
          247,
          263,
          258,
          271,
          256,
          335,
          302,
          191,
          179,
          260,
          144,
          72,
          408,
          281,
          270,
          216,
          238,
          232,
          267,
          263,
          0,
          195,
          313,
          251,
          241,
          207,
          439,
          192,
          253,
          262,
          235,
          68,
          277,
          226,
          256,
          239,
          288,
          46,
          206,
          249,
          148,
          177,
          270,
          272,
          104,
          201,
          238,
          206,
          165,
          270,
          84,
          237,
          227,
          247,
          224,
          241,
          229,
          96,
          210,
          251,
          265,
          195,
          48,
          140,
          144,
          176,
          199,
          158,
          159,
          130,
          111,
          113,
          175,
          200,
          223,
          141,
          214,
          181,
          190,
          141,
          165,
          163,
          178,
          235,
          212,
          141,
          143,
          79,
          0,
          0,
          70,
          194,
          63,
          0,
          0,
          0,
          513,
          518,
          312,
          241,
          480,
          349,
          294,
          402,
          512,
          362,
          0,
          352,
          458,
          141,
          461,
          343,
          397,
          236,
          0,
          156,
          487,
          133,
          412,
          318,
          197,
          199,
          350,
          363,
          328,
          258,
          225,
          271,
          321,
          258,
          0,
          302,
          0,
          258,
          249,
          0,
          287,
          255,
          0,
          324,
          282,
          268,
          240,
          272,
          239,
          305,
          227,
          251,
          264,
          0,
          0,
          85,
          105,
          58,
          9,
          19,
          146,
          0,
          178,
          0,
          20,
          0,
          11,
          92,
          47,
          0,
          15,
          0,
          84,
          50,
          0,
          1,
          0,
          0,
          75,
          49,
          189,
          142,
          86,
          217,
          280,
          295,
          238,
          195,
          297,
          214,
          240,
          347,
          199,
          282,
          254,
          279,
          288,
          369,
          237,
          215,
          313,
          267,
          284,
          305,
          299,
          328,
          151,
          231,
          275,
          199,
          105,
          355,
          261,
          304,
          202,
          203,
          305,
          284,
          304,
          347,
          327,
          261,
          223,
          419,
          379,
          424,
          337,
          401,
          382,
          200,
          237,
          250,
          330,
          0,
          317,
          247,
          0,
          153,
          155,
          189,
          139,
          3,
          0,
          114,
          124,
          145,
          206,
          153,
          90,
          125,
          129,
          132,
          145,
          161,
          182,
          308,
          258,
          139,
          152,
          135,
          149,
          154,
          209,
          147,
          171,
          106,
          128,
          58,
          123,
          156,
          193,
          158,
          83,
          195,
          195,
          191,
          158,
          170,
          117,
          223,
          182,
          209,
          185,
          183,
          153,
          159,
          131,
          51,
          95,
          165,
          123,
          130,
          90,
          148,
          228,
          148,
          115,
          184,
          39,
          154,
          96,
          33,
          105,
          115,
          157,
          130,
          164,
          216,
          172,
          120,
          191,
          82,
          118,
          108,
          104,
          20,
          136,
          0,
          156,
          169,
          174,
          190,
          142,
          93,
          174,
          154,
          169,
          145,
          159,
          136,
          135,
          141,
          161,
          192,
          139,
          172,
          121,
          127,
          142,
          195,
          167,
          214,
          166,
          158,
          139,
          171,
          152,
          184,
          102,
          196,
          163,
          134,
          65,
          0,
          0,
          105,
          166,
          167,
          158,
          212,
          238,
          206,
          122,
          214,
          129,
          203,
          258,
          317,
          117,
          0,
          0,
          0,
          70,
          166,
          250,
          182,
          110,
          162,
          177,
          0,
          116,
          82,
          84,
          126,
          12,
          0,
          0,
          0,
          139,
          9,
          195,
          232,
          19,
          0,
          80,
          112,
          310,
          380,
          301,
          79,
          101,
          156,
          129,
          0,
          0,
          0,
          0,
          0,
          0,
          312,
          216,
          298,
          281,
          429,
          307,
          191,
          214,
          225,
          226,
          236,
          300,
          227,
          218,
          258,
          235,
          231,
          210,
          223,
          166,
          105,
          229,
          212,
          188,
          232,
          271,
          245,
          217,
          224,
          213,
          137
         ]
        }
       ],
       "layout": {
        "barmode": "group",
        "template": {
         "data": {
          "bar": [
           {
            "error_x": {
             "color": "#2a3f5f"
            },
            "error_y": {
             "color": "#2a3f5f"
            },
            "marker": {
             "line": {
              "color": "#E5ECF6",
              "width": 0.5
             },
             "pattern": {
              "fillmode": "overlay",
              "size": 10,
              "solidity": 0.2
             }
            },
            "type": "bar"
           }
          ],
          "barpolar": [
           {
            "marker": {
             "line": {
              "color": "#E5ECF6",
              "width": 0.5
             },
             "pattern": {
              "fillmode": "overlay",
              "size": 10,
              "solidity": 0.2
             }
            },
            "type": "barpolar"
           }
          ],
          "carpet": [
           {
            "aaxis": {
             "endlinecolor": "#2a3f5f",
             "gridcolor": "white",
             "linecolor": "white",
             "minorgridcolor": "white",
             "startlinecolor": "#2a3f5f"
            },
            "baxis": {
             "endlinecolor": "#2a3f5f",
             "gridcolor": "white",
             "linecolor": "white",
             "minorgridcolor": "white",
             "startlinecolor": "#2a3f5f"
            },
            "type": "carpet"
           }
          ],
          "choropleth": [
           {
            "colorbar": {
             "outlinewidth": 0,
             "ticks": ""
            },
            "type": "choropleth"
           }
          ],
          "contour": [
           {
            "colorbar": {
             "outlinewidth": 0,
             "ticks": ""
            },
            "colorscale": [
             [
              0,
              "#0d0887"
             ],
             [
              0.1111111111111111,
              "#46039f"
             ],
             [
              0.2222222222222222,
              "#7201a8"
             ],
             [
              0.3333333333333333,
              "#9c179e"
             ],
             [
              0.4444444444444444,
              "#bd3786"
             ],
             [
              0.5555555555555556,
              "#d8576b"
             ],
             [
              0.6666666666666666,
              "#ed7953"
             ],
             [
              0.7777777777777778,
              "#fb9f3a"
             ],
             [
              0.8888888888888888,
              "#fdca26"
             ],
             [
              1,
              "#f0f921"
             ]
            ],
            "type": "contour"
           }
          ],
          "contourcarpet": [
           {
            "colorbar": {
             "outlinewidth": 0,
             "ticks": ""
            },
            "type": "contourcarpet"
           }
          ],
          "heatmap": [
           {
            "colorbar": {
             "outlinewidth": 0,
             "ticks": ""
            },
            "colorscale": [
             [
              0,
              "#0d0887"
             ],
             [
              0.1111111111111111,
              "#46039f"
             ],
             [
              0.2222222222222222,
              "#7201a8"
             ],
             [
              0.3333333333333333,
              "#9c179e"
             ],
             [
              0.4444444444444444,
              "#bd3786"
             ],
             [
              0.5555555555555556,
              "#d8576b"
             ],
             [
              0.6666666666666666,
              "#ed7953"
             ],
             [
              0.7777777777777778,
              "#fb9f3a"
             ],
             [
              0.8888888888888888,
              "#fdca26"
             ],
             [
              1,
              "#f0f921"
             ]
            ],
            "type": "heatmap"
           }
          ],
          "heatmapgl": [
           {
            "colorbar": {
             "outlinewidth": 0,
             "ticks": ""
            },
            "colorscale": [
             [
              0,
              "#0d0887"
             ],
             [
              0.1111111111111111,
              "#46039f"
             ],
             [
              0.2222222222222222,
              "#7201a8"
             ],
             [
              0.3333333333333333,
              "#9c179e"
             ],
             [
              0.4444444444444444,
              "#bd3786"
             ],
             [
              0.5555555555555556,
              "#d8576b"
             ],
             [
              0.6666666666666666,
              "#ed7953"
             ],
             [
              0.7777777777777778,
              "#fb9f3a"
             ],
             [
              0.8888888888888888,
              "#fdca26"
             ],
             [
              1,
              "#f0f921"
             ]
            ],
            "type": "heatmapgl"
           }
          ],
          "histogram": [
           {
            "marker": {
             "pattern": {
              "fillmode": "overlay",
              "size": 10,
              "solidity": 0.2
             }
            },
            "type": "histogram"
           }
          ],
          "histogram2d": [
           {
            "colorbar": {
             "outlinewidth": 0,
             "ticks": ""
            },
            "colorscale": [
             [
              0,
              "#0d0887"
             ],
             [
              0.1111111111111111,
              "#46039f"
             ],
             [
              0.2222222222222222,
              "#7201a8"
             ],
             [
              0.3333333333333333,
              "#9c179e"
             ],
             [
              0.4444444444444444,
              "#bd3786"
             ],
             [
              0.5555555555555556,
              "#d8576b"
             ],
             [
              0.6666666666666666,
              "#ed7953"
             ],
             [
              0.7777777777777778,
              "#fb9f3a"
             ],
             [
              0.8888888888888888,
              "#fdca26"
             ],
             [
              1,
              "#f0f921"
             ]
            ],
            "type": "histogram2d"
           }
          ],
          "histogram2dcontour": [
           {
            "colorbar": {
             "outlinewidth": 0,
             "ticks": ""
            },
            "colorscale": [
             [
              0,
              "#0d0887"
             ],
             [
              0.1111111111111111,
              "#46039f"
             ],
             [
              0.2222222222222222,
              "#7201a8"
             ],
             [
              0.3333333333333333,
              "#9c179e"
             ],
             [
              0.4444444444444444,
              "#bd3786"
             ],
             [
              0.5555555555555556,
              "#d8576b"
             ],
             [
              0.6666666666666666,
              "#ed7953"
             ],
             [
              0.7777777777777778,
              "#fb9f3a"
             ],
             [
              0.8888888888888888,
              "#fdca26"
             ],
             [
              1,
              "#f0f921"
             ]
            ],
            "type": "histogram2dcontour"
           }
          ],
          "mesh3d": [
           {
            "colorbar": {
             "outlinewidth": 0,
             "ticks": ""
            },
            "type": "mesh3d"
           }
          ],
          "parcoords": [
           {
            "line": {
             "colorbar": {
              "outlinewidth": 0,
              "ticks": ""
             }
            },
            "type": "parcoords"
           }
          ],
          "pie": [
           {
            "automargin": true,
            "type": "pie"
           }
          ],
          "scatter": [
           {
            "fillpattern": {
             "fillmode": "overlay",
             "size": 10,
             "solidity": 0.2
            },
            "type": "scatter"
           }
          ],
          "scatter3d": [
           {
            "line": {
             "colorbar": {
              "outlinewidth": 0,
              "ticks": ""
             }
            },
            "marker": {
             "colorbar": {
              "outlinewidth": 0,
              "ticks": ""
             }
            },
            "type": "scatter3d"
           }
          ],
          "scattercarpet": [
           {
            "marker": {
             "colorbar": {
              "outlinewidth": 0,
              "ticks": ""
             }
            },
            "type": "scattercarpet"
           }
          ],
          "scattergeo": [
           {
            "marker": {
             "colorbar": {
              "outlinewidth": 0,
              "ticks": ""
             }
            },
            "type": "scattergeo"
           }
          ],
          "scattergl": [
           {
            "marker": {
             "colorbar": {
              "outlinewidth": 0,
              "ticks": ""
             }
            },
            "type": "scattergl"
           }
          ],
          "scattermapbox": [
           {
            "marker": {
             "colorbar": {
              "outlinewidth": 0,
              "ticks": ""
             }
            },
            "type": "scattermapbox"
           }
          ],
          "scatterpolar": [
           {
            "marker": {
             "colorbar": {
              "outlinewidth": 0,
              "ticks": ""
             }
            },
            "type": "scatterpolar"
           }
          ],
          "scatterpolargl": [
           {
            "marker": {
             "colorbar": {
              "outlinewidth": 0,
              "ticks": ""
             }
            },
            "type": "scatterpolargl"
           }
          ],
          "scatterternary": [
           {
            "marker": {
             "colorbar": {
              "outlinewidth": 0,
              "ticks": ""
             }
            },
            "type": "scatterternary"
           }
          ],
          "surface": [
           {
            "colorbar": {
             "outlinewidth": 0,
             "ticks": ""
            },
            "colorscale": [
             [
              0,
              "#0d0887"
             ],
             [
              0.1111111111111111,
              "#46039f"
             ],
             [
              0.2222222222222222,
              "#7201a8"
             ],
             [
              0.3333333333333333,
              "#9c179e"
             ],
             [
              0.4444444444444444,
              "#bd3786"
             ],
             [
              0.5555555555555556,
              "#d8576b"
             ],
             [
              0.6666666666666666,
              "#ed7953"
             ],
             [
              0.7777777777777778,
              "#fb9f3a"
             ],
             [
              0.8888888888888888,
              "#fdca26"
             ],
             [
              1,
              "#f0f921"
             ]
            ],
            "type": "surface"
           }
          ],
          "table": [
           {
            "cells": {
             "fill": {
              "color": "#EBF0F8"
             },
             "line": {
              "color": "white"
             }
            },
            "header": {
             "fill": {
              "color": "#C8D4E3"
             },
             "line": {
              "color": "white"
             }
            },
            "type": "table"
           }
          ]
         },
         "layout": {
          "annotationdefaults": {
           "arrowcolor": "#2a3f5f",
           "arrowhead": 0,
           "arrowwidth": 1
          },
          "autotypenumbers": "strict",
          "coloraxis": {
           "colorbar": {
            "outlinewidth": 0,
            "ticks": ""
           }
          },
          "colorscale": {
           "diverging": [
            [
             0,
             "#8e0152"
            ],
            [
             0.1,
             "#c51b7d"
            ],
            [
             0.2,
             "#de77ae"
            ],
            [
             0.3,
             "#f1b6da"
            ],
            [
             0.4,
             "#fde0ef"
            ],
            [
             0.5,
             "#f7f7f7"
            ],
            [
             0.6,
             "#e6f5d0"
            ],
            [
             0.7,
             "#b8e186"
            ],
            [
             0.8,
             "#7fbc41"
            ],
            [
             0.9,
             "#4d9221"
            ],
            [
             1,
             "#276419"
            ]
           ],
           "sequential": [
            [
             0,
             "#0d0887"
            ],
            [
             0.1111111111111111,
             "#46039f"
            ],
            [
             0.2222222222222222,
             "#7201a8"
            ],
            [
             0.3333333333333333,
             "#9c179e"
            ],
            [
             0.4444444444444444,
             "#bd3786"
            ],
            [
             0.5555555555555556,
             "#d8576b"
            ],
            [
             0.6666666666666666,
             "#ed7953"
            ],
            [
             0.7777777777777778,
             "#fb9f3a"
            ],
            [
             0.8888888888888888,
             "#fdca26"
            ],
            [
             1,
             "#f0f921"
            ]
           ],
           "sequentialminus": [
            [
             0,
             "#0d0887"
            ],
            [
             0.1111111111111111,
             "#46039f"
            ],
            [
             0.2222222222222222,
             "#7201a8"
            ],
            [
             0.3333333333333333,
             "#9c179e"
            ],
            [
             0.4444444444444444,
             "#bd3786"
            ],
            [
             0.5555555555555556,
             "#d8576b"
            ],
            [
             0.6666666666666666,
             "#ed7953"
            ],
            [
             0.7777777777777778,
             "#fb9f3a"
            ],
            [
             0.8888888888888888,
             "#fdca26"
            ],
            [
             1,
             "#f0f921"
            ]
           ]
          },
          "colorway": [
           "#636efa",
           "#EF553B",
           "#00cc96",
           "#ab63fa",
           "#FFA15A",
           "#19d3f3",
           "#FF6692",
           "#B6E880",
           "#FF97FF",
           "#FECB52"
          ],
          "font": {
           "color": "#2a3f5f"
          },
          "geo": {
           "bgcolor": "white",
           "lakecolor": "white",
           "landcolor": "#E5ECF6",
           "showlakes": true,
           "showland": true,
           "subunitcolor": "white"
          },
          "hoverlabel": {
           "align": "left"
          },
          "hovermode": "closest",
          "mapbox": {
           "style": "light"
          },
          "paper_bgcolor": "white",
          "plot_bgcolor": "#E5ECF6",
          "polar": {
           "angularaxis": {
            "gridcolor": "white",
            "linecolor": "white",
            "ticks": ""
           },
           "bgcolor": "#E5ECF6",
           "radialaxis": {
            "gridcolor": "white",
            "linecolor": "white",
            "ticks": ""
           }
          },
          "scene": {
           "xaxis": {
            "backgroundcolor": "#E5ECF6",
            "gridcolor": "white",
            "gridwidth": 2,
            "linecolor": "white",
            "showbackground": true,
            "ticks": "",
            "zerolinecolor": "white"
           },
           "yaxis": {
            "backgroundcolor": "#E5ECF6",
            "gridcolor": "white",
            "gridwidth": 2,
            "linecolor": "white",
            "showbackground": true,
            "ticks": "",
            "zerolinecolor": "white"
           },
           "zaxis": {
            "backgroundcolor": "#E5ECF6",
            "gridcolor": "white",
            "gridwidth": 2,
            "linecolor": "white",
            "showbackground": true,
            "ticks": "",
            "zerolinecolor": "white"
           }
          },
          "shapedefaults": {
           "line": {
            "color": "#2a3f5f"
           }
          },
          "ternary": {
           "aaxis": {
            "gridcolor": "white",
            "linecolor": "white",
            "ticks": ""
           },
           "baxis": {
            "gridcolor": "white",
            "linecolor": "white",
            "ticks": ""
           },
           "bgcolor": "#E5ECF6",
           "caxis": {
            "gridcolor": "white",
            "linecolor": "white",
            "ticks": ""
           }
          },
          "title": {
           "x": 0.05
          },
          "xaxis": {
           "automargin": true,
           "gridcolor": "white",
           "linecolor": "white",
           "ticks": "",
           "title": {
            "standoff": 15
           },
           "zerolinecolor": "white",
           "zerolinewidth": 2
          },
          "yaxis": {
           "automargin": true,
           "gridcolor": "white",
           "linecolor": "white",
           "ticks": "",
           "title": {
            "standoff": 15
           },
           "zerolinecolor": "white",
           "zerolinewidth": 2
          }
         }
        },
        "xaxis": {
         "tickangle": 0
        }
       }
      },
      "text/html": [
       "<div>                            <div id=\"a7b6a42f-5eaf-4df5-ae26-c506220519e5\" class=\"plotly-graph-div\" style=\"height:525px; width:100%;\"></div>            <script type=\"text/javascript\">                require([\"plotly\"], function(Plotly) {                    window.PLOTLYENV=window.PLOTLYENV || {};                                    if (document.getElementById(\"a7b6a42f-5eaf-4df5-ae26-c506220519e5\")) {                    Plotly.newPlot(                        \"a7b6a42f-5eaf-4df5-ae26-c506220519e5\",                        [{\"marker\":{\"color\":\"blue\"},\"name\":\"Very Active\",\"x\":[\"Tuesday\",\"Wednesday\",\"Thursday\",\"Friday\",\"Saturday\",\"Sunday\",\"Monday\",\"Tuesday\",\"Wednesday\",\"Thursday\",\"Friday\",\"Saturday\",\"Sunday\",\"Monday\",\"Tuesday\",\"Wednesday\",\"Thursday\",\"Friday\",\"Saturday\",\"Sunday\",\"Monday\",\"Tuesday\",\"Wednesday\",\"Thursday\",\"Friday\",\"Saturday\",\"Sunday\",\"Monday\",\"Tuesday\",\"Wednesday\",\"Thursday\",\"Tuesday\",\"Wednesday\",\"Thursday\",\"Friday\",\"Saturday\",\"Sunday\",\"Monday\",\"Tuesday\",\"Wednesday\",\"Thursday\",\"Friday\",\"Saturday\",\"Sunday\",\"Monday\",\"Tuesday\",\"Wednesday\",\"Thursday\",\"Friday\",\"Saturday\",\"Sunday\",\"Monday\",\"Tuesday\",\"Wednesday\",\"Thursday\",\"Friday\",\"Saturday\",\"Sunday\",\"Monday\",\"Tuesday\",\"Wednesday\",\"Thursday\",\"Tuesday\",\"Wednesday\",\"Thursday\",\"Friday\",\"Saturday\",\"Sunday\",\"Monday\",\"Tuesday\",\"Wednesday\",\"Thursday\",\"Friday\",\"Saturday\",\"Sunday\",\"Monday\",\"Tuesday\",\"Wednesday\",\"Thursday\",\"Friday\",\"Saturday\",\"Sunday\",\"Monday\",\"Tuesday\",\"Wednesday\",\"Thursday\",\"Friday\",\"Saturday\",\"Sunday\",\"Monday\",\"Tuesday\",\"Wednesday\",\"Tuesday\",\"Wednesday\",\"Thursday\",\"Friday\",\"Saturday\",\"Sunday\",\"Monday\",\"Tuesday\",\"Wednesday\",\"Thursday\",\"Friday\",\"Saturday\",\"Sunday\",\"Monday\",\"Tuesday\",\"Wednesday\",\"Thursday\",\"Friday\",\"Saturday\",\"Sunday\",\"Monday\",\"Tuesday\",\"Wednesday\",\"Thursday\",\"Friday\",\"Saturday\",\"Sunday\",\"Monday\",\"Tuesday\",\"Wednesday\",\"Thursday\",\"Tuesday\",\"Wednesday\",\"Thursday\",\"Friday\",\"Saturday\",\"Sunday\",\"Monday\",\"Tuesday\",\"Wednesday\",\"Thursday\",\"Friday\",\"Saturday\",\"Sunday\",\"Monday\",\"Tuesday\",\"Wednesday\",\"Thursday\",\"Friday\",\"Saturday\",\"Sunday\",\"Monday\",\"Tuesday\",\"Wednesday\",\"Thursday\",\"Friday\",\"Saturday\",\"Sunday\",\"Monday\",\"Tuesday\",\"Wednesday\",\"Thursday\",\"Tuesday\",\"Wednesday\",\"Thursday\",\"Friday\",\"Saturday\",\"Sunday\",\"Monday\",\"Tuesday\",\"Wednesday\",\"Thursday\",\"Friday\",\"Saturday\",\"Sunday\",\"Monday\",\"Tuesday\",\"Wednesday\",\"Thursday\",\"Friday\",\"Saturday\",\"Sunday\",\"Monday\",\"Tuesday\",\"Wednesday\",\"Thursday\",\"Friday\",\"Saturday\",\"Sunday\",\"Monday\",\"Tuesday\",\"Wednesday\",\"Thursday\",\"Tuesday\",\"Wednesday\",\"Thursday\",\"Friday\",\"Saturday\",\"Sunday\",\"Monday\",\"Tuesday\",\"Wednesday\",\"Thursday\",\"Friday\",\"Saturday\",\"Sunday\",\"Monday\",\"Tuesday\",\"Wednesday\",\"Thursday\",\"Friday\",\"Saturday\",\"Sunday\",\"Monday\",\"Tuesday\",\"Wednesday\",\"Thursday\",\"Friday\",\"Saturday\",\"Sunday\",\"Monday\",\"Tuesday\",\"Wednesday\",\"Thursday\",\"Tuesday\",\"Wednesday\",\"Thursday\",\"Friday\",\"Saturday\",\"Sunday\",\"Monday\",\"Tuesday\",\"Wednesday\",\"Thursday\",\"Friday\",\"Saturday\",\"Sunday\",\"Monday\",\"Tuesday\",\"Wednesday\",\"Thursday\",\"Friday\",\"Saturday\",\"Sunday\",\"Monday\",\"Tuesday\",\"Wednesday\",\"Thursday\",\"Friday\",\"Saturday\",\"Sunday\",\"Monday\",\"Tuesday\",\"Wednesday\",\"Thursday\",\"Tuesday\",\"Wednesday\",\"Thursday\",\"Friday\",\"Saturday\",\"Sunday\",\"Monday\",\"Tuesday\",\"Wednesday\",\"Thursday\",\"Friday\",\"Saturday\",\"Sunday\",\"Monday\",\"Tuesday\",\"Wednesday\",\"Thursday\",\"Friday\",\"Tuesday\",\"Wednesday\",\"Thursday\",\"Friday\",\"Saturday\",\"Sunday\",\"Monday\",\"Tuesday\",\"Wednesday\",\"Thursday\",\"Friday\",\"Saturday\",\"Sunday\",\"Monday\",\"Tuesday\",\"Wednesday\",\"Thursday\",\"Friday\",\"Saturday\",\"Sunday\",\"Monday\",\"Tuesday\",\"Wednesday\",\"Thursday\",\"Friday\",\"Saturday\",\"Sunday\",\"Monday\",\"Tuesday\",\"Wednesday\",\"Thursday\",\"Tuesday\",\"Wednesday\",\"Thursday\",\"Friday\",\"Saturday\",\"Sunday\",\"Monday\",\"Tuesday\",\"Wednesday\",\"Thursday\",\"Friday\",\"Saturday\",\"Sunday\",\"Monday\",\"Tuesday\",\"Wednesday\",\"Thursday\",\"Friday\",\"Saturday\",\"Sunday\",\"Tuesday\",\"Wednesday\",\"Thursday\",\"Friday\",\"Saturday\",\"Sunday\",\"Monday\",\"Tuesday\",\"Wednesday\",\"Thursday\",\"Friday\",\"Saturday\",\"Sunday\",\"Monday\",\"Tuesday\",\"Wednesday\",\"Thursday\",\"Friday\",\"Saturday\",\"Sunday\",\"Monday\",\"Tuesday\",\"Wednesday\",\"Thursday\",\"Friday\",\"Saturday\",\"Sunday\",\"Monday\",\"Tuesday\",\"Wednesday\",\"Tuesday\",\"Wednesday\",\"Thursday\",\"Friday\",\"Saturday\",\"Sunday\",\"Monday\",\"Tuesday\",\"Wednesday\",\"Thursday\",\"Friday\",\"Saturday\",\"Sunday\",\"Monday\",\"Tuesday\",\"Wednesday\",\"Thursday\",\"Friday\",\"Saturday\",\"Sunday\",\"Monday\",\"Tuesday\",\"Wednesday\",\"Thursday\",\"Friday\",\"Saturday\",\"Sunday\",\"Monday\",\"Tuesday\",\"Wednesday\",\"Thursday\",\"Tuesday\",\"Wednesday\",\"Thursday\",\"Friday\",\"Tuesday\",\"Wednesday\",\"Thursday\",\"Friday\",\"Saturday\",\"Sunday\",\"Monday\",\"Tuesday\",\"Wednesday\",\"Thursday\",\"Friday\",\"Saturday\",\"Sunday\",\"Monday\",\"Tuesday\",\"Wednesday\",\"Thursday\",\"Friday\",\"Saturday\",\"Sunday\",\"Monday\",\"Tuesday\",\"Wednesday\",\"Thursday\",\"Friday\",\"Saturday\",\"Sunday\",\"Monday\",\"Tuesday\",\"Wednesday\",\"Thursday\",\"Tuesday\",\"Wednesday\",\"Thursday\",\"Friday\",\"Saturday\",\"Sunday\",\"Monday\",\"Tuesday\",\"Wednesday\",\"Thursday\",\"Friday\",\"Saturday\",\"Sunday\",\"Monday\",\"Tuesday\",\"Wednesday\",\"Thursday\",\"Friday\",\"Saturday\",\"Sunday\",\"Monday\",\"Tuesday\",\"Wednesday\",\"Thursday\",\"Friday\",\"Saturday\",\"Sunday\",\"Monday\",\"Tuesday\",\"Wednesday\",\"Thursday\",\"Tuesday\",\"Wednesday\",\"Thursday\",\"Friday\",\"Saturday\",\"Sunday\",\"Monday\",\"Tuesday\",\"Wednesday\",\"Thursday\",\"Friday\",\"Saturday\",\"Sunday\",\"Monday\",\"Tuesday\",\"Wednesday\",\"Thursday\",\"Friday\",\"Saturday\",\"Sunday\",\"Monday\",\"Tuesday\",\"Wednesday\",\"Thursday\",\"Friday\",\"Saturday\",\"Sunday\",\"Monday\",\"Tuesday\",\"Wednesday\",\"Thursday\",\"Tuesday\",\"Wednesday\",\"Thursday\",\"Friday\",\"Saturday\",\"Sunday\",\"Monday\",\"Tuesday\",\"Wednesday\",\"Thursday\",\"Friday\",\"Saturday\",\"Sunday\",\"Monday\",\"Tuesday\",\"Wednesday\",\"Thursday\",\"Friday\",\"Saturday\",\"Sunday\",\"Monday\",\"Tuesday\",\"Wednesday\",\"Thursday\",\"Friday\",\"Saturday\",\"Sunday\",\"Monday\",\"Tuesday\",\"Wednesday\",\"Thursday\",\"Tuesday\",\"Wednesday\",\"Thursday\",\"Friday\",\"Saturday\",\"Sunday\",\"Monday\",\"Tuesday\",\"Wednesday\",\"Thursday\",\"Friday\",\"Saturday\",\"Sunday\",\"Monday\",\"Tuesday\",\"Wednesday\",\"Thursday\",\"Friday\",\"Saturday\",\"Sunday\",\"Monday\",\"Tuesday\",\"Wednesday\",\"Thursday\",\"Friday\",\"Saturday\",\"Sunday\",\"Monday\",\"Tuesday\",\"Wednesday\",\"Thursday\",\"Tuesday\",\"Wednesday\",\"Thursday\",\"Friday\",\"Saturday\",\"Sunday\",\"Monday\",\"Tuesday\",\"Wednesday\",\"Thursday\",\"Friday\",\"Saturday\",\"Sunday\",\"Monday\",\"Tuesday\",\"Wednesday\",\"Thursday\",\"Friday\",\"Saturday\",\"Sunday\",\"Monday\",\"Tuesday\",\"Wednesday\",\"Thursday\",\"Friday\",\"Saturday\",\"Sunday\",\"Monday\",\"Tuesday\",\"Wednesday\",\"Thursday\",\"Tuesday\",\"Wednesday\",\"Thursday\",\"Friday\",\"Saturday\",\"Sunday\",\"Monday\",\"Tuesday\",\"Wednesday\",\"Thursday\",\"Friday\",\"Saturday\",\"Sunday\",\"Monday\",\"Tuesday\",\"Wednesday\",\"Thursday\",\"Friday\",\"Saturday\",\"Sunday\",\"Monday\",\"Tuesday\",\"Wednesday\",\"Thursday\",\"Friday\",\"Saturday\",\"Sunday\",\"Monday\",\"Tuesday\",\"Wednesday\",\"Tuesday\",\"Wednesday\",\"Thursday\",\"Friday\",\"Saturday\",\"Sunday\",\"Monday\",\"Tuesday\",\"Wednesday\",\"Thursday\",\"Friday\",\"Saturday\",\"Sunday\",\"Monday\",\"Tuesday\",\"Wednesday\",\"Thursday\",\"Friday\",\"Saturday\",\"Sunday\",\"Monday\",\"Tuesday\",\"Wednesday\",\"Thursday\",\"Friday\",\"Saturday\",\"Sunday\",\"Monday\",\"Tuesday\",\"Wednesday\",\"Thursday\",\"Friday\",\"Saturday\",\"Sunday\",\"Monday\",\"Tuesday\",\"Wednesday\",\"Thursday\",\"Friday\",\"Saturday\",\"Sunday\",\"Monday\",\"Tuesday\",\"Wednesday\",\"Thursday\",\"Friday\",\"Saturday\",\"Sunday\",\"Monday\",\"Tuesday\",\"Wednesday\",\"Thursday\",\"Friday\",\"Saturday\",\"Sunday\",\"Monday\",\"Tuesday\",\"Tuesday\",\"Wednesday\",\"Thursday\",\"Friday\",\"Saturday\",\"Sunday\",\"Monday\",\"Tuesday\",\"Wednesday\",\"Thursday\",\"Friday\",\"Saturday\",\"Sunday\",\"Monday\",\"Tuesday\",\"Wednesday\",\"Thursday\",\"Friday\",\"Saturday\",\"Sunday\",\"Monday\",\"Tuesday\",\"Wednesday\",\"Thursday\",\"Friday\",\"Saturday\",\"Tuesday\",\"Wednesday\",\"Thursday\",\"Friday\",\"Saturday\",\"Sunday\",\"Monday\",\"Tuesday\",\"Wednesday\",\"Thursday\",\"Friday\",\"Saturday\",\"Sunday\",\"Monday\",\"Tuesday\",\"Wednesday\",\"Thursday\",\"Friday\",\"Saturday\",\"Sunday\",\"Monday\",\"Tuesday\",\"Wednesday\",\"Thursday\",\"Friday\",\"Saturday\",\"Sunday\",\"Monday\",\"Tuesday\",\"Wednesday\",\"Thursday\",\"Tuesday\",\"Wednesday\",\"Thursday\",\"Friday\",\"Saturday\",\"Sunday\",\"Monday\",\"Tuesday\",\"Wednesday\",\"Thursday\",\"Friday\",\"Saturday\",\"Sunday\",\"Monday\",\"Tuesday\",\"Wednesday\",\"Thursday\",\"Friday\",\"Saturday\",\"Sunday\",\"Monday\",\"Tuesday\",\"Wednesday\",\"Thursday\",\"Friday\",\"Saturday\",\"Tuesday\",\"Wednesday\",\"Thursday\",\"Friday\",\"Saturday\",\"Sunday\",\"Monday\",\"Tuesday\",\"Wednesday\",\"Thursday\",\"Friday\",\"Saturday\",\"Sunday\",\"Monday\",\"Tuesday\",\"Wednesday\",\"Thursday\",\"Friday\",\"Saturday\",\"Sunday\",\"Monday\",\"Tuesday\",\"Wednesday\",\"Thursday\",\"Friday\",\"Saturday\",\"Sunday\",\"Monday\",\"Tuesday\",\"Wednesday\",\"Thursday\",\"Tuesday\",\"Wednesday\",\"Thursday\",\"Friday\",\"Saturday\",\"Sunday\",\"Monday\",\"Tuesday\",\"Wednesday\",\"Thursday\",\"Friday\",\"Saturday\",\"Sunday\",\"Monday\",\"Tuesday\",\"Wednesday\",\"Thursday\",\"Friday\",\"Saturday\",\"Sunday\",\"Monday\",\"Tuesday\",\"Wednesday\",\"Thursday\",\"Friday\",\"Saturday\",\"Sunday\",\"Monday\",\"Tuesday\",\"Wednesday\",\"Thursday\",\"Tuesday\",\"Wednesday\",\"Thursday\",\"Friday\",\"Saturday\",\"Sunday\",\"Monday\",\"Tuesday\",\"Wednesday\",\"Thursday\",\"Friday\",\"Saturday\",\"Sunday\",\"Monday\",\"Tuesday\",\"Wednesday\",\"Thursday\",\"Friday\",\"Saturday\",\"Tuesday\",\"Wednesday\",\"Thursday\",\"Friday\",\"Saturday\",\"Sunday\",\"Monday\",\"Tuesday\",\"Wednesday\",\"Thursday\",\"Friday\",\"Saturday\",\"Sunday\",\"Monday\",\"Tuesday\",\"Wednesday\",\"Thursday\",\"Friday\",\"Saturday\",\"Sunday\",\"Monday\",\"Tuesday\",\"Wednesday\",\"Thursday\",\"Friday\",\"Saturday\",\"Sunday\",\"Monday\",\"Tuesday\",\"Wednesday\",\"Thursday\",\"Tuesday\",\"Wednesday\",\"Thursday\",\"Friday\",\"Saturday\",\"Sunday\",\"Monday\",\"Tuesday\",\"Wednesday\",\"Thursday\",\"Friday\",\"Saturday\",\"Sunday\",\"Monday\",\"Tuesday\",\"Wednesday\",\"Thursday\",\"Friday\",\"Saturday\",\"Sunday\",\"Monday\",\"Tuesday\",\"Wednesday\",\"Thursday\",\"Friday\",\"Saturday\",\"Sunday\",\"Monday\",\"Tuesday\",\"Wednesday\",\"Thursday\",\"Tuesday\",\"Wednesday\",\"Thursday\",\"Friday\",\"Saturday\",\"Sunday\",\"Monday\",\"Tuesday\",\"Wednesday\",\"Thursday\",\"Friday\",\"Saturday\",\"Sunday\",\"Monday\",\"Tuesday\",\"Wednesday\",\"Thursday\",\"Friday\",\"Saturday\",\"Sunday\",\"Monday\",\"Tuesday\",\"Wednesday\",\"Thursday\",\"Friday\",\"Saturday\",\"Sunday\",\"Monday\",\"Tuesday\",\"Tuesday\",\"Wednesday\",\"Thursday\",\"Friday\",\"Saturday\",\"Sunday\",\"Monday\",\"Tuesday\",\"Wednesday\",\"Thursday\",\"Friday\",\"Saturday\",\"Sunday\",\"Monday\",\"Tuesday\",\"Wednesday\",\"Thursday\",\"Friday\",\"Saturday\",\"Sunday\",\"Monday\",\"Tuesday\",\"Wednesday\",\"Thursday\",\"Friday\",\"Saturday\",\"Sunday\",\"Monday\",\"Tuesday\",\"Wednesday\",\"Thursday\"],\"y\":[25,21,30,29,36,38,42,50,28,19,66,41,39,73,31,78,48,16,52,33,41,50,36,45,24,37,44,46,46,36,0,0,0,0,0,0,15,17,0,0,0,0,0,16,0,0,17,0,0,11,186,7,0,0,0,0,0,0,0,0,0,0,2,30,5,3,51,29,15,5,0,0,0,0,0,8,11,0,3,0,9,3,1,10,0,6,11,41,0,32,12,0,0,0,0,0,0,2,0,0,0,2,0,0,0,0,0,0,0,0,0,0,0,0,0,0,0,0,0,0,0,0,0,0,0,0,0,0,0,0,0,0,0,0,0,1,0,0,0,0,0,0,14,16,10,0,0,0,0,0,0,0,0,0,42,43,32,27,41,28,48,31,48,104,52,0,37,44,55,19,6,21,13,25,36,72,36,55,24,20,0,35,57,58,16,3,0,0,0,0,0,0,0,0,0,0,0,0,0,0,0,0,0,0,0,0,0,0,0,0,0,0,0,0,0,0,13,0,0,0,0,0,0,0,0,1,0,0,0,3,0,0,0,0,0,0,5,20,0,0,0,0,0,0,0,0,0,28,19,1,1,66,1,11,0,11,23,9,32,0,15,0,26,0,0,2,0,0,0,47,0,1,0,22,2,46,28,46,0,2,46,28,20,5,7,0,1,0,13,0,75,46,0,0,0,0,0,16,6,0,0,11,20,0,15,18,0,20,14,0,22,24,0,0,17,0,44,31,5,15,31,11,4,19,2,0,33,0,30,50,7,0,15,36,43,41,24,47,14,14,29,0,9,8,1,4,4,0,0,36,65,0,0,0,0,0,0,0,0,0,0,0,0,0,0,0,0,0,13,38,0,0,0,3,0,2,0,0,0,0,3,0,8,1,0,0,0,1,0,0,0,1,0,1,0,8,6,13,6,6,0,0,8,8,27,6,3,0,2,3,3,0,0,1,10,0,6,0,27,20,19,7,77,58,14,11,14,11,19,13,14,12,33,18,35,12,33,120,107,6,13,8,0,0,0,0,0,0,0,25,0,0,0,0,0,0,0,29,32,0,0,0,0,27,30,0,2,0,26,0,0,0,34,0,0,19,0,17,8,7,14,1,0,6,20,5,0,18,12,27,1,15,7,0,0,21,0,14,0,23,66,6,11,4,0,0,0,0,1,3,12,22,10,2,4,0,9,15,6,1,1,14,12,4,0,5,0,4,8,1,5,9,0,1,10,0,19,0,61,58,0,0,0,69,0,47,25,0,0,51,40,16,49,46,0,0,23,26,0,44,21,0,3,59,61,0,8,86,15,118,115,184,200,114,108,87,110,62,24,210,61,38,63,99,97,207,194,37,97,25,45,41,0,0,34,104,45,0,0,0,0,7,0,0,0,26,11,0,0,0,0,0,0,0,0,0,0,0,0,0,0,0,0,0,0,0,0,0,0,0,31,0,0,0,0,0,33,0,8,0,0,0,0,0,8,0,0,0,0,0,0,0,0,0,0,17,14,0,36,5,30,0,70,0,0,0,11,33,42,0,2,0,3,9,0,0,0,0,12,2,50,8,0,0,50,5,13,35,48,53,30,58,0,35,36,7,38,12,32,0,18,21,15,14,0,0,0,43,62,24,0,53,56,34,0,0,0,48,53,60,30,64,2,0,51,16,50,16,55,0,0,64,58,0,53,44,0,59,31,35,30,0,0,61,67,87,19,58,0,0,69,70,55,54,24,42,30,66,57,45,24,84,20,32,67,72,57,5,116,95,119,132,96,111,102,90,89,100,60,125,129,118,68,60,90,58,27,0,0,87,89,93,90,121,125,66,96,60,28,40,35,29,0,6,41,16,0,5,49,0,30,41,7,19,45,11,16,0,65,116,123,60,64,0,117,120,82,137,113,19,0,117,90,4,11,3,0,71,63,71,19,66,74,0,0,71,63,72,8,0,2,0,0,0,0,4,7,0,35,4,7,2,18,1,77,0,46,2,10,0,0,0,0,2,0,3,66,9,5,0,0,0,0,0,0,0,0,0,0,0,1,8,3,0,0,0,0,6,10,0,0,0,0,0,0,0,0,0,0,85,108,68,106,94,58,29,82,73,82,61,102,64,113,22,93,58,18,124,36,0,19,66,67,96,105,17,73,18,88,23],\"type\":\"bar\"},{\"marker\":{\"color\":\"green\"},\"name\":\"Fairly Active\",\"x\":[\"Tuesday\",\"Wednesday\",\"Thursday\",\"Friday\",\"Saturday\",\"Sunday\",\"Monday\",\"Tuesday\",\"Wednesday\",\"Thursday\",\"Friday\",\"Saturday\",\"Sunday\",\"Monday\",\"Tuesday\",\"Wednesday\",\"Thursday\",\"Friday\",\"Saturday\",\"Sunday\",\"Monday\",\"Tuesday\",\"Wednesday\",\"Thursday\",\"Friday\",\"Saturday\",\"Sunday\",\"Monday\",\"Tuesday\",\"Wednesday\",\"Thursday\",\"Tuesday\",\"Wednesday\",\"Thursday\",\"Friday\",\"Saturday\",\"Sunday\",\"Monday\",\"Tuesday\",\"Wednesday\",\"Thursday\",\"Friday\",\"Saturday\",\"Sunday\",\"Monday\",\"Tuesday\",\"Wednesday\",\"Thursday\",\"Friday\",\"Saturday\",\"Sunday\",\"Monday\",\"Tuesday\",\"Wednesday\",\"Thursday\",\"Friday\",\"Saturday\",\"Sunday\",\"Monday\",\"Tuesday\",\"Wednesday\",\"Thursday\",\"Tuesday\",\"Wednesday\",\"Thursday\",\"Friday\",\"Saturday\",\"Sunday\",\"Monday\",\"Tuesday\",\"Wednesday\",\"Thursday\",\"Friday\",\"Saturday\",\"Sunday\",\"Monday\",\"Tuesday\",\"Wednesday\",\"Thursday\",\"Friday\",\"Saturday\",\"Sunday\",\"Monday\",\"Tuesday\",\"Wednesday\",\"Thursday\",\"Friday\",\"Saturday\",\"Sunday\",\"Monday\",\"Tuesday\",\"Wednesday\",\"Tuesday\",\"Wednesday\",\"Thursday\",\"Friday\",\"Saturday\",\"Sunday\",\"Monday\",\"Tuesday\",\"Wednesday\",\"Thursday\",\"Friday\",\"Saturday\",\"Sunday\",\"Monday\",\"Tuesday\",\"Wednesday\",\"Thursday\",\"Friday\",\"Saturday\",\"Sunday\",\"Monday\",\"Tuesday\",\"Wednesday\",\"Thursday\",\"Friday\",\"Saturday\",\"Sunday\",\"Monday\",\"Tuesday\",\"Wednesday\",\"Thursday\",\"Tuesday\",\"Wednesday\",\"Thursday\",\"Friday\",\"Saturday\",\"Sunday\",\"Monday\",\"Tuesday\",\"Wednesday\",\"Thursday\",\"Friday\",\"Saturday\",\"Sunday\",\"Monday\",\"Tuesday\",\"Wednesday\",\"Thursday\",\"Friday\",\"Saturday\",\"Sunday\",\"Monday\",\"Tuesday\",\"Wednesday\",\"Thursday\",\"Friday\",\"Saturday\",\"Sunday\",\"Monday\",\"Tuesday\",\"Wednesday\",\"Thursday\",\"Tuesday\",\"Wednesday\",\"Thursday\",\"Friday\",\"Saturday\",\"Sunday\",\"Monday\",\"Tuesday\",\"Wednesday\",\"Thursday\",\"Friday\",\"Saturday\",\"Sunday\",\"Monday\",\"Tuesday\",\"Wednesday\",\"Thursday\",\"Friday\",\"Saturday\",\"Sunday\",\"Monday\",\"Tuesday\",\"Wednesday\",\"Thursday\",\"Friday\",\"Saturday\",\"Sunday\",\"Monday\",\"Tuesday\",\"Wednesday\",\"Thursday\",\"Tuesday\",\"Wednesday\",\"Thursday\",\"Friday\",\"Saturday\",\"Sunday\",\"Monday\",\"Tuesday\",\"Wednesday\",\"Thursday\",\"Friday\",\"Saturday\",\"Sunday\",\"Monday\",\"Tuesday\",\"Wednesday\",\"Thursday\",\"Friday\",\"Saturday\",\"Sunday\",\"Monday\",\"Tuesday\",\"Wednesday\",\"Thursday\",\"Friday\",\"Saturday\",\"Sunday\",\"Monday\",\"Tuesday\",\"Wednesday\",\"Thursday\",\"Tuesday\",\"Wednesday\",\"Thursday\",\"Friday\",\"Saturday\",\"Sunday\",\"Monday\",\"Tuesday\",\"Wednesday\",\"Thursday\",\"Friday\",\"Saturday\",\"Sunday\",\"Monday\",\"Tuesday\",\"Wednesday\",\"Thursday\",\"Friday\",\"Saturday\",\"Sunday\",\"Monday\",\"Tuesday\",\"Wednesday\",\"Thursday\",\"Friday\",\"Saturday\",\"Sunday\",\"Monday\",\"Tuesday\",\"Wednesday\",\"Thursday\",\"Tuesday\",\"Wednesday\",\"Thursday\",\"Friday\",\"Saturday\",\"Sunday\",\"Monday\",\"Tuesday\",\"Wednesday\",\"Thursday\",\"Friday\",\"Saturday\",\"Sunday\",\"Monday\",\"Tuesday\",\"Wednesday\",\"Thursday\",\"Friday\",\"Tuesday\",\"Wednesday\",\"Thursday\",\"Friday\",\"Saturday\",\"Sunday\",\"Monday\",\"Tuesday\",\"Wednesday\",\"Thursday\",\"Friday\",\"Saturday\",\"Sunday\",\"Monday\",\"Tuesday\",\"Wednesday\",\"Thursday\",\"Friday\",\"Saturday\",\"Sunday\",\"Monday\",\"Tuesday\",\"Wednesday\",\"Thursday\",\"Friday\",\"Saturday\",\"Sunday\",\"Monday\",\"Tuesday\",\"Wednesday\",\"Thursday\",\"Tuesday\",\"Wednesday\",\"Thursday\",\"Friday\",\"Saturday\",\"Sunday\",\"Monday\",\"Tuesday\",\"Wednesday\",\"Thursday\",\"Friday\",\"Saturday\",\"Sunday\",\"Monday\",\"Tuesday\",\"Wednesday\",\"Thursday\",\"Friday\",\"Saturday\",\"Sunday\",\"Tuesday\",\"Wednesday\",\"Thursday\",\"Friday\",\"Saturday\",\"Sunday\",\"Monday\",\"Tuesday\",\"Wednesday\",\"Thursday\",\"Friday\",\"Saturday\",\"Sunday\",\"Monday\",\"Tuesday\",\"Wednesday\",\"Thursday\",\"Friday\",\"Saturday\",\"Sunday\",\"Monday\",\"Tuesday\",\"Wednesday\",\"Thursday\",\"Friday\",\"Saturday\",\"Sunday\",\"Monday\",\"Tuesday\",\"Wednesday\",\"Tuesday\",\"Wednesday\",\"Thursday\",\"Friday\",\"Saturday\",\"Sunday\",\"Monday\",\"Tuesday\",\"Wednesday\",\"Thursday\",\"Friday\",\"Saturday\",\"Sunday\",\"Monday\",\"Tuesday\",\"Wednesday\",\"Thursday\",\"Friday\",\"Saturday\",\"Sunday\",\"Monday\",\"Tuesday\",\"Wednesday\",\"Thursday\",\"Friday\",\"Saturday\",\"Sunday\",\"Monday\",\"Tuesday\",\"Wednesday\",\"Thursday\",\"Tuesday\",\"Wednesday\",\"Thursday\",\"Friday\",\"Tuesday\",\"Wednesday\",\"Thursday\",\"Friday\",\"Saturday\",\"Sunday\",\"Monday\",\"Tuesday\",\"Wednesday\",\"Thursday\",\"Friday\",\"Saturday\",\"Sunday\",\"Monday\",\"Tuesday\",\"Wednesday\",\"Thursday\",\"Friday\",\"Saturday\",\"Sunday\",\"Monday\",\"Tuesday\",\"Wednesday\",\"Thursday\",\"Friday\",\"Saturday\",\"Sunday\",\"Monday\",\"Tuesday\",\"Wednesday\",\"Thursday\",\"Tuesday\",\"Wednesday\",\"Thursday\",\"Friday\",\"Saturday\",\"Sunday\",\"Monday\",\"Tuesday\",\"Wednesday\",\"Thursday\",\"Friday\",\"Saturday\",\"Sunday\",\"Monday\",\"Tuesday\",\"Wednesday\",\"Thursday\",\"Friday\",\"Saturday\",\"Sunday\",\"Monday\",\"Tuesday\",\"Wednesday\",\"Thursday\",\"Friday\",\"Saturday\",\"Sunday\",\"Monday\",\"Tuesday\",\"Wednesday\",\"Thursday\",\"Tuesday\",\"Wednesday\",\"Thursday\",\"Friday\",\"Saturday\",\"Sunday\",\"Monday\",\"Tuesday\",\"Wednesday\",\"Thursday\",\"Friday\",\"Saturday\",\"Sunday\",\"Monday\",\"Tuesday\",\"Wednesday\",\"Thursday\",\"Friday\",\"Saturday\",\"Sunday\",\"Monday\",\"Tuesday\",\"Wednesday\",\"Thursday\",\"Friday\",\"Saturday\",\"Sunday\",\"Monday\",\"Tuesday\",\"Wednesday\",\"Thursday\",\"Tuesday\",\"Wednesday\",\"Thursday\",\"Friday\",\"Saturday\",\"Sunday\",\"Monday\",\"Tuesday\",\"Wednesday\",\"Thursday\",\"Friday\",\"Saturday\",\"Sunday\",\"Monday\",\"Tuesday\",\"Wednesday\",\"Thursday\",\"Friday\",\"Saturday\",\"Sunday\",\"Monday\",\"Tuesday\",\"Wednesday\",\"Thursday\",\"Friday\",\"Saturday\",\"Sunday\",\"Monday\",\"Tuesday\",\"Wednesday\",\"Thursday\",\"Tuesday\",\"Wednesday\",\"Thursday\",\"Friday\",\"Saturday\",\"Sunday\",\"Monday\",\"Tuesday\",\"Wednesday\",\"Thursday\",\"Friday\",\"Saturday\",\"Sunday\",\"Monday\",\"Tuesday\",\"Wednesday\",\"Thursday\",\"Friday\",\"Saturday\",\"Sunday\",\"Monday\",\"Tuesday\",\"Wednesday\",\"Thursday\",\"Friday\",\"Saturday\",\"Sunday\",\"Monday\",\"Tuesday\",\"Wednesday\",\"Thursday\",\"Tuesday\",\"Wednesday\",\"Thursday\",\"Friday\",\"Saturday\",\"Sunday\",\"Monday\",\"Tuesday\",\"Wednesday\",\"Thursday\",\"Friday\",\"Saturday\",\"Sunday\",\"Monday\",\"Tuesday\",\"Wednesday\",\"Thursday\",\"Friday\",\"Saturday\",\"Sunday\",\"Monday\",\"Tuesday\",\"Wednesday\",\"Thursday\",\"Friday\",\"Saturday\",\"Sunday\",\"Monday\",\"Tuesday\",\"Wednesday\",\"Thursday\",\"Tuesday\",\"Wednesday\",\"Thursday\",\"Friday\",\"Saturday\",\"Sunday\",\"Monday\",\"Tuesday\",\"Wednesday\",\"Thursday\",\"Friday\",\"Saturday\",\"Sunday\",\"Monday\",\"Tuesday\",\"Wednesday\",\"Thursday\",\"Friday\",\"Saturday\",\"Sunday\",\"Monday\",\"Tuesday\",\"Wednesday\",\"Thursday\",\"Friday\",\"Saturday\",\"Sunday\",\"Monday\",\"Tuesday\",\"Wednesday\",\"Tuesday\",\"Wednesday\",\"Thursday\",\"Friday\",\"Saturday\",\"Sunday\",\"Monday\",\"Tuesday\",\"Wednesday\",\"Thursday\",\"Friday\",\"Saturday\",\"Sunday\",\"Monday\",\"Tuesday\",\"Wednesday\",\"Thursday\",\"Friday\",\"Saturday\",\"Sunday\",\"Monday\",\"Tuesday\",\"Wednesday\",\"Thursday\",\"Friday\",\"Saturday\",\"Sunday\",\"Monday\",\"Tuesday\",\"Wednesday\",\"Thursday\",\"Friday\",\"Saturday\",\"Sunday\",\"Monday\",\"Tuesday\",\"Wednesday\",\"Thursday\",\"Friday\",\"Saturday\",\"Sunday\",\"Monday\",\"Tuesday\",\"Wednesday\",\"Thursday\",\"Friday\",\"Saturday\",\"Sunday\",\"Monday\",\"Tuesday\",\"Wednesday\",\"Thursday\",\"Friday\",\"Saturday\",\"Sunday\",\"Monday\",\"Tuesday\",\"Tuesday\",\"Wednesday\",\"Thursday\",\"Friday\",\"Saturday\",\"Sunday\",\"Monday\",\"Tuesday\",\"Wednesday\",\"Thursday\",\"Friday\",\"Saturday\",\"Sunday\",\"Monday\",\"Tuesday\",\"Wednesday\",\"Thursday\",\"Friday\",\"Saturday\",\"Sunday\",\"Monday\",\"Tuesday\",\"Wednesday\",\"Thursday\",\"Friday\",\"Saturday\",\"Tuesday\",\"Wednesday\",\"Thursday\",\"Friday\",\"Saturday\",\"Sunday\",\"Monday\",\"Tuesday\",\"Wednesday\",\"Thursday\",\"Friday\",\"Saturday\",\"Sunday\",\"Monday\",\"Tuesday\",\"Wednesday\",\"Thursday\",\"Friday\",\"Saturday\",\"Sunday\",\"Monday\",\"Tuesday\",\"Wednesday\",\"Thursday\",\"Friday\",\"Saturday\",\"Sunday\",\"Monday\",\"Tuesday\",\"Wednesday\",\"Thursday\",\"Tuesday\",\"Wednesday\",\"Thursday\",\"Friday\",\"Saturday\",\"Sunday\",\"Monday\",\"Tuesday\",\"Wednesday\",\"Thursday\",\"Friday\",\"Saturday\",\"Sunday\",\"Monday\",\"Tuesday\",\"Wednesday\",\"Thursday\",\"Friday\",\"Saturday\",\"Sunday\",\"Monday\",\"Tuesday\",\"Wednesday\",\"Thursday\",\"Friday\",\"Saturday\",\"Tuesday\",\"Wednesday\",\"Thursday\",\"Friday\",\"Saturday\",\"Sunday\",\"Monday\",\"Tuesday\",\"Wednesday\",\"Thursday\",\"Friday\",\"Saturday\",\"Sunday\",\"Monday\",\"Tuesday\",\"Wednesday\",\"Thursday\",\"Friday\",\"Saturday\",\"Sunday\",\"Monday\",\"Tuesday\",\"Wednesday\",\"Thursday\",\"Friday\",\"Saturday\",\"Sunday\",\"Monday\",\"Tuesday\",\"Wednesday\",\"Thursday\",\"Tuesday\",\"Wednesday\",\"Thursday\",\"Friday\",\"Saturday\",\"Sunday\",\"Monday\",\"Tuesday\",\"Wednesday\",\"Thursday\",\"Friday\",\"Saturday\",\"Sunday\",\"Monday\",\"Tuesday\",\"Wednesday\",\"Thursday\",\"Friday\",\"Saturday\",\"Sunday\",\"Monday\",\"Tuesday\",\"Wednesday\",\"Thursday\",\"Friday\",\"Saturday\",\"Sunday\",\"Monday\",\"Tuesday\",\"Wednesday\",\"Thursday\",\"Tuesday\",\"Wednesday\",\"Thursday\",\"Friday\",\"Saturday\",\"Sunday\",\"Monday\",\"Tuesday\",\"Wednesday\",\"Thursday\",\"Friday\",\"Saturday\",\"Sunday\",\"Monday\",\"Tuesday\",\"Wednesday\",\"Thursday\",\"Friday\",\"Saturday\",\"Tuesday\",\"Wednesday\",\"Thursday\",\"Friday\",\"Saturday\",\"Sunday\",\"Monday\",\"Tuesday\",\"Wednesday\",\"Thursday\",\"Friday\",\"Saturday\",\"Sunday\",\"Monday\",\"Tuesday\",\"Wednesday\",\"Thursday\",\"Friday\",\"Saturday\",\"Sunday\",\"Monday\",\"Tuesday\",\"Wednesday\",\"Thursday\",\"Friday\",\"Saturday\",\"Sunday\",\"Monday\",\"Tuesday\",\"Wednesday\",\"Thursday\",\"Tuesday\",\"Wednesday\",\"Thursday\",\"Friday\",\"Saturday\",\"Sunday\",\"Monday\",\"Tuesday\",\"Wednesday\",\"Thursday\",\"Friday\",\"Saturday\",\"Sunday\",\"Monday\",\"Tuesday\",\"Wednesday\",\"Thursday\",\"Friday\",\"Saturday\",\"Sunday\",\"Monday\",\"Tuesday\",\"Wednesday\",\"Thursday\",\"Friday\",\"Saturday\",\"Sunday\",\"Monday\",\"Tuesday\",\"Wednesday\",\"Thursday\",\"Tuesday\",\"Wednesday\",\"Thursday\",\"Friday\",\"Saturday\",\"Sunday\",\"Monday\",\"Tuesday\",\"Wednesday\",\"Thursday\",\"Friday\",\"Saturday\",\"Sunday\",\"Monday\",\"Tuesday\",\"Wednesday\",\"Thursday\",\"Friday\",\"Saturday\",\"Sunday\",\"Monday\",\"Tuesday\",\"Wednesday\",\"Thursday\",\"Friday\",\"Saturday\",\"Sunday\",\"Monday\",\"Tuesday\",\"Tuesday\",\"Wednesday\",\"Thursday\",\"Friday\",\"Saturday\",\"Sunday\",\"Monday\",\"Tuesday\",\"Wednesday\",\"Thursday\",\"Friday\",\"Saturday\",\"Sunday\",\"Monday\",\"Tuesday\",\"Wednesday\",\"Thursday\",\"Friday\",\"Saturday\",\"Sunday\",\"Monday\",\"Tuesday\",\"Wednesday\",\"Thursday\",\"Friday\",\"Saturday\",\"Sunday\",\"Monday\",\"Tuesday\",\"Wednesday\",\"Thursday\"],\"y\":[13,19,11,34,10,20,16,31,12,8,27,21,5,14,23,11,28,12,34,35,15,24,22,24,6,46,8,11,31,23,0,0,0,0,0,0,22,7,0,0,0,0,0,18,0,0,36,5,0,23,63,6,0,0,0,0,0,0,0,0,0,0,51,16,58,4,42,13,33,58,0,0,0,15,0,1,41,0,53,0,71,24,7,94,0,12,6,17,0,6,19,0,0,0,0,0,0,8,12,0,0,13,0,0,0,0,0,0,0,0,0,7,0,0,0,0,0,0,0,0,0,0,0,0,0,9,0,0,0,0,0,0,0,0,0,6,0,0,0,0,0,0,1,8,0,0,0,0,0,0,0,0,0,0,14,5,3,9,11,29,3,7,63,53,10,0,26,8,24,20,20,40,23,28,8,14,27,20,17,2,0,47,28,25,16,8,0,0,0,0,0,0,0,0,0,0,0,0,0,0,0,0,0,0,0,0,0,0,0,0,0,0,0,0,0,0,9,0,0,0,0,0,7,11,11,10,0,0,0,5,0,0,0,0,0,0,6,10,0,11,0,0,0,0,0,0,0,13,32,48,24,72,7,16,7,43,26,27,35,0,11,0,9,0,0,21,8,0,0,1,8,6,0,5,10,0,5,1,0,5,0,7,23,20,18,7,6,0,23,5,11,0,0,0,0,0,0,8,25,0,0,2,7,0,3,9,0,2,7,0,2,13,0,0,4,0,19,46,23,42,83,58,95,67,98,0,12,92,95,9,95,10,8,32,52,40,143,41,96,88,55,86,116,122,115,0,15,0,0,18,21,0,0,0,0,0,0,0,0,0,0,0,0,0,0,0,11,0,46,42,0,0,0,5,0,8,0,0,0,0,6,0,15,9,0,0,0,9,0,18,0,19,0,5,8,21,47,8,18,38,0,11,26,13,34,11,28,0,14,12,18,0,0,14,35,0,9,0,8,16,42,12,25,5,8,31,23,48,9,16,43,15,4,18,21,39,45,56,38,19,14,18,0,0,0,0,0,0,0,6,0,0,0,0,0,0,0,1,1,0,0,0,0,4,2,0,6,0,4,8,0,0,22,0,0,7,0,30,12,19,15,9,0,21,25,5,0,10,41,14,11,29,29,0,0,10,0,8,0,16,35,30,18,31,0,0,0,0,8,24,66,30,8,29,41,0,66,95,15,8,16,9,19,36,0,40,0,15,5,16,46,125,12,37,41,0,13,0,41,38,0,0,0,28,0,42,16,0,0,11,18,16,13,15,0,0,9,29,0,29,9,0,8,22,40,0,6,16,11,30,54,56,37,32,23,16,74,30,24,65,38,32,16,51,36,45,72,20,8,9,21,16,0,0,11,37,15,0,0,0,6,15,0,0,0,10,19,0,0,0,0,7,0,0,0,0,0,0,0,0,0,0,0,0,0,0,0,0,0,0,12,0,0,0,0,0,0,0,3,0,0,0,0,0,95,0,0,0,0,0,0,0,0,0,0,18,24,0,18,24,31,0,113,0,0,0,18,13,30,0,13,0,9,34,0,0,0,0,35,5,14,24,0,0,3,13,42,41,4,27,33,41,0,31,7,38,8,15,16,0,39,36,36,22,0,0,14,21,34,7,8,8,22,6,0,0,0,31,17,33,34,50,25,0,24,22,12,16,42,0,0,14,31,0,23,13,0,6,26,32,21,0,0,51,69,13,6,59,0,0,39,33,6,48,36,17,15,26,36,12,14,35,42,27,50,23,40,4,8,12,5,8,6,21,6,7,5,6,3,14,33,9,5,10,9,8,1,0,0,22,8,9,15,20,14,12,10,7,4,2,11,16,0,51,5,16,0,18,20,0,26,4,54,14,5,16,14,0,15,14,21,23,21,0,10,19,8,16,12,10,0,16,18,4,10,7,0,10,4,20,10,3,5,0,0,13,13,10,6,7,23,0,0,0,0,22,10,27,18,54,44,44,6,91,5,28,67,28,2,0,0,0,0,22,0,72,4,43,71,0,0,0,0,0,0,0,0,0,10,0,20,45,8,0,0,0,0,14,20,0,0,0,0,0,0,0,0,0,0,7,18,13,1,29,15,5,13,19,13,2,6,1,8,3,8,8,5,4,12,0,3,8,15,17,28,4,19,11,12,1],\"type\":\"bar\"},{\"marker\":{\"color\":\"red\"},\"name\":\"Lightly Active\",\"x\":[\"Tuesday\",\"Wednesday\",\"Thursday\",\"Friday\",\"Saturday\",\"Sunday\",\"Monday\",\"Tuesday\",\"Wednesday\",\"Thursday\",\"Friday\",\"Saturday\",\"Sunday\",\"Monday\",\"Tuesday\",\"Wednesday\",\"Thursday\",\"Friday\",\"Saturday\",\"Sunday\",\"Monday\",\"Tuesday\",\"Wednesday\",\"Thursday\",\"Friday\",\"Saturday\",\"Sunday\",\"Monday\",\"Tuesday\",\"Wednesday\",\"Thursday\",\"Tuesday\",\"Wednesday\",\"Thursday\",\"Friday\",\"Saturday\",\"Sunday\",\"Monday\",\"Tuesday\",\"Wednesday\",\"Thursday\",\"Friday\",\"Saturday\",\"Sunday\",\"Monday\",\"Tuesday\",\"Wednesday\",\"Thursday\",\"Friday\",\"Saturday\",\"Sunday\",\"Monday\",\"Tuesday\",\"Wednesday\",\"Thursday\",\"Friday\",\"Saturday\",\"Sunday\",\"Monday\",\"Tuesday\",\"Wednesday\",\"Thursday\",\"Tuesday\",\"Wednesday\",\"Thursday\",\"Friday\",\"Saturday\",\"Sunday\",\"Monday\",\"Tuesday\",\"Wednesday\",\"Thursday\",\"Friday\",\"Saturday\",\"Sunday\",\"Monday\",\"Tuesday\",\"Wednesday\",\"Thursday\",\"Friday\",\"Saturday\",\"Sunday\",\"Monday\",\"Tuesday\",\"Wednesday\",\"Thursday\",\"Friday\",\"Saturday\",\"Sunday\",\"Monday\",\"Tuesday\",\"Wednesday\",\"Tuesday\",\"Wednesday\",\"Thursday\",\"Friday\",\"Saturday\",\"Sunday\",\"Monday\",\"Tuesday\",\"Wednesday\",\"Thursday\",\"Friday\",\"Saturday\",\"Sunday\",\"Monday\",\"Tuesday\",\"Wednesday\",\"Thursday\",\"Friday\",\"Saturday\",\"Sunday\",\"Monday\",\"Tuesday\",\"Wednesday\",\"Thursday\",\"Friday\",\"Saturday\",\"Sunday\",\"Monday\",\"Tuesday\",\"Wednesday\",\"Thursday\",\"Tuesday\",\"Wednesday\",\"Thursday\",\"Friday\",\"Saturday\",\"Sunday\",\"Monday\",\"Tuesday\",\"Wednesday\",\"Thursday\",\"Friday\",\"Saturday\",\"Sunday\",\"Monday\",\"Tuesday\",\"Wednesday\",\"Thursday\",\"Friday\",\"Saturday\",\"Sunday\",\"Monday\",\"Tuesday\",\"Wednesday\",\"Thursday\",\"Friday\",\"Saturday\",\"Sunday\",\"Monday\",\"Tuesday\",\"Wednesday\",\"Thursday\",\"Tuesday\",\"Wednesday\",\"Thursday\",\"Friday\",\"Saturday\",\"Sunday\",\"Monday\",\"Tuesday\",\"Wednesday\",\"Thursday\",\"Friday\",\"Saturday\",\"Sunday\",\"Monday\",\"Tuesday\",\"Wednesday\",\"Thursday\",\"Friday\",\"Saturday\",\"Sunday\",\"Monday\",\"Tuesday\",\"Wednesday\",\"Thursday\",\"Friday\",\"Saturday\",\"Sunday\",\"Monday\",\"Tuesday\",\"Wednesday\",\"Thursday\",\"Tuesday\",\"Wednesday\",\"Thursday\",\"Friday\",\"Saturday\",\"Sunday\",\"Monday\",\"Tuesday\",\"Wednesday\",\"Thursday\",\"Friday\",\"Saturday\",\"Sunday\",\"Monday\",\"Tuesday\",\"Wednesday\",\"Thursday\",\"Friday\",\"Saturday\",\"Sunday\",\"Monday\",\"Tuesday\",\"Wednesday\",\"Thursday\",\"Friday\",\"Saturday\",\"Sunday\",\"Monday\",\"Tuesday\",\"Wednesday\",\"Thursday\",\"Tuesday\",\"Wednesday\",\"Thursday\",\"Friday\",\"Saturday\",\"Sunday\",\"Monday\",\"Tuesday\",\"Wednesday\",\"Thursday\",\"Friday\",\"Saturday\",\"Sunday\",\"Monday\",\"Tuesday\",\"Wednesday\",\"Thursday\",\"Friday\",\"Saturday\",\"Sunday\",\"Monday\",\"Tuesday\",\"Wednesday\",\"Thursday\",\"Friday\",\"Saturday\",\"Sunday\",\"Monday\",\"Tuesday\",\"Wednesday\",\"Thursday\",\"Tuesday\",\"Wednesday\",\"Thursday\",\"Friday\",\"Saturday\",\"Sunday\",\"Monday\",\"Tuesday\",\"Wednesday\",\"Thursday\",\"Friday\",\"Saturday\",\"Sunday\",\"Monday\",\"Tuesday\",\"Wednesday\",\"Thursday\",\"Friday\",\"Tuesday\",\"Wednesday\",\"Thursday\",\"Friday\",\"Saturday\",\"Sunday\",\"Monday\",\"Tuesday\",\"Wednesday\",\"Thursday\",\"Friday\",\"Saturday\",\"Sunday\",\"Monday\",\"Tuesday\",\"Wednesday\",\"Thursday\",\"Friday\",\"Saturday\",\"Sunday\",\"Monday\",\"Tuesday\",\"Wednesday\",\"Thursday\",\"Friday\",\"Saturday\",\"Sunday\",\"Monday\",\"Tuesday\",\"Wednesday\",\"Thursday\",\"Tuesday\",\"Wednesday\",\"Thursday\",\"Friday\",\"Saturday\",\"Sunday\",\"Monday\",\"Tuesday\",\"Wednesday\",\"Thursday\",\"Friday\",\"Saturday\",\"Sunday\",\"Monday\",\"Tuesday\",\"Wednesday\",\"Thursday\",\"Friday\",\"Saturday\",\"Sunday\",\"Tuesday\",\"Wednesday\",\"Thursday\",\"Friday\",\"Saturday\",\"Sunday\",\"Monday\",\"Tuesday\",\"Wednesday\",\"Thursday\",\"Friday\",\"Saturday\",\"Sunday\",\"Monday\",\"Tuesday\",\"Wednesday\",\"Thursday\",\"Friday\",\"Saturday\",\"Sunday\",\"Monday\",\"Tuesday\",\"Wednesday\",\"Thursday\",\"Friday\",\"Saturday\",\"Sunday\",\"Monday\",\"Tuesday\",\"Wednesday\",\"Tuesday\",\"Wednesday\",\"Thursday\",\"Friday\",\"Saturday\",\"Sunday\",\"Monday\",\"Tuesday\",\"Wednesday\",\"Thursday\",\"Friday\",\"Saturday\",\"Sunday\",\"Monday\",\"Tuesday\",\"Wednesday\",\"Thursday\",\"Friday\",\"Saturday\",\"Sunday\",\"Monday\",\"Tuesday\",\"Wednesday\",\"Thursday\",\"Friday\",\"Saturday\",\"Sunday\",\"Monday\",\"Tuesday\",\"Wednesday\",\"Thursday\",\"Tuesday\",\"Wednesday\",\"Thursday\",\"Friday\",\"Tuesday\",\"Wednesday\",\"Thursday\",\"Friday\",\"Saturday\",\"Sunday\",\"Monday\",\"Tuesday\",\"Wednesday\",\"Thursday\",\"Friday\",\"Saturday\",\"Sunday\",\"Monday\",\"Tuesday\",\"Wednesday\",\"Thursday\",\"Friday\",\"Saturday\",\"Sunday\",\"Monday\",\"Tuesday\",\"Wednesday\",\"Thursday\",\"Friday\",\"Saturday\",\"Sunday\",\"Monday\",\"Tuesday\",\"Wednesday\",\"Thursday\",\"Tuesday\",\"Wednesday\",\"Thursday\",\"Friday\",\"Saturday\",\"Sunday\",\"Monday\",\"Tuesday\",\"Wednesday\",\"Thursday\",\"Friday\",\"Saturday\",\"Sunday\",\"Monday\",\"Tuesday\",\"Wednesday\",\"Thursday\",\"Friday\",\"Saturday\",\"Sunday\",\"Monday\",\"Tuesday\",\"Wednesday\",\"Thursday\",\"Friday\",\"Saturday\",\"Sunday\",\"Monday\",\"Tuesday\",\"Wednesday\",\"Thursday\",\"Tuesday\",\"Wednesday\",\"Thursday\",\"Friday\",\"Saturday\",\"Sunday\",\"Monday\",\"Tuesday\",\"Wednesday\",\"Thursday\",\"Friday\",\"Saturday\",\"Sunday\",\"Monday\",\"Tuesday\",\"Wednesday\",\"Thursday\",\"Friday\",\"Saturday\",\"Sunday\",\"Monday\",\"Tuesday\",\"Wednesday\",\"Thursday\",\"Friday\",\"Saturday\",\"Sunday\",\"Monday\",\"Tuesday\",\"Wednesday\",\"Thursday\",\"Tuesday\",\"Wednesday\",\"Thursday\",\"Friday\",\"Saturday\",\"Sunday\",\"Monday\",\"Tuesday\",\"Wednesday\",\"Thursday\",\"Friday\",\"Saturday\",\"Sunday\",\"Monday\",\"Tuesday\",\"Wednesday\",\"Thursday\",\"Friday\",\"Saturday\",\"Sunday\",\"Monday\",\"Tuesday\",\"Wednesday\",\"Thursday\",\"Friday\",\"Saturday\",\"Sunday\",\"Monday\",\"Tuesday\",\"Wednesday\",\"Thursday\",\"Tuesday\",\"Wednesday\",\"Thursday\",\"Friday\",\"Saturday\",\"Sunday\",\"Monday\",\"Tuesday\",\"Wednesday\",\"Thursday\",\"Friday\",\"Saturday\",\"Sunday\",\"Monday\",\"Tuesday\",\"Wednesday\",\"Thursday\",\"Friday\",\"Saturday\",\"Sunday\",\"Monday\",\"Tuesday\",\"Wednesday\",\"Thursday\",\"Friday\",\"Saturday\",\"Sunday\",\"Monday\",\"Tuesday\",\"Wednesday\",\"Thursday\",\"Tuesday\",\"Wednesday\",\"Thursday\",\"Friday\",\"Saturday\",\"Sunday\",\"Monday\",\"Tuesday\",\"Wednesday\",\"Thursday\",\"Friday\",\"Saturday\",\"Sunday\",\"Monday\",\"Tuesday\",\"Wednesday\",\"Thursday\",\"Friday\",\"Saturday\",\"Sunday\",\"Monday\",\"Tuesday\",\"Wednesday\",\"Thursday\",\"Friday\",\"Saturday\",\"Sunday\",\"Monday\",\"Tuesday\",\"Wednesday\",\"Thursday\",\"Tuesday\",\"Wednesday\",\"Thursday\",\"Friday\",\"Saturday\",\"Sunday\",\"Monday\",\"Tuesday\",\"Wednesday\",\"Thursday\",\"Friday\",\"Saturday\",\"Sunday\",\"Monday\",\"Tuesday\",\"Wednesday\",\"Thursday\",\"Friday\",\"Saturday\",\"Sunday\",\"Monday\",\"Tuesday\",\"Wednesday\",\"Thursday\",\"Friday\",\"Saturday\",\"Sunday\",\"Monday\",\"Tuesday\",\"Wednesday\",\"Tuesday\",\"Wednesday\",\"Thursday\",\"Friday\",\"Saturday\",\"Sunday\",\"Monday\",\"Tuesday\",\"Wednesday\",\"Thursday\",\"Friday\",\"Saturday\",\"Sunday\",\"Monday\",\"Tuesday\",\"Wednesday\",\"Thursday\",\"Friday\",\"Saturday\",\"Sunday\",\"Monday\",\"Tuesday\",\"Wednesday\",\"Thursday\",\"Friday\",\"Saturday\",\"Sunday\",\"Monday\",\"Tuesday\",\"Wednesday\",\"Thursday\",\"Friday\",\"Saturday\",\"Sunday\",\"Monday\",\"Tuesday\",\"Wednesday\",\"Thursday\",\"Friday\",\"Saturday\",\"Sunday\",\"Monday\",\"Tuesday\",\"Wednesday\",\"Thursday\",\"Friday\",\"Saturday\",\"Sunday\",\"Monday\",\"Tuesday\",\"Wednesday\",\"Thursday\",\"Friday\",\"Saturday\",\"Sunday\",\"Monday\",\"Tuesday\",\"Tuesday\",\"Wednesday\",\"Thursday\",\"Friday\",\"Saturday\",\"Sunday\",\"Monday\",\"Tuesday\",\"Wednesday\",\"Thursday\",\"Friday\",\"Saturday\",\"Sunday\",\"Monday\",\"Tuesday\",\"Wednesday\",\"Thursday\",\"Friday\",\"Saturday\",\"Sunday\",\"Monday\",\"Tuesday\",\"Wednesday\",\"Thursday\",\"Friday\",\"Saturday\",\"Tuesday\",\"Wednesday\",\"Thursday\",\"Friday\",\"Saturday\",\"Sunday\",\"Monday\",\"Tuesday\",\"Wednesday\",\"Thursday\",\"Friday\",\"Saturday\",\"Sunday\",\"Monday\",\"Tuesday\",\"Wednesday\",\"Thursday\",\"Friday\",\"Saturday\",\"Sunday\",\"Monday\",\"Tuesday\",\"Wednesday\",\"Thursday\",\"Friday\",\"Saturday\",\"Sunday\",\"Monday\",\"Tuesday\",\"Wednesday\",\"Thursday\",\"Tuesday\",\"Wednesday\",\"Thursday\",\"Friday\",\"Saturday\",\"Sunday\",\"Monday\",\"Tuesday\",\"Wednesday\",\"Thursday\",\"Friday\",\"Saturday\",\"Sunday\",\"Monday\",\"Tuesday\",\"Wednesday\",\"Thursday\",\"Friday\",\"Saturday\",\"Sunday\",\"Monday\",\"Tuesday\",\"Wednesday\",\"Thursday\",\"Friday\",\"Saturday\",\"Tuesday\",\"Wednesday\",\"Thursday\",\"Friday\",\"Saturday\",\"Sunday\",\"Monday\",\"Tuesday\",\"Wednesday\",\"Thursday\",\"Friday\",\"Saturday\",\"Sunday\",\"Monday\",\"Tuesday\",\"Wednesday\",\"Thursday\",\"Friday\",\"Saturday\",\"Sunday\",\"Monday\",\"Tuesday\",\"Wednesday\",\"Thursday\",\"Friday\",\"Saturday\",\"Sunday\",\"Monday\",\"Tuesday\",\"Wednesday\",\"Thursday\",\"Tuesday\",\"Wednesday\",\"Thursday\",\"Friday\",\"Saturday\",\"Sunday\",\"Monday\",\"Tuesday\",\"Wednesday\",\"Thursday\",\"Friday\",\"Saturday\",\"Sunday\",\"Monday\",\"Tuesday\",\"Wednesday\",\"Thursday\",\"Friday\",\"Saturday\",\"Sunday\",\"Monday\",\"Tuesday\",\"Wednesday\",\"Thursday\",\"Friday\",\"Saturday\",\"Sunday\",\"Monday\",\"Tuesday\",\"Wednesday\",\"Thursday\",\"Tuesday\",\"Wednesday\",\"Thursday\",\"Friday\",\"Saturday\",\"Sunday\",\"Monday\",\"Tuesday\",\"Wednesday\",\"Thursday\",\"Friday\",\"Saturday\",\"Sunday\",\"Monday\",\"Tuesday\",\"Wednesday\",\"Thursday\",\"Friday\",\"Saturday\",\"Tuesday\",\"Wednesday\",\"Thursday\",\"Friday\",\"Saturday\",\"Sunday\",\"Monday\",\"Tuesday\",\"Wednesday\",\"Thursday\",\"Friday\",\"Saturday\",\"Sunday\",\"Monday\",\"Tuesday\",\"Wednesday\",\"Thursday\",\"Friday\",\"Saturday\",\"Sunday\",\"Monday\",\"Tuesday\",\"Wednesday\",\"Thursday\",\"Friday\",\"Saturday\",\"Sunday\",\"Monday\",\"Tuesday\",\"Wednesday\",\"Thursday\",\"Tuesday\",\"Wednesday\",\"Thursday\",\"Friday\",\"Saturday\",\"Sunday\",\"Monday\",\"Tuesday\",\"Wednesday\",\"Thursday\",\"Friday\",\"Saturday\",\"Sunday\",\"Monday\",\"Tuesday\",\"Wednesday\",\"Thursday\",\"Friday\",\"Saturday\",\"Sunday\",\"Monday\",\"Tuesday\",\"Wednesday\",\"Thursday\",\"Friday\",\"Saturday\",\"Sunday\",\"Monday\",\"Tuesday\",\"Wednesday\",\"Thursday\",\"Tuesday\",\"Wednesday\",\"Thursday\",\"Friday\",\"Saturday\",\"Sunday\",\"Monday\",\"Tuesday\",\"Wednesday\",\"Thursday\",\"Friday\",\"Saturday\",\"Sunday\",\"Monday\",\"Tuesday\",\"Wednesday\",\"Thursday\",\"Friday\",\"Saturday\",\"Sunday\",\"Monday\",\"Tuesday\",\"Wednesday\",\"Thursday\",\"Friday\",\"Saturday\",\"Sunday\",\"Monday\",\"Tuesday\",\"Tuesday\",\"Wednesday\",\"Thursday\",\"Friday\",\"Saturday\",\"Sunday\",\"Monday\",\"Tuesday\",\"Wednesday\",\"Thursday\",\"Friday\",\"Saturday\",\"Sunday\",\"Monday\",\"Tuesday\",\"Wednesday\",\"Thursday\",\"Friday\",\"Saturday\",\"Sunday\",\"Monday\",\"Tuesday\",\"Wednesday\",\"Thursday\",\"Friday\",\"Saturday\",\"Sunday\",\"Monday\",\"Tuesday\",\"Wednesday\",\"Thursday\"],\"y\":[328,217,181,209,221,164,233,264,205,211,130,262,238,216,279,243,189,243,217,246,277,254,203,250,289,175,203,206,214,251,0,146,148,236,96,176,127,202,141,151,186,199,227,185,202,140,154,115,150,224,171,166,96,118,117,102,182,152,91,139,112,107,256,135,252,170,212,186,121,278,125,38,86,160,89,94,223,118,227,120,402,146,148,221,52,81,369,243,295,303,155,49,339,248,373,176,147,199,217,10,1,308,220,139,0,0,0,1,302,247,184,75,0,184,87,120,2,0,0,0,0,0,0,55,32,88,51,0,0,17,0,0,0,10,145,75,12,192,0,95,0,0,70,94,17,87,0,108,48,0,0,0,0,0,227,292,257,282,151,331,311,250,276,255,273,249,216,217,275,282,291,281,361,245,277,250,272,253,295,149,135,297,271,224,236,181,238,197,188,150,60,182,141,327,153,162,432,164,260,288,286,331,352,233,191,355,304,345,475,383,229,258,401,17,330,343,306,335,191,245,195,249,260,228,283,127,266,242,204,152,147,82,76,45,234,40,123,206,52,223,204,319,247,145,290,300,128,320,195,206,284,268,249,206,382,269,208,206,360,360,277,227,295,229,4,356,404,331,448,305,160,311,389,378,371,366,330,190,359,309,197,213,206,248,196,334,363,420,311,370,52,326,345,373,319,268,280,371,370,335,356,322,343,376,274,376,206,303,292,416,333,346,385,402,300,172,131,153,214,183,153,205,214,221,164,242,188,252,129,133,170,176,190,150,194,124,176,258,142,178,168,208,171,151,196,9,331,0,3,87,55,2,2,0,0,0,0,0,0,0,0,0,0,0,0,0,31,174,346,196,177,184,263,173,206,134,21,164,160,0,88,0,96,339,228,194,3,58,311,306,34,176,233,191,390,288,300,359,289,196,67,344,287,313,328,314,279,153,374,329,311,2,0,150,219,299,253,201,239,249,228,272,220,215,239,301,224,241,234,236,300,241,204,306,251,199,262,260,178,258,267,256,108,196,194,231,350,225,114,162,121,137,215,317,201,244,179,180,194,236,226,290,240,200,233,180,185,229,108,308,266,231,232,58,318,127,279,262,308,304,331,248,222,432,273,308,395,340,283,312,367,197,293,190,383,237,252,370,202,233,238,339,220,324,247,263,258,271,256,335,302,191,179,260,144,72,408,281,270,216,238,232,267,263,0,195,313,251,241,207,439,192,253,262,235,68,277,226,256,239,288,46,206,249,148,177,270,272,104,201,238,206,165,270,84,237,227,247,224,241,229,96,210,251,265,195,48,140,144,176,199,158,159,130,111,113,175,200,223,141,214,181,190,141,165,163,178,235,212,141,143,79,0,0,70,194,63,0,0,0,513,518,312,241,480,349,294,402,512,362,0,352,458,141,461,343,397,236,0,156,487,133,412,318,197,199,350,363,328,258,225,271,321,258,0,302,0,258,249,0,287,255,0,324,282,268,240,272,239,305,227,251,264,0,0,85,105,58,9,19,146,0,178,0,20,0,11,92,47,0,15,0,84,50,0,1,0,0,75,49,189,142,86,217,280,295,238,195,297,214,240,347,199,282,254,279,288,369,237,215,313,267,284,305,299,328,151,231,275,199,105,355,261,304,202,203,305,284,304,347,327,261,223,419,379,424,337,401,382,200,237,250,330,0,317,247,0,153,155,189,139,3,0,114,124,145,206,153,90,125,129,132,145,161,182,308,258,139,152,135,149,154,209,147,171,106,128,58,123,156,193,158,83,195,195,191,158,170,117,223,182,209,185,183,153,159,131,51,95,165,123,130,90,148,228,148,115,184,39,154,96,33,105,115,157,130,164,216,172,120,191,82,118,108,104,20,136,0,156,169,174,190,142,93,174,154,169,145,159,136,135,141,161,192,139,172,121,127,142,195,167,214,166,158,139,171,152,184,102,196,163,134,65,0,0,105,166,167,158,212,238,206,122,214,129,203,258,317,117,0,0,0,70,166,250,182,110,162,177,0,116,82,84,126,12,0,0,0,139,9,195,232,19,0,80,112,310,380,301,79,101,156,129,0,0,0,0,0,0,312,216,298,281,429,307,191,214,225,226,236,300,227,218,258,235,231,210,223,166,105,229,212,188,232,271,245,217,224,213,137],\"type\":\"bar\"}],                        {\"template\":{\"data\":{\"histogram2dcontour\":[{\"type\":\"histogram2dcontour\",\"colorbar\":{\"outlinewidth\":0,\"ticks\":\"\"},\"colorscale\":[[0.0,\"#0d0887\"],[0.1111111111111111,\"#46039f\"],[0.2222222222222222,\"#7201a8\"],[0.3333333333333333,\"#9c179e\"],[0.4444444444444444,\"#bd3786\"],[0.5555555555555556,\"#d8576b\"],[0.6666666666666666,\"#ed7953\"],[0.7777777777777778,\"#fb9f3a\"],[0.8888888888888888,\"#fdca26\"],[1.0,\"#f0f921\"]]}],\"choropleth\":[{\"type\":\"choropleth\",\"colorbar\":{\"outlinewidth\":0,\"ticks\":\"\"}}],\"histogram2d\":[{\"type\":\"histogram2d\",\"colorbar\":{\"outlinewidth\":0,\"ticks\":\"\"},\"colorscale\":[[0.0,\"#0d0887\"],[0.1111111111111111,\"#46039f\"],[0.2222222222222222,\"#7201a8\"],[0.3333333333333333,\"#9c179e\"],[0.4444444444444444,\"#bd3786\"],[0.5555555555555556,\"#d8576b\"],[0.6666666666666666,\"#ed7953\"],[0.7777777777777778,\"#fb9f3a\"],[0.8888888888888888,\"#fdca26\"],[1.0,\"#f0f921\"]]}],\"heatmap\":[{\"type\":\"heatmap\",\"colorbar\":{\"outlinewidth\":0,\"ticks\":\"\"},\"colorscale\":[[0.0,\"#0d0887\"],[0.1111111111111111,\"#46039f\"],[0.2222222222222222,\"#7201a8\"],[0.3333333333333333,\"#9c179e\"],[0.4444444444444444,\"#bd3786\"],[0.5555555555555556,\"#d8576b\"],[0.6666666666666666,\"#ed7953\"],[0.7777777777777778,\"#fb9f3a\"],[0.8888888888888888,\"#fdca26\"],[1.0,\"#f0f921\"]]}],\"heatmapgl\":[{\"type\":\"heatmapgl\",\"colorbar\":{\"outlinewidth\":0,\"ticks\":\"\"},\"colorscale\":[[0.0,\"#0d0887\"],[0.1111111111111111,\"#46039f\"],[0.2222222222222222,\"#7201a8\"],[0.3333333333333333,\"#9c179e\"],[0.4444444444444444,\"#bd3786\"],[0.5555555555555556,\"#d8576b\"],[0.6666666666666666,\"#ed7953\"],[0.7777777777777778,\"#fb9f3a\"],[0.8888888888888888,\"#fdca26\"],[1.0,\"#f0f921\"]]}],\"contourcarpet\":[{\"type\":\"contourcarpet\",\"colorbar\":{\"outlinewidth\":0,\"ticks\":\"\"}}],\"contour\":[{\"type\":\"contour\",\"colorbar\":{\"outlinewidth\":0,\"ticks\":\"\"},\"colorscale\":[[0.0,\"#0d0887\"],[0.1111111111111111,\"#46039f\"],[0.2222222222222222,\"#7201a8\"],[0.3333333333333333,\"#9c179e\"],[0.4444444444444444,\"#bd3786\"],[0.5555555555555556,\"#d8576b\"],[0.6666666666666666,\"#ed7953\"],[0.7777777777777778,\"#fb9f3a\"],[0.8888888888888888,\"#fdca26\"],[1.0,\"#f0f921\"]]}],\"surface\":[{\"type\":\"surface\",\"colorbar\":{\"outlinewidth\":0,\"ticks\":\"\"},\"colorscale\":[[0.0,\"#0d0887\"],[0.1111111111111111,\"#46039f\"],[0.2222222222222222,\"#7201a8\"],[0.3333333333333333,\"#9c179e\"],[0.4444444444444444,\"#bd3786\"],[0.5555555555555556,\"#d8576b\"],[0.6666666666666666,\"#ed7953\"],[0.7777777777777778,\"#fb9f3a\"],[0.8888888888888888,\"#fdca26\"],[1.0,\"#f0f921\"]]}],\"mesh3d\":[{\"type\":\"mesh3d\",\"colorbar\":{\"outlinewidth\":0,\"ticks\":\"\"}}],\"scatter\":[{\"fillpattern\":{\"fillmode\":\"overlay\",\"size\":10,\"solidity\":0.2},\"type\":\"scatter\"}],\"parcoords\":[{\"type\":\"parcoords\",\"line\":{\"colorbar\":{\"outlinewidth\":0,\"ticks\":\"\"}}}],\"scatterpolargl\":[{\"type\":\"scatterpolargl\",\"marker\":{\"colorbar\":{\"outlinewidth\":0,\"ticks\":\"\"}}}],\"bar\":[{\"error_x\":{\"color\":\"#2a3f5f\"},\"error_y\":{\"color\":\"#2a3f5f\"},\"marker\":{\"line\":{\"color\":\"#E5ECF6\",\"width\":0.5},\"pattern\":{\"fillmode\":\"overlay\",\"size\":10,\"solidity\":0.2}},\"type\":\"bar\"}],\"scattergeo\":[{\"type\":\"scattergeo\",\"marker\":{\"colorbar\":{\"outlinewidth\":0,\"ticks\":\"\"}}}],\"scatterpolar\":[{\"type\":\"scatterpolar\",\"marker\":{\"colorbar\":{\"outlinewidth\":0,\"ticks\":\"\"}}}],\"histogram\":[{\"marker\":{\"pattern\":{\"fillmode\":\"overlay\",\"size\":10,\"solidity\":0.2}},\"type\":\"histogram\"}],\"scattergl\":[{\"type\":\"scattergl\",\"marker\":{\"colorbar\":{\"outlinewidth\":0,\"ticks\":\"\"}}}],\"scatter3d\":[{\"type\":\"scatter3d\",\"line\":{\"colorbar\":{\"outlinewidth\":0,\"ticks\":\"\"}},\"marker\":{\"colorbar\":{\"outlinewidth\":0,\"ticks\":\"\"}}}],\"scattermapbox\":[{\"type\":\"scattermapbox\",\"marker\":{\"colorbar\":{\"outlinewidth\":0,\"ticks\":\"\"}}}],\"scatterternary\":[{\"type\":\"scatterternary\",\"marker\":{\"colorbar\":{\"outlinewidth\":0,\"ticks\":\"\"}}}],\"scattercarpet\":[{\"type\":\"scattercarpet\",\"marker\":{\"colorbar\":{\"outlinewidth\":0,\"ticks\":\"\"}}}],\"carpet\":[{\"aaxis\":{\"endlinecolor\":\"#2a3f5f\",\"gridcolor\":\"white\",\"linecolor\":\"white\",\"minorgridcolor\":\"white\",\"startlinecolor\":\"#2a3f5f\"},\"baxis\":{\"endlinecolor\":\"#2a3f5f\",\"gridcolor\":\"white\",\"linecolor\":\"white\",\"minorgridcolor\":\"white\",\"startlinecolor\":\"#2a3f5f\"},\"type\":\"carpet\"}],\"table\":[{\"cells\":{\"fill\":{\"color\":\"#EBF0F8\"},\"line\":{\"color\":\"white\"}},\"header\":{\"fill\":{\"color\":\"#C8D4E3\"},\"line\":{\"color\":\"white\"}},\"type\":\"table\"}],\"barpolar\":[{\"marker\":{\"line\":{\"color\":\"#E5ECF6\",\"width\":0.5},\"pattern\":{\"fillmode\":\"overlay\",\"size\":10,\"solidity\":0.2}},\"type\":\"barpolar\"}],\"pie\":[{\"automargin\":true,\"type\":\"pie\"}]},\"layout\":{\"autotypenumbers\":\"strict\",\"colorway\":[\"#636efa\",\"#EF553B\",\"#00cc96\",\"#ab63fa\",\"#FFA15A\",\"#19d3f3\",\"#FF6692\",\"#B6E880\",\"#FF97FF\",\"#FECB52\"],\"font\":{\"color\":\"#2a3f5f\"},\"hovermode\":\"closest\",\"hoverlabel\":{\"align\":\"left\"},\"paper_bgcolor\":\"white\",\"plot_bgcolor\":\"#E5ECF6\",\"polar\":{\"bgcolor\":\"#E5ECF6\",\"angularaxis\":{\"gridcolor\":\"white\",\"linecolor\":\"white\",\"ticks\":\"\"},\"radialaxis\":{\"gridcolor\":\"white\",\"linecolor\":\"white\",\"ticks\":\"\"}},\"ternary\":{\"bgcolor\":\"#E5ECF6\",\"aaxis\":{\"gridcolor\":\"white\",\"linecolor\":\"white\",\"ticks\":\"\"},\"baxis\":{\"gridcolor\":\"white\",\"linecolor\":\"white\",\"ticks\":\"\"},\"caxis\":{\"gridcolor\":\"white\",\"linecolor\":\"white\",\"ticks\":\"\"}},\"coloraxis\":{\"colorbar\":{\"outlinewidth\":0,\"ticks\":\"\"}},\"colorscale\":{\"sequential\":[[0.0,\"#0d0887\"],[0.1111111111111111,\"#46039f\"],[0.2222222222222222,\"#7201a8\"],[0.3333333333333333,\"#9c179e\"],[0.4444444444444444,\"#bd3786\"],[0.5555555555555556,\"#d8576b\"],[0.6666666666666666,\"#ed7953\"],[0.7777777777777778,\"#fb9f3a\"],[0.8888888888888888,\"#fdca26\"],[1.0,\"#f0f921\"]],\"sequentialminus\":[[0.0,\"#0d0887\"],[0.1111111111111111,\"#46039f\"],[0.2222222222222222,\"#7201a8\"],[0.3333333333333333,\"#9c179e\"],[0.4444444444444444,\"#bd3786\"],[0.5555555555555556,\"#d8576b\"],[0.6666666666666666,\"#ed7953\"],[0.7777777777777778,\"#fb9f3a\"],[0.8888888888888888,\"#fdca26\"],[1.0,\"#f0f921\"]],\"diverging\":[[0,\"#8e0152\"],[0.1,\"#c51b7d\"],[0.2,\"#de77ae\"],[0.3,\"#f1b6da\"],[0.4,\"#fde0ef\"],[0.5,\"#f7f7f7\"],[0.6,\"#e6f5d0\"],[0.7,\"#b8e186\"],[0.8,\"#7fbc41\"],[0.9,\"#4d9221\"],[1,\"#276419\"]]},\"xaxis\":{\"gridcolor\":\"white\",\"linecolor\":\"white\",\"ticks\":\"\",\"title\":{\"standoff\":15},\"zerolinecolor\":\"white\",\"automargin\":true,\"zerolinewidth\":2},\"yaxis\":{\"gridcolor\":\"white\",\"linecolor\":\"white\",\"ticks\":\"\",\"title\":{\"standoff\":15},\"zerolinecolor\":\"white\",\"automargin\":true,\"zerolinewidth\":2},\"scene\":{\"xaxis\":{\"backgroundcolor\":\"#E5ECF6\",\"gridcolor\":\"white\",\"linecolor\":\"white\",\"showbackground\":true,\"ticks\":\"\",\"zerolinecolor\":\"white\",\"gridwidth\":2},\"yaxis\":{\"backgroundcolor\":\"#E5ECF6\",\"gridcolor\":\"white\",\"linecolor\":\"white\",\"showbackground\":true,\"ticks\":\"\",\"zerolinecolor\":\"white\",\"gridwidth\":2},\"zaxis\":{\"backgroundcolor\":\"#E5ECF6\",\"gridcolor\":\"white\",\"linecolor\":\"white\",\"showbackground\":true,\"ticks\":\"\",\"zerolinecolor\":\"white\",\"gridwidth\":2}},\"shapedefaults\":{\"line\":{\"color\":\"#2a3f5f\"}},\"annotationdefaults\":{\"arrowcolor\":\"#2a3f5f\",\"arrowhead\":0,\"arrowwidth\":1},\"geo\":{\"bgcolor\":\"white\",\"landcolor\":\"#E5ECF6\",\"subunitcolor\":\"white\",\"showland\":true,\"showlakes\":true,\"lakecolor\":\"white\"},\"title\":{\"x\":0.05},\"mapbox\":{\"style\":\"light\"}}},\"xaxis\":{\"tickangle\":0},\"barmode\":\"group\"},                        {\"responsive\": true}                    ).then(function(){\n",
       "                            \n",
       "var gd = document.getElementById('a7b6a42f-5eaf-4df5-ae26-c506220519e5');\n",
       "var x = new MutationObserver(function (mutations, observer) {{\n",
       "        var display = window.getComputedStyle(gd).display;\n",
       "        if (!display || display === 'none') {{\n",
       "            console.log([gd, 'removed!']);\n",
       "            Plotly.purge(gd);\n",
       "            observer.disconnect();\n",
       "        }}\n",
       "}});\n",
       "\n",
       "// Listen for the removal of the full notebook cells\n",
       "var notebookContainer = gd.closest('#notebook-container');\n",
       "if (notebookContainer) {{\n",
       "    x.observe(notebookContainer, {childList: true});\n",
       "}}\n",
       "\n",
       "// Listen for the clearing of the current output cell\n",
       "var outputEl = gd.closest('.output');\n",
       "if (outputEl) {{\n",
       "    x.observe(outputEl, {childList: true});\n",
       "}}\n",
       "\n",
       "                        })                };                });            </script>        </div>"
      ]
     },
     "metadata": {},
     "output_type": "display_data"
    }
   ],
   "source": [
    "fig = go.Figure()\n",
    "\n",
    "fig.add_trace(go.Bar(x=df['Day'],  y=df['VeryActiveMinutes'],  name = 'Very Active', marker_color = 'blue'))\n",
    "\n",
    "fig.add_trace(go.Bar(x=df['Day'], y=df['FairlyActiveMinutes'], name = 'Fairly Active', marker_color = 'green'))\n",
    "\n",
    "fig.add_trace(go.Bar(x=df['Day'], y=df['LightlyActiveMinutes'], name = 'Lightly Active', marker_color = 'red'))\n",
    "\n",
    "fig.update_layout(barmode='group', xaxis_tickangle=0)\n",
    "fig.show()"
   ]
  },
  {
   "cell_type": "code",
   "execution_count": 45,
   "id": "08c0579d",
   "metadata": {},
   "outputs": [
    {
     "data": {
      "application/vnd.plotly.v1+json": {
       "config": {
        "plotlyServerURL": "https://plot.ly"
       },
       "data": [
        {
         "customdata": [
          [
           "Tuesday"
          ],
          [
           "Wednesday"
          ],
          [
           "Thursday"
          ],
          [
           "Friday"
          ],
          [
           "Saturday"
          ],
          [
           "Sunday"
          ],
          [
           "Monday"
          ],
          [
           "Tuesday"
          ],
          [
           "Wednesday"
          ],
          [
           "Thursday"
          ],
          [
           "Friday"
          ],
          [
           "Saturday"
          ],
          [
           "Sunday"
          ],
          [
           "Monday"
          ],
          [
           "Tuesday"
          ],
          [
           "Wednesday"
          ],
          [
           "Thursday"
          ],
          [
           "Friday"
          ],
          [
           "Saturday"
          ],
          [
           "Sunday"
          ],
          [
           "Monday"
          ],
          [
           "Tuesday"
          ],
          [
           "Wednesday"
          ],
          [
           "Thursday"
          ],
          [
           "Friday"
          ],
          [
           "Saturday"
          ],
          [
           "Sunday"
          ],
          [
           "Monday"
          ],
          [
           "Tuesday"
          ],
          [
           "Wednesday"
          ],
          [
           "Thursday"
          ],
          [
           "Tuesday"
          ],
          [
           "Wednesday"
          ],
          [
           "Thursday"
          ],
          [
           "Friday"
          ],
          [
           "Saturday"
          ],
          [
           "Sunday"
          ],
          [
           "Monday"
          ],
          [
           "Tuesday"
          ],
          [
           "Wednesday"
          ],
          [
           "Thursday"
          ],
          [
           "Friday"
          ],
          [
           "Saturday"
          ],
          [
           "Sunday"
          ],
          [
           "Monday"
          ],
          [
           "Tuesday"
          ],
          [
           "Wednesday"
          ],
          [
           "Thursday"
          ],
          [
           "Friday"
          ],
          [
           "Saturday"
          ],
          [
           "Sunday"
          ],
          [
           "Monday"
          ],
          [
           "Tuesday"
          ],
          [
           "Wednesday"
          ],
          [
           "Thursday"
          ],
          [
           "Friday"
          ],
          [
           "Saturday"
          ],
          [
           "Sunday"
          ],
          [
           "Monday"
          ],
          [
           "Tuesday"
          ],
          [
           "Wednesday"
          ],
          [
           "Thursday"
          ],
          [
           "Tuesday"
          ],
          [
           "Wednesday"
          ],
          [
           "Thursday"
          ],
          [
           "Friday"
          ],
          [
           "Saturday"
          ],
          [
           "Sunday"
          ],
          [
           "Monday"
          ],
          [
           "Tuesday"
          ],
          [
           "Wednesday"
          ],
          [
           "Thursday"
          ],
          [
           "Friday"
          ],
          [
           "Saturday"
          ],
          [
           "Sunday"
          ],
          [
           "Monday"
          ],
          [
           "Tuesday"
          ],
          [
           "Wednesday"
          ],
          [
           "Thursday"
          ],
          [
           "Friday"
          ],
          [
           "Saturday"
          ],
          [
           "Sunday"
          ],
          [
           "Monday"
          ],
          [
           "Tuesday"
          ],
          [
           "Wednesday"
          ],
          [
           "Thursday"
          ],
          [
           "Friday"
          ],
          [
           "Saturday"
          ],
          [
           "Sunday"
          ],
          [
           "Monday"
          ],
          [
           "Tuesday"
          ],
          [
           "Wednesday"
          ],
          [
           "Tuesday"
          ],
          [
           "Wednesday"
          ],
          [
           "Thursday"
          ],
          [
           "Friday"
          ],
          [
           "Saturday"
          ],
          [
           "Sunday"
          ],
          [
           "Monday"
          ],
          [
           "Tuesday"
          ],
          [
           "Wednesday"
          ],
          [
           "Thursday"
          ],
          [
           "Friday"
          ],
          [
           "Saturday"
          ],
          [
           "Sunday"
          ],
          [
           "Monday"
          ],
          [
           "Tuesday"
          ],
          [
           "Wednesday"
          ],
          [
           "Thursday"
          ],
          [
           "Friday"
          ],
          [
           "Saturday"
          ],
          [
           "Sunday"
          ],
          [
           "Monday"
          ],
          [
           "Tuesday"
          ],
          [
           "Wednesday"
          ],
          [
           "Thursday"
          ],
          [
           "Friday"
          ],
          [
           "Saturday"
          ],
          [
           "Sunday"
          ],
          [
           "Monday"
          ],
          [
           "Tuesday"
          ],
          [
           "Wednesday"
          ],
          [
           "Thursday"
          ],
          [
           "Tuesday"
          ],
          [
           "Wednesday"
          ],
          [
           "Thursday"
          ],
          [
           "Friday"
          ],
          [
           "Saturday"
          ],
          [
           "Sunday"
          ],
          [
           "Monday"
          ],
          [
           "Tuesday"
          ],
          [
           "Wednesday"
          ],
          [
           "Thursday"
          ],
          [
           "Friday"
          ],
          [
           "Saturday"
          ],
          [
           "Sunday"
          ],
          [
           "Monday"
          ],
          [
           "Tuesday"
          ],
          [
           "Wednesday"
          ],
          [
           "Thursday"
          ],
          [
           "Friday"
          ],
          [
           "Saturday"
          ],
          [
           "Sunday"
          ],
          [
           "Monday"
          ],
          [
           "Tuesday"
          ],
          [
           "Wednesday"
          ],
          [
           "Thursday"
          ],
          [
           "Friday"
          ],
          [
           "Saturday"
          ],
          [
           "Sunday"
          ],
          [
           "Monday"
          ],
          [
           "Tuesday"
          ],
          [
           "Wednesday"
          ],
          [
           "Thursday"
          ],
          [
           "Tuesday"
          ],
          [
           "Wednesday"
          ],
          [
           "Thursday"
          ],
          [
           "Friday"
          ],
          [
           "Saturday"
          ],
          [
           "Sunday"
          ],
          [
           "Monday"
          ],
          [
           "Tuesday"
          ],
          [
           "Wednesday"
          ],
          [
           "Thursday"
          ],
          [
           "Friday"
          ],
          [
           "Saturday"
          ],
          [
           "Sunday"
          ],
          [
           "Monday"
          ],
          [
           "Tuesday"
          ],
          [
           "Wednesday"
          ],
          [
           "Thursday"
          ],
          [
           "Friday"
          ],
          [
           "Saturday"
          ],
          [
           "Sunday"
          ],
          [
           "Monday"
          ],
          [
           "Tuesday"
          ],
          [
           "Wednesday"
          ],
          [
           "Thursday"
          ],
          [
           "Friday"
          ],
          [
           "Saturday"
          ],
          [
           "Sunday"
          ],
          [
           "Monday"
          ],
          [
           "Tuesday"
          ],
          [
           "Wednesday"
          ],
          [
           "Thursday"
          ],
          [
           "Tuesday"
          ],
          [
           "Wednesday"
          ],
          [
           "Thursday"
          ],
          [
           "Friday"
          ],
          [
           "Saturday"
          ],
          [
           "Sunday"
          ],
          [
           "Monday"
          ],
          [
           "Tuesday"
          ],
          [
           "Wednesday"
          ],
          [
           "Thursday"
          ],
          [
           "Friday"
          ],
          [
           "Saturday"
          ],
          [
           "Sunday"
          ],
          [
           "Monday"
          ],
          [
           "Tuesday"
          ],
          [
           "Wednesday"
          ],
          [
           "Thursday"
          ],
          [
           "Friday"
          ],
          [
           "Saturday"
          ],
          [
           "Sunday"
          ],
          [
           "Monday"
          ],
          [
           "Tuesday"
          ],
          [
           "Wednesday"
          ],
          [
           "Thursday"
          ],
          [
           "Friday"
          ],
          [
           "Saturday"
          ],
          [
           "Sunday"
          ],
          [
           "Monday"
          ],
          [
           "Tuesday"
          ],
          [
           "Wednesday"
          ],
          [
           "Thursday"
          ],
          [
           "Tuesday"
          ],
          [
           "Wednesday"
          ],
          [
           "Thursday"
          ],
          [
           "Friday"
          ],
          [
           "Saturday"
          ],
          [
           "Sunday"
          ],
          [
           "Monday"
          ],
          [
           "Tuesday"
          ],
          [
           "Wednesday"
          ],
          [
           "Thursday"
          ],
          [
           "Friday"
          ],
          [
           "Saturday"
          ],
          [
           "Sunday"
          ],
          [
           "Monday"
          ],
          [
           "Tuesday"
          ],
          [
           "Wednesday"
          ],
          [
           "Thursday"
          ],
          [
           "Friday"
          ],
          [
           "Saturday"
          ],
          [
           "Sunday"
          ],
          [
           "Monday"
          ],
          [
           "Tuesday"
          ],
          [
           "Wednesday"
          ],
          [
           "Thursday"
          ],
          [
           "Friday"
          ],
          [
           "Saturday"
          ],
          [
           "Sunday"
          ],
          [
           "Monday"
          ],
          [
           "Tuesday"
          ],
          [
           "Wednesday"
          ],
          [
           "Thursday"
          ],
          [
           "Tuesday"
          ],
          [
           "Wednesday"
          ],
          [
           "Thursday"
          ],
          [
           "Friday"
          ],
          [
           "Saturday"
          ],
          [
           "Sunday"
          ],
          [
           "Monday"
          ],
          [
           "Tuesday"
          ],
          [
           "Wednesday"
          ],
          [
           "Thursday"
          ],
          [
           "Friday"
          ],
          [
           "Saturday"
          ],
          [
           "Sunday"
          ],
          [
           "Monday"
          ],
          [
           "Tuesday"
          ],
          [
           "Wednesday"
          ],
          [
           "Thursday"
          ],
          [
           "Friday"
          ],
          [
           "Tuesday"
          ],
          [
           "Wednesday"
          ],
          [
           "Thursday"
          ],
          [
           "Friday"
          ],
          [
           "Saturday"
          ],
          [
           "Sunday"
          ],
          [
           "Monday"
          ],
          [
           "Tuesday"
          ],
          [
           "Wednesday"
          ],
          [
           "Thursday"
          ],
          [
           "Friday"
          ],
          [
           "Saturday"
          ],
          [
           "Sunday"
          ],
          [
           "Monday"
          ],
          [
           "Tuesday"
          ],
          [
           "Wednesday"
          ],
          [
           "Thursday"
          ],
          [
           "Friday"
          ],
          [
           "Saturday"
          ],
          [
           "Sunday"
          ],
          [
           "Monday"
          ],
          [
           "Tuesday"
          ],
          [
           "Wednesday"
          ],
          [
           "Thursday"
          ],
          [
           "Friday"
          ],
          [
           "Saturday"
          ],
          [
           "Sunday"
          ],
          [
           "Monday"
          ],
          [
           "Tuesday"
          ],
          [
           "Wednesday"
          ],
          [
           "Thursday"
          ],
          [
           "Tuesday"
          ],
          [
           "Wednesday"
          ],
          [
           "Thursday"
          ],
          [
           "Friday"
          ],
          [
           "Saturday"
          ],
          [
           "Sunday"
          ],
          [
           "Monday"
          ],
          [
           "Tuesday"
          ],
          [
           "Wednesday"
          ],
          [
           "Thursday"
          ],
          [
           "Friday"
          ],
          [
           "Saturday"
          ],
          [
           "Sunday"
          ],
          [
           "Monday"
          ],
          [
           "Tuesday"
          ],
          [
           "Wednesday"
          ],
          [
           "Thursday"
          ],
          [
           "Friday"
          ],
          [
           "Saturday"
          ],
          [
           "Sunday"
          ],
          [
           "Tuesday"
          ],
          [
           "Wednesday"
          ],
          [
           "Thursday"
          ],
          [
           "Friday"
          ],
          [
           "Saturday"
          ],
          [
           "Sunday"
          ],
          [
           "Monday"
          ],
          [
           "Tuesday"
          ],
          [
           "Wednesday"
          ],
          [
           "Thursday"
          ],
          [
           "Friday"
          ],
          [
           "Saturday"
          ],
          [
           "Sunday"
          ],
          [
           "Monday"
          ],
          [
           "Tuesday"
          ],
          [
           "Wednesday"
          ],
          [
           "Thursday"
          ],
          [
           "Friday"
          ],
          [
           "Saturday"
          ],
          [
           "Sunday"
          ],
          [
           "Monday"
          ],
          [
           "Tuesday"
          ],
          [
           "Wednesday"
          ],
          [
           "Thursday"
          ],
          [
           "Friday"
          ],
          [
           "Saturday"
          ],
          [
           "Sunday"
          ],
          [
           "Monday"
          ],
          [
           "Tuesday"
          ],
          [
           "Wednesday"
          ],
          [
           "Tuesday"
          ],
          [
           "Wednesday"
          ],
          [
           "Thursday"
          ],
          [
           "Friday"
          ],
          [
           "Saturday"
          ],
          [
           "Sunday"
          ],
          [
           "Monday"
          ],
          [
           "Tuesday"
          ],
          [
           "Wednesday"
          ],
          [
           "Thursday"
          ],
          [
           "Friday"
          ],
          [
           "Saturday"
          ],
          [
           "Sunday"
          ],
          [
           "Monday"
          ],
          [
           "Tuesday"
          ],
          [
           "Wednesday"
          ],
          [
           "Thursday"
          ],
          [
           "Friday"
          ],
          [
           "Saturday"
          ],
          [
           "Sunday"
          ],
          [
           "Monday"
          ],
          [
           "Tuesday"
          ],
          [
           "Wednesday"
          ],
          [
           "Thursday"
          ],
          [
           "Friday"
          ],
          [
           "Saturday"
          ],
          [
           "Sunday"
          ],
          [
           "Monday"
          ],
          [
           "Tuesday"
          ],
          [
           "Wednesday"
          ],
          [
           "Thursday"
          ],
          [
           "Tuesday"
          ],
          [
           "Wednesday"
          ],
          [
           "Thursday"
          ],
          [
           "Friday"
          ],
          [
           "Tuesday"
          ],
          [
           "Wednesday"
          ],
          [
           "Thursday"
          ],
          [
           "Friday"
          ],
          [
           "Saturday"
          ],
          [
           "Sunday"
          ],
          [
           "Monday"
          ],
          [
           "Tuesday"
          ],
          [
           "Wednesday"
          ],
          [
           "Thursday"
          ],
          [
           "Friday"
          ],
          [
           "Saturday"
          ],
          [
           "Sunday"
          ],
          [
           "Monday"
          ],
          [
           "Tuesday"
          ],
          [
           "Wednesday"
          ],
          [
           "Thursday"
          ],
          [
           "Friday"
          ],
          [
           "Saturday"
          ],
          [
           "Sunday"
          ],
          [
           "Monday"
          ],
          [
           "Tuesday"
          ],
          [
           "Wednesday"
          ],
          [
           "Thursday"
          ],
          [
           "Friday"
          ],
          [
           "Saturday"
          ],
          [
           "Sunday"
          ],
          [
           "Monday"
          ],
          [
           "Tuesday"
          ],
          [
           "Wednesday"
          ],
          [
           "Thursday"
          ],
          [
           "Tuesday"
          ],
          [
           "Wednesday"
          ],
          [
           "Thursday"
          ],
          [
           "Friday"
          ],
          [
           "Saturday"
          ],
          [
           "Sunday"
          ],
          [
           "Monday"
          ],
          [
           "Tuesday"
          ],
          [
           "Wednesday"
          ],
          [
           "Thursday"
          ],
          [
           "Friday"
          ],
          [
           "Saturday"
          ],
          [
           "Sunday"
          ],
          [
           "Monday"
          ],
          [
           "Tuesday"
          ],
          [
           "Wednesday"
          ],
          [
           "Thursday"
          ],
          [
           "Friday"
          ],
          [
           "Saturday"
          ],
          [
           "Sunday"
          ],
          [
           "Monday"
          ],
          [
           "Tuesday"
          ],
          [
           "Wednesday"
          ],
          [
           "Thursday"
          ],
          [
           "Friday"
          ],
          [
           "Saturday"
          ],
          [
           "Sunday"
          ],
          [
           "Monday"
          ],
          [
           "Tuesday"
          ],
          [
           "Wednesday"
          ],
          [
           "Thursday"
          ],
          [
           "Tuesday"
          ],
          [
           "Wednesday"
          ],
          [
           "Thursday"
          ],
          [
           "Friday"
          ],
          [
           "Saturday"
          ],
          [
           "Sunday"
          ],
          [
           "Monday"
          ],
          [
           "Tuesday"
          ],
          [
           "Wednesday"
          ],
          [
           "Thursday"
          ],
          [
           "Friday"
          ],
          [
           "Saturday"
          ],
          [
           "Sunday"
          ],
          [
           "Monday"
          ],
          [
           "Tuesday"
          ],
          [
           "Wednesday"
          ],
          [
           "Thursday"
          ],
          [
           "Friday"
          ],
          [
           "Saturday"
          ],
          [
           "Sunday"
          ],
          [
           "Monday"
          ],
          [
           "Tuesday"
          ],
          [
           "Wednesday"
          ],
          [
           "Thursday"
          ],
          [
           "Friday"
          ],
          [
           "Saturday"
          ],
          [
           "Sunday"
          ],
          [
           "Monday"
          ],
          [
           "Tuesday"
          ],
          [
           "Wednesday"
          ],
          [
           "Thursday"
          ],
          [
           "Tuesday"
          ],
          [
           "Wednesday"
          ],
          [
           "Thursday"
          ],
          [
           "Friday"
          ],
          [
           "Saturday"
          ],
          [
           "Sunday"
          ],
          [
           "Monday"
          ],
          [
           "Tuesday"
          ],
          [
           "Wednesday"
          ],
          [
           "Thursday"
          ],
          [
           "Friday"
          ],
          [
           "Saturday"
          ],
          [
           "Sunday"
          ],
          [
           "Monday"
          ],
          [
           "Tuesday"
          ],
          [
           "Wednesday"
          ],
          [
           "Thursday"
          ],
          [
           "Friday"
          ],
          [
           "Saturday"
          ],
          [
           "Sunday"
          ],
          [
           "Monday"
          ],
          [
           "Tuesday"
          ],
          [
           "Wednesday"
          ],
          [
           "Thursday"
          ],
          [
           "Friday"
          ],
          [
           "Saturday"
          ],
          [
           "Sunday"
          ],
          [
           "Monday"
          ],
          [
           "Tuesday"
          ],
          [
           "Wednesday"
          ],
          [
           "Thursday"
          ],
          [
           "Tuesday"
          ],
          [
           "Wednesday"
          ],
          [
           "Thursday"
          ],
          [
           "Friday"
          ],
          [
           "Saturday"
          ],
          [
           "Sunday"
          ],
          [
           "Monday"
          ],
          [
           "Tuesday"
          ],
          [
           "Wednesday"
          ],
          [
           "Thursday"
          ],
          [
           "Friday"
          ],
          [
           "Saturday"
          ],
          [
           "Sunday"
          ],
          [
           "Monday"
          ],
          [
           "Tuesday"
          ],
          [
           "Wednesday"
          ],
          [
           "Thursday"
          ],
          [
           "Friday"
          ],
          [
           "Saturday"
          ],
          [
           "Sunday"
          ],
          [
           "Monday"
          ],
          [
           "Tuesday"
          ],
          [
           "Wednesday"
          ],
          [
           "Thursday"
          ],
          [
           "Friday"
          ],
          [
           "Saturday"
          ],
          [
           "Sunday"
          ],
          [
           "Monday"
          ],
          [
           "Tuesday"
          ],
          [
           "Wednesday"
          ],
          [
           "Thursday"
          ],
          [
           "Tuesday"
          ],
          [
           "Wednesday"
          ],
          [
           "Thursday"
          ],
          [
           "Friday"
          ],
          [
           "Saturday"
          ],
          [
           "Sunday"
          ],
          [
           "Monday"
          ],
          [
           "Tuesday"
          ],
          [
           "Wednesday"
          ],
          [
           "Thursday"
          ],
          [
           "Friday"
          ],
          [
           "Saturday"
          ],
          [
           "Sunday"
          ],
          [
           "Monday"
          ],
          [
           "Tuesday"
          ],
          [
           "Wednesday"
          ],
          [
           "Thursday"
          ],
          [
           "Friday"
          ],
          [
           "Saturday"
          ],
          [
           "Sunday"
          ],
          [
           "Monday"
          ],
          [
           "Tuesday"
          ],
          [
           "Wednesday"
          ],
          [
           "Thursday"
          ],
          [
           "Friday"
          ],
          [
           "Saturday"
          ],
          [
           "Sunday"
          ],
          [
           "Monday"
          ],
          [
           "Tuesday"
          ],
          [
           "Wednesday"
          ],
          [
           "Thursday"
          ],
          [
           "Tuesday"
          ],
          [
           "Wednesday"
          ],
          [
           "Thursday"
          ],
          [
           "Friday"
          ],
          [
           "Saturday"
          ],
          [
           "Sunday"
          ],
          [
           "Monday"
          ],
          [
           "Tuesday"
          ],
          [
           "Wednesday"
          ],
          [
           "Thursday"
          ],
          [
           "Friday"
          ],
          [
           "Saturday"
          ],
          [
           "Sunday"
          ],
          [
           "Monday"
          ],
          [
           "Tuesday"
          ],
          [
           "Wednesday"
          ],
          [
           "Thursday"
          ],
          [
           "Friday"
          ],
          [
           "Saturday"
          ],
          [
           "Sunday"
          ],
          [
           "Monday"
          ],
          [
           "Tuesday"
          ],
          [
           "Wednesday"
          ],
          [
           "Thursday"
          ],
          [
           "Friday"
          ],
          [
           "Saturday"
          ],
          [
           "Sunday"
          ],
          [
           "Monday"
          ],
          [
           "Tuesday"
          ],
          [
           "Wednesday"
          ],
          [
           "Tuesday"
          ],
          [
           "Wednesday"
          ],
          [
           "Thursday"
          ],
          [
           "Friday"
          ],
          [
           "Saturday"
          ],
          [
           "Sunday"
          ],
          [
           "Monday"
          ],
          [
           "Tuesday"
          ],
          [
           "Wednesday"
          ],
          [
           "Thursday"
          ],
          [
           "Friday"
          ],
          [
           "Saturday"
          ],
          [
           "Sunday"
          ],
          [
           "Monday"
          ],
          [
           "Tuesday"
          ],
          [
           "Wednesday"
          ],
          [
           "Thursday"
          ],
          [
           "Friday"
          ],
          [
           "Saturday"
          ],
          [
           "Sunday"
          ],
          [
           "Monday"
          ],
          [
           "Tuesday"
          ],
          [
           "Wednesday"
          ],
          [
           "Thursday"
          ],
          [
           "Friday"
          ],
          [
           "Saturday"
          ],
          [
           "Sunday"
          ],
          [
           "Monday"
          ],
          [
           "Tuesday"
          ],
          [
           "Wednesday"
          ],
          [
           "Thursday"
          ],
          [
           "Friday"
          ],
          [
           "Saturday"
          ],
          [
           "Sunday"
          ],
          [
           "Monday"
          ],
          [
           "Tuesday"
          ],
          [
           "Wednesday"
          ],
          [
           "Thursday"
          ],
          [
           "Friday"
          ],
          [
           "Saturday"
          ],
          [
           "Sunday"
          ],
          [
           "Monday"
          ],
          [
           "Tuesday"
          ],
          [
           "Wednesday"
          ],
          [
           "Thursday"
          ],
          [
           "Friday"
          ],
          [
           "Saturday"
          ],
          [
           "Sunday"
          ],
          [
           "Monday"
          ],
          [
           "Tuesday"
          ],
          [
           "Wednesday"
          ],
          [
           "Thursday"
          ],
          [
           "Friday"
          ],
          [
           "Saturday"
          ],
          [
           "Sunday"
          ],
          [
           "Monday"
          ],
          [
           "Tuesday"
          ],
          [
           "Tuesday"
          ],
          [
           "Wednesday"
          ],
          [
           "Thursday"
          ],
          [
           "Friday"
          ],
          [
           "Saturday"
          ],
          [
           "Sunday"
          ],
          [
           "Monday"
          ],
          [
           "Tuesday"
          ],
          [
           "Wednesday"
          ],
          [
           "Thursday"
          ],
          [
           "Friday"
          ],
          [
           "Saturday"
          ],
          [
           "Sunday"
          ],
          [
           "Monday"
          ],
          [
           "Tuesday"
          ],
          [
           "Wednesday"
          ],
          [
           "Thursday"
          ],
          [
           "Friday"
          ],
          [
           "Saturday"
          ],
          [
           "Sunday"
          ],
          [
           "Monday"
          ],
          [
           "Tuesday"
          ],
          [
           "Wednesday"
          ],
          [
           "Thursday"
          ],
          [
           "Friday"
          ],
          [
           "Saturday"
          ],
          [
           "Tuesday"
          ],
          [
           "Wednesday"
          ],
          [
           "Thursday"
          ],
          [
           "Friday"
          ],
          [
           "Saturday"
          ],
          [
           "Sunday"
          ],
          [
           "Monday"
          ],
          [
           "Tuesday"
          ],
          [
           "Wednesday"
          ],
          [
           "Thursday"
          ],
          [
           "Friday"
          ],
          [
           "Saturday"
          ],
          [
           "Sunday"
          ],
          [
           "Monday"
          ],
          [
           "Tuesday"
          ],
          [
           "Wednesday"
          ],
          [
           "Thursday"
          ],
          [
           "Friday"
          ],
          [
           "Saturday"
          ],
          [
           "Sunday"
          ],
          [
           "Monday"
          ],
          [
           "Tuesday"
          ],
          [
           "Wednesday"
          ],
          [
           "Thursday"
          ],
          [
           "Friday"
          ],
          [
           "Saturday"
          ],
          [
           "Sunday"
          ],
          [
           "Monday"
          ],
          [
           "Tuesday"
          ],
          [
           "Wednesday"
          ],
          [
           "Thursday"
          ],
          [
           "Tuesday"
          ],
          [
           "Wednesday"
          ],
          [
           "Thursday"
          ],
          [
           "Friday"
          ],
          [
           "Saturday"
          ],
          [
           "Sunday"
          ],
          [
           "Monday"
          ],
          [
           "Tuesday"
          ],
          [
           "Wednesday"
          ],
          [
           "Thursday"
          ],
          [
           "Friday"
          ],
          [
           "Saturday"
          ],
          [
           "Sunday"
          ],
          [
           "Monday"
          ],
          [
           "Tuesday"
          ],
          [
           "Wednesday"
          ],
          [
           "Thursday"
          ],
          [
           "Friday"
          ],
          [
           "Saturday"
          ],
          [
           "Sunday"
          ],
          [
           "Monday"
          ],
          [
           "Tuesday"
          ],
          [
           "Wednesday"
          ],
          [
           "Thursday"
          ],
          [
           "Friday"
          ],
          [
           "Saturday"
          ],
          [
           "Tuesday"
          ],
          [
           "Wednesday"
          ],
          [
           "Thursday"
          ],
          [
           "Friday"
          ],
          [
           "Saturday"
          ],
          [
           "Sunday"
          ],
          [
           "Monday"
          ],
          [
           "Tuesday"
          ],
          [
           "Wednesday"
          ],
          [
           "Thursday"
          ],
          [
           "Friday"
          ],
          [
           "Saturday"
          ],
          [
           "Sunday"
          ],
          [
           "Monday"
          ],
          [
           "Tuesday"
          ],
          [
           "Wednesday"
          ],
          [
           "Thursday"
          ],
          [
           "Friday"
          ],
          [
           "Saturday"
          ],
          [
           "Sunday"
          ],
          [
           "Monday"
          ],
          [
           "Tuesday"
          ],
          [
           "Wednesday"
          ],
          [
           "Thursday"
          ],
          [
           "Friday"
          ],
          [
           "Saturday"
          ],
          [
           "Sunday"
          ],
          [
           "Monday"
          ],
          [
           "Tuesday"
          ],
          [
           "Wednesday"
          ],
          [
           "Thursday"
          ],
          [
           "Tuesday"
          ],
          [
           "Wednesday"
          ],
          [
           "Thursday"
          ],
          [
           "Friday"
          ],
          [
           "Saturday"
          ],
          [
           "Sunday"
          ],
          [
           "Monday"
          ],
          [
           "Tuesday"
          ],
          [
           "Wednesday"
          ],
          [
           "Thursday"
          ],
          [
           "Friday"
          ],
          [
           "Saturday"
          ],
          [
           "Sunday"
          ],
          [
           "Monday"
          ],
          [
           "Tuesday"
          ],
          [
           "Wednesday"
          ],
          [
           "Thursday"
          ],
          [
           "Friday"
          ],
          [
           "Saturday"
          ],
          [
           "Sunday"
          ],
          [
           "Monday"
          ],
          [
           "Tuesday"
          ],
          [
           "Wednesday"
          ],
          [
           "Thursday"
          ],
          [
           "Friday"
          ],
          [
           "Saturday"
          ],
          [
           "Sunday"
          ],
          [
           "Monday"
          ],
          [
           "Tuesday"
          ],
          [
           "Wednesday"
          ],
          [
           "Thursday"
          ],
          [
           "Tuesday"
          ],
          [
           "Wednesday"
          ],
          [
           "Thursday"
          ],
          [
           "Friday"
          ],
          [
           "Saturday"
          ],
          [
           "Sunday"
          ],
          [
           "Monday"
          ],
          [
           "Tuesday"
          ],
          [
           "Wednesday"
          ],
          [
           "Thursday"
          ],
          [
           "Friday"
          ],
          [
           "Saturday"
          ],
          [
           "Sunday"
          ],
          [
           "Monday"
          ],
          [
           "Tuesday"
          ],
          [
           "Wednesday"
          ],
          [
           "Thursday"
          ],
          [
           "Friday"
          ],
          [
           "Saturday"
          ],
          [
           "Tuesday"
          ],
          [
           "Wednesday"
          ],
          [
           "Thursday"
          ],
          [
           "Friday"
          ],
          [
           "Saturday"
          ],
          [
           "Sunday"
          ],
          [
           "Monday"
          ],
          [
           "Tuesday"
          ],
          [
           "Wednesday"
          ],
          [
           "Thursday"
          ],
          [
           "Friday"
          ],
          [
           "Saturday"
          ],
          [
           "Sunday"
          ],
          [
           "Monday"
          ],
          [
           "Tuesday"
          ],
          [
           "Wednesday"
          ],
          [
           "Thursday"
          ],
          [
           "Friday"
          ],
          [
           "Saturday"
          ],
          [
           "Sunday"
          ],
          [
           "Monday"
          ],
          [
           "Tuesday"
          ],
          [
           "Wednesday"
          ],
          [
           "Thursday"
          ],
          [
           "Friday"
          ],
          [
           "Saturday"
          ],
          [
           "Sunday"
          ],
          [
           "Monday"
          ],
          [
           "Tuesday"
          ],
          [
           "Wednesday"
          ],
          [
           "Thursday"
          ],
          [
           "Tuesday"
          ],
          [
           "Wednesday"
          ],
          [
           "Thursday"
          ],
          [
           "Friday"
          ],
          [
           "Saturday"
          ],
          [
           "Sunday"
          ],
          [
           "Monday"
          ],
          [
           "Tuesday"
          ],
          [
           "Wednesday"
          ],
          [
           "Thursday"
          ],
          [
           "Friday"
          ],
          [
           "Saturday"
          ],
          [
           "Sunday"
          ],
          [
           "Monday"
          ],
          [
           "Tuesday"
          ],
          [
           "Wednesday"
          ],
          [
           "Thursday"
          ],
          [
           "Friday"
          ],
          [
           "Saturday"
          ],
          [
           "Sunday"
          ],
          [
           "Monday"
          ],
          [
           "Tuesday"
          ],
          [
           "Wednesday"
          ],
          [
           "Thursday"
          ],
          [
           "Friday"
          ],
          [
           "Saturday"
          ],
          [
           "Sunday"
          ],
          [
           "Monday"
          ],
          [
           "Tuesday"
          ],
          [
           "Wednesday"
          ],
          [
           "Thursday"
          ],
          [
           "Tuesday"
          ],
          [
           "Wednesday"
          ],
          [
           "Thursday"
          ],
          [
           "Friday"
          ],
          [
           "Saturday"
          ],
          [
           "Sunday"
          ],
          [
           "Monday"
          ],
          [
           "Tuesday"
          ],
          [
           "Wednesday"
          ],
          [
           "Thursday"
          ],
          [
           "Friday"
          ],
          [
           "Saturday"
          ],
          [
           "Sunday"
          ],
          [
           "Monday"
          ],
          [
           "Tuesday"
          ],
          [
           "Wednesday"
          ],
          [
           "Thursday"
          ],
          [
           "Friday"
          ],
          [
           "Saturday"
          ],
          [
           "Sunday"
          ],
          [
           "Monday"
          ],
          [
           "Tuesday"
          ],
          [
           "Wednesday"
          ],
          [
           "Thursday"
          ],
          [
           "Friday"
          ],
          [
           "Saturday"
          ],
          [
           "Sunday"
          ],
          [
           "Monday"
          ],
          [
           "Tuesday"
          ],
          [
           "Tuesday"
          ],
          [
           "Wednesday"
          ],
          [
           "Thursday"
          ],
          [
           "Friday"
          ],
          [
           "Saturday"
          ],
          [
           "Sunday"
          ],
          [
           "Monday"
          ],
          [
           "Tuesday"
          ],
          [
           "Wednesday"
          ],
          [
           "Thursday"
          ],
          [
           "Friday"
          ],
          [
           "Saturday"
          ],
          [
           "Sunday"
          ],
          [
           "Monday"
          ],
          [
           "Tuesday"
          ],
          [
           "Wednesday"
          ],
          [
           "Thursday"
          ],
          [
           "Friday"
          ],
          [
           "Saturday"
          ],
          [
           "Sunday"
          ],
          [
           "Monday"
          ],
          [
           "Tuesday"
          ],
          [
           "Wednesday"
          ],
          [
           "Thursday"
          ],
          [
           "Friday"
          ],
          [
           "Saturday"
          ],
          [
           "Sunday"
          ],
          [
           "Monday"
          ],
          [
           "Tuesday"
          ],
          [
           "Wednesday"
          ],
          [
           "Thursday"
          ]
         ],
         "domain": {
          "x": [
           0,
           1
          ],
          "y": [
           0,
           1
          ]
         },
         "hovertemplate": "Day=%{customdata[0]}<br>SedentaryMinutes=%{value}<extra></extra>",
         "labels": [
          "Tuesday",
          "Wednesday",
          "Thursday",
          "Friday",
          "Saturday",
          "Sunday",
          "Monday",
          "Tuesday",
          "Wednesday",
          "Thursday",
          "Friday",
          "Saturday",
          "Sunday",
          "Monday",
          "Tuesday",
          "Wednesday",
          "Thursday",
          "Friday",
          "Saturday",
          "Sunday",
          "Monday",
          "Tuesday",
          "Wednesday",
          "Thursday",
          "Friday",
          "Saturday",
          "Sunday",
          "Monday",
          "Tuesday",
          "Wednesday",
          "Thursday",
          "Tuesday",
          "Wednesday",
          "Thursday",
          "Friday",
          "Saturday",
          "Sunday",
          "Monday",
          "Tuesday",
          "Wednesday",
          "Thursday",
          "Friday",
          "Saturday",
          "Sunday",
          "Monday",
          "Tuesday",
          "Wednesday",
          "Thursday",
          "Friday",
          "Saturday",
          "Sunday",
          "Monday",
          "Tuesday",
          "Wednesday",
          "Thursday",
          "Friday",
          "Saturday",
          "Sunday",
          "Monday",
          "Tuesday",
          "Wednesday",
          "Thursday",
          "Tuesday",
          "Wednesday",
          "Thursday",
          "Friday",
          "Saturday",
          "Sunday",
          "Monday",
          "Tuesday",
          "Wednesday",
          "Thursday",
          "Friday",
          "Saturday",
          "Sunday",
          "Monday",
          "Tuesday",
          "Wednesday",
          "Thursday",
          "Friday",
          "Saturday",
          "Sunday",
          "Monday",
          "Tuesday",
          "Wednesday",
          "Thursday",
          "Friday",
          "Saturday",
          "Sunday",
          "Monday",
          "Tuesday",
          "Wednesday",
          "Tuesday",
          "Wednesday",
          "Thursday",
          "Friday",
          "Saturday",
          "Sunday",
          "Monday",
          "Tuesday",
          "Wednesday",
          "Thursday",
          "Friday",
          "Saturday",
          "Sunday",
          "Monday",
          "Tuesday",
          "Wednesday",
          "Thursday",
          "Friday",
          "Saturday",
          "Sunday",
          "Monday",
          "Tuesday",
          "Wednesday",
          "Thursday",
          "Friday",
          "Saturday",
          "Sunday",
          "Monday",
          "Tuesday",
          "Wednesday",
          "Thursday",
          "Tuesday",
          "Wednesday",
          "Thursday",
          "Friday",
          "Saturday",
          "Sunday",
          "Monday",
          "Tuesday",
          "Wednesday",
          "Thursday",
          "Friday",
          "Saturday",
          "Sunday",
          "Monday",
          "Tuesday",
          "Wednesday",
          "Thursday",
          "Friday",
          "Saturday",
          "Sunday",
          "Monday",
          "Tuesday",
          "Wednesday",
          "Thursday",
          "Friday",
          "Saturday",
          "Sunday",
          "Monday",
          "Tuesday",
          "Wednesday",
          "Thursday",
          "Tuesday",
          "Wednesday",
          "Thursday",
          "Friday",
          "Saturday",
          "Sunday",
          "Monday",
          "Tuesday",
          "Wednesday",
          "Thursday",
          "Friday",
          "Saturday",
          "Sunday",
          "Monday",
          "Tuesday",
          "Wednesday",
          "Thursday",
          "Friday",
          "Saturday",
          "Sunday",
          "Monday",
          "Tuesday",
          "Wednesday",
          "Thursday",
          "Friday",
          "Saturday",
          "Sunday",
          "Monday",
          "Tuesday",
          "Wednesday",
          "Thursday",
          "Tuesday",
          "Wednesday",
          "Thursday",
          "Friday",
          "Saturday",
          "Sunday",
          "Monday",
          "Tuesday",
          "Wednesday",
          "Thursday",
          "Friday",
          "Saturday",
          "Sunday",
          "Monday",
          "Tuesday",
          "Wednesday",
          "Thursday",
          "Friday",
          "Saturday",
          "Sunday",
          "Monday",
          "Tuesday",
          "Wednesday",
          "Thursday",
          "Friday",
          "Saturday",
          "Sunday",
          "Monday",
          "Tuesday",
          "Wednesday",
          "Thursday",
          "Tuesday",
          "Wednesday",
          "Thursday",
          "Friday",
          "Saturday",
          "Sunday",
          "Monday",
          "Tuesday",
          "Wednesday",
          "Thursday",
          "Friday",
          "Saturday",
          "Sunday",
          "Monday",
          "Tuesday",
          "Wednesday",
          "Thursday",
          "Friday",
          "Saturday",
          "Sunday",
          "Monday",
          "Tuesday",
          "Wednesday",
          "Thursday",
          "Friday",
          "Saturday",
          "Sunday",
          "Monday",
          "Tuesday",
          "Wednesday",
          "Thursday",
          "Tuesday",
          "Wednesday",
          "Thursday",
          "Friday",
          "Saturday",
          "Sunday",
          "Monday",
          "Tuesday",
          "Wednesday",
          "Thursday",
          "Friday",
          "Saturday",
          "Sunday",
          "Monday",
          "Tuesday",
          "Wednesday",
          "Thursday",
          "Friday",
          "Tuesday",
          "Wednesday",
          "Thursday",
          "Friday",
          "Saturday",
          "Sunday",
          "Monday",
          "Tuesday",
          "Wednesday",
          "Thursday",
          "Friday",
          "Saturday",
          "Sunday",
          "Monday",
          "Tuesday",
          "Wednesday",
          "Thursday",
          "Friday",
          "Saturday",
          "Sunday",
          "Monday",
          "Tuesday",
          "Wednesday",
          "Thursday",
          "Friday",
          "Saturday",
          "Sunday",
          "Monday",
          "Tuesday",
          "Wednesday",
          "Thursday",
          "Tuesday",
          "Wednesday",
          "Thursday",
          "Friday",
          "Saturday",
          "Sunday",
          "Monday",
          "Tuesday",
          "Wednesday",
          "Thursday",
          "Friday",
          "Saturday",
          "Sunday",
          "Monday",
          "Tuesday",
          "Wednesday",
          "Thursday",
          "Friday",
          "Saturday",
          "Sunday",
          "Tuesday",
          "Wednesday",
          "Thursday",
          "Friday",
          "Saturday",
          "Sunday",
          "Monday",
          "Tuesday",
          "Wednesday",
          "Thursday",
          "Friday",
          "Saturday",
          "Sunday",
          "Monday",
          "Tuesday",
          "Wednesday",
          "Thursday",
          "Friday",
          "Saturday",
          "Sunday",
          "Monday",
          "Tuesday",
          "Wednesday",
          "Thursday",
          "Friday",
          "Saturday",
          "Sunday",
          "Monday",
          "Tuesday",
          "Wednesday",
          "Tuesday",
          "Wednesday",
          "Thursday",
          "Friday",
          "Saturday",
          "Sunday",
          "Monday",
          "Tuesday",
          "Wednesday",
          "Thursday",
          "Friday",
          "Saturday",
          "Sunday",
          "Monday",
          "Tuesday",
          "Wednesday",
          "Thursday",
          "Friday",
          "Saturday",
          "Sunday",
          "Monday",
          "Tuesday",
          "Wednesday",
          "Thursday",
          "Friday",
          "Saturday",
          "Sunday",
          "Monday",
          "Tuesday",
          "Wednesday",
          "Thursday",
          "Tuesday",
          "Wednesday",
          "Thursday",
          "Friday",
          "Tuesday",
          "Wednesday",
          "Thursday",
          "Friday",
          "Saturday",
          "Sunday",
          "Monday",
          "Tuesday",
          "Wednesday",
          "Thursday",
          "Friday",
          "Saturday",
          "Sunday",
          "Monday",
          "Tuesday",
          "Wednesday",
          "Thursday",
          "Friday",
          "Saturday",
          "Sunday",
          "Monday",
          "Tuesday",
          "Wednesday",
          "Thursday",
          "Friday",
          "Saturday",
          "Sunday",
          "Monday",
          "Tuesday",
          "Wednesday",
          "Thursday",
          "Tuesday",
          "Wednesday",
          "Thursday",
          "Friday",
          "Saturday",
          "Sunday",
          "Monday",
          "Tuesday",
          "Wednesday",
          "Thursday",
          "Friday",
          "Saturday",
          "Sunday",
          "Monday",
          "Tuesday",
          "Wednesday",
          "Thursday",
          "Friday",
          "Saturday",
          "Sunday",
          "Monday",
          "Tuesday",
          "Wednesday",
          "Thursday",
          "Friday",
          "Saturday",
          "Sunday",
          "Monday",
          "Tuesday",
          "Wednesday",
          "Thursday",
          "Tuesday",
          "Wednesday",
          "Thursday",
          "Friday",
          "Saturday",
          "Sunday",
          "Monday",
          "Tuesday",
          "Wednesday",
          "Thursday",
          "Friday",
          "Saturday",
          "Sunday",
          "Monday",
          "Tuesday",
          "Wednesday",
          "Thursday",
          "Friday",
          "Saturday",
          "Sunday",
          "Monday",
          "Tuesday",
          "Wednesday",
          "Thursday",
          "Friday",
          "Saturday",
          "Sunday",
          "Monday",
          "Tuesday",
          "Wednesday",
          "Thursday",
          "Tuesday",
          "Wednesday",
          "Thursday",
          "Friday",
          "Saturday",
          "Sunday",
          "Monday",
          "Tuesday",
          "Wednesday",
          "Thursday",
          "Friday",
          "Saturday",
          "Sunday",
          "Monday",
          "Tuesday",
          "Wednesday",
          "Thursday",
          "Friday",
          "Saturday",
          "Sunday",
          "Monday",
          "Tuesday",
          "Wednesday",
          "Thursday",
          "Friday",
          "Saturday",
          "Sunday",
          "Monday",
          "Tuesday",
          "Wednesday",
          "Thursday",
          "Tuesday",
          "Wednesday",
          "Thursday",
          "Friday",
          "Saturday",
          "Sunday",
          "Monday",
          "Tuesday",
          "Wednesday",
          "Thursday",
          "Friday",
          "Saturday",
          "Sunday",
          "Monday",
          "Tuesday",
          "Wednesday",
          "Thursday",
          "Friday",
          "Saturday",
          "Sunday",
          "Monday",
          "Tuesday",
          "Wednesday",
          "Thursday",
          "Friday",
          "Saturday",
          "Sunday",
          "Monday",
          "Tuesday",
          "Wednesday",
          "Thursday",
          "Tuesday",
          "Wednesday",
          "Thursday",
          "Friday",
          "Saturday",
          "Sunday",
          "Monday",
          "Tuesday",
          "Wednesday",
          "Thursday",
          "Friday",
          "Saturday",
          "Sunday",
          "Monday",
          "Tuesday",
          "Wednesday",
          "Thursday",
          "Friday",
          "Saturday",
          "Sunday",
          "Monday",
          "Tuesday",
          "Wednesday",
          "Thursday",
          "Friday",
          "Saturday",
          "Sunday",
          "Monday",
          "Tuesday",
          "Wednesday",
          "Thursday",
          "Tuesday",
          "Wednesday",
          "Thursday",
          "Friday",
          "Saturday",
          "Sunday",
          "Monday",
          "Tuesday",
          "Wednesday",
          "Thursday",
          "Friday",
          "Saturday",
          "Sunday",
          "Monday",
          "Tuesday",
          "Wednesday",
          "Thursday",
          "Friday",
          "Saturday",
          "Sunday",
          "Monday",
          "Tuesday",
          "Wednesday",
          "Thursday",
          "Friday",
          "Saturday",
          "Sunday",
          "Monday",
          "Tuesday",
          "Wednesday",
          "Tuesday",
          "Wednesday",
          "Thursday",
          "Friday",
          "Saturday",
          "Sunday",
          "Monday",
          "Tuesday",
          "Wednesday",
          "Thursday",
          "Friday",
          "Saturday",
          "Sunday",
          "Monday",
          "Tuesday",
          "Wednesday",
          "Thursday",
          "Friday",
          "Saturday",
          "Sunday",
          "Monday",
          "Tuesday",
          "Wednesday",
          "Thursday",
          "Friday",
          "Saturday",
          "Sunday",
          "Monday",
          "Tuesday",
          "Wednesday",
          "Thursday",
          "Friday",
          "Saturday",
          "Sunday",
          "Monday",
          "Tuesday",
          "Wednesday",
          "Thursday",
          "Friday",
          "Saturday",
          "Sunday",
          "Monday",
          "Tuesday",
          "Wednesday",
          "Thursday",
          "Friday",
          "Saturday",
          "Sunday",
          "Monday",
          "Tuesday",
          "Wednesday",
          "Thursday",
          "Friday",
          "Saturday",
          "Sunday",
          "Monday",
          "Tuesday",
          "Tuesday",
          "Wednesday",
          "Thursday",
          "Friday",
          "Saturday",
          "Sunday",
          "Monday",
          "Tuesday",
          "Wednesday",
          "Thursday",
          "Friday",
          "Saturday",
          "Sunday",
          "Monday",
          "Tuesday",
          "Wednesday",
          "Thursday",
          "Friday",
          "Saturday",
          "Sunday",
          "Monday",
          "Tuesday",
          "Wednesday",
          "Thursday",
          "Friday",
          "Saturday",
          "Tuesday",
          "Wednesday",
          "Thursday",
          "Friday",
          "Saturday",
          "Sunday",
          "Monday",
          "Tuesday",
          "Wednesday",
          "Thursday",
          "Friday",
          "Saturday",
          "Sunday",
          "Monday",
          "Tuesday",
          "Wednesday",
          "Thursday",
          "Friday",
          "Saturday",
          "Sunday",
          "Monday",
          "Tuesday",
          "Wednesday",
          "Thursday",
          "Friday",
          "Saturday",
          "Sunday",
          "Monday",
          "Tuesday",
          "Wednesday",
          "Thursday",
          "Tuesday",
          "Wednesday",
          "Thursday",
          "Friday",
          "Saturday",
          "Sunday",
          "Monday",
          "Tuesday",
          "Wednesday",
          "Thursday",
          "Friday",
          "Saturday",
          "Sunday",
          "Monday",
          "Tuesday",
          "Wednesday",
          "Thursday",
          "Friday",
          "Saturday",
          "Sunday",
          "Monday",
          "Tuesday",
          "Wednesday",
          "Thursday",
          "Friday",
          "Saturday",
          "Tuesday",
          "Wednesday",
          "Thursday",
          "Friday",
          "Saturday",
          "Sunday",
          "Monday",
          "Tuesday",
          "Wednesday",
          "Thursday",
          "Friday",
          "Saturday",
          "Sunday",
          "Monday",
          "Tuesday",
          "Wednesday",
          "Thursday",
          "Friday",
          "Saturday",
          "Sunday",
          "Monday",
          "Tuesday",
          "Wednesday",
          "Thursday",
          "Friday",
          "Saturday",
          "Sunday",
          "Monday",
          "Tuesday",
          "Wednesday",
          "Thursday",
          "Tuesday",
          "Wednesday",
          "Thursday",
          "Friday",
          "Saturday",
          "Sunday",
          "Monday",
          "Tuesday",
          "Wednesday",
          "Thursday",
          "Friday",
          "Saturday",
          "Sunday",
          "Monday",
          "Tuesday",
          "Wednesday",
          "Thursday",
          "Friday",
          "Saturday",
          "Sunday",
          "Monday",
          "Tuesday",
          "Wednesday",
          "Thursday",
          "Friday",
          "Saturday",
          "Sunday",
          "Monday",
          "Tuesday",
          "Wednesday",
          "Thursday",
          "Tuesday",
          "Wednesday",
          "Thursday",
          "Friday",
          "Saturday",
          "Sunday",
          "Monday",
          "Tuesday",
          "Wednesday",
          "Thursday",
          "Friday",
          "Saturday",
          "Sunday",
          "Monday",
          "Tuesday",
          "Wednesday",
          "Thursday",
          "Friday",
          "Saturday",
          "Tuesday",
          "Wednesday",
          "Thursday",
          "Friday",
          "Saturday",
          "Sunday",
          "Monday",
          "Tuesday",
          "Wednesday",
          "Thursday",
          "Friday",
          "Saturday",
          "Sunday",
          "Monday",
          "Tuesday",
          "Wednesday",
          "Thursday",
          "Friday",
          "Saturday",
          "Sunday",
          "Monday",
          "Tuesday",
          "Wednesday",
          "Thursday",
          "Friday",
          "Saturday",
          "Sunday",
          "Monday",
          "Tuesday",
          "Wednesday",
          "Thursday",
          "Tuesday",
          "Wednesday",
          "Thursday",
          "Friday",
          "Saturday",
          "Sunday",
          "Monday",
          "Tuesday",
          "Wednesday",
          "Thursday",
          "Friday",
          "Saturday",
          "Sunday",
          "Monday",
          "Tuesday",
          "Wednesday",
          "Thursday",
          "Friday",
          "Saturday",
          "Sunday",
          "Monday",
          "Tuesday",
          "Wednesday",
          "Thursday",
          "Friday",
          "Saturday",
          "Sunday",
          "Monday",
          "Tuesday",
          "Wednesday",
          "Thursday",
          "Tuesday",
          "Wednesday",
          "Thursday",
          "Friday",
          "Saturday",
          "Sunday",
          "Monday",
          "Tuesday",
          "Wednesday",
          "Thursday",
          "Friday",
          "Saturday",
          "Sunday",
          "Monday",
          "Tuesday",
          "Wednesday",
          "Thursday",
          "Friday",
          "Saturday",
          "Sunday",
          "Monday",
          "Tuesday",
          "Wednesday",
          "Thursday",
          "Friday",
          "Saturday",
          "Sunday",
          "Monday",
          "Tuesday",
          "Tuesday",
          "Wednesday",
          "Thursday",
          "Friday",
          "Saturday",
          "Sunday",
          "Monday",
          "Tuesday",
          "Wednesday",
          "Thursday",
          "Friday",
          "Saturday",
          "Sunday",
          "Monday",
          "Tuesday",
          "Wednesday",
          "Thursday",
          "Friday",
          "Saturday",
          "Sunday",
          "Monday",
          "Tuesday",
          "Wednesday",
          "Thursday",
          "Friday",
          "Saturday",
          "Sunday",
          "Monday",
          "Tuesday",
          "Wednesday",
          "Thursday"
         ],
         "legendgroup": "",
         "marker": {
          "colors": [
           "#636efa",
           "#EF553B",
           "#00cc96",
           "#ab63fa",
           "#FFA15A",
           "#19d3f3",
           "#FF6692",
           "#636efa",
           "#EF553B",
           "#00cc96",
           "#ab63fa",
           "#FFA15A",
           "#19d3f3",
           "#FF6692",
           "#636efa",
           "#EF553B",
           "#00cc96",
           "#ab63fa",
           "#FFA15A",
           "#19d3f3",
           "#FF6692",
           "#636efa",
           "#EF553B",
           "#00cc96",
           "#ab63fa",
           "#FFA15A",
           "#19d3f3",
           "#FF6692",
           "#636efa",
           "#EF553B",
           "#00cc96",
           "#636efa",
           "#EF553B",
           "#00cc96",
           "#ab63fa",
           "#FFA15A",
           "#19d3f3",
           "#FF6692",
           "#636efa",
           "#EF553B",
           "#00cc96",
           "#ab63fa",
           "#FFA15A",
           "#19d3f3",
           "#FF6692",
           "#636efa",
           "#EF553B",
           "#00cc96",
           "#ab63fa",
           "#FFA15A",
           "#19d3f3",
           "#FF6692",
           "#636efa",
           "#EF553B",
           "#00cc96",
           "#ab63fa",
           "#FFA15A",
           "#19d3f3",
           "#FF6692",
           "#636efa",
           "#EF553B",
           "#00cc96",
           "#636efa",
           "#EF553B",
           "#00cc96",
           "#ab63fa",
           "#FFA15A",
           "#19d3f3",
           "#FF6692",
           "#636efa",
           "#EF553B",
           "#00cc96",
           "#ab63fa",
           "#FFA15A",
           "#19d3f3",
           "#FF6692",
           "#636efa",
           "#EF553B",
           "#00cc96",
           "#ab63fa",
           "#FFA15A",
           "#19d3f3",
           "#FF6692",
           "#636efa",
           "#EF553B",
           "#00cc96",
           "#ab63fa",
           "#FFA15A",
           "#19d3f3",
           "#FF6692",
           "#636efa",
           "#EF553B",
           "#636efa",
           "#EF553B",
           "#00cc96",
           "#ab63fa",
           "#FFA15A",
           "#19d3f3",
           "#FF6692",
           "#636efa",
           "#EF553B",
           "#00cc96",
           "#ab63fa",
           "#FFA15A",
           "#19d3f3",
           "#FF6692",
           "#636efa",
           "#EF553B",
           "#00cc96",
           "#ab63fa",
           "#FFA15A",
           "#19d3f3",
           "#FF6692",
           "#636efa",
           "#EF553B",
           "#00cc96",
           "#ab63fa",
           "#FFA15A",
           "#19d3f3",
           "#FF6692",
           "#636efa",
           "#EF553B",
           "#00cc96",
           "#636efa",
           "#EF553B",
           "#00cc96",
           "#ab63fa",
           "#FFA15A",
           "#19d3f3",
           "#FF6692",
           "#636efa",
           "#EF553B",
           "#00cc96",
           "#ab63fa",
           "#FFA15A",
           "#19d3f3",
           "#FF6692",
           "#636efa",
           "#EF553B",
           "#00cc96",
           "#ab63fa",
           "#FFA15A",
           "#19d3f3",
           "#FF6692",
           "#636efa",
           "#EF553B",
           "#00cc96",
           "#ab63fa",
           "#FFA15A",
           "#19d3f3",
           "#FF6692",
           "#636efa",
           "#EF553B",
           "#00cc96",
           "#636efa",
           "#EF553B",
           "#00cc96",
           "#ab63fa",
           "#FFA15A",
           "#19d3f3",
           "#FF6692",
           "#636efa",
           "#EF553B",
           "#00cc96",
           "#ab63fa",
           "#FFA15A",
           "#19d3f3",
           "#FF6692",
           "#636efa",
           "#EF553B",
           "#00cc96",
           "#ab63fa",
           "#FFA15A",
           "#19d3f3",
           "#FF6692",
           "#636efa",
           "#EF553B",
           "#00cc96",
           "#ab63fa",
           "#FFA15A",
           "#19d3f3",
           "#FF6692",
           "#636efa",
           "#EF553B",
           "#00cc96",
           "#636efa",
           "#EF553B",
           "#00cc96",
           "#ab63fa",
           "#FFA15A",
           "#19d3f3",
           "#FF6692",
           "#636efa",
           "#EF553B",
           "#00cc96",
           "#ab63fa",
           "#FFA15A",
           "#19d3f3",
           "#FF6692",
           "#636efa",
           "#EF553B",
           "#00cc96",
           "#ab63fa",
           "#FFA15A",
           "#19d3f3",
           "#FF6692",
           "#636efa",
           "#EF553B",
           "#00cc96",
           "#ab63fa",
           "#FFA15A",
           "#19d3f3",
           "#FF6692",
           "#636efa",
           "#EF553B",
           "#00cc96",
           "#636efa",
           "#EF553B",
           "#00cc96",
           "#ab63fa",
           "#FFA15A",
           "#19d3f3",
           "#FF6692",
           "#636efa",
           "#EF553B",
           "#00cc96",
           "#ab63fa",
           "#FFA15A",
           "#19d3f3",
           "#FF6692",
           "#636efa",
           "#EF553B",
           "#00cc96",
           "#ab63fa",
           "#FFA15A",
           "#19d3f3",
           "#FF6692",
           "#636efa",
           "#EF553B",
           "#00cc96",
           "#ab63fa",
           "#FFA15A",
           "#19d3f3",
           "#FF6692",
           "#636efa",
           "#EF553B",
           "#00cc96",
           "#636efa",
           "#EF553B",
           "#00cc96",
           "#ab63fa",
           "#FFA15A",
           "#19d3f3",
           "#FF6692",
           "#636efa",
           "#EF553B",
           "#00cc96",
           "#ab63fa",
           "#FFA15A",
           "#19d3f3",
           "#FF6692",
           "#636efa",
           "#EF553B",
           "#00cc96",
           "#ab63fa",
           "#636efa",
           "#EF553B",
           "#00cc96",
           "#ab63fa",
           "#FFA15A",
           "#19d3f3",
           "#FF6692",
           "#636efa",
           "#EF553B",
           "#00cc96",
           "#ab63fa",
           "#FFA15A",
           "#19d3f3",
           "#FF6692",
           "#636efa",
           "#EF553B",
           "#00cc96",
           "#ab63fa",
           "#FFA15A",
           "#19d3f3",
           "#FF6692",
           "#636efa",
           "#EF553B",
           "#00cc96",
           "#ab63fa",
           "#FFA15A",
           "#19d3f3",
           "#FF6692",
           "#636efa",
           "#EF553B",
           "#00cc96",
           "#636efa",
           "#EF553B",
           "#00cc96",
           "#ab63fa",
           "#FFA15A",
           "#19d3f3",
           "#FF6692",
           "#636efa",
           "#EF553B",
           "#00cc96",
           "#ab63fa",
           "#FFA15A",
           "#19d3f3",
           "#FF6692",
           "#636efa",
           "#EF553B",
           "#00cc96",
           "#ab63fa",
           "#FFA15A",
           "#19d3f3",
           "#636efa",
           "#EF553B",
           "#00cc96",
           "#ab63fa",
           "#FFA15A",
           "#19d3f3",
           "#FF6692",
           "#636efa",
           "#EF553B",
           "#00cc96",
           "#ab63fa",
           "#FFA15A",
           "#19d3f3",
           "#FF6692",
           "#636efa",
           "#EF553B",
           "#00cc96",
           "#ab63fa",
           "#FFA15A",
           "#19d3f3",
           "#FF6692",
           "#636efa",
           "#EF553B",
           "#00cc96",
           "#ab63fa",
           "#FFA15A",
           "#19d3f3",
           "#FF6692",
           "#636efa",
           "#EF553B",
           "#636efa",
           "#EF553B",
           "#00cc96",
           "#ab63fa",
           "#FFA15A",
           "#19d3f3",
           "#FF6692",
           "#636efa",
           "#EF553B",
           "#00cc96",
           "#ab63fa",
           "#FFA15A",
           "#19d3f3",
           "#FF6692",
           "#636efa",
           "#EF553B",
           "#00cc96",
           "#ab63fa",
           "#FFA15A",
           "#19d3f3",
           "#FF6692",
           "#636efa",
           "#EF553B",
           "#00cc96",
           "#ab63fa",
           "#FFA15A",
           "#19d3f3",
           "#FF6692",
           "#636efa",
           "#EF553B",
           "#00cc96",
           "#636efa",
           "#EF553B",
           "#00cc96",
           "#ab63fa",
           "#636efa",
           "#EF553B",
           "#00cc96",
           "#ab63fa",
           "#FFA15A",
           "#19d3f3",
           "#FF6692",
           "#636efa",
           "#EF553B",
           "#00cc96",
           "#ab63fa",
           "#FFA15A",
           "#19d3f3",
           "#FF6692",
           "#636efa",
           "#EF553B",
           "#00cc96",
           "#ab63fa",
           "#FFA15A",
           "#19d3f3",
           "#FF6692",
           "#636efa",
           "#EF553B",
           "#00cc96",
           "#ab63fa",
           "#FFA15A",
           "#19d3f3",
           "#FF6692",
           "#636efa",
           "#EF553B",
           "#00cc96",
           "#636efa",
           "#EF553B",
           "#00cc96",
           "#ab63fa",
           "#FFA15A",
           "#19d3f3",
           "#FF6692",
           "#636efa",
           "#EF553B",
           "#00cc96",
           "#ab63fa",
           "#FFA15A",
           "#19d3f3",
           "#FF6692",
           "#636efa",
           "#EF553B",
           "#00cc96",
           "#ab63fa",
           "#FFA15A",
           "#19d3f3",
           "#FF6692",
           "#636efa",
           "#EF553B",
           "#00cc96",
           "#ab63fa",
           "#FFA15A",
           "#19d3f3",
           "#FF6692",
           "#636efa",
           "#EF553B",
           "#00cc96",
           "#636efa",
           "#EF553B",
           "#00cc96",
           "#ab63fa",
           "#FFA15A",
           "#19d3f3",
           "#FF6692",
           "#636efa",
           "#EF553B",
           "#00cc96",
           "#ab63fa",
           "#FFA15A",
           "#19d3f3",
           "#FF6692",
           "#636efa",
           "#EF553B",
           "#00cc96",
           "#ab63fa",
           "#FFA15A",
           "#19d3f3",
           "#FF6692",
           "#636efa",
           "#EF553B",
           "#00cc96",
           "#ab63fa",
           "#FFA15A",
           "#19d3f3",
           "#FF6692",
           "#636efa",
           "#EF553B",
           "#00cc96",
           "#636efa",
           "#EF553B",
           "#00cc96",
           "#ab63fa",
           "#FFA15A",
           "#19d3f3",
           "#FF6692",
           "#636efa",
           "#EF553B",
           "#00cc96",
           "#ab63fa",
           "#FFA15A",
           "#19d3f3",
           "#FF6692",
           "#636efa",
           "#EF553B",
           "#00cc96",
           "#ab63fa",
           "#FFA15A",
           "#19d3f3",
           "#FF6692",
           "#636efa",
           "#EF553B",
           "#00cc96",
           "#ab63fa",
           "#FFA15A",
           "#19d3f3",
           "#FF6692",
           "#636efa",
           "#EF553B",
           "#00cc96",
           "#636efa",
           "#EF553B",
           "#00cc96",
           "#ab63fa",
           "#FFA15A",
           "#19d3f3",
           "#FF6692",
           "#636efa",
           "#EF553B",
           "#00cc96",
           "#ab63fa",
           "#FFA15A",
           "#19d3f3",
           "#FF6692",
           "#636efa",
           "#EF553B",
           "#00cc96",
           "#ab63fa",
           "#FFA15A",
           "#19d3f3",
           "#FF6692",
           "#636efa",
           "#EF553B",
           "#00cc96",
           "#ab63fa",
           "#FFA15A",
           "#19d3f3",
           "#FF6692",
           "#636efa",
           "#EF553B",
           "#00cc96",
           "#636efa",
           "#EF553B",
           "#00cc96",
           "#ab63fa",
           "#FFA15A",
           "#19d3f3",
           "#FF6692",
           "#636efa",
           "#EF553B",
           "#00cc96",
           "#ab63fa",
           "#FFA15A",
           "#19d3f3",
           "#FF6692",
           "#636efa",
           "#EF553B",
           "#00cc96",
           "#ab63fa",
           "#FFA15A",
           "#19d3f3",
           "#FF6692",
           "#636efa",
           "#EF553B",
           "#00cc96",
           "#ab63fa",
           "#FFA15A",
           "#19d3f3",
           "#FF6692",
           "#636efa",
           "#EF553B",
           "#00cc96",
           "#636efa",
           "#EF553B",
           "#00cc96",
           "#ab63fa",
           "#FFA15A",
           "#19d3f3",
           "#FF6692",
           "#636efa",
           "#EF553B",
           "#00cc96",
           "#ab63fa",
           "#FFA15A",
           "#19d3f3",
           "#FF6692",
           "#636efa",
           "#EF553B",
           "#00cc96",
           "#ab63fa",
           "#FFA15A",
           "#19d3f3",
           "#FF6692",
           "#636efa",
           "#EF553B",
           "#00cc96",
           "#ab63fa",
           "#FFA15A",
           "#19d3f3",
           "#FF6692",
           "#636efa",
           "#EF553B",
           "#636efa",
           "#EF553B",
           "#00cc96",
           "#ab63fa",
           "#FFA15A",
           "#19d3f3",
           "#FF6692",
           "#636efa",
           "#EF553B",
           "#00cc96",
           "#ab63fa",
           "#FFA15A",
           "#19d3f3",
           "#FF6692",
           "#636efa",
           "#EF553B",
           "#00cc96",
           "#ab63fa",
           "#FFA15A",
           "#19d3f3",
           "#FF6692",
           "#636efa",
           "#EF553B",
           "#00cc96",
           "#ab63fa",
           "#FFA15A",
           "#19d3f3",
           "#FF6692",
           "#636efa",
           "#EF553B",
           "#00cc96",
           "#ab63fa",
           "#FFA15A",
           "#19d3f3",
           "#FF6692",
           "#636efa",
           "#EF553B",
           "#00cc96",
           "#ab63fa",
           "#FFA15A",
           "#19d3f3",
           "#FF6692",
           "#636efa",
           "#EF553B",
           "#00cc96",
           "#ab63fa",
           "#FFA15A",
           "#19d3f3",
           "#FF6692",
           "#636efa",
           "#EF553B",
           "#00cc96",
           "#ab63fa",
           "#FFA15A",
           "#19d3f3",
           "#FF6692",
           "#636efa",
           "#636efa",
           "#EF553B",
           "#00cc96",
           "#ab63fa",
           "#FFA15A",
           "#19d3f3",
           "#FF6692",
           "#636efa",
           "#EF553B",
           "#00cc96",
           "#ab63fa",
           "#FFA15A",
           "#19d3f3",
           "#FF6692",
           "#636efa",
           "#EF553B",
           "#00cc96",
           "#ab63fa",
           "#FFA15A",
           "#19d3f3",
           "#FF6692",
           "#636efa",
           "#EF553B",
           "#00cc96",
           "#ab63fa",
           "#FFA15A",
           "#636efa",
           "#EF553B",
           "#00cc96",
           "#ab63fa",
           "#FFA15A",
           "#19d3f3",
           "#FF6692",
           "#636efa",
           "#EF553B",
           "#00cc96",
           "#ab63fa",
           "#FFA15A",
           "#19d3f3",
           "#FF6692",
           "#636efa",
           "#EF553B",
           "#00cc96",
           "#ab63fa",
           "#FFA15A",
           "#19d3f3",
           "#FF6692",
           "#636efa",
           "#EF553B",
           "#00cc96",
           "#ab63fa",
           "#FFA15A",
           "#19d3f3",
           "#FF6692",
           "#636efa",
           "#EF553B",
           "#00cc96",
           "#636efa",
           "#EF553B",
           "#00cc96",
           "#ab63fa",
           "#FFA15A",
           "#19d3f3",
           "#FF6692",
           "#636efa",
           "#EF553B",
           "#00cc96",
           "#ab63fa",
           "#FFA15A",
           "#19d3f3",
           "#FF6692",
           "#636efa",
           "#EF553B",
           "#00cc96",
           "#ab63fa",
           "#FFA15A",
           "#19d3f3",
           "#FF6692",
           "#636efa",
           "#EF553B",
           "#00cc96",
           "#ab63fa",
           "#FFA15A",
           "#636efa",
           "#EF553B",
           "#00cc96",
           "#ab63fa",
           "#FFA15A",
           "#19d3f3",
           "#FF6692",
           "#636efa",
           "#EF553B",
           "#00cc96",
           "#ab63fa",
           "#FFA15A",
           "#19d3f3",
           "#FF6692",
           "#636efa",
           "#EF553B",
           "#00cc96",
           "#ab63fa",
           "#FFA15A",
           "#19d3f3",
           "#FF6692",
           "#636efa",
           "#EF553B",
           "#00cc96",
           "#ab63fa",
           "#FFA15A",
           "#19d3f3",
           "#FF6692",
           "#636efa",
           "#EF553B",
           "#00cc96",
           "#636efa",
           "#EF553B",
           "#00cc96",
           "#ab63fa",
           "#FFA15A",
           "#19d3f3",
           "#FF6692",
           "#636efa",
           "#EF553B",
           "#00cc96",
           "#ab63fa",
           "#FFA15A",
           "#19d3f3",
           "#FF6692",
           "#636efa",
           "#EF553B",
           "#00cc96",
           "#ab63fa",
           "#FFA15A",
           "#19d3f3",
           "#FF6692",
           "#636efa",
           "#EF553B",
           "#00cc96",
           "#ab63fa",
           "#FFA15A",
           "#19d3f3",
           "#FF6692",
           "#636efa",
           "#EF553B",
           "#00cc96",
           "#636efa",
           "#EF553B",
           "#00cc96",
           "#ab63fa",
           "#FFA15A",
           "#19d3f3",
           "#FF6692",
           "#636efa",
           "#EF553B",
           "#00cc96",
           "#ab63fa",
           "#FFA15A",
           "#19d3f3",
           "#FF6692",
           "#636efa",
           "#EF553B",
           "#00cc96",
           "#ab63fa",
           "#FFA15A",
           "#636efa",
           "#EF553B",
           "#00cc96",
           "#ab63fa",
           "#FFA15A",
           "#19d3f3",
           "#FF6692",
           "#636efa",
           "#EF553B",
           "#00cc96",
           "#ab63fa",
           "#FFA15A",
           "#19d3f3",
           "#FF6692",
           "#636efa",
           "#EF553B",
           "#00cc96",
           "#ab63fa",
           "#FFA15A",
           "#19d3f3",
           "#FF6692",
           "#636efa",
           "#EF553B",
           "#00cc96",
           "#ab63fa",
           "#FFA15A",
           "#19d3f3",
           "#FF6692",
           "#636efa",
           "#EF553B",
           "#00cc96",
           "#636efa",
           "#EF553B",
           "#00cc96",
           "#ab63fa",
           "#FFA15A",
           "#19d3f3",
           "#FF6692",
           "#636efa",
           "#EF553B",
           "#00cc96",
           "#ab63fa",
           "#FFA15A",
           "#19d3f3",
           "#FF6692",
           "#636efa",
           "#EF553B",
           "#00cc96",
           "#ab63fa",
           "#FFA15A",
           "#19d3f3",
           "#FF6692",
           "#636efa",
           "#EF553B",
           "#00cc96",
           "#ab63fa",
           "#FFA15A",
           "#19d3f3",
           "#FF6692",
           "#636efa",
           "#EF553B",
           "#00cc96",
           "#636efa",
           "#EF553B",
           "#00cc96",
           "#ab63fa",
           "#FFA15A",
           "#19d3f3",
           "#FF6692",
           "#636efa",
           "#EF553B",
           "#00cc96",
           "#ab63fa",
           "#FFA15A",
           "#19d3f3",
           "#FF6692",
           "#636efa",
           "#EF553B",
           "#00cc96",
           "#ab63fa",
           "#FFA15A",
           "#19d3f3",
           "#FF6692",
           "#636efa",
           "#EF553B",
           "#00cc96",
           "#ab63fa",
           "#FFA15A",
           "#19d3f3",
           "#FF6692",
           "#636efa",
           "#636efa",
           "#EF553B",
           "#00cc96",
           "#ab63fa",
           "#FFA15A",
           "#19d3f3",
           "#FF6692",
           "#636efa",
           "#EF553B",
           "#00cc96",
           "#ab63fa",
           "#FFA15A",
           "#19d3f3",
           "#FF6692",
           "#636efa",
           "#EF553B",
           "#00cc96",
           "#ab63fa",
           "#FFA15A",
           "#19d3f3",
           "#FF6692",
           "#636efa",
           "#EF553B",
           "#00cc96",
           "#ab63fa",
           "#FFA15A",
           "#19d3f3",
           "#FF6692",
           "#636efa",
           "#EF553B",
           "#00cc96"
          ]
         },
         "name": "",
         "showlegend": true,
         "type": "pie",
         "values": [
          728,
          776,
          1218,
          726,
          773,
          539,
          1149,
          775,
          818,
          838,
          1217,
          732,
          709,
          814,
          833,
          1108,
          782,
          815,
          712,
          730,
          798,
          816,
          1179,
          857,
          754,
          833,
          574,
          835,
          746,
          669,
          1440,
          1294,
          1292,
          1204,
          1344,
          1264,
          1276,
          1214,
          1299,
          1289,
          1254,
          1241,
          1213,
          1221,
          1238,
          1300,
          1233,
          1320,
          1290,
          1182,
          1020,
          1261,
          1344,
          1322,
          1323,
          1338,
          1258,
          1288,
          1349,
          1301,
          1328,
          890,
          1131,
          1259,
          1125,
          1263,
          1135,
          1212,
          1271,
          1099,
          1315,
          1402,
          1354,
          1265,
          1351,
          1337,
          1165,
          1322,
          1157,
          1193,
          816,
          908,
          682,
          1115,
          1388,
          1341,
          1054,
          1139,
          991,
          1099,
          1254,
          713,
          1101,
          1192,
          843,
          527,
          1293,
          1231,
          1211,
          1430,
          1439,
          1117,
          1220,
          1301,
          1440,
          1440,
          1440,
          1439,
          1138,
          1082,
          218,
          585,
          1440,
          1256,
          1353,
          1320,
          1438,
          1440,
          1440,
          1440,
          1440,
          1440,
          711,
          734,
          986,
          1292,
          941,
          1440,
          1440,
          1423,
          1440,
          1440,
          1440,
          1430,
          1295,
          1358,
          1303,
          1058,
          1440,
          1167,
          1440,
          1440,
          1355,
          1322,
          1413,
          1353,
          1440,
          1332,
          1392,
          1440,
          1440,
          1440,
          1440,
          966,
          1157,
          1100,
          1148,
          1122,
          1237,
          1052,
          1078,
          1152,
          1053,
          1028,
          1105,
          1191,
          1161,
          1171,
          1086,
          1119,
          1123,
          1098,
          1043,
          1142,
          1119,
          1104,
          1105,
          1112,
          1104,
          1269,
          1305,
          1061,
          1084,
          1133,
          728,
          706,
          663,
          653,
          687,
          728,
          1053,
          1062,
          785,
          623,
          749,
          712,
          458,
          704,
          821,
          1018,
          586,
          626,
          492,
          594,
          716,
          716,
          981,
          530,
          479,
          511,
          665,
          610,
          543,
          1002,
          569,
          330,
          1112,
          1105,
          1249,
          1195,
          1245,
          1191,
          1173,
          1201,
          1146,
          1302,
          1174,
          1129,
          1236,
          1280,
          1293,
          1358,
          1364,
          1395,
          1206,
          1400,
          1306,
          1204,
          1388,
          1206,
          1236,
          1121,
          1193,
          1295,
          1150,
          1140,
          830,
          964,
          676,
          705,
          720,
          968,
          508,
          678,
          648,
          1011,
          761,
          781,
          591,
          584,
          653,
          732,
          623,
          764,
          2,
          1061,
          1028,
          1109,
          992,
          1087,
          1272,
          1122,
          1051,
          1035,
          1057,
          1028,
          1077,
          1203,
          1081,
          1124,
          1197,
          1192,
          1191,
          1167,
          1219,
          1099,
          1070,
          1020,
          1093,
          1065,
          1302,
          1068,
          1095,
          1067,
          1121,
          720,
          1160,
          1045,
          1039,
          1105,
          1084,
          1105,
          1070,
          1064,
          1148,
          1037,
          1234,
          1115,
          1127,
          1024,
          1083,
          1057,
          1055,
          1038,
          1119,
          842,
          777,
          754,
          801,
          644,
          663,
          600,
          605,
          738,
          845,
          712,
          731,
          724,
          660,
          781,
          797,
          714,
          804,
          744,
          687,
          691,
          713,
          594,
          852,
          680,
          676,
          703,
          688,
          1159,
          676,
          13,
          712,
          1440,
          1437,
          1299,
          1222,
          1438,
          1438,
          1440,
          1440,
          1440,
          1440,
          1440,
          1440,
          1440,
          1440,
          1440,
          1440,
          1440,
          1440,
          1440,
          1350,
          950,
          531,
          916,
          855,
          1256,
          775,
          1225,
          774,
          1296,
          721,
          1276,
          1280,
          1440,
          873,
          1440,
          1234,
          589,
          752,
          724,
          1363,
          824,
          604,
          671,
          1265,
          709,
          546,
          692,
          544,
          649,
          680,
          552,
          624,
          695,
          836,
          585,
          669,
          1106,
          957,
          692,
          586,
          603,
          490,
          555,
          574,
          0,
          1440,
          1275,
          945,
          837,
          609,
          721,
          1017,
          704,
          696,
          853,
          945,
          749,
          584,
          1054,
          673,
          684,
          878,
          1175,
          537,
          579,
          935,
          984,
          632,
          896,
          1100,
          508,
          576,
          1020,
          648,
          858,
          825,
          787,
          840,
          717,
          711,
          716,
          1219,
          1247,
          895,
          841,
          756,
          706,
          1239,
          1196,
          916,
          839,
          839,
          762,
          1106,
          797,
          741,
          667,
          725,
          897,
          734,
          809,
          866,
          733,
          641,
          783,
          622,
          380,
          1122,
          1287,
          1161,
          1131,
          1112,
          1110,
          1080,
          1182,
          1218,
          844,
          1122,
          1122,
          1045,
          993,
          1062,
          1087,
          985,
          1096,
          1111,
          1121,
          1057,
          1172,
          1188,
          1048,
          1238,
          1116,
          1019,
          1065,
          1191,
          1081,
          736,
          718,
          777,
          772,
          944,
          556,
          437,
          890,
          757,
          717,
          901,
          1341,
          469,
          542,
          730,
          765,
          733,
          738,
          692,
          728,
          1440,
          1131,
          729,
          757,
          745,
          682,
          577,
          1019,
          746,
          701,
          784,
          241,
          767,
          647,
          693,
          689,
          521,
          943,
          622,
          756,
          598,
          801,
          781,
          443,
          582,
          732,
          750,
          745,
          727,
          709,
          506,
          436,
          724,
          812,
          651,
          692,
          761,
          902,
          505,
          667,
          707,
          628,
          222,
          728,
          776,
          662,
          695,
          472,
          525,
          623,
          733,
          773,
          670,
          823,
          627,
          425,
          743,
          759,
          773,
          692,
          739,
          621,
          499,
          732,
          580,
          631,
          1153,
          1304,
          1440,
          1440,
          1099,
          639,
          257,
          1440,
          1440,
          1440,
          921,
          502,
          702,
          759,
          425,
          587,
          579,
          413,
          468,
          711,
          1440,
          1077,
          417,
          758,
          479,
          1040,
          525,
          1204,
          1440,
          1279,
          479,
          673,
          456,
          517,
          125,
          1241,
          1090,
          1077,
          1112,
          1182,
          1172,
          1169,
          1119,
          1182,
          1440,
          1138,
          1407,
          1182,
          1180,
          1440,
          1153,
          1185,
          1440,
          1116,
          1055,
          1172,
          1200,
          1168,
          1201,
          1135,
          1213,
          1189,
          800,
          1440,
          1440,
          1053,
          863,
          976,
          1377,
          1392,
          1233,
          1440,
          1079,
          1440,
          1420,
          1440,
          1400,
          1302,
          1321,
          1440,
          1410,
          1440,
          1344,
          1347,
          1440,
          1439,
          1440,
          1440,
          1318,
          551,
          796,
          548,
          862,
          837,
          741,
          634,
          689,
          659,
          639,
          708,
          659,
          484,
          720,
          637,
          680,
          697,
          621,
          645,
          731,
          722,
          655,
          654,
          683,
          591,
          717,
          745,
          709,
          607,
          626,
          709,
          127,
          1024,
          1101,
          1096,
          1238,
          1155,
          1135,
          1077,
          1066,
          1000,
          1049,
          1065,
          1190,
          1021,
          986,
          978,
          1041,
          1007,
          961,
          1240,
          1142,
          1112,
          1021,
          1440,
          1047,
          1136,
          111,
          745,
          744,
          787,
          864,
          1437,
          1440,
          1136,
          671,
          797,
          758,
          762,
          1350,
          566,
          706,
          726,
          829,
          810,
          1198,
          584,
          685,
          737,
          761,
          843,
          1253,
          834,
          621,
          695,
          743,
          1182,
          757,
          343,
          1193,
          1177,
          1123,
          1142,
          1255,
          1113,
          1137,
          1152,
          695,
          1164,
          1260,
          741,
          1096,
          1104,
          1182,
          1187,
          1188,
          1215,
          1281,
          1389,
          1345,
          1166,
          1220,
          1208,
          1245,
          1076,
          1073,
          1214,
          1219,
          1189,
          839,
          1244,
          1298,
          1362,
          1335,
          1268,
          1237,
          1278,
          1276,
          1201,
          1199,
          1320,
          1193,
          1313,
          1261,
          1299,
          1286,
          1393,
          1257,
          1440,
          723,
          680,
          699,
          729,
          563,
          599,
          720,
          737,
          763,
          677,
          769,
          740,
          734,
          692,
          593,
          676,
          711,
          767,
          780,
          669,
          802,
          822,
          680,
          764,
          831,
          851,
          621,
          772,
          840,
          763,
          433,
          1237,
          1252,
          1306,
          1375,
          1440,
          1440,
          1309,
          1257,
          1246,
          1229,
          1170,
          1151,
          1188,
          1294,
          1134,
          1229,
          1209,
          1069,
          1093,
          1311,
          1440,
          1440,
          1440,
          1370,
          1250,
          1190,
          1183,
          1260,
          1226,
          1106,
          1440,
          831,
          806,
          853,
          937,
          1428,
          1440,
          1440,
          1440,
          744,
          1431,
          817,
          795,
          1410,
          1440,
          1360,
          900,
          714,
          634,
          749,
          834,
          916,
          739,
          848,
          1440,
          1440,
          1440,
          1440,
          1440,
          48,
          1036,
          1098,
          1061,
          1052,
          888,
          1060,
          1215,
          1131,
          1123,
          1119,
          1141,
          1032,
          1148,
          1101,
          1157,
          1104,
          1143,
          1207,
          1089,
          1226,
          1335,
          1189,
          1154,
          1170,
          1095,
          1036,
          1174,
          1131,
          1187,
          1127,
          770
         ]
        }
       ],
       "layout": {
        "legend": {
         "tracegroupgap": 0
        },
        "template": {
         "data": {
          "bar": [
           {
            "error_x": {
             "color": "#2a3f5f"
            },
            "error_y": {
             "color": "#2a3f5f"
            },
            "marker": {
             "line": {
              "color": "#E5ECF6",
              "width": 0.5
             },
             "pattern": {
              "fillmode": "overlay",
              "size": 10,
              "solidity": 0.2
             }
            },
            "type": "bar"
           }
          ],
          "barpolar": [
           {
            "marker": {
             "line": {
              "color": "#E5ECF6",
              "width": 0.5
             },
             "pattern": {
              "fillmode": "overlay",
              "size": 10,
              "solidity": 0.2
             }
            },
            "type": "barpolar"
           }
          ],
          "carpet": [
           {
            "aaxis": {
             "endlinecolor": "#2a3f5f",
             "gridcolor": "white",
             "linecolor": "white",
             "minorgridcolor": "white",
             "startlinecolor": "#2a3f5f"
            },
            "baxis": {
             "endlinecolor": "#2a3f5f",
             "gridcolor": "white",
             "linecolor": "white",
             "minorgridcolor": "white",
             "startlinecolor": "#2a3f5f"
            },
            "type": "carpet"
           }
          ],
          "choropleth": [
           {
            "colorbar": {
             "outlinewidth": 0,
             "ticks": ""
            },
            "type": "choropleth"
           }
          ],
          "contour": [
           {
            "colorbar": {
             "outlinewidth": 0,
             "ticks": ""
            },
            "colorscale": [
             [
              0,
              "#0d0887"
             ],
             [
              0.1111111111111111,
              "#46039f"
             ],
             [
              0.2222222222222222,
              "#7201a8"
             ],
             [
              0.3333333333333333,
              "#9c179e"
             ],
             [
              0.4444444444444444,
              "#bd3786"
             ],
             [
              0.5555555555555556,
              "#d8576b"
             ],
             [
              0.6666666666666666,
              "#ed7953"
             ],
             [
              0.7777777777777778,
              "#fb9f3a"
             ],
             [
              0.8888888888888888,
              "#fdca26"
             ],
             [
              1,
              "#f0f921"
             ]
            ],
            "type": "contour"
           }
          ],
          "contourcarpet": [
           {
            "colorbar": {
             "outlinewidth": 0,
             "ticks": ""
            },
            "type": "contourcarpet"
           }
          ],
          "heatmap": [
           {
            "colorbar": {
             "outlinewidth": 0,
             "ticks": ""
            },
            "colorscale": [
             [
              0,
              "#0d0887"
             ],
             [
              0.1111111111111111,
              "#46039f"
             ],
             [
              0.2222222222222222,
              "#7201a8"
             ],
             [
              0.3333333333333333,
              "#9c179e"
             ],
             [
              0.4444444444444444,
              "#bd3786"
             ],
             [
              0.5555555555555556,
              "#d8576b"
             ],
             [
              0.6666666666666666,
              "#ed7953"
             ],
             [
              0.7777777777777778,
              "#fb9f3a"
             ],
             [
              0.8888888888888888,
              "#fdca26"
             ],
             [
              1,
              "#f0f921"
             ]
            ],
            "type": "heatmap"
           }
          ],
          "heatmapgl": [
           {
            "colorbar": {
             "outlinewidth": 0,
             "ticks": ""
            },
            "colorscale": [
             [
              0,
              "#0d0887"
             ],
             [
              0.1111111111111111,
              "#46039f"
             ],
             [
              0.2222222222222222,
              "#7201a8"
             ],
             [
              0.3333333333333333,
              "#9c179e"
             ],
             [
              0.4444444444444444,
              "#bd3786"
             ],
             [
              0.5555555555555556,
              "#d8576b"
             ],
             [
              0.6666666666666666,
              "#ed7953"
             ],
             [
              0.7777777777777778,
              "#fb9f3a"
             ],
             [
              0.8888888888888888,
              "#fdca26"
             ],
             [
              1,
              "#f0f921"
             ]
            ],
            "type": "heatmapgl"
           }
          ],
          "histogram": [
           {
            "marker": {
             "pattern": {
              "fillmode": "overlay",
              "size": 10,
              "solidity": 0.2
             }
            },
            "type": "histogram"
           }
          ],
          "histogram2d": [
           {
            "colorbar": {
             "outlinewidth": 0,
             "ticks": ""
            },
            "colorscale": [
             [
              0,
              "#0d0887"
             ],
             [
              0.1111111111111111,
              "#46039f"
             ],
             [
              0.2222222222222222,
              "#7201a8"
             ],
             [
              0.3333333333333333,
              "#9c179e"
             ],
             [
              0.4444444444444444,
              "#bd3786"
             ],
             [
              0.5555555555555556,
              "#d8576b"
             ],
             [
              0.6666666666666666,
              "#ed7953"
             ],
             [
              0.7777777777777778,
              "#fb9f3a"
             ],
             [
              0.8888888888888888,
              "#fdca26"
             ],
             [
              1,
              "#f0f921"
             ]
            ],
            "type": "histogram2d"
           }
          ],
          "histogram2dcontour": [
           {
            "colorbar": {
             "outlinewidth": 0,
             "ticks": ""
            },
            "colorscale": [
             [
              0,
              "#0d0887"
             ],
             [
              0.1111111111111111,
              "#46039f"
             ],
             [
              0.2222222222222222,
              "#7201a8"
             ],
             [
              0.3333333333333333,
              "#9c179e"
             ],
             [
              0.4444444444444444,
              "#bd3786"
             ],
             [
              0.5555555555555556,
              "#d8576b"
             ],
             [
              0.6666666666666666,
              "#ed7953"
             ],
             [
              0.7777777777777778,
              "#fb9f3a"
             ],
             [
              0.8888888888888888,
              "#fdca26"
             ],
             [
              1,
              "#f0f921"
             ]
            ],
            "type": "histogram2dcontour"
           }
          ],
          "mesh3d": [
           {
            "colorbar": {
             "outlinewidth": 0,
             "ticks": ""
            },
            "type": "mesh3d"
           }
          ],
          "parcoords": [
           {
            "line": {
             "colorbar": {
              "outlinewidth": 0,
              "ticks": ""
             }
            },
            "type": "parcoords"
           }
          ],
          "pie": [
           {
            "automargin": true,
            "type": "pie"
           }
          ],
          "scatter": [
           {
            "fillpattern": {
             "fillmode": "overlay",
             "size": 10,
             "solidity": 0.2
            },
            "type": "scatter"
           }
          ],
          "scatter3d": [
           {
            "line": {
             "colorbar": {
              "outlinewidth": 0,
              "ticks": ""
             }
            },
            "marker": {
             "colorbar": {
              "outlinewidth": 0,
              "ticks": ""
             }
            },
            "type": "scatter3d"
           }
          ],
          "scattercarpet": [
           {
            "marker": {
             "colorbar": {
              "outlinewidth": 0,
              "ticks": ""
             }
            },
            "type": "scattercarpet"
           }
          ],
          "scattergeo": [
           {
            "marker": {
             "colorbar": {
              "outlinewidth": 0,
              "ticks": ""
             }
            },
            "type": "scattergeo"
           }
          ],
          "scattergl": [
           {
            "marker": {
             "colorbar": {
              "outlinewidth": 0,
              "ticks": ""
             }
            },
            "type": "scattergl"
           }
          ],
          "scattermapbox": [
           {
            "marker": {
             "colorbar": {
              "outlinewidth": 0,
              "ticks": ""
             }
            },
            "type": "scattermapbox"
           }
          ],
          "scatterpolar": [
           {
            "marker": {
             "colorbar": {
              "outlinewidth": 0,
              "ticks": ""
             }
            },
            "type": "scatterpolar"
           }
          ],
          "scatterpolargl": [
           {
            "marker": {
             "colorbar": {
              "outlinewidth": 0,
              "ticks": ""
             }
            },
            "type": "scatterpolargl"
           }
          ],
          "scatterternary": [
           {
            "marker": {
             "colorbar": {
              "outlinewidth": 0,
              "ticks": ""
             }
            },
            "type": "scatterternary"
           }
          ],
          "surface": [
           {
            "colorbar": {
             "outlinewidth": 0,
             "ticks": ""
            },
            "colorscale": [
             [
              0,
              "#0d0887"
             ],
             [
              0.1111111111111111,
              "#46039f"
             ],
             [
              0.2222222222222222,
              "#7201a8"
             ],
             [
              0.3333333333333333,
              "#9c179e"
             ],
             [
              0.4444444444444444,
              "#bd3786"
             ],
             [
              0.5555555555555556,
              "#d8576b"
             ],
             [
              0.6666666666666666,
              "#ed7953"
             ],
             [
              0.7777777777777778,
              "#fb9f3a"
             ],
             [
              0.8888888888888888,
              "#fdca26"
             ],
             [
              1,
              "#f0f921"
             ]
            ],
            "type": "surface"
           }
          ],
          "table": [
           {
            "cells": {
             "fill": {
              "color": "#EBF0F8"
             },
             "line": {
              "color": "white"
             }
            },
            "header": {
             "fill": {
              "color": "#C8D4E3"
             },
             "line": {
              "color": "white"
             }
            },
            "type": "table"
           }
          ]
         },
         "layout": {
          "annotationdefaults": {
           "arrowcolor": "#2a3f5f",
           "arrowhead": 0,
           "arrowwidth": 1
          },
          "autotypenumbers": "strict",
          "coloraxis": {
           "colorbar": {
            "outlinewidth": 0,
            "ticks": ""
           }
          },
          "colorscale": {
           "diverging": [
            [
             0,
             "#8e0152"
            ],
            [
             0.1,
             "#c51b7d"
            ],
            [
             0.2,
             "#de77ae"
            ],
            [
             0.3,
             "#f1b6da"
            ],
            [
             0.4,
             "#fde0ef"
            ],
            [
             0.5,
             "#f7f7f7"
            ],
            [
             0.6,
             "#e6f5d0"
            ],
            [
             0.7,
             "#b8e186"
            ],
            [
             0.8,
             "#7fbc41"
            ],
            [
             0.9,
             "#4d9221"
            ],
            [
             1,
             "#276419"
            ]
           ],
           "sequential": [
            [
             0,
             "#0d0887"
            ],
            [
             0.1111111111111111,
             "#46039f"
            ],
            [
             0.2222222222222222,
             "#7201a8"
            ],
            [
             0.3333333333333333,
             "#9c179e"
            ],
            [
             0.4444444444444444,
             "#bd3786"
            ],
            [
             0.5555555555555556,
             "#d8576b"
            ],
            [
             0.6666666666666666,
             "#ed7953"
            ],
            [
             0.7777777777777778,
             "#fb9f3a"
            ],
            [
             0.8888888888888888,
             "#fdca26"
            ],
            [
             1,
             "#f0f921"
            ]
           ],
           "sequentialminus": [
            [
             0,
             "#0d0887"
            ],
            [
             0.1111111111111111,
             "#46039f"
            ],
            [
             0.2222222222222222,
             "#7201a8"
            ],
            [
             0.3333333333333333,
             "#9c179e"
            ],
            [
             0.4444444444444444,
             "#bd3786"
            ],
            [
             0.5555555555555556,
             "#d8576b"
            ],
            [
             0.6666666666666666,
             "#ed7953"
            ],
            [
             0.7777777777777778,
             "#fb9f3a"
            ],
            [
             0.8888888888888888,
             "#fdca26"
            ],
            [
             1,
             "#f0f921"
            ]
           ]
          },
          "colorway": [
           "#636efa",
           "#EF553B",
           "#00cc96",
           "#ab63fa",
           "#FFA15A",
           "#19d3f3",
           "#FF6692",
           "#B6E880",
           "#FF97FF",
           "#FECB52"
          ],
          "font": {
           "color": "#2a3f5f"
          },
          "geo": {
           "bgcolor": "white",
           "lakecolor": "white",
           "landcolor": "#E5ECF6",
           "showlakes": true,
           "showland": true,
           "subunitcolor": "white"
          },
          "hoverlabel": {
           "align": "left"
          },
          "hovermode": "closest",
          "mapbox": {
           "style": "light"
          },
          "paper_bgcolor": "white",
          "plot_bgcolor": "#E5ECF6",
          "polar": {
           "angularaxis": {
            "gridcolor": "white",
            "linecolor": "white",
            "ticks": ""
           },
           "bgcolor": "#E5ECF6",
           "radialaxis": {
            "gridcolor": "white",
            "linecolor": "white",
            "ticks": ""
           }
          },
          "scene": {
           "xaxis": {
            "backgroundcolor": "#E5ECF6",
            "gridcolor": "white",
            "gridwidth": 2,
            "linecolor": "white",
            "showbackground": true,
            "ticks": "",
            "zerolinecolor": "white"
           },
           "yaxis": {
            "backgroundcolor": "#E5ECF6",
            "gridcolor": "white",
            "gridwidth": 2,
            "linecolor": "white",
            "showbackground": true,
            "ticks": "",
            "zerolinecolor": "white"
           },
           "zaxis": {
            "backgroundcolor": "#E5ECF6",
            "gridcolor": "white",
            "gridwidth": 2,
            "linecolor": "white",
            "showbackground": true,
            "ticks": "",
            "zerolinecolor": "white"
           }
          },
          "shapedefaults": {
           "line": {
            "color": "#2a3f5f"
           }
          },
          "ternary": {
           "aaxis": {
            "gridcolor": "white",
            "linecolor": "white",
            "ticks": ""
           },
           "baxis": {
            "gridcolor": "white",
            "linecolor": "white",
            "ticks": ""
           },
           "bgcolor": "#E5ECF6",
           "caxis": {
            "gridcolor": "white",
            "linecolor": "white",
            "ticks": ""
           }
          },
          "title": {
           "x": 0.05
          },
          "xaxis": {
           "automargin": true,
           "gridcolor": "white",
           "linecolor": "white",
           "ticks": "",
           "title": {
            "standoff": 15
           },
           "zerolinecolor": "white",
           "zerolinewidth": 2
          },
          "yaxis": {
           "automargin": true,
           "gridcolor": "white",
           "linecolor": "white",
           "ticks": "",
           "title": {
            "standoff": 15
           },
           "zerolinecolor": "white",
           "zerolinewidth": 2
          }
         }
        },
        "title": {
         "text": "Inactive minutes based on days"
        }
       }
      },
      "text/html": [
       "<div>                            <div id=\"b3e06c8e-e93a-4e1c-b4d3-b21b4b97c32a\" class=\"plotly-graph-div\" style=\"height:525px; width:100%;\"></div>            <script type=\"text/javascript\">                require([\"plotly\"], function(Plotly) {                    window.PLOTLYENV=window.PLOTLYENV || {};                                    if (document.getElementById(\"b3e06c8e-e93a-4e1c-b4d3-b21b4b97c32a\")) {                    Plotly.newPlot(                        \"b3e06c8e-e93a-4e1c-b4d3-b21b4b97c32a\",                        [{\"customdata\":[[\"Tuesday\"],[\"Wednesday\"],[\"Thursday\"],[\"Friday\"],[\"Saturday\"],[\"Sunday\"],[\"Monday\"],[\"Tuesday\"],[\"Wednesday\"],[\"Thursday\"],[\"Friday\"],[\"Saturday\"],[\"Sunday\"],[\"Monday\"],[\"Tuesday\"],[\"Wednesday\"],[\"Thursday\"],[\"Friday\"],[\"Saturday\"],[\"Sunday\"],[\"Monday\"],[\"Tuesday\"],[\"Wednesday\"],[\"Thursday\"],[\"Friday\"],[\"Saturday\"],[\"Sunday\"],[\"Monday\"],[\"Tuesday\"],[\"Wednesday\"],[\"Thursday\"],[\"Tuesday\"],[\"Wednesday\"],[\"Thursday\"],[\"Friday\"],[\"Saturday\"],[\"Sunday\"],[\"Monday\"],[\"Tuesday\"],[\"Wednesday\"],[\"Thursday\"],[\"Friday\"],[\"Saturday\"],[\"Sunday\"],[\"Monday\"],[\"Tuesday\"],[\"Wednesday\"],[\"Thursday\"],[\"Friday\"],[\"Saturday\"],[\"Sunday\"],[\"Monday\"],[\"Tuesday\"],[\"Wednesday\"],[\"Thursday\"],[\"Friday\"],[\"Saturday\"],[\"Sunday\"],[\"Monday\"],[\"Tuesday\"],[\"Wednesday\"],[\"Thursday\"],[\"Tuesday\"],[\"Wednesday\"],[\"Thursday\"],[\"Friday\"],[\"Saturday\"],[\"Sunday\"],[\"Monday\"],[\"Tuesday\"],[\"Wednesday\"],[\"Thursday\"],[\"Friday\"],[\"Saturday\"],[\"Sunday\"],[\"Monday\"],[\"Tuesday\"],[\"Wednesday\"],[\"Thursday\"],[\"Friday\"],[\"Saturday\"],[\"Sunday\"],[\"Monday\"],[\"Tuesday\"],[\"Wednesday\"],[\"Thursday\"],[\"Friday\"],[\"Saturday\"],[\"Sunday\"],[\"Monday\"],[\"Tuesday\"],[\"Wednesday\"],[\"Tuesday\"],[\"Wednesday\"],[\"Thursday\"],[\"Friday\"],[\"Saturday\"],[\"Sunday\"],[\"Monday\"],[\"Tuesday\"],[\"Wednesday\"],[\"Thursday\"],[\"Friday\"],[\"Saturday\"],[\"Sunday\"],[\"Monday\"],[\"Tuesday\"],[\"Wednesday\"],[\"Thursday\"],[\"Friday\"],[\"Saturday\"],[\"Sunday\"],[\"Monday\"],[\"Tuesday\"],[\"Wednesday\"],[\"Thursday\"],[\"Friday\"],[\"Saturday\"],[\"Sunday\"],[\"Monday\"],[\"Tuesday\"],[\"Wednesday\"],[\"Thursday\"],[\"Tuesday\"],[\"Wednesday\"],[\"Thursday\"],[\"Friday\"],[\"Saturday\"],[\"Sunday\"],[\"Monday\"],[\"Tuesday\"],[\"Wednesday\"],[\"Thursday\"],[\"Friday\"],[\"Saturday\"],[\"Sunday\"],[\"Monday\"],[\"Tuesday\"],[\"Wednesday\"],[\"Thursday\"],[\"Friday\"],[\"Saturday\"],[\"Sunday\"],[\"Monday\"],[\"Tuesday\"],[\"Wednesday\"],[\"Thursday\"],[\"Friday\"],[\"Saturday\"],[\"Sunday\"],[\"Monday\"],[\"Tuesday\"],[\"Wednesday\"],[\"Thursday\"],[\"Tuesday\"],[\"Wednesday\"],[\"Thursday\"],[\"Friday\"],[\"Saturday\"],[\"Sunday\"],[\"Monday\"],[\"Tuesday\"],[\"Wednesday\"],[\"Thursday\"],[\"Friday\"],[\"Saturday\"],[\"Sunday\"],[\"Monday\"],[\"Tuesday\"],[\"Wednesday\"],[\"Thursday\"],[\"Friday\"],[\"Saturday\"],[\"Sunday\"],[\"Monday\"],[\"Tuesday\"],[\"Wednesday\"],[\"Thursday\"],[\"Friday\"],[\"Saturday\"],[\"Sunday\"],[\"Monday\"],[\"Tuesday\"],[\"Wednesday\"],[\"Thursday\"],[\"Tuesday\"],[\"Wednesday\"],[\"Thursday\"],[\"Friday\"],[\"Saturday\"],[\"Sunday\"],[\"Monday\"],[\"Tuesday\"],[\"Wednesday\"],[\"Thursday\"],[\"Friday\"],[\"Saturday\"],[\"Sunday\"],[\"Monday\"],[\"Tuesday\"],[\"Wednesday\"],[\"Thursday\"],[\"Friday\"],[\"Saturday\"],[\"Sunday\"],[\"Monday\"],[\"Tuesday\"],[\"Wednesday\"],[\"Thursday\"],[\"Friday\"],[\"Saturday\"],[\"Sunday\"],[\"Monday\"],[\"Tuesday\"],[\"Wednesday\"],[\"Thursday\"],[\"Tuesday\"],[\"Wednesday\"],[\"Thursday\"],[\"Friday\"],[\"Saturday\"],[\"Sunday\"],[\"Monday\"],[\"Tuesday\"],[\"Wednesday\"],[\"Thursday\"],[\"Friday\"],[\"Saturday\"],[\"Sunday\"],[\"Monday\"],[\"Tuesday\"],[\"Wednesday\"],[\"Thursday\"],[\"Friday\"],[\"Saturday\"],[\"Sunday\"],[\"Monday\"],[\"Tuesday\"],[\"Wednesday\"],[\"Thursday\"],[\"Friday\"],[\"Saturday\"],[\"Sunday\"],[\"Monday\"],[\"Tuesday\"],[\"Wednesday\"],[\"Thursday\"],[\"Tuesday\"],[\"Wednesday\"],[\"Thursday\"],[\"Friday\"],[\"Saturday\"],[\"Sunday\"],[\"Monday\"],[\"Tuesday\"],[\"Wednesday\"],[\"Thursday\"],[\"Friday\"],[\"Saturday\"],[\"Sunday\"],[\"Monday\"],[\"Tuesday\"],[\"Wednesday\"],[\"Thursday\"],[\"Friday\"],[\"Tuesday\"],[\"Wednesday\"],[\"Thursday\"],[\"Friday\"],[\"Saturday\"],[\"Sunday\"],[\"Monday\"],[\"Tuesday\"],[\"Wednesday\"],[\"Thursday\"],[\"Friday\"],[\"Saturday\"],[\"Sunday\"],[\"Monday\"],[\"Tuesday\"],[\"Wednesday\"],[\"Thursday\"],[\"Friday\"],[\"Saturday\"],[\"Sunday\"],[\"Monday\"],[\"Tuesday\"],[\"Wednesday\"],[\"Thursday\"],[\"Friday\"],[\"Saturday\"],[\"Sunday\"],[\"Monday\"],[\"Tuesday\"],[\"Wednesday\"],[\"Thursday\"],[\"Tuesday\"],[\"Wednesday\"],[\"Thursday\"],[\"Friday\"],[\"Saturday\"],[\"Sunday\"],[\"Monday\"],[\"Tuesday\"],[\"Wednesday\"],[\"Thursday\"],[\"Friday\"],[\"Saturday\"],[\"Sunday\"],[\"Monday\"],[\"Tuesday\"],[\"Wednesday\"],[\"Thursday\"],[\"Friday\"],[\"Saturday\"],[\"Sunday\"],[\"Tuesday\"],[\"Wednesday\"],[\"Thursday\"],[\"Friday\"],[\"Saturday\"],[\"Sunday\"],[\"Monday\"],[\"Tuesday\"],[\"Wednesday\"],[\"Thursday\"],[\"Friday\"],[\"Saturday\"],[\"Sunday\"],[\"Monday\"],[\"Tuesday\"],[\"Wednesday\"],[\"Thursday\"],[\"Friday\"],[\"Saturday\"],[\"Sunday\"],[\"Monday\"],[\"Tuesday\"],[\"Wednesday\"],[\"Thursday\"],[\"Friday\"],[\"Saturday\"],[\"Sunday\"],[\"Monday\"],[\"Tuesday\"],[\"Wednesday\"],[\"Tuesday\"],[\"Wednesday\"],[\"Thursday\"],[\"Friday\"],[\"Saturday\"],[\"Sunday\"],[\"Monday\"],[\"Tuesday\"],[\"Wednesday\"],[\"Thursday\"],[\"Friday\"],[\"Saturday\"],[\"Sunday\"],[\"Monday\"],[\"Tuesday\"],[\"Wednesday\"],[\"Thursday\"],[\"Friday\"],[\"Saturday\"],[\"Sunday\"],[\"Monday\"],[\"Tuesday\"],[\"Wednesday\"],[\"Thursday\"],[\"Friday\"],[\"Saturday\"],[\"Sunday\"],[\"Monday\"],[\"Tuesday\"],[\"Wednesday\"],[\"Thursday\"],[\"Tuesday\"],[\"Wednesday\"],[\"Thursday\"],[\"Friday\"],[\"Tuesday\"],[\"Wednesday\"],[\"Thursday\"],[\"Friday\"],[\"Saturday\"],[\"Sunday\"],[\"Monday\"],[\"Tuesday\"],[\"Wednesday\"],[\"Thursday\"],[\"Friday\"],[\"Saturday\"],[\"Sunday\"],[\"Monday\"],[\"Tuesday\"],[\"Wednesday\"],[\"Thursday\"],[\"Friday\"],[\"Saturday\"],[\"Sunday\"],[\"Monday\"],[\"Tuesday\"],[\"Wednesday\"],[\"Thursday\"],[\"Friday\"],[\"Saturday\"],[\"Sunday\"],[\"Monday\"],[\"Tuesday\"],[\"Wednesday\"],[\"Thursday\"],[\"Tuesday\"],[\"Wednesday\"],[\"Thursday\"],[\"Friday\"],[\"Saturday\"],[\"Sunday\"],[\"Monday\"],[\"Tuesday\"],[\"Wednesday\"],[\"Thursday\"],[\"Friday\"],[\"Saturday\"],[\"Sunday\"],[\"Monday\"],[\"Tuesday\"],[\"Wednesday\"],[\"Thursday\"],[\"Friday\"],[\"Saturday\"],[\"Sunday\"],[\"Monday\"],[\"Tuesday\"],[\"Wednesday\"],[\"Thursday\"],[\"Friday\"],[\"Saturday\"],[\"Sunday\"],[\"Monday\"],[\"Tuesday\"],[\"Wednesday\"],[\"Thursday\"],[\"Tuesday\"],[\"Wednesday\"],[\"Thursday\"],[\"Friday\"],[\"Saturday\"],[\"Sunday\"],[\"Monday\"],[\"Tuesday\"],[\"Wednesday\"],[\"Thursday\"],[\"Friday\"],[\"Saturday\"],[\"Sunday\"],[\"Monday\"],[\"Tuesday\"],[\"Wednesday\"],[\"Thursday\"],[\"Friday\"],[\"Saturday\"],[\"Sunday\"],[\"Monday\"],[\"Tuesday\"],[\"Wednesday\"],[\"Thursday\"],[\"Friday\"],[\"Saturday\"],[\"Sunday\"],[\"Monday\"],[\"Tuesday\"],[\"Wednesday\"],[\"Thursday\"],[\"Tuesday\"],[\"Wednesday\"],[\"Thursday\"],[\"Friday\"],[\"Saturday\"],[\"Sunday\"],[\"Monday\"],[\"Tuesday\"],[\"Wednesday\"],[\"Thursday\"],[\"Friday\"],[\"Saturday\"],[\"Sunday\"],[\"Monday\"],[\"Tuesday\"],[\"Wednesday\"],[\"Thursday\"],[\"Friday\"],[\"Saturday\"],[\"Sunday\"],[\"Monday\"],[\"Tuesday\"],[\"Wednesday\"],[\"Thursday\"],[\"Friday\"],[\"Saturday\"],[\"Sunday\"],[\"Monday\"],[\"Tuesday\"],[\"Wednesday\"],[\"Thursday\"],[\"Tuesday\"],[\"Wednesday\"],[\"Thursday\"],[\"Friday\"],[\"Saturday\"],[\"Sunday\"],[\"Monday\"],[\"Tuesday\"],[\"Wednesday\"],[\"Thursday\"],[\"Friday\"],[\"Saturday\"],[\"Sunday\"],[\"Monday\"],[\"Tuesday\"],[\"Wednesday\"],[\"Thursday\"],[\"Friday\"],[\"Saturday\"],[\"Sunday\"],[\"Monday\"],[\"Tuesday\"],[\"Wednesday\"],[\"Thursday\"],[\"Friday\"],[\"Saturday\"],[\"Sunday\"],[\"Monday\"],[\"Tuesday\"],[\"Wednesday\"],[\"Thursday\"],[\"Tuesday\"],[\"Wednesday\"],[\"Thursday\"],[\"Friday\"],[\"Saturday\"],[\"Sunday\"],[\"Monday\"],[\"Tuesday\"],[\"Wednesday\"],[\"Thursday\"],[\"Friday\"],[\"Saturday\"],[\"Sunday\"],[\"Monday\"],[\"Tuesday\"],[\"Wednesday\"],[\"Thursday\"],[\"Friday\"],[\"Saturday\"],[\"Sunday\"],[\"Monday\"],[\"Tuesday\"],[\"Wednesday\"],[\"Thursday\"],[\"Friday\"],[\"Saturday\"],[\"Sunday\"],[\"Monday\"],[\"Tuesday\"],[\"Wednesday\"],[\"Thursday\"],[\"Tuesday\"],[\"Wednesday\"],[\"Thursday\"],[\"Friday\"],[\"Saturday\"],[\"Sunday\"],[\"Monday\"],[\"Tuesday\"],[\"Wednesday\"],[\"Thursday\"],[\"Friday\"],[\"Saturday\"],[\"Sunday\"],[\"Monday\"],[\"Tuesday\"],[\"Wednesday\"],[\"Thursday\"],[\"Friday\"],[\"Saturday\"],[\"Sunday\"],[\"Monday\"],[\"Tuesday\"],[\"Wednesday\"],[\"Thursday\"],[\"Friday\"],[\"Saturday\"],[\"Sunday\"],[\"Monday\"],[\"Tuesday\"],[\"Wednesday\"],[\"Tuesday\"],[\"Wednesday\"],[\"Thursday\"],[\"Friday\"],[\"Saturday\"],[\"Sunday\"],[\"Monday\"],[\"Tuesday\"],[\"Wednesday\"],[\"Thursday\"],[\"Friday\"],[\"Saturday\"],[\"Sunday\"],[\"Monday\"],[\"Tuesday\"],[\"Wednesday\"],[\"Thursday\"],[\"Friday\"],[\"Saturday\"],[\"Sunday\"],[\"Monday\"],[\"Tuesday\"],[\"Wednesday\"],[\"Thursday\"],[\"Friday\"],[\"Saturday\"],[\"Sunday\"],[\"Monday\"],[\"Tuesday\"],[\"Wednesday\"],[\"Thursday\"],[\"Friday\"],[\"Saturday\"],[\"Sunday\"],[\"Monday\"],[\"Tuesday\"],[\"Wednesday\"],[\"Thursday\"],[\"Friday\"],[\"Saturday\"],[\"Sunday\"],[\"Monday\"],[\"Tuesday\"],[\"Wednesday\"],[\"Thursday\"],[\"Friday\"],[\"Saturday\"],[\"Sunday\"],[\"Monday\"],[\"Tuesday\"],[\"Wednesday\"],[\"Thursday\"],[\"Friday\"],[\"Saturday\"],[\"Sunday\"],[\"Monday\"],[\"Tuesday\"],[\"Tuesday\"],[\"Wednesday\"],[\"Thursday\"],[\"Friday\"],[\"Saturday\"],[\"Sunday\"],[\"Monday\"],[\"Tuesday\"],[\"Wednesday\"],[\"Thursday\"],[\"Friday\"],[\"Saturday\"],[\"Sunday\"],[\"Monday\"],[\"Tuesday\"],[\"Wednesday\"],[\"Thursday\"],[\"Friday\"],[\"Saturday\"],[\"Sunday\"],[\"Monday\"],[\"Tuesday\"],[\"Wednesday\"],[\"Thursday\"],[\"Friday\"],[\"Saturday\"],[\"Tuesday\"],[\"Wednesday\"],[\"Thursday\"],[\"Friday\"],[\"Saturday\"],[\"Sunday\"],[\"Monday\"],[\"Tuesday\"],[\"Wednesday\"],[\"Thursday\"],[\"Friday\"],[\"Saturday\"],[\"Sunday\"],[\"Monday\"],[\"Tuesday\"],[\"Wednesday\"],[\"Thursday\"],[\"Friday\"],[\"Saturday\"],[\"Sunday\"],[\"Monday\"],[\"Tuesday\"],[\"Wednesday\"],[\"Thursday\"],[\"Friday\"],[\"Saturday\"],[\"Sunday\"],[\"Monday\"],[\"Tuesday\"],[\"Wednesday\"],[\"Thursday\"],[\"Tuesday\"],[\"Wednesday\"],[\"Thursday\"],[\"Friday\"],[\"Saturday\"],[\"Sunday\"],[\"Monday\"],[\"Tuesday\"],[\"Wednesday\"],[\"Thursday\"],[\"Friday\"],[\"Saturday\"],[\"Sunday\"],[\"Monday\"],[\"Tuesday\"],[\"Wednesday\"],[\"Thursday\"],[\"Friday\"],[\"Saturday\"],[\"Sunday\"],[\"Monday\"],[\"Tuesday\"],[\"Wednesday\"],[\"Thursday\"],[\"Friday\"],[\"Saturday\"],[\"Tuesday\"],[\"Wednesday\"],[\"Thursday\"],[\"Friday\"],[\"Saturday\"],[\"Sunday\"],[\"Monday\"],[\"Tuesday\"],[\"Wednesday\"],[\"Thursday\"],[\"Friday\"],[\"Saturday\"],[\"Sunday\"],[\"Monday\"],[\"Tuesday\"],[\"Wednesday\"],[\"Thursday\"],[\"Friday\"],[\"Saturday\"],[\"Sunday\"],[\"Monday\"],[\"Tuesday\"],[\"Wednesday\"],[\"Thursday\"],[\"Friday\"],[\"Saturday\"],[\"Sunday\"],[\"Monday\"],[\"Tuesday\"],[\"Wednesday\"],[\"Thursday\"],[\"Tuesday\"],[\"Wednesday\"],[\"Thursday\"],[\"Friday\"],[\"Saturday\"],[\"Sunday\"],[\"Monday\"],[\"Tuesday\"],[\"Wednesday\"],[\"Thursday\"],[\"Friday\"],[\"Saturday\"],[\"Sunday\"],[\"Monday\"],[\"Tuesday\"],[\"Wednesday\"],[\"Thursday\"],[\"Friday\"],[\"Saturday\"],[\"Sunday\"],[\"Monday\"],[\"Tuesday\"],[\"Wednesday\"],[\"Thursday\"],[\"Friday\"],[\"Saturday\"],[\"Sunday\"],[\"Monday\"],[\"Tuesday\"],[\"Wednesday\"],[\"Thursday\"],[\"Tuesday\"],[\"Wednesday\"],[\"Thursday\"],[\"Friday\"],[\"Saturday\"],[\"Sunday\"],[\"Monday\"],[\"Tuesday\"],[\"Wednesday\"],[\"Thursday\"],[\"Friday\"],[\"Saturday\"],[\"Sunday\"],[\"Monday\"],[\"Tuesday\"],[\"Wednesday\"],[\"Thursday\"],[\"Friday\"],[\"Saturday\"],[\"Tuesday\"],[\"Wednesday\"],[\"Thursday\"],[\"Friday\"],[\"Saturday\"],[\"Sunday\"],[\"Monday\"],[\"Tuesday\"],[\"Wednesday\"],[\"Thursday\"],[\"Friday\"],[\"Saturday\"],[\"Sunday\"],[\"Monday\"],[\"Tuesday\"],[\"Wednesday\"],[\"Thursday\"],[\"Friday\"],[\"Saturday\"],[\"Sunday\"],[\"Monday\"],[\"Tuesday\"],[\"Wednesday\"],[\"Thursday\"],[\"Friday\"],[\"Saturday\"],[\"Sunday\"],[\"Monday\"],[\"Tuesday\"],[\"Wednesday\"],[\"Thursday\"],[\"Tuesday\"],[\"Wednesday\"],[\"Thursday\"],[\"Friday\"],[\"Saturday\"],[\"Sunday\"],[\"Monday\"],[\"Tuesday\"],[\"Wednesday\"],[\"Thursday\"],[\"Friday\"],[\"Saturday\"],[\"Sunday\"],[\"Monday\"],[\"Tuesday\"],[\"Wednesday\"],[\"Thursday\"],[\"Friday\"],[\"Saturday\"],[\"Sunday\"],[\"Monday\"],[\"Tuesday\"],[\"Wednesday\"],[\"Thursday\"],[\"Friday\"],[\"Saturday\"],[\"Sunday\"],[\"Monday\"],[\"Tuesday\"],[\"Wednesday\"],[\"Thursday\"],[\"Tuesday\"],[\"Wednesday\"],[\"Thursday\"],[\"Friday\"],[\"Saturday\"],[\"Sunday\"],[\"Monday\"],[\"Tuesday\"],[\"Wednesday\"],[\"Thursday\"],[\"Friday\"],[\"Saturday\"],[\"Sunday\"],[\"Monday\"],[\"Tuesday\"],[\"Wednesday\"],[\"Thursday\"],[\"Friday\"],[\"Saturday\"],[\"Sunday\"],[\"Monday\"],[\"Tuesday\"],[\"Wednesday\"],[\"Thursday\"],[\"Friday\"],[\"Saturday\"],[\"Sunday\"],[\"Monday\"],[\"Tuesday\"],[\"Tuesday\"],[\"Wednesday\"],[\"Thursday\"],[\"Friday\"],[\"Saturday\"],[\"Sunday\"],[\"Monday\"],[\"Tuesday\"],[\"Wednesday\"],[\"Thursday\"],[\"Friday\"],[\"Saturday\"],[\"Sunday\"],[\"Monday\"],[\"Tuesday\"],[\"Wednesday\"],[\"Thursday\"],[\"Friday\"],[\"Saturday\"],[\"Sunday\"],[\"Monday\"],[\"Tuesday\"],[\"Wednesday\"],[\"Thursday\"],[\"Friday\"],[\"Saturday\"],[\"Sunday\"],[\"Monday\"],[\"Tuesday\"],[\"Wednesday\"],[\"Thursday\"]],\"domain\":{\"x\":[0.0,1.0],\"y\":[0.0,1.0]},\"hovertemplate\":\"Day=%{customdata[0]}<br>SedentaryMinutes=%{value}<extra></extra>\",\"labels\":[\"Tuesday\",\"Wednesday\",\"Thursday\",\"Friday\",\"Saturday\",\"Sunday\",\"Monday\",\"Tuesday\",\"Wednesday\",\"Thursday\",\"Friday\",\"Saturday\",\"Sunday\",\"Monday\",\"Tuesday\",\"Wednesday\",\"Thursday\",\"Friday\",\"Saturday\",\"Sunday\",\"Monday\",\"Tuesday\",\"Wednesday\",\"Thursday\",\"Friday\",\"Saturday\",\"Sunday\",\"Monday\",\"Tuesday\",\"Wednesday\",\"Thursday\",\"Tuesday\",\"Wednesday\",\"Thursday\",\"Friday\",\"Saturday\",\"Sunday\",\"Monday\",\"Tuesday\",\"Wednesday\",\"Thursday\",\"Friday\",\"Saturday\",\"Sunday\",\"Monday\",\"Tuesday\",\"Wednesday\",\"Thursday\",\"Friday\",\"Saturday\",\"Sunday\",\"Monday\",\"Tuesday\",\"Wednesday\",\"Thursday\",\"Friday\",\"Saturday\",\"Sunday\",\"Monday\",\"Tuesday\",\"Wednesday\",\"Thursday\",\"Tuesday\",\"Wednesday\",\"Thursday\",\"Friday\",\"Saturday\",\"Sunday\",\"Monday\",\"Tuesday\",\"Wednesday\",\"Thursday\",\"Friday\",\"Saturday\",\"Sunday\",\"Monday\",\"Tuesday\",\"Wednesday\",\"Thursday\",\"Friday\",\"Saturday\",\"Sunday\",\"Monday\",\"Tuesday\",\"Wednesday\",\"Thursday\",\"Friday\",\"Saturday\",\"Sunday\",\"Monday\",\"Tuesday\",\"Wednesday\",\"Tuesday\",\"Wednesday\",\"Thursday\",\"Friday\",\"Saturday\",\"Sunday\",\"Monday\",\"Tuesday\",\"Wednesday\",\"Thursday\",\"Friday\",\"Saturday\",\"Sunday\",\"Monday\",\"Tuesday\",\"Wednesday\",\"Thursday\",\"Friday\",\"Saturday\",\"Sunday\",\"Monday\",\"Tuesday\",\"Wednesday\",\"Thursday\",\"Friday\",\"Saturday\",\"Sunday\",\"Monday\",\"Tuesday\",\"Wednesday\",\"Thursday\",\"Tuesday\",\"Wednesday\",\"Thursday\",\"Friday\",\"Saturday\",\"Sunday\",\"Monday\",\"Tuesday\",\"Wednesday\",\"Thursday\",\"Friday\",\"Saturday\",\"Sunday\",\"Monday\",\"Tuesday\",\"Wednesday\",\"Thursday\",\"Friday\",\"Saturday\",\"Sunday\",\"Monday\",\"Tuesday\",\"Wednesday\",\"Thursday\",\"Friday\",\"Saturday\",\"Sunday\",\"Monday\",\"Tuesday\",\"Wednesday\",\"Thursday\",\"Tuesday\",\"Wednesday\",\"Thursday\",\"Friday\",\"Saturday\",\"Sunday\",\"Monday\",\"Tuesday\",\"Wednesday\",\"Thursday\",\"Friday\",\"Saturday\",\"Sunday\",\"Monday\",\"Tuesday\",\"Wednesday\",\"Thursday\",\"Friday\",\"Saturday\",\"Sunday\",\"Monday\",\"Tuesday\",\"Wednesday\",\"Thursday\",\"Friday\",\"Saturday\",\"Sunday\",\"Monday\",\"Tuesday\",\"Wednesday\",\"Thursday\",\"Tuesday\",\"Wednesday\",\"Thursday\",\"Friday\",\"Saturday\",\"Sunday\",\"Monday\",\"Tuesday\",\"Wednesday\",\"Thursday\",\"Friday\",\"Saturday\",\"Sunday\",\"Monday\",\"Tuesday\",\"Wednesday\",\"Thursday\",\"Friday\",\"Saturday\",\"Sunday\",\"Monday\",\"Tuesday\",\"Wednesday\",\"Thursday\",\"Friday\",\"Saturday\",\"Sunday\",\"Monday\",\"Tuesday\",\"Wednesday\",\"Thursday\",\"Tuesday\",\"Wednesday\",\"Thursday\",\"Friday\",\"Saturday\",\"Sunday\",\"Monday\",\"Tuesday\",\"Wednesday\",\"Thursday\",\"Friday\",\"Saturday\",\"Sunday\",\"Monday\",\"Tuesday\",\"Wednesday\",\"Thursday\",\"Friday\",\"Saturday\",\"Sunday\",\"Monday\",\"Tuesday\",\"Wednesday\",\"Thursday\",\"Friday\",\"Saturday\",\"Sunday\",\"Monday\",\"Tuesday\",\"Wednesday\",\"Thursday\",\"Tuesday\",\"Wednesday\",\"Thursday\",\"Friday\",\"Saturday\",\"Sunday\",\"Monday\",\"Tuesday\",\"Wednesday\",\"Thursday\",\"Friday\",\"Saturday\",\"Sunday\",\"Monday\",\"Tuesday\",\"Wednesday\",\"Thursday\",\"Friday\",\"Tuesday\",\"Wednesday\",\"Thursday\",\"Friday\",\"Saturday\",\"Sunday\",\"Monday\",\"Tuesday\",\"Wednesday\",\"Thursday\",\"Friday\",\"Saturday\",\"Sunday\",\"Monday\",\"Tuesday\",\"Wednesday\",\"Thursday\",\"Friday\",\"Saturday\",\"Sunday\",\"Monday\",\"Tuesday\",\"Wednesday\",\"Thursday\",\"Friday\",\"Saturday\",\"Sunday\",\"Monday\",\"Tuesday\",\"Wednesday\",\"Thursday\",\"Tuesday\",\"Wednesday\",\"Thursday\",\"Friday\",\"Saturday\",\"Sunday\",\"Monday\",\"Tuesday\",\"Wednesday\",\"Thursday\",\"Friday\",\"Saturday\",\"Sunday\",\"Monday\",\"Tuesday\",\"Wednesday\",\"Thursday\",\"Friday\",\"Saturday\",\"Sunday\",\"Tuesday\",\"Wednesday\",\"Thursday\",\"Friday\",\"Saturday\",\"Sunday\",\"Monday\",\"Tuesday\",\"Wednesday\",\"Thursday\",\"Friday\",\"Saturday\",\"Sunday\",\"Monday\",\"Tuesday\",\"Wednesday\",\"Thursday\",\"Friday\",\"Saturday\",\"Sunday\",\"Monday\",\"Tuesday\",\"Wednesday\",\"Thursday\",\"Friday\",\"Saturday\",\"Sunday\",\"Monday\",\"Tuesday\",\"Wednesday\",\"Tuesday\",\"Wednesday\",\"Thursday\",\"Friday\",\"Saturday\",\"Sunday\",\"Monday\",\"Tuesday\",\"Wednesday\",\"Thursday\",\"Friday\",\"Saturday\",\"Sunday\",\"Monday\",\"Tuesday\",\"Wednesday\",\"Thursday\",\"Friday\",\"Saturday\",\"Sunday\",\"Monday\",\"Tuesday\",\"Wednesday\",\"Thursday\",\"Friday\",\"Saturday\",\"Sunday\",\"Monday\",\"Tuesday\",\"Wednesday\",\"Thursday\",\"Tuesday\",\"Wednesday\",\"Thursday\",\"Friday\",\"Tuesday\",\"Wednesday\",\"Thursday\",\"Friday\",\"Saturday\",\"Sunday\",\"Monday\",\"Tuesday\",\"Wednesday\",\"Thursday\",\"Friday\",\"Saturday\",\"Sunday\",\"Monday\",\"Tuesday\",\"Wednesday\",\"Thursday\",\"Friday\",\"Saturday\",\"Sunday\",\"Monday\",\"Tuesday\",\"Wednesday\",\"Thursday\",\"Friday\",\"Saturday\",\"Sunday\",\"Monday\",\"Tuesday\",\"Wednesday\",\"Thursday\",\"Tuesday\",\"Wednesday\",\"Thursday\",\"Friday\",\"Saturday\",\"Sunday\",\"Monday\",\"Tuesday\",\"Wednesday\",\"Thursday\",\"Friday\",\"Saturday\",\"Sunday\",\"Monday\",\"Tuesday\",\"Wednesday\",\"Thursday\",\"Friday\",\"Saturday\",\"Sunday\",\"Monday\",\"Tuesday\",\"Wednesday\",\"Thursday\",\"Friday\",\"Saturday\",\"Sunday\",\"Monday\",\"Tuesday\",\"Wednesday\",\"Thursday\",\"Tuesday\",\"Wednesday\",\"Thursday\",\"Friday\",\"Saturday\",\"Sunday\",\"Monday\",\"Tuesday\",\"Wednesday\",\"Thursday\",\"Friday\",\"Saturday\",\"Sunday\",\"Monday\",\"Tuesday\",\"Wednesday\",\"Thursday\",\"Friday\",\"Saturday\",\"Sunday\",\"Monday\",\"Tuesday\",\"Wednesday\",\"Thursday\",\"Friday\",\"Saturday\",\"Sunday\",\"Monday\",\"Tuesday\",\"Wednesday\",\"Thursday\",\"Tuesday\",\"Wednesday\",\"Thursday\",\"Friday\",\"Saturday\",\"Sunday\",\"Monday\",\"Tuesday\",\"Wednesday\",\"Thursday\",\"Friday\",\"Saturday\",\"Sunday\",\"Monday\",\"Tuesday\",\"Wednesday\",\"Thursday\",\"Friday\",\"Saturday\",\"Sunday\",\"Monday\",\"Tuesday\",\"Wednesday\",\"Thursday\",\"Friday\",\"Saturday\",\"Sunday\",\"Monday\",\"Tuesday\",\"Wednesday\",\"Thursday\",\"Tuesday\",\"Wednesday\",\"Thursday\",\"Friday\",\"Saturday\",\"Sunday\",\"Monday\",\"Tuesday\",\"Wednesday\",\"Thursday\",\"Friday\",\"Saturday\",\"Sunday\",\"Monday\",\"Tuesday\",\"Wednesday\",\"Thursday\",\"Friday\",\"Saturday\",\"Sunday\",\"Monday\",\"Tuesday\",\"Wednesday\",\"Thursday\",\"Friday\",\"Saturday\",\"Sunday\",\"Monday\",\"Tuesday\",\"Wednesday\",\"Thursday\",\"Tuesday\",\"Wednesday\",\"Thursday\",\"Friday\",\"Saturday\",\"Sunday\",\"Monday\",\"Tuesday\",\"Wednesday\",\"Thursday\",\"Friday\",\"Saturday\",\"Sunday\",\"Monday\",\"Tuesday\",\"Wednesday\",\"Thursday\",\"Friday\",\"Saturday\",\"Sunday\",\"Monday\",\"Tuesday\",\"Wednesday\",\"Thursday\",\"Friday\",\"Saturday\",\"Sunday\",\"Monday\",\"Tuesday\",\"Wednesday\",\"Thursday\",\"Tuesday\",\"Wednesday\",\"Thursday\",\"Friday\",\"Saturday\",\"Sunday\",\"Monday\",\"Tuesday\",\"Wednesday\",\"Thursday\",\"Friday\",\"Saturday\",\"Sunday\",\"Monday\",\"Tuesday\",\"Wednesday\",\"Thursday\",\"Friday\",\"Saturday\",\"Sunday\",\"Monday\",\"Tuesday\",\"Wednesday\",\"Thursday\",\"Friday\",\"Saturday\",\"Sunday\",\"Monday\",\"Tuesday\",\"Wednesday\",\"Tuesday\",\"Wednesday\",\"Thursday\",\"Friday\",\"Saturday\",\"Sunday\",\"Monday\",\"Tuesday\",\"Wednesday\",\"Thursday\",\"Friday\",\"Saturday\",\"Sunday\",\"Monday\",\"Tuesday\",\"Wednesday\",\"Thursday\",\"Friday\",\"Saturday\",\"Sunday\",\"Monday\",\"Tuesday\",\"Wednesday\",\"Thursday\",\"Friday\",\"Saturday\",\"Sunday\",\"Monday\",\"Tuesday\",\"Wednesday\",\"Thursday\",\"Friday\",\"Saturday\",\"Sunday\",\"Monday\",\"Tuesday\",\"Wednesday\",\"Thursday\",\"Friday\",\"Saturday\",\"Sunday\",\"Monday\",\"Tuesday\",\"Wednesday\",\"Thursday\",\"Friday\",\"Saturday\",\"Sunday\",\"Monday\",\"Tuesday\",\"Wednesday\",\"Thursday\",\"Friday\",\"Saturday\",\"Sunday\",\"Monday\",\"Tuesday\",\"Tuesday\",\"Wednesday\",\"Thursday\",\"Friday\",\"Saturday\",\"Sunday\",\"Monday\",\"Tuesday\",\"Wednesday\",\"Thursday\",\"Friday\",\"Saturday\",\"Sunday\",\"Monday\",\"Tuesday\",\"Wednesday\",\"Thursday\",\"Friday\",\"Saturday\",\"Sunday\",\"Monday\",\"Tuesday\",\"Wednesday\",\"Thursday\",\"Friday\",\"Saturday\",\"Tuesday\",\"Wednesday\",\"Thursday\",\"Friday\",\"Saturday\",\"Sunday\",\"Monday\",\"Tuesday\",\"Wednesday\",\"Thursday\",\"Friday\",\"Saturday\",\"Sunday\",\"Monday\",\"Tuesday\",\"Wednesday\",\"Thursday\",\"Friday\",\"Saturday\",\"Sunday\",\"Monday\",\"Tuesday\",\"Wednesday\",\"Thursday\",\"Friday\",\"Saturday\",\"Sunday\",\"Monday\",\"Tuesday\",\"Wednesday\",\"Thursday\",\"Tuesday\",\"Wednesday\",\"Thursday\",\"Friday\",\"Saturday\",\"Sunday\",\"Monday\",\"Tuesday\",\"Wednesday\",\"Thursday\",\"Friday\",\"Saturday\",\"Sunday\",\"Monday\",\"Tuesday\",\"Wednesday\",\"Thursday\",\"Friday\",\"Saturday\",\"Sunday\",\"Monday\",\"Tuesday\",\"Wednesday\",\"Thursday\",\"Friday\",\"Saturday\",\"Tuesday\",\"Wednesday\",\"Thursday\",\"Friday\",\"Saturday\",\"Sunday\",\"Monday\",\"Tuesday\",\"Wednesday\",\"Thursday\",\"Friday\",\"Saturday\",\"Sunday\",\"Monday\",\"Tuesday\",\"Wednesday\",\"Thursday\",\"Friday\",\"Saturday\",\"Sunday\",\"Monday\",\"Tuesday\",\"Wednesday\",\"Thursday\",\"Friday\",\"Saturday\",\"Sunday\",\"Monday\",\"Tuesday\",\"Wednesday\",\"Thursday\",\"Tuesday\",\"Wednesday\",\"Thursday\",\"Friday\",\"Saturday\",\"Sunday\",\"Monday\",\"Tuesday\",\"Wednesday\",\"Thursday\",\"Friday\",\"Saturday\",\"Sunday\",\"Monday\",\"Tuesday\",\"Wednesday\",\"Thursday\",\"Friday\",\"Saturday\",\"Sunday\",\"Monday\",\"Tuesday\",\"Wednesday\",\"Thursday\",\"Friday\",\"Saturday\",\"Sunday\",\"Monday\",\"Tuesday\",\"Wednesday\",\"Thursday\",\"Tuesday\",\"Wednesday\",\"Thursday\",\"Friday\",\"Saturday\",\"Sunday\",\"Monday\",\"Tuesday\",\"Wednesday\",\"Thursday\",\"Friday\",\"Saturday\",\"Sunday\",\"Monday\",\"Tuesday\",\"Wednesday\",\"Thursday\",\"Friday\",\"Saturday\",\"Tuesday\",\"Wednesday\",\"Thursday\",\"Friday\",\"Saturday\",\"Sunday\",\"Monday\",\"Tuesday\",\"Wednesday\",\"Thursday\",\"Friday\",\"Saturday\",\"Sunday\",\"Monday\",\"Tuesday\",\"Wednesday\",\"Thursday\",\"Friday\",\"Saturday\",\"Sunday\",\"Monday\",\"Tuesday\",\"Wednesday\",\"Thursday\",\"Friday\",\"Saturday\",\"Sunday\",\"Monday\",\"Tuesday\",\"Wednesday\",\"Thursday\",\"Tuesday\",\"Wednesday\",\"Thursday\",\"Friday\",\"Saturday\",\"Sunday\",\"Monday\",\"Tuesday\",\"Wednesday\",\"Thursday\",\"Friday\",\"Saturday\",\"Sunday\",\"Monday\",\"Tuesday\",\"Wednesday\",\"Thursday\",\"Friday\",\"Saturday\",\"Sunday\",\"Monday\",\"Tuesday\",\"Wednesday\",\"Thursday\",\"Friday\",\"Saturday\",\"Sunday\",\"Monday\",\"Tuesday\",\"Wednesday\",\"Thursday\",\"Tuesday\",\"Wednesday\",\"Thursday\",\"Friday\",\"Saturday\",\"Sunday\",\"Monday\",\"Tuesday\",\"Wednesday\",\"Thursday\",\"Friday\",\"Saturday\",\"Sunday\",\"Monday\",\"Tuesday\",\"Wednesday\",\"Thursday\",\"Friday\",\"Saturday\",\"Sunday\",\"Monday\",\"Tuesday\",\"Wednesday\",\"Thursday\",\"Friday\",\"Saturday\",\"Sunday\",\"Monday\",\"Tuesday\",\"Tuesday\",\"Wednesday\",\"Thursday\",\"Friday\",\"Saturday\",\"Sunday\",\"Monday\",\"Tuesday\",\"Wednesday\",\"Thursday\",\"Friday\",\"Saturday\",\"Sunday\",\"Monday\",\"Tuesday\",\"Wednesday\",\"Thursday\",\"Friday\",\"Saturday\",\"Sunday\",\"Monday\",\"Tuesday\",\"Wednesday\",\"Thursday\",\"Friday\",\"Saturday\",\"Sunday\",\"Monday\",\"Tuesday\",\"Wednesday\",\"Thursday\"],\"legendgroup\":\"\",\"marker\":{\"colors\":[\"#636efa\",\"#EF553B\",\"#00cc96\",\"#ab63fa\",\"#FFA15A\",\"#19d3f3\",\"#FF6692\",\"#636efa\",\"#EF553B\",\"#00cc96\",\"#ab63fa\",\"#FFA15A\",\"#19d3f3\",\"#FF6692\",\"#636efa\",\"#EF553B\",\"#00cc96\",\"#ab63fa\",\"#FFA15A\",\"#19d3f3\",\"#FF6692\",\"#636efa\",\"#EF553B\",\"#00cc96\",\"#ab63fa\",\"#FFA15A\",\"#19d3f3\",\"#FF6692\",\"#636efa\",\"#EF553B\",\"#00cc96\",\"#636efa\",\"#EF553B\",\"#00cc96\",\"#ab63fa\",\"#FFA15A\",\"#19d3f3\",\"#FF6692\",\"#636efa\",\"#EF553B\",\"#00cc96\",\"#ab63fa\",\"#FFA15A\",\"#19d3f3\",\"#FF6692\",\"#636efa\",\"#EF553B\",\"#00cc96\",\"#ab63fa\",\"#FFA15A\",\"#19d3f3\",\"#FF6692\",\"#636efa\",\"#EF553B\",\"#00cc96\",\"#ab63fa\",\"#FFA15A\",\"#19d3f3\",\"#FF6692\",\"#636efa\",\"#EF553B\",\"#00cc96\",\"#636efa\",\"#EF553B\",\"#00cc96\",\"#ab63fa\",\"#FFA15A\",\"#19d3f3\",\"#FF6692\",\"#636efa\",\"#EF553B\",\"#00cc96\",\"#ab63fa\",\"#FFA15A\",\"#19d3f3\",\"#FF6692\",\"#636efa\",\"#EF553B\",\"#00cc96\",\"#ab63fa\",\"#FFA15A\",\"#19d3f3\",\"#FF6692\",\"#636efa\",\"#EF553B\",\"#00cc96\",\"#ab63fa\",\"#FFA15A\",\"#19d3f3\",\"#FF6692\",\"#636efa\",\"#EF553B\",\"#636efa\",\"#EF553B\",\"#00cc96\",\"#ab63fa\",\"#FFA15A\",\"#19d3f3\",\"#FF6692\",\"#636efa\",\"#EF553B\",\"#00cc96\",\"#ab63fa\",\"#FFA15A\",\"#19d3f3\",\"#FF6692\",\"#636efa\",\"#EF553B\",\"#00cc96\",\"#ab63fa\",\"#FFA15A\",\"#19d3f3\",\"#FF6692\",\"#636efa\",\"#EF553B\",\"#00cc96\",\"#ab63fa\",\"#FFA15A\",\"#19d3f3\",\"#FF6692\",\"#636efa\",\"#EF553B\",\"#00cc96\",\"#636efa\",\"#EF553B\",\"#00cc96\",\"#ab63fa\",\"#FFA15A\",\"#19d3f3\",\"#FF6692\",\"#636efa\",\"#EF553B\",\"#00cc96\",\"#ab63fa\",\"#FFA15A\",\"#19d3f3\",\"#FF6692\",\"#636efa\",\"#EF553B\",\"#00cc96\",\"#ab63fa\",\"#FFA15A\",\"#19d3f3\",\"#FF6692\",\"#636efa\",\"#EF553B\",\"#00cc96\",\"#ab63fa\",\"#FFA15A\",\"#19d3f3\",\"#FF6692\",\"#636efa\",\"#EF553B\",\"#00cc96\",\"#636efa\",\"#EF553B\",\"#00cc96\",\"#ab63fa\",\"#FFA15A\",\"#19d3f3\",\"#FF6692\",\"#636efa\",\"#EF553B\",\"#00cc96\",\"#ab63fa\",\"#FFA15A\",\"#19d3f3\",\"#FF6692\",\"#636efa\",\"#EF553B\",\"#00cc96\",\"#ab63fa\",\"#FFA15A\",\"#19d3f3\",\"#FF6692\",\"#636efa\",\"#EF553B\",\"#00cc96\",\"#ab63fa\",\"#FFA15A\",\"#19d3f3\",\"#FF6692\",\"#636efa\",\"#EF553B\",\"#00cc96\",\"#636efa\",\"#EF553B\",\"#00cc96\",\"#ab63fa\",\"#FFA15A\",\"#19d3f3\",\"#FF6692\",\"#636efa\",\"#EF553B\",\"#00cc96\",\"#ab63fa\",\"#FFA15A\",\"#19d3f3\",\"#FF6692\",\"#636efa\",\"#EF553B\",\"#00cc96\",\"#ab63fa\",\"#FFA15A\",\"#19d3f3\",\"#FF6692\",\"#636efa\",\"#EF553B\",\"#00cc96\",\"#ab63fa\",\"#FFA15A\",\"#19d3f3\",\"#FF6692\",\"#636efa\",\"#EF553B\",\"#00cc96\",\"#636efa\",\"#EF553B\",\"#00cc96\",\"#ab63fa\",\"#FFA15A\",\"#19d3f3\",\"#FF6692\",\"#636efa\",\"#EF553B\",\"#00cc96\",\"#ab63fa\",\"#FFA15A\",\"#19d3f3\",\"#FF6692\",\"#636efa\",\"#EF553B\",\"#00cc96\",\"#ab63fa\",\"#FFA15A\",\"#19d3f3\",\"#FF6692\",\"#636efa\",\"#EF553B\",\"#00cc96\",\"#ab63fa\",\"#FFA15A\",\"#19d3f3\",\"#FF6692\",\"#636efa\",\"#EF553B\",\"#00cc96\",\"#636efa\",\"#EF553B\",\"#00cc96\",\"#ab63fa\",\"#FFA15A\",\"#19d3f3\",\"#FF6692\",\"#636efa\",\"#EF553B\",\"#00cc96\",\"#ab63fa\",\"#FFA15A\",\"#19d3f3\",\"#FF6692\",\"#636efa\",\"#EF553B\",\"#00cc96\",\"#ab63fa\",\"#636efa\",\"#EF553B\",\"#00cc96\",\"#ab63fa\",\"#FFA15A\",\"#19d3f3\",\"#FF6692\",\"#636efa\",\"#EF553B\",\"#00cc96\",\"#ab63fa\",\"#FFA15A\",\"#19d3f3\",\"#FF6692\",\"#636efa\",\"#EF553B\",\"#00cc96\",\"#ab63fa\",\"#FFA15A\",\"#19d3f3\",\"#FF6692\",\"#636efa\",\"#EF553B\",\"#00cc96\",\"#ab63fa\",\"#FFA15A\",\"#19d3f3\",\"#FF6692\",\"#636efa\",\"#EF553B\",\"#00cc96\",\"#636efa\",\"#EF553B\",\"#00cc96\",\"#ab63fa\",\"#FFA15A\",\"#19d3f3\",\"#FF6692\",\"#636efa\",\"#EF553B\",\"#00cc96\",\"#ab63fa\",\"#FFA15A\",\"#19d3f3\",\"#FF6692\",\"#636efa\",\"#EF553B\",\"#00cc96\",\"#ab63fa\",\"#FFA15A\",\"#19d3f3\",\"#636efa\",\"#EF553B\",\"#00cc96\",\"#ab63fa\",\"#FFA15A\",\"#19d3f3\",\"#FF6692\",\"#636efa\",\"#EF553B\",\"#00cc96\",\"#ab63fa\",\"#FFA15A\",\"#19d3f3\",\"#FF6692\",\"#636efa\",\"#EF553B\",\"#00cc96\",\"#ab63fa\",\"#FFA15A\",\"#19d3f3\",\"#FF6692\",\"#636efa\",\"#EF553B\",\"#00cc96\",\"#ab63fa\",\"#FFA15A\",\"#19d3f3\",\"#FF6692\",\"#636efa\",\"#EF553B\",\"#636efa\",\"#EF553B\",\"#00cc96\",\"#ab63fa\",\"#FFA15A\",\"#19d3f3\",\"#FF6692\",\"#636efa\",\"#EF553B\",\"#00cc96\",\"#ab63fa\",\"#FFA15A\",\"#19d3f3\",\"#FF6692\",\"#636efa\",\"#EF553B\",\"#00cc96\",\"#ab63fa\",\"#FFA15A\",\"#19d3f3\",\"#FF6692\",\"#636efa\",\"#EF553B\",\"#00cc96\",\"#ab63fa\",\"#FFA15A\",\"#19d3f3\",\"#FF6692\",\"#636efa\",\"#EF553B\",\"#00cc96\",\"#636efa\",\"#EF553B\",\"#00cc96\",\"#ab63fa\",\"#636efa\",\"#EF553B\",\"#00cc96\",\"#ab63fa\",\"#FFA15A\",\"#19d3f3\",\"#FF6692\",\"#636efa\",\"#EF553B\",\"#00cc96\",\"#ab63fa\",\"#FFA15A\",\"#19d3f3\",\"#FF6692\",\"#636efa\",\"#EF553B\",\"#00cc96\",\"#ab63fa\",\"#FFA15A\",\"#19d3f3\",\"#FF6692\",\"#636efa\",\"#EF553B\",\"#00cc96\",\"#ab63fa\",\"#FFA15A\",\"#19d3f3\",\"#FF6692\",\"#636efa\",\"#EF553B\",\"#00cc96\",\"#636efa\",\"#EF553B\",\"#00cc96\",\"#ab63fa\",\"#FFA15A\",\"#19d3f3\",\"#FF6692\",\"#636efa\",\"#EF553B\",\"#00cc96\",\"#ab63fa\",\"#FFA15A\",\"#19d3f3\",\"#FF6692\",\"#636efa\",\"#EF553B\",\"#00cc96\",\"#ab63fa\",\"#FFA15A\",\"#19d3f3\",\"#FF6692\",\"#636efa\",\"#EF553B\",\"#00cc96\",\"#ab63fa\",\"#FFA15A\",\"#19d3f3\",\"#FF6692\",\"#636efa\",\"#EF553B\",\"#00cc96\",\"#636efa\",\"#EF553B\",\"#00cc96\",\"#ab63fa\",\"#FFA15A\",\"#19d3f3\",\"#FF6692\",\"#636efa\",\"#EF553B\",\"#00cc96\",\"#ab63fa\",\"#FFA15A\",\"#19d3f3\",\"#FF6692\",\"#636efa\",\"#EF553B\",\"#00cc96\",\"#ab63fa\",\"#FFA15A\",\"#19d3f3\",\"#FF6692\",\"#636efa\",\"#EF553B\",\"#00cc96\",\"#ab63fa\",\"#FFA15A\",\"#19d3f3\",\"#FF6692\",\"#636efa\",\"#EF553B\",\"#00cc96\",\"#636efa\",\"#EF553B\",\"#00cc96\",\"#ab63fa\",\"#FFA15A\",\"#19d3f3\",\"#FF6692\",\"#636efa\",\"#EF553B\",\"#00cc96\",\"#ab63fa\",\"#FFA15A\",\"#19d3f3\",\"#FF6692\",\"#636efa\",\"#EF553B\",\"#00cc96\",\"#ab63fa\",\"#FFA15A\",\"#19d3f3\",\"#FF6692\",\"#636efa\",\"#EF553B\",\"#00cc96\",\"#ab63fa\",\"#FFA15A\",\"#19d3f3\",\"#FF6692\",\"#636efa\",\"#EF553B\",\"#00cc96\",\"#636efa\",\"#EF553B\",\"#00cc96\",\"#ab63fa\",\"#FFA15A\",\"#19d3f3\",\"#FF6692\",\"#636efa\",\"#EF553B\",\"#00cc96\",\"#ab63fa\",\"#FFA15A\",\"#19d3f3\",\"#FF6692\",\"#636efa\",\"#EF553B\",\"#00cc96\",\"#ab63fa\",\"#FFA15A\",\"#19d3f3\",\"#FF6692\",\"#636efa\",\"#EF553B\",\"#00cc96\",\"#ab63fa\",\"#FFA15A\",\"#19d3f3\",\"#FF6692\",\"#636efa\",\"#EF553B\",\"#00cc96\",\"#636efa\",\"#EF553B\",\"#00cc96\",\"#ab63fa\",\"#FFA15A\",\"#19d3f3\",\"#FF6692\",\"#636efa\",\"#EF553B\",\"#00cc96\",\"#ab63fa\",\"#FFA15A\",\"#19d3f3\",\"#FF6692\",\"#636efa\",\"#EF553B\",\"#00cc96\",\"#ab63fa\",\"#FFA15A\",\"#19d3f3\",\"#FF6692\",\"#636efa\",\"#EF553B\",\"#00cc96\",\"#ab63fa\",\"#FFA15A\",\"#19d3f3\",\"#FF6692\",\"#636efa\",\"#EF553B\",\"#00cc96\",\"#636efa\",\"#EF553B\",\"#00cc96\",\"#ab63fa\",\"#FFA15A\",\"#19d3f3\",\"#FF6692\",\"#636efa\",\"#EF553B\",\"#00cc96\",\"#ab63fa\",\"#FFA15A\",\"#19d3f3\",\"#FF6692\",\"#636efa\",\"#EF553B\",\"#00cc96\",\"#ab63fa\",\"#FFA15A\",\"#19d3f3\",\"#FF6692\",\"#636efa\",\"#EF553B\",\"#00cc96\",\"#ab63fa\",\"#FFA15A\",\"#19d3f3\",\"#FF6692\",\"#636efa\",\"#EF553B\",\"#636efa\",\"#EF553B\",\"#00cc96\",\"#ab63fa\",\"#FFA15A\",\"#19d3f3\",\"#FF6692\",\"#636efa\",\"#EF553B\",\"#00cc96\",\"#ab63fa\",\"#FFA15A\",\"#19d3f3\",\"#FF6692\",\"#636efa\",\"#EF553B\",\"#00cc96\",\"#ab63fa\",\"#FFA15A\",\"#19d3f3\",\"#FF6692\",\"#636efa\",\"#EF553B\",\"#00cc96\",\"#ab63fa\",\"#FFA15A\",\"#19d3f3\",\"#FF6692\",\"#636efa\",\"#EF553B\",\"#00cc96\",\"#ab63fa\",\"#FFA15A\",\"#19d3f3\",\"#FF6692\",\"#636efa\",\"#EF553B\",\"#00cc96\",\"#ab63fa\",\"#FFA15A\",\"#19d3f3\",\"#FF6692\",\"#636efa\",\"#EF553B\",\"#00cc96\",\"#ab63fa\",\"#FFA15A\",\"#19d3f3\",\"#FF6692\",\"#636efa\",\"#EF553B\",\"#00cc96\",\"#ab63fa\",\"#FFA15A\",\"#19d3f3\",\"#FF6692\",\"#636efa\",\"#636efa\",\"#EF553B\",\"#00cc96\",\"#ab63fa\",\"#FFA15A\",\"#19d3f3\",\"#FF6692\",\"#636efa\",\"#EF553B\",\"#00cc96\",\"#ab63fa\",\"#FFA15A\",\"#19d3f3\",\"#FF6692\",\"#636efa\",\"#EF553B\",\"#00cc96\",\"#ab63fa\",\"#FFA15A\",\"#19d3f3\",\"#FF6692\",\"#636efa\",\"#EF553B\",\"#00cc96\",\"#ab63fa\",\"#FFA15A\",\"#636efa\",\"#EF553B\",\"#00cc96\",\"#ab63fa\",\"#FFA15A\",\"#19d3f3\",\"#FF6692\",\"#636efa\",\"#EF553B\",\"#00cc96\",\"#ab63fa\",\"#FFA15A\",\"#19d3f3\",\"#FF6692\",\"#636efa\",\"#EF553B\",\"#00cc96\",\"#ab63fa\",\"#FFA15A\",\"#19d3f3\",\"#FF6692\",\"#636efa\",\"#EF553B\",\"#00cc96\",\"#ab63fa\",\"#FFA15A\",\"#19d3f3\",\"#FF6692\",\"#636efa\",\"#EF553B\",\"#00cc96\",\"#636efa\",\"#EF553B\",\"#00cc96\",\"#ab63fa\",\"#FFA15A\",\"#19d3f3\",\"#FF6692\",\"#636efa\",\"#EF553B\",\"#00cc96\",\"#ab63fa\",\"#FFA15A\",\"#19d3f3\",\"#FF6692\",\"#636efa\",\"#EF553B\",\"#00cc96\",\"#ab63fa\",\"#FFA15A\",\"#19d3f3\",\"#FF6692\",\"#636efa\",\"#EF553B\",\"#00cc96\",\"#ab63fa\",\"#FFA15A\",\"#636efa\",\"#EF553B\",\"#00cc96\",\"#ab63fa\",\"#FFA15A\",\"#19d3f3\",\"#FF6692\",\"#636efa\",\"#EF553B\",\"#00cc96\",\"#ab63fa\",\"#FFA15A\",\"#19d3f3\",\"#FF6692\",\"#636efa\",\"#EF553B\",\"#00cc96\",\"#ab63fa\",\"#FFA15A\",\"#19d3f3\",\"#FF6692\",\"#636efa\",\"#EF553B\",\"#00cc96\",\"#ab63fa\",\"#FFA15A\",\"#19d3f3\",\"#FF6692\",\"#636efa\",\"#EF553B\",\"#00cc96\",\"#636efa\",\"#EF553B\",\"#00cc96\",\"#ab63fa\",\"#FFA15A\",\"#19d3f3\",\"#FF6692\",\"#636efa\",\"#EF553B\",\"#00cc96\",\"#ab63fa\",\"#FFA15A\",\"#19d3f3\",\"#FF6692\",\"#636efa\",\"#EF553B\",\"#00cc96\",\"#ab63fa\",\"#FFA15A\",\"#19d3f3\",\"#FF6692\",\"#636efa\",\"#EF553B\",\"#00cc96\",\"#ab63fa\",\"#FFA15A\",\"#19d3f3\",\"#FF6692\",\"#636efa\",\"#EF553B\",\"#00cc96\",\"#636efa\",\"#EF553B\",\"#00cc96\",\"#ab63fa\",\"#FFA15A\",\"#19d3f3\",\"#FF6692\",\"#636efa\",\"#EF553B\",\"#00cc96\",\"#ab63fa\",\"#FFA15A\",\"#19d3f3\",\"#FF6692\",\"#636efa\",\"#EF553B\",\"#00cc96\",\"#ab63fa\",\"#FFA15A\",\"#636efa\",\"#EF553B\",\"#00cc96\",\"#ab63fa\",\"#FFA15A\",\"#19d3f3\",\"#FF6692\",\"#636efa\",\"#EF553B\",\"#00cc96\",\"#ab63fa\",\"#FFA15A\",\"#19d3f3\",\"#FF6692\",\"#636efa\",\"#EF553B\",\"#00cc96\",\"#ab63fa\",\"#FFA15A\",\"#19d3f3\",\"#FF6692\",\"#636efa\",\"#EF553B\",\"#00cc96\",\"#ab63fa\",\"#FFA15A\",\"#19d3f3\",\"#FF6692\",\"#636efa\",\"#EF553B\",\"#00cc96\",\"#636efa\",\"#EF553B\",\"#00cc96\",\"#ab63fa\",\"#FFA15A\",\"#19d3f3\",\"#FF6692\",\"#636efa\",\"#EF553B\",\"#00cc96\",\"#ab63fa\",\"#FFA15A\",\"#19d3f3\",\"#FF6692\",\"#636efa\",\"#EF553B\",\"#00cc96\",\"#ab63fa\",\"#FFA15A\",\"#19d3f3\",\"#FF6692\",\"#636efa\",\"#EF553B\",\"#00cc96\",\"#ab63fa\",\"#FFA15A\",\"#19d3f3\",\"#FF6692\",\"#636efa\",\"#EF553B\",\"#00cc96\",\"#636efa\",\"#EF553B\",\"#00cc96\",\"#ab63fa\",\"#FFA15A\",\"#19d3f3\",\"#FF6692\",\"#636efa\",\"#EF553B\",\"#00cc96\",\"#ab63fa\",\"#FFA15A\",\"#19d3f3\",\"#FF6692\",\"#636efa\",\"#EF553B\",\"#00cc96\",\"#ab63fa\",\"#FFA15A\",\"#19d3f3\",\"#FF6692\",\"#636efa\",\"#EF553B\",\"#00cc96\",\"#ab63fa\",\"#FFA15A\",\"#19d3f3\",\"#FF6692\",\"#636efa\",\"#636efa\",\"#EF553B\",\"#00cc96\",\"#ab63fa\",\"#FFA15A\",\"#19d3f3\",\"#FF6692\",\"#636efa\",\"#EF553B\",\"#00cc96\",\"#ab63fa\",\"#FFA15A\",\"#19d3f3\",\"#FF6692\",\"#636efa\",\"#EF553B\",\"#00cc96\",\"#ab63fa\",\"#FFA15A\",\"#19d3f3\",\"#FF6692\",\"#636efa\",\"#EF553B\",\"#00cc96\",\"#ab63fa\",\"#FFA15A\",\"#19d3f3\",\"#FF6692\",\"#636efa\",\"#EF553B\",\"#00cc96\"]},\"name\":\"\",\"showlegend\":true,\"values\":[728,776,1218,726,773,539,1149,775,818,838,1217,732,709,814,833,1108,782,815,712,730,798,816,1179,857,754,833,574,835,746,669,1440,1294,1292,1204,1344,1264,1276,1214,1299,1289,1254,1241,1213,1221,1238,1300,1233,1320,1290,1182,1020,1261,1344,1322,1323,1338,1258,1288,1349,1301,1328,890,1131,1259,1125,1263,1135,1212,1271,1099,1315,1402,1354,1265,1351,1337,1165,1322,1157,1193,816,908,682,1115,1388,1341,1054,1139,991,1099,1254,713,1101,1192,843,527,1293,1231,1211,1430,1439,1117,1220,1301,1440,1440,1440,1439,1138,1082,218,585,1440,1256,1353,1320,1438,1440,1440,1440,1440,1440,711,734,986,1292,941,1440,1440,1423,1440,1440,1440,1430,1295,1358,1303,1058,1440,1167,1440,1440,1355,1322,1413,1353,1440,1332,1392,1440,1440,1440,1440,966,1157,1100,1148,1122,1237,1052,1078,1152,1053,1028,1105,1191,1161,1171,1086,1119,1123,1098,1043,1142,1119,1104,1105,1112,1104,1269,1305,1061,1084,1133,728,706,663,653,687,728,1053,1062,785,623,749,712,458,704,821,1018,586,626,492,594,716,716,981,530,479,511,665,610,543,1002,569,330,1112,1105,1249,1195,1245,1191,1173,1201,1146,1302,1174,1129,1236,1280,1293,1358,1364,1395,1206,1400,1306,1204,1388,1206,1236,1121,1193,1295,1150,1140,830,964,676,705,720,968,508,678,648,1011,761,781,591,584,653,732,623,764,2,1061,1028,1109,992,1087,1272,1122,1051,1035,1057,1028,1077,1203,1081,1124,1197,1192,1191,1167,1219,1099,1070,1020,1093,1065,1302,1068,1095,1067,1121,720,1160,1045,1039,1105,1084,1105,1070,1064,1148,1037,1234,1115,1127,1024,1083,1057,1055,1038,1119,842,777,754,801,644,663,600,605,738,845,712,731,724,660,781,797,714,804,744,687,691,713,594,852,680,676,703,688,1159,676,13,712,1440,1437,1299,1222,1438,1438,1440,1440,1440,1440,1440,1440,1440,1440,1440,1440,1440,1440,1440,1350,950,531,916,855,1256,775,1225,774,1296,721,1276,1280,1440,873,1440,1234,589,752,724,1363,824,604,671,1265,709,546,692,544,649,680,552,624,695,836,585,669,1106,957,692,586,603,490,555,574,0,1440,1275,945,837,609,721,1017,704,696,853,945,749,584,1054,673,684,878,1175,537,579,935,984,632,896,1100,508,576,1020,648,858,825,787,840,717,711,716,1219,1247,895,841,756,706,1239,1196,916,839,839,762,1106,797,741,667,725,897,734,809,866,733,641,783,622,380,1122,1287,1161,1131,1112,1110,1080,1182,1218,844,1122,1122,1045,993,1062,1087,985,1096,1111,1121,1057,1172,1188,1048,1238,1116,1019,1065,1191,1081,736,718,777,772,944,556,437,890,757,717,901,1341,469,542,730,765,733,738,692,728,1440,1131,729,757,745,682,577,1019,746,701,784,241,767,647,693,689,521,943,622,756,598,801,781,443,582,732,750,745,727,709,506,436,724,812,651,692,761,902,505,667,707,628,222,728,776,662,695,472,525,623,733,773,670,823,627,425,743,759,773,692,739,621,499,732,580,631,1153,1304,1440,1440,1099,639,257,1440,1440,1440,921,502,702,759,425,587,579,413,468,711,1440,1077,417,758,479,1040,525,1204,1440,1279,479,673,456,517,125,1241,1090,1077,1112,1182,1172,1169,1119,1182,1440,1138,1407,1182,1180,1440,1153,1185,1440,1116,1055,1172,1200,1168,1201,1135,1213,1189,800,1440,1440,1053,863,976,1377,1392,1233,1440,1079,1440,1420,1440,1400,1302,1321,1440,1410,1440,1344,1347,1440,1439,1440,1440,1318,551,796,548,862,837,741,634,689,659,639,708,659,484,720,637,680,697,621,645,731,722,655,654,683,591,717,745,709,607,626,709,127,1024,1101,1096,1238,1155,1135,1077,1066,1000,1049,1065,1190,1021,986,978,1041,1007,961,1240,1142,1112,1021,1440,1047,1136,111,745,744,787,864,1437,1440,1136,671,797,758,762,1350,566,706,726,829,810,1198,584,685,737,761,843,1253,834,621,695,743,1182,757,343,1193,1177,1123,1142,1255,1113,1137,1152,695,1164,1260,741,1096,1104,1182,1187,1188,1215,1281,1389,1345,1166,1220,1208,1245,1076,1073,1214,1219,1189,839,1244,1298,1362,1335,1268,1237,1278,1276,1201,1199,1320,1193,1313,1261,1299,1286,1393,1257,1440,723,680,699,729,563,599,720,737,763,677,769,740,734,692,593,676,711,767,780,669,802,822,680,764,831,851,621,772,840,763,433,1237,1252,1306,1375,1440,1440,1309,1257,1246,1229,1170,1151,1188,1294,1134,1229,1209,1069,1093,1311,1440,1440,1440,1370,1250,1190,1183,1260,1226,1106,1440,831,806,853,937,1428,1440,1440,1440,744,1431,817,795,1410,1440,1360,900,714,634,749,834,916,739,848,1440,1440,1440,1440,1440,48,1036,1098,1061,1052,888,1060,1215,1131,1123,1119,1141,1032,1148,1101,1157,1104,1143,1207,1089,1226,1335,1189,1154,1170,1095,1036,1174,1131,1187,1127,770],\"type\":\"pie\"}],                        {\"template\":{\"data\":{\"histogram2dcontour\":[{\"type\":\"histogram2dcontour\",\"colorbar\":{\"outlinewidth\":0,\"ticks\":\"\"},\"colorscale\":[[0.0,\"#0d0887\"],[0.1111111111111111,\"#46039f\"],[0.2222222222222222,\"#7201a8\"],[0.3333333333333333,\"#9c179e\"],[0.4444444444444444,\"#bd3786\"],[0.5555555555555556,\"#d8576b\"],[0.6666666666666666,\"#ed7953\"],[0.7777777777777778,\"#fb9f3a\"],[0.8888888888888888,\"#fdca26\"],[1.0,\"#f0f921\"]]}],\"choropleth\":[{\"type\":\"choropleth\",\"colorbar\":{\"outlinewidth\":0,\"ticks\":\"\"}}],\"histogram2d\":[{\"type\":\"histogram2d\",\"colorbar\":{\"outlinewidth\":0,\"ticks\":\"\"},\"colorscale\":[[0.0,\"#0d0887\"],[0.1111111111111111,\"#46039f\"],[0.2222222222222222,\"#7201a8\"],[0.3333333333333333,\"#9c179e\"],[0.4444444444444444,\"#bd3786\"],[0.5555555555555556,\"#d8576b\"],[0.6666666666666666,\"#ed7953\"],[0.7777777777777778,\"#fb9f3a\"],[0.8888888888888888,\"#fdca26\"],[1.0,\"#f0f921\"]]}],\"heatmap\":[{\"type\":\"heatmap\",\"colorbar\":{\"outlinewidth\":0,\"ticks\":\"\"},\"colorscale\":[[0.0,\"#0d0887\"],[0.1111111111111111,\"#46039f\"],[0.2222222222222222,\"#7201a8\"],[0.3333333333333333,\"#9c179e\"],[0.4444444444444444,\"#bd3786\"],[0.5555555555555556,\"#d8576b\"],[0.6666666666666666,\"#ed7953\"],[0.7777777777777778,\"#fb9f3a\"],[0.8888888888888888,\"#fdca26\"],[1.0,\"#f0f921\"]]}],\"heatmapgl\":[{\"type\":\"heatmapgl\",\"colorbar\":{\"outlinewidth\":0,\"ticks\":\"\"},\"colorscale\":[[0.0,\"#0d0887\"],[0.1111111111111111,\"#46039f\"],[0.2222222222222222,\"#7201a8\"],[0.3333333333333333,\"#9c179e\"],[0.4444444444444444,\"#bd3786\"],[0.5555555555555556,\"#d8576b\"],[0.6666666666666666,\"#ed7953\"],[0.7777777777777778,\"#fb9f3a\"],[0.8888888888888888,\"#fdca26\"],[1.0,\"#f0f921\"]]}],\"contourcarpet\":[{\"type\":\"contourcarpet\",\"colorbar\":{\"outlinewidth\":0,\"ticks\":\"\"}}],\"contour\":[{\"type\":\"contour\",\"colorbar\":{\"outlinewidth\":0,\"ticks\":\"\"},\"colorscale\":[[0.0,\"#0d0887\"],[0.1111111111111111,\"#46039f\"],[0.2222222222222222,\"#7201a8\"],[0.3333333333333333,\"#9c179e\"],[0.4444444444444444,\"#bd3786\"],[0.5555555555555556,\"#d8576b\"],[0.6666666666666666,\"#ed7953\"],[0.7777777777777778,\"#fb9f3a\"],[0.8888888888888888,\"#fdca26\"],[1.0,\"#f0f921\"]]}],\"surface\":[{\"type\":\"surface\",\"colorbar\":{\"outlinewidth\":0,\"ticks\":\"\"},\"colorscale\":[[0.0,\"#0d0887\"],[0.1111111111111111,\"#46039f\"],[0.2222222222222222,\"#7201a8\"],[0.3333333333333333,\"#9c179e\"],[0.4444444444444444,\"#bd3786\"],[0.5555555555555556,\"#d8576b\"],[0.6666666666666666,\"#ed7953\"],[0.7777777777777778,\"#fb9f3a\"],[0.8888888888888888,\"#fdca26\"],[1.0,\"#f0f921\"]]}],\"mesh3d\":[{\"type\":\"mesh3d\",\"colorbar\":{\"outlinewidth\":0,\"ticks\":\"\"}}],\"scatter\":[{\"fillpattern\":{\"fillmode\":\"overlay\",\"size\":10,\"solidity\":0.2},\"type\":\"scatter\"}],\"parcoords\":[{\"type\":\"parcoords\",\"line\":{\"colorbar\":{\"outlinewidth\":0,\"ticks\":\"\"}}}],\"scatterpolargl\":[{\"type\":\"scatterpolargl\",\"marker\":{\"colorbar\":{\"outlinewidth\":0,\"ticks\":\"\"}}}],\"bar\":[{\"error_x\":{\"color\":\"#2a3f5f\"},\"error_y\":{\"color\":\"#2a3f5f\"},\"marker\":{\"line\":{\"color\":\"#E5ECF6\",\"width\":0.5},\"pattern\":{\"fillmode\":\"overlay\",\"size\":10,\"solidity\":0.2}},\"type\":\"bar\"}],\"scattergeo\":[{\"type\":\"scattergeo\",\"marker\":{\"colorbar\":{\"outlinewidth\":0,\"ticks\":\"\"}}}],\"scatterpolar\":[{\"type\":\"scatterpolar\",\"marker\":{\"colorbar\":{\"outlinewidth\":0,\"ticks\":\"\"}}}],\"histogram\":[{\"marker\":{\"pattern\":{\"fillmode\":\"overlay\",\"size\":10,\"solidity\":0.2}},\"type\":\"histogram\"}],\"scattergl\":[{\"type\":\"scattergl\",\"marker\":{\"colorbar\":{\"outlinewidth\":0,\"ticks\":\"\"}}}],\"scatter3d\":[{\"type\":\"scatter3d\",\"line\":{\"colorbar\":{\"outlinewidth\":0,\"ticks\":\"\"}},\"marker\":{\"colorbar\":{\"outlinewidth\":0,\"ticks\":\"\"}}}],\"scattermapbox\":[{\"type\":\"scattermapbox\",\"marker\":{\"colorbar\":{\"outlinewidth\":0,\"ticks\":\"\"}}}],\"scatterternary\":[{\"type\":\"scatterternary\",\"marker\":{\"colorbar\":{\"outlinewidth\":0,\"ticks\":\"\"}}}],\"scattercarpet\":[{\"type\":\"scattercarpet\",\"marker\":{\"colorbar\":{\"outlinewidth\":0,\"ticks\":\"\"}}}],\"carpet\":[{\"aaxis\":{\"endlinecolor\":\"#2a3f5f\",\"gridcolor\":\"white\",\"linecolor\":\"white\",\"minorgridcolor\":\"white\",\"startlinecolor\":\"#2a3f5f\"},\"baxis\":{\"endlinecolor\":\"#2a3f5f\",\"gridcolor\":\"white\",\"linecolor\":\"white\",\"minorgridcolor\":\"white\",\"startlinecolor\":\"#2a3f5f\"},\"type\":\"carpet\"}],\"table\":[{\"cells\":{\"fill\":{\"color\":\"#EBF0F8\"},\"line\":{\"color\":\"white\"}},\"header\":{\"fill\":{\"color\":\"#C8D4E3\"},\"line\":{\"color\":\"white\"}},\"type\":\"table\"}],\"barpolar\":[{\"marker\":{\"line\":{\"color\":\"#E5ECF6\",\"width\":0.5},\"pattern\":{\"fillmode\":\"overlay\",\"size\":10,\"solidity\":0.2}},\"type\":\"barpolar\"}],\"pie\":[{\"automargin\":true,\"type\":\"pie\"}]},\"layout\":{\"autotypenumbers\":\"strict\",\"colorway\":[\"#636efa\",\"#EF553B\",\"#00cc96\",\"#ab63fa\",\"#FFA15A\",\"#19d3f3\",\"#FF6692\",\"#B6E880\",\"#FF97FF\",\"#FECB52\"],\"font\":{\"color\":\"#2a3f5f\"},\"hovermode\":\"closest\",\"hoverlabel\":{\"align\":\"left\"},\"paper_bgcolor\":\"white\",\"plot_bgcolor\":\"#E5ECF6\",\"polar\":{\"bgcolor\":\"#E5ECF6\",\"angularaxis\":{\"gridcolor\":\"white\",\"linecolor\":\"white\",\"ticks\":\"\"},\"radialaxis\":{\"gridcolor\":\"white\",\"linecolor\":\"white\",\"ticks\":\"\"}},\"ternary\":{\"bgcolor\":\"#E5ECF6\",\"aaxis\":{\"gridcolor\":\"white\",\"linecolor\":\"white\",\"ticks\":\"\"},\"baxis\":{\"gridcolor\":\"white\",\"linecolor\":\"white\",\"ticks\":\"\"},\"caxis\":{\"gridcolor\":\"white\",\"linecolor\":\"white\",\"ticks\":\"\"}},\"coloraxis\":{\"colorbar\":{\"outlinewidth\":0,\"ticks\":\"\"}},\"colorscale\":{\"sequential\":[[0.0,\"#0d0887\"],[0.1111111111111111,\"#46039f\"],[0.2222222222222222,\"#7201a8\"],[0.3333333333333333,\"#9c179e\"],[0.4444444444444444,\"#bd3786\"],[0.5555555555555556,\"#d8576b\"],[0.6666666666666666,\"#ed7953\"],[0.7777777777777778,\"#fb9f3a\"],[0.8888888888888888,\"#fdca26\"],[1.0,\"#f0f921\"]],\"sequentialminus\":[[0.0,\"#0d0887\"],[0.1111111111111111,\"#46039f\"],[0.2222222222222222,\"#7201a8\"],[0.3333333333333333,\"#9c179e\"],[0.4444444444444444,\"#bd3786\"],[0.5555555555555556,\"#d8576b\"],[0.6666666666666666,\"#ed7953\"],[0.7777777777777778,\"#fb9f3a\"],[0.8888888888888888,\"#fdca26\"],[1.0,\"#f0f921\"]],\"diverging\":[[0,\"#8e0152\"],[0.1,\"#c51b7d\"],[0.2,\"#de77ae\"],[0.3,\"#f1b6da\"],[0.4,\"#fde0ef\"],[0.5,\"#f7f7f7\"],[0.6,\"#e6f5d0\"],[0.7,\"#b8e186\"],[0.8,\"#7fbc41\"],[0.9,\"#4d9221\"],[1,\"#276419\"]]},\"xaxis\":{\"gridcolor\":\"white\",\"linecolor\":\"white\",\"ticks\":\"\",\"title\":{\"standoff\":15},\"zerolinecolor\":\"white\",\"automargin\":true,\"zerolinewidth\":2},\"yaxis\":{\"gridcolor\":\"white\",\"linecolor\":\"white\",\"ticks\":\"\",\"title\":{\"standoff\":15},\"zerolinecolor\":\"white\",\"automargin\":true,\"zerolinewidth\":2},\"scene\":{\"xaxis\":{\"backgroundcolor\":\"#E5ECF6\",\"gridcolor\":\"white\",\"linecolor\":\"white\",\"showbackground\":true,\"ticks\":\"\",\"zerolinecolor\":\"white\",\"gridwidth\":2},\"yaxis\":{\"backgroundcolor\":\"#E5ECF6\",\"gridcolor\":\"white\",\"linecolor\":\"white\",\"showbackground\":true,\"ticks\":\"\",\"zerolinecolor\":\"white\",\"gridwidth\":2},\"zaxis\":{\"backgroundcolor\":\"#E5ECF6\",\"gridcolor\":\"white\",\"linecolor\":\"white\",\"showbackground\":true,\"ticks\":\"\",\"zerolinecolor\":\"white\",\"gridwidth\":2}},\"shapedefaults\":{\"line\":{\"color\":\"#2a3f5f\"}},\"annotationdefaults\":{\"arrowcolor\":\"#2a3f5f\",\"arrowhead\":0,\"arrowwidth\":1},\"geo\":{\"bgcolor\":\"white\",\"landcolor\":\"#E5ECF6\",\"subunitcolor\":\"white\",\"showland\":true,\"showlakes\":true,\"lakecolor\":\"white\"},\"title\":{\"x\":0.05},\"mapbox\":{\"style\":\"light\"}}},\"legend\":{\"tracegroupgap\":0},\"title\":{\"text\":\"Inactive minutes based on days\"}},                        {\"responsive\": true}                    ).then(function(){\n",
       "                            \n",
       "var gd = document.getElementById('b3e06c8e-e93a-4e1c-b4d3-b21b4b97c32a');\n",
       "var x = new MutationObserver(function (mutations, observer) {{\n",
       "        var display = window.getComputedStyle(gd).display;\n",
       "        if (!display || display === 'none') {{\n",
       "            console.log([gd, 'removed!']);\n",
       "            Plotly.purge(gd);\n",
       "            observer.disconnect();\n",
       "        }}\n",
       "}});\n",
       "\n",
       "// Listen for the removal of the full notebook cells\n",
       "var notebookContainer = gd.closest('#notebook-container');\n",
       "if (notebookContainer) {{\n",
       "    x.observe(notebookContainer, {childList: true});\n",
       "}}\n",
       "\n",
       "// Listen for the clearing of the current output cell\n",
       "var outputEl = gd.closest('.output');\n",
       "if (outputEl) {{\n",
       "    x.observe(outputEl, {childList: true});\n",
       "}}\n",
       "\n",
       "                        })                };                });            </script>        </div>"
      ]
     },
     "metadata": {},
     "output_type": "display_data"
    },
    {
     "data": {
      "application/vnd.plotly.v1+json": {
       "config": {
        "plotlyServerURL": "https://plot.ly"
       },
       "data": [
        {
         "hoverinfo": "label+percent",
         "labels": [
          "Tuesday",
          "Wednesday",
          "Thursday",
          "Friday",
          "Saturday",
          "Sunday",
          "Monday"
         ],
         "marker": {
          "colors": [
           "gold",
           "lightgreen",
           "pink",
           "blue",
           "skyblue",
           "cyan",
           "orange"
          ],
          "line": {
           "color": "black",
           "width": 3
          }
         },
         "textfont": {
          "size": 30
         },
         "textinfo": "value",
         "type": "pie",
         "values": [
          728,
          776,
          1218,
          726,
          773,
          539,
          1149,
          775,
          818,
          838,
          1217,
          732,
          709,
          814,
          833,
          1108,
          782,
          815,
          712,
          730,
          798,
          816,
          1179,
          857,
          754,
          833,
          574,
          835,
          746,
          669,
          1440,
          1294,
          1292,
          1204,
          1344,
          1264,
          1276,
          1214,
          1299,
          1289,
          1254,
          1241,
          1213,
          1221,
          1238,
          1300,
          1233,
          1320,
          1290,
          1182,
          1020,
          1261,
          1344,
          1322,
          1323,
          1338,
          1258,
          1288,
          1349,
          1301,
          1328,
          890,
          1131,
          1259,
          1125,
          1263,
          1135,
          1212,
          1271,
          1099,
          1315,
          1402,
          1354,
          1265,
          1351,
          1337,
          1165,
          1322,
          1157,
          1193,
          816,
          908,
          682,
          1115,
          1388,
          1341,
          1054,
          1139,
          991,
          1099,
          1254,
          713,
          1101,
          1192,
          843,
          527,
          1293,
          1231,
          1211,
          1430,
          1439,
          1117,
          1220,
          1301,
          1440,
          1440,
          1440,
          1439,
          1138,
          1082,
          218,
          585,
          1440,
          1256,
          1353,
          1320,
          1438,
          1440,
          1440,
          1440,
          1440,
          1440,
          711,
          734,
          986,
          1292,
          941,
          1440,
          1440,
          1423,
          1440,
          1440,
          1440,
          1430,
          1295,
          1358,
          1303,
          1058,
          1440,
          1167,
          1440,
          1440,
          1355,
          1322,
          1413,
          1353,
          1440,
          1332,
          1392,
          1440,
          1440,
          1440,
          1440,
          966,
          1157,
          1100,
          1148,
          1122,
          1237,
          1052,
          1078,
          1152,
          1053,
          1028,
          1105,
          1191,
          1161,
          1171,
          1086,
          1119,
          1123,
          1098,
          1043,
          1142,
          1119,
          1104,
          1105,
          1112,
          1104,
          1269,
          1305,
          1061,
          1084,
          1133,
          728,
          706,
          663,
          653,
          687,
          728,
          1053,
          1062,
          785,
          623,
          749,
          712,
          458,
          704,
          821,
          1018,
          586,
          626,
          492,
          594,
          716,
          716,
          981,
          530,
          479,
          511,
          665,
          610,
          543,
          1002,
          569,
          330,
          1112,
          1105,
          1249,
          1195,
          1245,
          1191,
          1173,
          1201,
          1146,
          1302,
          1174,
          1129,
          1236,
          1280,
          1293,
          1358,
          1364,
          1395,
          1206,
          1400,
          1306,
          1204,
          1388,
          1206,
          1236,
          1121,
          1193,
          1295,
          1150,
          1140,
          830,
          964,
          676,
          705,
          720,
          968,
          508,
          678,
          648,
          1011,
          761,
          781,
          591,
          584,
          653,
          732,
          623,
          764,
          2,
          1061,
          1028,
          1109,
          992,
          1087,
          1272,
          1122,
          1051,
          1035,
          1057,
          1028,
          1077,
          1203,
          1081,
          1124,
          1197,
          1192,
          1191,
          1167,
          1219,
          1099,
          1070,
          1020,
          1093,
          1065,
          1302,
          1068,
          1095,
          1067,
          1121,
          720,
          1160,
          1045,
          1039,
          1105,
          1084,
          1105,
          1070,
          1064,
          1148,
          1037,
          1234,
          1115,
          1127,
          1024,
          1083,
          1057,
          1055,
          1038,
          1119,
          842,
          777,
          754,
          801,
          644,
          663,
          600,
          605,
          738,
          845,
          712,
          731,
          724,
          660,
          781,
          797,
          714,
          804,
          744,
          687,
          691,
          713,
          594,
          852,
          680,
          676,
          703,
          688,
          1159,
          676,
          13,
          712,
          1440,
          1437,
          1299,
          1222,
          1438,
          1438,
          1440,
          1440,
          1440,
          1440,
          1440,
          1440,
          1440,
          1440,
          1440,
          1440,
          1440,
          1440,
          1440,
          1350,
          950,
          531,
          916,
          855,
          1256,
          775,
          1225,
          774,
          1296,
          721,
          1276,
          1280,
          1440,
          873,
          1440,
          1234,
          589,
          752,
          724,
          1363,
          824,
          604,
          671,
          1265,
          709,
          546,
          692,
          544,
          649,
          680,
          552,
          624,
          695,
          836,
          585,
          669,
          1106,
          957,
          692,
          586,
          603,
          490,
          555,
          574,
          0,
          1440,
          1275,
          945,
          837,
          609,
          721,
          1017,
          704,
          696,
          853,
          945,
          749,
          584,
          1054,
          673,
          684,
          878,
          1175,
          537,
          579,
          935,
          984,
          632,
          896,
          1100,
          508,
          576,
          1020,
          648,
          858,
          825,
          787,
          840,
          717,
          711,
          716,
          1219,
          1247,
          895,
          841,
          756,
          706,
          1239,
          1196,
          916,
          839,
          839,
          762,
          1106,
          797,
          741,
          667,
          725,
          897,
          734,
          809,
          866,
          733,
          641,
          783,
          622,
          380,
          1122,
          1287,
          1161,
          1131,
          1112,
          1110,
          1080,
          1182,
          1218,
          844,
          1122,
          1122,
          1045,
          993,
          1062,
          1087,
          985,
          1096,
          1111,
          1121,
          1057,
          1172,
          1188,
          1048,
          1238,
          1116,
          1019,
          1065,
          1191,
          1081,
          736,
          718,
          777,
          772,
          944,
          556,
          437,
          890,
          757,
          717,
          901,
          1341,
          469,
          542,
          730,
          765,
          733,
          738,
          692,
          728,
          1440,
          1131,
          729,
          757,
          745,
          682,
          577,
          1019,
          746,
          701,
          784,
          241,
          767,
          647,
          693,
          689,
          521,
          943,
          622,
          756,
          598,
          801,
          781,
          443,
          582,
          732,
          750,
          745,
          727,
          709,
          506,
          436,
          724,
          812,
          651,
          692,
          761,
          902,
          505,
          667,
          707,
          628,
          222,
          728,
          776,
          662,
          695,
          472,
          525,
          623,
          733,
          773,
          670,
          823,
          627,
          425,
          743,
          759,
          773,
          692,
          739,
          621,
          499,
          732,
          580,
          631,
          1153,
          1304,
          1440,
          1440,
          1099,
          639,
          257,
          1440,
          1440,
          1440,
          921,
          502,
          702,
          759,
          425,
          587,
          579,
          413,
          468,
          711,
          1440,
          1077,
          417,
          758,
          479,
          1040,
          525,
          1204,
          1440,
          1279,
          479,
          673,
          456,
          517,
          125,
          1241,
          1090,
          1077,
          1112,
          1182,
          1172,
          1169,
          1119,
          1182,
          1440,
          1138,
          1407,
          1182,
          1180,
          1440,
          1153,
          1185,
          1440,
          1116,
          1055,
          1172,
          1200,
          1168,
          1201,
          1135,
          1213,
          1189,
          800,
          1440,
          1440,
          1053,
          863,
          976,
          1377,
          1392,
          1233,
          1440,
          1079,
          1440,
          1420,
          1440,
          1400,
          1302,
          1321,
          1440,
          1410,
          1440,
          1344,
          1347,
          1440,
          1439,
          1440,
          1440,
          1318,
          551,
          796,
          548,
          862,
          837,
          741,
          634,
          689,
          659,
          639,
          708,
          659,
          484,
          720,
          637,
          680,
          697,
          621,
          645,
          731,
          722,
          655,
          654,
          683,
          591,
          717,
          745,
          709,
          607,
          626,
          709,
          127,
          1024,
          1101,
          1096,
          1238,
          1155,
          1135,
          1077,
          1066,
          1000,
          1049,
          1065,
          1190,
          1021,
          986,
          978,
          1041,
          1007,
          961,
          1240,
          1142,
          1112,
          1021,
          1440,
          1047,
          1136,
          111,
          745,
          744,
          787,
          864,
          1437,
          1440,
          1136,
          671,
          797,
          758,
          762,
          1350,
          566,
          706,
          726,
          829,
          810,
          1198,
          584,
          685,
          737,
          761,
          843,
          1253,
          834,
          621,
          695,
          743,
          1182,
          757,
          343,
          1193,
          1177,
          1123,
          1142,
          1255,
          1113,
          1137,
          1152,
          695,
          1164,
          1260,
          741,
          1096,
          1104,
          1182,
          1187,
          1188,
          1215,
          1281,
          1389,
          1345,
          1166,
          1220,
          1208,
          1245,
          1076,
          1073,
          1214,
          1219,
          1189,
          839,
          1244,
          1298,
          1362,
          1335,
          1268,
          1237,
          1278,
          1276,
          1201,
          1199,
          1320,
          1193,
          1313,
          1261,
          1299,
          1286,
          1393,
          1257,
          1440,
          723,
          680,
          699,
          729,
          563,
          599,
          720,
          737,
          763,
          677,
          769,
          740,
          734,
          692,
          593,
          676,
          711,
          767,
          780,
          669,
          802,
          822,
          680,
          764,
          831,
          851,
          621,
          772,
          840,
          763,
          433,
          1237,
          1252,
          1306,
          1375,
          1440,
          1440,
          1309,
          1257,
          1246,
          1229,
          1170,
          1151,
          1188,
          1294,
          1134,
          1229,
          1209,
          1069,
          1093,
          1311,
          1440,
          1440,
          1440,
          1370,
          1250,
          1190,
          1183,
          1260,
          1226,
          1106,
          1440,
          831,
          806,
          853,
          937,
          1428,
          1440,
          1440,
          1440,
          744,
          1431,
          817,
          795,
          1410,
          1440,
          1360,
          900,
          714,
          634,
          749,
          834,
          916,
          739,
          848,
          1440,
          1440,
          1440,
          1440,
          1440,
          48,
          1036,
          1098,
          1061,
          1052,
          888,
          1060,
          1215,
          1131,
          1123,
          1119,
          1141,
          1032,
          1148,
          1101,
          1157,
          1104,
          1143,
          1207,
          1089,
          1226,
          1335,
          1189,
          1154,
          1170,
          1095,
          1036,
          1174,
          1131,
          1187,
          1127,
          770
         ]
        }
       ],
       "layout": {
        "template": {
         "data": {
          "bar": [
           {
            "error_x": {
             "color": "#2a3f5f"
            },
            "error_y": {
             "color": "#2a3f5f"
            },
            "marker": {
             "line": {
              "color": "#E5ECF6",
              "width": 0.5
             },
             "pattern": {
              "fillmode": "overlay",
              "size": 10,
              "solidity": 0.2
             }
            },
            "type": "bar"
           }
          ],
          "barpolar": [
           {
            "marker": {
             "line": {
              "color": "#E5ECF6",
              "width": 0.5
             },
             "pattern": {
              "fillmode": "overlay",
              "size": 10,
              "solidity": 0.2
             }
            },
            "type": "barpolar"
           }
          ],
          "carpet": [
           {
            "aaxis": {
             "endlinecolor": "#2a3f5f",
             "gridcolor": "white",
             "linecolor": "white",
             "minorgridcolor": "white",
             "startlinecolor": "#2a3f5f"
            },
            "baxis": {
             "endlinecolor": "#2a3f5f",
             "gridcolor": "white",
             "linecolor": "white",
             "minorgridcolor": "white",
             "startlinecolor": "#2a3f5f"
            },
            "type": "carpet"
           }
          ],
          "choropleth": [
           {
            "colorbar": {
             "outlinewidth": 0,
             "ticks": ""
            },
            "type": "choropleth"
           }
          ],
          "contour": [
           {
            "colorbar": {
             "outlinewidth": 0,
             "ticks": ""
            },
            "colorscale": [
             [
              0,
              "#0d0887"
             ],
             [
              0.1111111111111111,
              "#46039f"
             ],
             [
              0.2222222222222222,
              "#7201a8"
             ],
             [
              0.3333333333333333,
              "#9c179e"
             ],
             [
              0.4444444444444444,
              "#bd3786"
             ],
             [
              0.5555555555555556,
              "#d8576b"
             ],
             [
              0.6666666666666666,
              "#ed7953"
             ],
             [
              0.7777777777777778,
              "#fb9f3a"
             ],
             [
              0.8888888888888888,
              "#fdca26"
             ],
             [
              1,
              "#f0f921"
             ]
            ],
            "type": "contour"
           }
          ],
          "contourcarpet": [
           {
            "colorbar": {
             "outlinewidth": 0,
             "ticks": ""
            },
            "type": "contourcarpet"
           }
          ],
          "heatmap": [
           {
            "colorbar": {
             "outlinewidth": 0,
             "ticks": ""
            },
            "colorscale": [
             [
              0,
              "#0d0887"
             ],
             [
              0.1111111111111111,
              "#46039f"
             ],
             [
              0.2222222222222222,
              "#7201a8"
             ],
             [
              0.3333333333333333,
              "#9c179e"
             ],
             [
              0.4444444444444444,
              "#bd3786"
             ],
             [
              0.5555555555555556,
              "#d8576b"
             ],
             [
              0.6666666666666666,
              "#ed7953"
             ],
             [
              0.7777777777777778,
              "#fb9f3a"
             ],
             [
              0.8888888888888888,
              "#fdca26"
             ],
             [
              1,
              "#f0f921"
             ]
            ],
            "type": "heatmap"
           }
          ],
          "heatmapgl": [
           {
            "colorbar": {
             "outlinewidth": 0,
             "ticks": ""
            },
            "colorscale": [
             [
              0,
              "#0d0887"
             ],
             [
              0.1111111111111111,
              "#46039f"
             ],
             [
              0.2222222222222222,
              "#7201a8"
             ],
             [
              0.3333333333333333,
              "#9c179e"
             ],
             [
              0.4444444444444444,
              "#bd3786"
             ],
             [
              0.5555555555555556,
              "#d8576b"
             ],
             [
              0.6666666666666666,
              "#ed7953"
             ],
             [
              0.7777777777777778,
              "#fb9f3a"
             ],
             [
              0.8888888888888888,
              "#fdca26"
             ],
             [
              1,
              "#f0f921"
             ]
            ],
            "type": "heatmapgl"
           }
          ],
          "histogram": [
           {
            "marker": {
             "pattern": {
              "fillmode": "overlay",
              "size": 10,
              "solidity": 0.2
             }
            },
            "type": "histogram"
           }
          ],
          "histogram2d": [
           {
            "colorbar": {
             "outlinewidth": 0,
             "ticks": ""
            },
            "colorscale": [
             [
              0,
              "#0d0887"
             ],
             [
              0.1111111111111111,
              "#46039f"
             ],
             [
              0.2222222222222222,
              "#7201a8"
             ],
             [
              0.3333333333333333,
              "#9c179e"
             ],
             [
              0.4444444444444444,
              "#bd3786"
             ],
             [
              0.5555555555555556,
              "#d8576b"
             ],
             [
              0.6666666666666666,
              "#ed7953"
             ],
             [
              0.7777777777777778,
              "#fb9f3a"
             ],
             [
              0.8888888888888888,
              "#fdca26"
             ],
             [
              1,
              "#f0f921"
             ]
            ],
            "type": "histogram2d"
           }
          ],
          "histogram2dcontour": [
           {
            "colorbar": {
             "outlinewidth": 0,
             "ticks": ""
            },
            "colorscale": [
             [
              0,
              "#0d0887"
             ],
             [
              0.1111111111111111,
              "#46039f"
             ],
             [
              0.2222222222222222,
              "#7201a8"
             ],
             [
              0.3333333333333333,
              "#9c179e"
             ],
             [
              0.4444444444444444,
              "#bd3786"
             ],
             [
              0.5555555555555556,
              "#d8576b"
             ],
             [
              0.6666666666666666,
              "#ed7953"
             ],
             [
              0.7777777777777778,
              "#fb9f3a"
             ],
             [
              0.8888888888888888,
              "#fdca26"
             ],
             [
              1,
              "#f0f921"
             ]
            ],
            "type": "histogram2dcontour"
           }
          ],
          "mesh3d": [
           {
            "colorbar": {
             "outlinewidth": 0,
             "ticks": ""
            },
            "type": "mesh3d"
           }
          ],
          "parcoords": [
           {
            "line": {
             "colorbar": {
              "outlinewidth": 0,
              "ticks": ""
             }
            },
            "type": "parcoords"
           }
          ],
          "pie": [
           {
            "automargin": true,
            "type": "pie"
           }
          ],
          "scatter": [
           {
            "fillpattern": {
             "fillmode": "overlay",
             "size": 10,
             "solidity": 0.2
            },
            "type": "scatter"
           }
          ],
          "scatter3d": [
           {
            "line": {
             "colorbar": {
              "outlinewidth": 0,
              "ticks": ""
             }
            },
            "marker": {
             "colorbar": {
              "outlinewidth": 0,
              "ticks": ""
             }
            },
            "type": "scatter3d"
           }
          ],
          "scattercarpet": [
           {
            "marker": {
             "colorbar": {
              "outlinewidth": 0,
              "ticks": ""
             }
            },
            "type": "scattercarpet"
           }
          ],
          "scattergeo": [
           {
            "marker": {
             "colorbar": {
              "outlinewidth": 0,
              "ticks": ""
             }
            },
            "type": "scattergeo"
           }
          ],
          "scattergl": [
           {
            "marker": {
             "colorbar": {
              "outlinewidth": 0,
              "ticks": ""
             }
            },
            "type": "scattergl"
           }
          ],
          "scattermapbox": [
           {
            "marker": {
             "colorbar": {
              "outlinewidth": 0,
              "ticks": ""
             }
            },
            "type": "scattermapbox"
           }
          ],
          "scatterpolar": [
           {
            "marker": {
             "colorbar": {
              "outlinewidth": 0,
              "ticks": ""
             }
            },
            "type": "scatterpolar"
           }
          ],
          "scatterpolargl": [
           {
            "marker": {
             "colorbar": {
              "outlinewidth": 0,
              "ticks": ""
             }
            },
            "type": "scatterpolargl"
           }
          ],
          "scatterternary": [
           {
            "marker": {
             "colorbar": {
              "outlinewidth": 0,
              "ticks": ""
             }
            },
            "type": "scatterternary"
           }
          ],
          "surface": [
           {
            "colorbar": {
             "outlinewidth": 0,
             "ticks": ""
            },
            "colorscale": [
             [
              0,
              "#0d0887"
             ],
             [
              0.1111111111111111,
              "#46039f"
             ],
             [
              0.2222222222222222,
              "#7201a8"
             ],
             [
              0.3333333333333333,
              "#9c179e"
             ],
             [
              0.4444444444444444,
              "#bd3786"
             ],
             [
              0.5555555555555556,
              "#d8576b"
             ],
             [
              0.6666666666666666,
              "#ed7953"
             ],
             [
              0.7777777777777778,
              "#fb9f3a"
             ],
             [
              0.8888888888888888,
              "#fdca26"
             ],
             [
              1,
              "#f0f921"
             ]
            ],
            "type": "surface"
           }
          ],
          "table": [
           {
            "cells": {
             "fill": {
              "color": "#EBF0F8"
             },
             "line": {
              "color": "white"
             }
            },
            "header": {
             "fill": {
              "color": "#C8D4E3"
             },
             "line": {
              "color": "white"
             }
            },
            "type": "table"
           }
          ]
         },
         "layout": {
          "annotationdefaults": {
           "arrowcolor": "#2a3f5f",
           "arrowhead": 0,
           "arrowwidth": 1
          },
          "autotypenumbers": "strict",
          "coloraxis": {
           "colorbar": {
            "outlinewidth": 0,
            "ticks": ""
           }
          },
          "colorscale": {
           "diverging": [
            [
             0,
             "#8e0152"
            ],
            [
             0.1,
             "#c51b7d"
            ],
            [
             0.2,
             "#de77ae"
            ],
            [
             0.3,
             "#f1b6da"
            ],
            [
             0.4,
             "#fde0ef"
            ],
            [
             0.5,
             "#f7f7f7"
            ],
            [
             0.6,
             "#e6f5d0"
            ],
            [
             0.7,
             "#b8e186"
            ],
            [
             0.8,
             "#7fbc41"
            ],
            [
             0.9,
             "#4d9221"
            ],
            [
             1,
             "#276419"
            ]
           ],
           "sequential": [
            [
             0,
             "#0d0887"
            ],
            [
             0.1111111111111111,
             "#46039f"
            ],
            [
             0.2222222222222222,
             "#7201a8"
            ],
            [
             0.3333333333333333,
             "#9c179e"
            ],
            [
             0.4444444444444444,
             "#bd3786"
            ],
            [
             0.5555555555555556,
             "#d8576b"
            ],
            [
             0.6666666666666666,
             "#ed7953"
            ],
            [
             0.7777777777777778,
             "#fb9f3a"
            ],
            [
             0.8888888888888888,
             "#fdca26"
            ],
            [
             1,
             "#f0f921"
            ]
           ],
           "sequentialminus": [
            [
             0,
             "#0d0887"
            ],
            [
             0.1111111111111111,
             "#46039f"
            ],
            [
             0.2222222222222222,
             "#7201a8"
            ],
            [
             0.3333333333333333,
             "#9c179e"
            ],
            [
             0.4444444444444444,
             "#bd3786"
            ],
            [
             0.5555555555555556,
             "#d8576b"
            ],
            [
             0.6666666666666666,
             "#ed7953"
            ],
            [
             0.7777777777777778,
             "#fb9f3a"
            ],
            [
             0.8888888888888888,
             "#fdca26"
            ],
            [
             1,
             "#f0f921"
            ]
           ]
          },
          "colorway": [
           "#636efa",
           "#EF553B",
           "#00cc96",
           "#ab63fa",
           "#FFA15A",
           "#19d3f3",
           "#FF6692",
           "#B6E880",
           "#FF97FF",
           "#FECB52"
          ],
          "font": {
           "color": "#2a3f5f"
          },
          "geo": {
           "bgcolor": "white",
           "lakecolor": "white",
           "landcolor": "#E5ECF6",
           "showlakes": true,
           "showland": true,
           "subunitcolor": "white"
          },
          "hoverlabel": {
           "align": "left"
          },
          "hovermode": "closest",
          "mapbox": {
           "style": "light"
          },
          "paper_bgcolor": "white",
          "plot_bgcolor": "#E5ECF6",
          "polar": {
           "angularaxis": {
            "gridcolor": "white",
            "linecolor": "white",
            "ticks": ""
           },
           "bgcolor": "#E5ECF6",
           "radialaxis": {
            "gridcolor": "white",
            "linecolor": "white",
            "ticks": ""
           }
          },
          "scene": {
           "xaxis": {
            "backgroundcolor": "#E5ECF6",
            "gridcolor": "white",
            "gridwidth": 2,
            "linecolor": "white",
            "showbackground": true,
            "ticks": "",
            "zerolinecolor": "white"
           },
           "yaxis": {
            "backgroundcolor": "#E5ECF6",
            "gridcolor": "white",
            "gridwidth": 2,
            "linecolor": "white",
            "showbackground": true,
            "ticks": "",
            "zerolinecolor": "white"
           },
           "zaxis": {
            "backgroundcolor": "#E5ECF6",
            "gridcolor": "white",
            "gridwidth": 2,
            "linecolor": "white",
            "showbackground": true,
            "ticks": "",
            "zerolinecolor": "white"
           }
          },
          "shapedefaults": {
           "line": {
            "color": "#2a3f5f"
           }
          },
          "ternary": {
           "aaxis": {
            "gridcolor": "white",
            "linecolor": "white",
            "ticks": ""
           },
           "baxis": {
            "gridcolor": "white",
            "linecolor": "white",
            "ticks": ""
           },
           "bgcolor": "#E5ECF6",
           "caxis": {
            "gridcolor": "white",
            "linecolor": "white",
            "ticks": ""
           }
          },
          "title": {
           "x": 0.05
          },
          "xaxis": {
           "automargin": true,
           "gridcolor": "white",
           "linecolor": "white",
           "ticks": "",
           "title": {
            "standoff": 15
           },
           "zerolinecolor": "white",
           "zerolinewidth": 2
          },
          "yaxis": {
           "automargin": true,
           "gridcolor": "white",
           "linecolor": "white",
           "ticks": "",
           "title": {
            "standoff": 15
           },
           "zerolinecolor": "white",
           "zerolinewidth": 2
          }
         }
        },
        "title": {
         "text": "Inactive Minutes Daily"
        }
       }
      },
      "text/html": [
       "<div>                            <div id=\"3d24fa78-fc75-4156-9a2c-c5933af7b0b8\" class=\"plotly-graph-div\" style=\"height:525px; width:100%;\"></div>            <script type=\"text/javascript\">                require([\"plotly\"], function(Plotly) {                    window.PLOTLYENV=window.PLOTLYENV || {};                                    if (document.getElementById(\"3d24fa78-fc75-4156-9a2c-c5933af7b0b8\")) {                    Plotly.newPlot(                        \"3d24fa78-fc75-4156-9a2c-c5933af7b0b8\",                        [{\"labels\":[\"Tuesday\",\"Wednesday\",\"Thursday\",\"Friday\",\"Saturday\",\"Sunday\",\"Monday\"],\"values\":[728,776,1218,726,773,539,1149,775,818,838,1217,732,709,814,833,1108,782,815,712,730,798,816,1179,857,754,833,574,835,746,669,1440,1294,1292,1204,1344,1264,1276,1214,1299,1289,1254,1241,1213,1221,1238,1300,1233,1320,1290,1182,1020,1261,1344,1322,1323,1338,1258,1288,1349,1301,1328,890,1131,1259,1125,1263,1135,1212,1271,1099,1315,1402,1354,1265,1351,1337,1165,1322,1157,1193,816,908,682,1115,1388,1341,1054,1139,991,1099,1254,713,1101,1192,843,527,1293,1231,1211,1430,1439,1117,1220,1301,1440,1440,1440,1439,1138,1082,218,585,1440,1256,1353,1320,1438,1440,1440,1440,1440,1440,711,734,986,1292,941,1440,1440,1423,1440,1440,1440,1430,1295,1358,1303,1058,1440,1167,1440,1440,1355,1322,1413,1353,1440,1332,1392,1440,1440,1440,1440,966,1157,1100,1148,1122,1237,1052,1078,1152,1053,1028,1105,1191,1161,1171,1086,1119,1123,1098,1043,1142,1119,1104,1105,1112,1104,1269,1305,1061,1084,1133,728,706,663,653,687,728,1053,1062,785,623,749,712,458,704,821,1018,586,626,492,594,716,716,981,530,479,511,665,610,543,1002,569,330,1112,1105,1249,1195,1245,1191,1173,1201,1146,1302,1174,1129,1236,1280,1293,1358,1364,1395,1206,1400,1306,1204,1388,1206,1236,1121,1193,1295,1150,1140,830,964,676,705,720,968,508,678,648,1011,761,781,591,584,653,732,623,764,2,1061,1028,1109,992,1087,1272,1122,1051,1035,1057,1028,1077,1203,1081,1124,1197,1192,1191,1167,1219,1099,1070,1020,1093,1065,1302,1068,1095,1067,1121,720,1160,1045,1039,1105,1084,1105,1070,1064,1148,1037,1234,1115,1127,1024,1083,1057,1055,1038,1119,842,777,754,801,644,663,600,605,738,845,712,731,724,660,781,797,714,804,744,687,691,713,594,852,680,676,703,688,1159,676,13,712,1440,1437,1299,1222,1438,1438,1440,1440,1440,1440,1440,1440,1440,1440,1440,1440,1440,1440,1440,1350,950,531,916,855,1256,775,1225,774,1296,721,1276,1280,1440,873,1440,1234,589,752,724,1363,824,604,671,1265,709,546,692,544,649,680,552,624,695,836,585,669,1106,957,692,586,603,490,555,574,0,1440,1275,945,837,609,721,1017,704,696,853,945,749,584,1054,673,684,878,1175,537,579,935,984,632,896,1100,508,576,1020,648,858,825,787,840,717,711,716,1219,1247,895,841,756,706,1239,1196,916,839,839,762,1106,797,741,667,725,897,734,809,866,733,641,783,622,380,1122,1287,1161,1131,1112,1110,1080,1182,1218,844,1122,1122,1045,993,1062,1087,985,1096,1111,1121,1057,1172,1188,1048,1238,1116,1019,1065,1191,1081,736,718,777,772,944,556,437,890,757,717,901,1341,469,542,730,765,733,738,692,728,1440,1131,729,757,745,682,577,1019,746,701,784,241,767,647,693,689,521,943,622,756,598,801,781,443,582,732,750,745,727,709,506,436,724,812,651,692,761,902,505,667,707,628,222,728,776,662,695,472,525,623,733,773,670,823,627,425,743,759,773,692,739,621,499,732,580,631,1153,1304,1440,1440,1099,639,257,1440,1440,1440,921,502,702,759,425,587,579,413,468,711,1440,1077,417,758,479,1040,525,1204,1440,1279,479,673,456,517,125,1241,1090,1077,1112,1182,1172,1169,1119,1182,1440,1138,1407,1182,1180,1440,1153,1185,1440,1116,1055,1172,1200,1168,1201,1135,1213,1189,800,1440,1440,1053,863,976,1377,1392,1233,1440,1079,1440,1420,1440,1400,1302,1321,1440,1410,1440,1344,1347,1440,1439,1440,1440,1318,551,796,548,862,837,741,634,689,659,639,708,659,484,720,637,680,697,621,645,731,722,655,654,683,591,717,745,709,607,626,709,127,1024,1101,1096,1238,1155,1135,1077,1066,1000,1049,1065,1190,1021,986,978,1041,1007,961,1240,1142,1112,1021,1440,1047,1136,111,745,744,787,864,1437,1440,1136,671,797,758,762,1350,566,706,726,829,810,1198,584,685,737,761,843,1253,834,621,695,743,1182,757,343,1193,1177,1123,1142,1255,1113,1137,1152,695,1164,1260,741,1096,1104,1182,1187,1188,1215,1281,1389,1345,1166,1220,1208,1245,1076,1073,1214,1219,1189,839,1244,1298,1362,1335,1268,1237,1278,1276,1201,1199,1320,1193,1313,1261,1299,1286,1393,1257,1440,723,680,699,729,563,599,720,737,763,677,769,740,734,692,593,676,711,767,780,669,802,822,680,764,831,851,621,772,840,763,433,1237,1252,1306,1375,1440,1440,1309,1257,1246,1229,1170,1151,1188,1294,1134,1229,1209,1069,1093,1311,1440,1440,1440,1370,1250,1190,1183,1260,1226,1106,1440,831,806,853,937,1428,1440,1440,1440,744,1431,817,795,1410,1440,1360,900,714,634,749,834,916,739,848,1440,1440,1440,1440,1440,48,1036,1098,1061,1052,888,1060,1215,1131,1123,1119,1141,1032,1148,1101,1157,1104,1143,1207,1089,1226,1335,1189,1154,1170,1095,1036,1174,1131,1187,1127,770],\"type\":\"pie\",\"textfont\":{\"size\":30},\"marker\":{\"line\":{\"color\":\"black\",\"width\":3},\"colors\":[\"gold\",\"lightgreen\",\"pink\",\"blue\",\"skyblue\",\"cyan\",\"orange\"]},\"hoverinfo\":\"label+percent\",\"textinfo\":\"value\"}],                        {\"template\":{\"data\":{\"histogram2dcontour\":[{\"type\":\"histogram2dcontour\",\"colorbar\":{\"outlinewidth\":0,\"ticks\":\"\"},\"colorscale\":[[0.0,\"#0d0887\"],[0.1111111111111111,\"#46039f\"],[0.2222222222222222,\"#7201a8\"],[0.3333333333333333,\"#9c179e\"],[0.4444444444444444,\"#bd3786\"],[0.5555555555555556,\"#d8576b\"],[0.6666666666666666,\"#ed7953\"],[0.7777777777777778,\"#fb9f3a\"],[0.8888888888888888,\"#fdca26\"],[1.0,\"#f0f921\"]]}],\"choropleth\":[{\"type\":\"choropleth\",\"colorbar\":{\"outlinewidth\":0,\"ticks\":\"\"}}],\"histogram2d\":[{\"type\":\"histogram2d\",\"colorbar\":{\"outlinewidth\":0,\"ticks\":\"\"},\"colorscale\":[[0.0,\"#0d0887\"],[0.1111111111111111,\"#46039f\"],[0.2222222222222222,\"#7201a8\"],[0.3333333333333333,\"#9c179e\"],[0.4444444444444444,\"#bd3786\"],[0.5555555555555556,\"#d8576b\"],[0.6666666666666666,\"#ed7953\"],[0.7777777777777778,\"#fb9f3a\"],[0.8888888888888888,\"#fdca26\"],[1.0,\"#f0f921\"]]}],\"heatmap\":[{\"type\":\"heatmap\",\"colorbar\":{\"outlinewidth\":0,\"ticks\":\"\"},\"colorscale\":[[0.0,\"#0d0887\"],[0.1111111111111111,\"#46039f\"],[0.2222222222222222,\"#7201a8\"],[0.3333333333333333,\"#9c179e\"],[0.4444444444444444,\"#bd3786\"],[0.5555555555555556,\"#d8576b\"],[0.6666666666666666,\"#ed7953\"],[0.7777777777777778,\"#fb9f3a\"],[0.8888888888888888,\"#fdca26\"],[1.0,\"#f0f921\"]]}],\"heatmapgl\":[{\"type\":\"heatmapgl\",\"colorbar\":{\"outlinewidth\":0,\"ticks\":\"\"},\"colorscale\":[[0.0,\"#0d0887\"],[0.1111111111111111,\"#46039f\"],[0.2222222222222222,\"#7201a8\"],[0.3333333333333333,\"#9c179e\"],[0.4444444444444444,\"#bd3786\"],[0.5555555555555556,\"#d8576b\"],[0.6666666666666666,\"#ed7953\"],[0.7777777777777778,\"#fb9f3a\"],[0.8888888888888888,\"#fdca26\"],[1.0,\"#f0f921\"]]}],\"contourcarpet\":[{\"type\":\"contourcarpet\",\"colorbar\":{\"outlinewidth\":0,\"ticks\":\"\"}}],\"contour\":[{\"type\":\"contour\",\"colorbar\":{\"outlinewidth\":0,\"ticks\":\"\"},\"colorscale\":[[0.0,\"#0d0887\"],[0.1111111111111111,\"#46039f\"],[0.2222222222222222,\"#7201a8\"],[0.3333333333333333,\"#9c179e\"],[0.4444444444444444,\"#bd3786\"],[0.5555555555555556,\"#d8576b\"],[0.6666666666666666,\"#ed7953\"],[0.7777777777777778,\"#fb9f3a\"],[0.8888888888888888,\"#fdca26\"],[1.0,\"#f0f921\"]]}],\"surface\":[{\"type\":\"surface\",\"colorbar\":{\"outlinewidth\":0,\"ticks\":\"\"},\"colorscale\":[[0.0,\"#0d0887\"],[0.1111111111111111,\"#46039f\"],[0.2222222222222222,\"#7201a8\"],[0.3333333333333333,\"#9c179e\"],[0.4444444444444444,\"#bd3786\"],[0.5555555555555556,\"#d8576b\"],[0.6666666666666666,\"#ed7953\"],[0.7777777777777778,\"#fb9f3a\"],[0.8888888888888888,\"#fdca26\"],[1.0,\"#f0f921\"]]}],\"mesh3d\":[{\"type\":\"mesh3d\",\"colorbar\":{\"outlinewidth\":0,\"ticks\":\"\"}}],\"scatter\":[{\"fillpattern\":{\"fillmode\":\"overlay\",\"size\":10,\"solidity\":0.2},\"type\":\"scatter\"}],\"parcoords\":[{\"type\":\"parcoords\",\"line\":{\"colorbar\":{\"outlinewidth\":0,\"ticks\":\"\"}}}],\"scatterpolargl\":[{\"type\":\"scatterpolargl\",\"marker\":{\"colorbar\":{\"outlinewidth\":0,\"ticks\":\"\"}}}],\"bar\":[{\"error_x\":{\"color\":\"#2a3f5f\"},\"error_y\":{\"color\":\"#2a3f5f\"},\"marker\":{\"line\":{\"color\":\"#E5ECF6\",\"width\":0.5},\"pattern\":{\"fillmode\":\"overlay\",\"size\":10,\"solidity\":0.2}},\"type\":\"bar\"}],\"scattergeo\":[{\"type\":\"scattergeo\",\"marker\":{\"colorbar\":{\"outlinewidth\":0,\"ticks\":\"\"}}}],\"scatterpolar\":[{\"type\":\"scatterpolar\",\"marker\":{\"colorbar\":{\"outlinewidth\":0,\"ticks\":\"\"}}}],\"histogram\":[{\"marker\":{\"pattern\":{\"fillmode\":\"overlay\",\"size\":10,\"solidity\":0.2}},\"type\":\"histogram\"}],\"scattergl\":[{\"type\":\"scattergl\",\"marker\":{\"colorbar\":{\"outlinewidth\":0,\"ticks\":\"\"}}}],\"scatter3d\":[{\"type\":\"scatter3d\",\"line\":{\"colorbar\":{\"outlinewidth\":0,\"ticks\":\"\"}},\"marker\":{\"colorbar\":{\"outlinewidth\":0,\"ticks\":\"\"}}}],\"scattermapbox\":[{\"type\":\"scattermapbox\",\"marker\":{\"colorbar\":{\"outlinewidth\":0,\"ticks\":\"\"}}}],\"scatterternary\":[{\"type\":\"scatterternary\",\"marker\":{\"colorbar\":{\"outlinewidth\":0,\"ticks\":\"\"}}}],\"scattercarpet\":[{\"type\":\"scattercarpet\",\"marker\":{\"colorbar\":{\"outlinewidth\":0,\"ticks\":\"\"}}}],\"carpet\":[{\"aaxis\":{\"endlinecolor\":\"#2a3f5f\",\"gridcolor\":\"white\",\"linecolor\":\"white\",\"minorgridcolor\":\"white\",\"startlinecolor\":\"#2a3f5f\"},\"baxis\":{\"endlinecolor\":\"#2a3f5f\",\"gridcolor\":\"white\",\"linecolor\":\"white\",\"minorgridcolor\":\"white\",\"startlinecolor\":\"#2a3f5f\"},\"type\":\"carpet\"}],\"table\":[{\"cells\":{\"fill\":{\"color\":\"#EBF0F8\"},\"line\":{\"color\":\"white\"}},\"header\":{\"fill\":{\"color\":\"#C8D4E3\"},\"line\":{\"color\":\"white\"}},\"type\":\"table\"}],\"barpolar\":[{\"marker\":{\"line\":{\"color\":\"#E5ECF6\",\"width\":0.5},\"pattern\":{\"fillmode\":\"overlay\",\"size\":10,\"solidity\":0.2}},\"type\":\"barpolar\"}],\"pie\":[{\"automargin\":true,\"type\":\"pie\"}]},\"layout\":{\"autotypenumbers\":\"strict\",\"colorway\":[\"#636efa\",\"#EF553B\",\"#00cc96\",\"#ab63fa\",\"#FFA15A\",\"#19d3f3\",\"#FF6692\",\"#B6E880\",\"#FF97FF\",\"#FECB52\"],\"font\":{\"color\":\"#2a3f5f\"},\"hovermode\":\"closest\",\"hoverlabel\":{\"align\":\"left\"},\"paper_bgcolor\":\"white\",\"plot_bgcolor\":\"#E5ECF6\",\"polar\":{\"bgcolor\":\"#E5ECF6\",\"angularaxis\":{\"gridcolor\":\"white\",\"linecolor\":\"white\",\"ticks\":\"\"},\"radialaxis\":{\"gridcolor\":\"white\",\"linecolor\":\"white\",\"ticks\":\"\"}},\"ternary\":{\"bgcolor\":\"#E5ECF6\",\"aaxis\":{\"gridcolor\":\"white\",\"linecolor\":\"white\",\"ticks\":\"\"},\"baxis\":{\"gridcolor\":\"white\",\"linecolor\":\"white\",\"ticks\":\"\"},\"caxis\":{\"gridcolor\":\"white\",\"linecolor\":\"white\",\"ticks\":\"\"}},\"coloraxis\":{\"colorbar\":{\"outlinewidth\":0,\"ticks\":\"\"}},\"colorscale\":{\"sequential\":[[0.0,\"#0d0887\"],[0.1111111111111111,\"#46039f\"],[0.2222222222222222,\"#7201a8\"],[0.3333333333333333,\"#9c179e\"],[0.4444444444444444,\"#bd3786\"],[0.5555555555555556,\"#d8576b\"],[0.6666666666666666,\"#ed7953\"],[0.7777777777777778,\"#fb9f3a\"],[0.8888888888888888,\"#fdca26\"],[1.0,\"#f0f921\"]],\"sequentialminus\":[[0.0,\"#0d0887\"],[0.1111111111111111,\"#46039f\"],[0.2222222222222222,\"#7201a8\"],[0.3333333333333333,\"#9c179e\"],[0.4444444444444444,\"#bd3786\"],[0.5555555555555556,\"#d8576b\"],[0.6666666666666666,\"#ed7953\"],[0.7777777777777778,\"#fb9f3a\"],[0.8888888888888888,\"#fdca26\"],[1.0,\"#f0f921\"]],\"diverging\":[[0,\"#8e0152\"],[0.1,\"#c51b7d\"],[0.2,\"#de77ae\"],[0.3,\"#f1b6da\"],[0.4,\"#fde0ef\"],[0.5,\"#f7f7f7\"],[0.6,\"#e6f5d0\"],[0.7,\"#b8e186\"],[0.8,\"#7fbc41\"],[0.9,\"#4d9221\"],[1,\"#276419\"]]},\"xaxis\":{\"gridcolor\":\"white\",\"linecolor\":\"white\",\"ticks\":\"\",\"title\":{\"standoff\":15},\"zerolinecolor\":\"white\",\"automargin\":true,\"zerolinewidth\":2},\"yaxis\":{\"gridcolor\":\"white\",\"linecolor\":\"white\",\"ticks\":\"\",\"title\":{\"standoff\":15},\"zerolinecolor\":\"white\",\"automargin\":true,\"zerolinewidth\":2},\"scene\":{\"xaxis\":{\"backgroundcolor\":\"#E5ECF6\",\"gridcolor\":\"white\",\"linecolor\":\"white\",\"showbackground\":true,\"ticks\":\"\",\"zerolinecolor\":\"white\",\"gridwidth\":2},\"yaxis\":{\"backgroundcolor\":\"#E5ECF6\",\"gridcolor\":\"white\",\"linecolor\":\"white\",\"showbackground\":true,\"ticks\":\"\",\"zerolinecolor\":\"white\",\"gridwidth\":2},\"zaxis\":{\"backgroundcolor\":\"#E5ECF6\",\"gridcolor\":\"white\",\"linecolor\":\"white\",\"showbackground\":true,\"ticks\":\"\",\"zerolinecolor\":\"white\",\"gridwidth\":2}},\"shapedefaults\":{\"line\":{\"color\":\"#2a3f5f\"}},\"annotationdefaults\":{\"arrowcolor\":\"#2a3f5f\",\"arrowhead\":0,\"arrowwidth\":1},\"geo\":{\"bgcolor\":\"white\",\"landcolor\":\"#E5ECF6\",\"subunitcolor\":\"white\",\"showland\":true,\"showlakes\":true,\"lakecolor\":\"white\"},\"title\":{\"x\":0.05},\"mapbox\":{\"style\":\"light\"}}},\"title\":{\"text\":\"Inactive Minutes Daily\"}},                        {\"responsive\": true}                    ).then(function(){\n",
       "                            \n",
       "var gd = document.getElementById('3d24fa78-fc75-4156-9a2c-c5933af7b0b8');\n",
       "var x = new MutationObserver(function (mutations, observer) {{\n",
       "        var display = window.getComputedStyle(gd).display;\n",
       "        if (!display || display === 'none') {{\n",
       "            console.log([gd, 'removed!']);\n",
       "            Plotly.purge(gd);\n",
       "            observer.disconnect();\n",
       "        }}\n",
       "}});\n",
       "\n",
       "// Listen for the removal of the full notebook cells\n",
       "var notebookContainer = gd.closest('#notebook-container');\n",
       "if (notebookContainer) {{\n",
       "    x.observe(notebookContainer, {childList: true});\n",
       "}}\n",
       "\n",
       "// Listen for the clearing of the current output cell\n",
       "var outputEl = gd.closest('.output');\n",
       "if (outputEl) {{\n",
       "    x.observe(outputEl, {childList: true});\n",
       "}}\n",
       "\n",
       "                        })                };                });            </script>        </div>"
      ]
     },
     "metadata": {},
     "output_type": "display_data"
    }
   ],
   "source": [
    "fig1 = px.pie(df, values = 'SedentaryMinutes', names='Day', color='Day', title='Inactive minutes based on days')\n",
    "fig1.show()\n",
    "\n",
    "\n",
    "day = df[\"Day\"].value_counts()\n",
    "label = day.index\n",
    "counts = df[\"SedentaryMinutes\"]\n",
    "colors = ['gold','lightgreen', \"pink\", \"blue\", \"skyblue\", \"cyan\", \"orange\"]\n",
    "\n",
    "fig2 = go.Figure(data=[go.Pie(labels=label, values=counts)])\n",
    "fig2.update_layout(title_text='Inactive Minutes Daily')\n",
    "fig2.update_traces(hoverinfo='label+percent', textinfo='value', textfont_size=30,\n",
    "                  marker=dict(colors=colors, line=dict(color='black', width=3)))\n",
    "fig2.show()"
   ]
  },
  {
   "cell_type": "code",
   "execution_count": 47,
   "id": "ce47fa92",
   "metadata": {},
   "outputs": [
    {
     "data": {
      "application/vnd.plotly.v1+json": {
       "config": {
        "plotlyServerURL": "https://plot.ly"
       },
       "data": [
        {
         "hoverinfo": "label+percent",
         "labels": [
          "Tuesday",
          "Wednesday",
          "Thursday",
          "Friday",
          "Saturday",
          "Sunday",
          "Monday"
         ],
         "marker": {
          "colors": [
           "gold",
           "lightgreen",
           "pink",
           "blue",
           "skyblue",
           "cyan",
           "orange"
          ],
          "line": {
           "color": "black",
           "width": 3
          }
         },
         "textfont": {
          "size": 30
         },
         "textinfo": "value",
         "type": "pie",
         "values": [
          1985,
          1797,
          1776,
          1745,
          1863,
          1728,
          1921,
          2035,
          1786,
          1775,
          1827,
          1949,
          1788,
          2013,
          1970,
          2159,
          1898,
          1837,
          1947,
          1820,
          2004,
          1990,
          1819,
          1959,
          1896,
          1821,
          1740,
          1819,
          1859,
          1783,
          0,
          1432,
          1411,
          1572,
          1344,
          1463,
          1554,
          1604,
          1435,
          1446,
          1467,
          1470,
          1562,
          1617,
          1492,
          1402,
          1670,
          1401,
          1404,
          1655,
          2690,
          1497,
          1334,
          1368,
          1370,
          1341,
          1474,
          1427,
          1328,
          1393,
          1359,
          1002,
          3199,
          2902,
          3226,
          2750,
          3493,
          3011,
          2806,
          3300,
          2430,
          2140,
          2344,
          2677,
          2413,
          2497,
          3123,
          2489,
          3108,
          2498,
          3846,
          2696,
          2580,
          3324,
          2222,
          2463,
          3328,
          3404,
          2987,
          3008,
          2799,
          1276,
          2030,
          1860,
          2130,
          1725,
          1657,
          1793,
          1814,
          1366,
          1349,
          2062,
          1827,
          1645,
          1347,
          1347,
          1347,
          1348,
          1992,
          1856,
          1763,
          1541,
          1348,
          1742,
          1549,
          1589,
          1351,
          1347,
          1347,
          1347,
          1347,
          1347,
          665,
          2220,
          2151,
          2383,
          2221,
          2064,
          2063,
          2111,
          2063,
          2063,
          2064,
          2093,
          2499,
          2324,
          2100,
          2638,
          2063,
          2351,
          2063,
          2064,
          2411,
          2505,
          2195,
          2338,
          2063,
          2383,
          2229,
          2063,
          2063,
          2063,
          2063,
          1383,
          2390,
          2601,
          2312,
          2525,
          2177,
          2782,
          2770,
          2489,
          2897,
          3158,
          2638,
          2069,
          2529,
          2470,
          2793,
          2463,
          2296,
          2611,
          2732,
          2380,
          2473,
          2752,
          2649,
          2609,
          2498,
          1995,
          1848,
          2709,
          2797,
          2544,
          1853,
          1459,
          1521,
          1431,
          1444,
          1373,
          1214,
          1419,
          1356,
          1667,
          1370,
          1399,
          1916,
          1401,
          1576,
          1595,
          1593,
          1649,
          1692,
          1506,
          1447,
          1690,
          1604,
          1658,
          1926,
          1736,
          1491,
          1555,
          1869,
          1141,
          1698,
          1364,
          2124,
          2003,
          1696,
          1801,
          1724,
          1852,
          1905,
          1811,
          1922,
          1610,
          1851,
          1804,
          1725,
          1654,
          1632,
          1481,
          1473,
          1410,
          1779,
          1403,
          1613,
          1878,
          1426,
          1780,
          1742,
          1972,
          1821,
          1630,
          1899,
          1903,
          1125,
          2344,
          2038,
          2010,
          2133,
          2670,
          1882,
          1944,
          2346,
          2198,
          2048,
          1946,
          2629,
          2187,
          2095,
          1861,
          2194,
          1854,
          403,
          1982,
          2004,
          1893,
          2063,
          2148,
          1529,
          1890,
          1956,
          2094,
          1970,
          2241,
          2021,
          1898,
          1907,
          1882,
          1966,
          1835,
          1780,
          1830,
          1739,
          1878,
          1906,
          2015,
          1971,
          1910,
          1897,
          2096,
          1906,
          1962,
          1826,
          1431,
          1788,
          2093,
          2065,
          1908,
          1908,
          1964,
          2014,
          1985,
          1867,
          2124,
          1669,
          1995,
          1921,
          2010,
          2057,
          2095,
          1972,
          2044,
          1946,
          1237,
          1450,
          1495,
          1433,
          1468,
          1625,
          1529,
          1584,
          1638,
          1554,
          1397,
          1481,
          1638,
          1655,
          1570,
          1551,
          1377,
          1407,
          1545,
          1650,
          1501,
          1760,
          1710,
          1628,
          1618,
          1590,
          1574,
          1633,
          1667,
          1630,
          52,
          3654,
          1981,
          2011,
          2951,
          3051,
          1990,
          1995,
          1980,
          1980,
          1980,
          1980,
          1980,
          1980,
          1980,
          1980,
          1980,
          1980,
          1980,
          1980,
          1980,
          2207,
          2828,
          3879,
          3429,
          2704,
          2975,
          3089,
          2785,
          2926,
          2645,
          1120,
          2286,
          2306,
          1776,
          1527,
          2115,
          2135,
          2302,
          1985,
          1884,
          1464,
          1632,
          2200,
          2220,
          1792,
          1886,
          1945,
          1880,
          2314,
          2236,
          2324,
          2367,
          2175,
          2092,
          1593,
          2270,
          2235,
          2282,
          2530,
          2266,
          2158,
          1792,
          2345,
          2260,
          2232,
          257,
          2955,
          3092,
          2998,
          3066,
          3073,
          2572,
          3274,
          3015,
          3083,
          3069,
          3544,
          3306,
          2885,
          3288,
          2929,
          3074,
          2969,
          2979,
          3283,
          2926,
          3147,
          3290,
          3162,
          2899,
          3425,
          4022,
          3934,
          3013,
          3061,
          2954,
          1623,
          2113,
          2095,
          2194,
          2496,
          2180,
          1933,
          2248,
          1954,
          1974,
          2150,
          2432,
          2149,
          2247,
          2070,
          2291,
          2361,
          2203,
          2196,
          2363,
          2246,
          2336,
          2421,
          2070,
          2120,
          2211,
          2123,
          2423,
          2281,
          2181,
          2499,
          1212,
          1909,
          1722,
          1922,
          2121,
          1997,
          2117,
          2116,
          1876,
          1788,
          2486,
          2094,
          2085,
          2173,
          2225,
          2223,
          2098,
          2185,
          1918,
          2105,
          1692,
          2066,
          1953,
          1842,
          2262,
          1722,
          1973,
          2666,
          2223,
          1889,
          2131,
          1452,
          2947,
          2898,
          2984,
          2896,
          3328,
          3394,
          3013,
          2812,
          3061,
          2729,
          2241,
          3691,
          3538,
          3064,
          2784,
          2908,
          3033,
          3165,
          3115,
          2017,
          2859,
          3145,
          3004,
          3006,
          2859,
          3683,
          3287,
          2990,
          3172,
          3069,
          1240,
          2026,
          1718,
          2324,
          2254,
          1831,
          1397,
          1683,
          2284,
          1570,
          2066,
          2105,
          1776,
          1507,
          2033,
          2093,
          1922,
          1999,
          2169,
          1463,
          1747,
          1996,
          2116,
          1698,
          2156,
          1916,
          1494,
          1762,
          2272,
          2335,
          1693,
          741,
          3405,
          2551,
          4022,
          4005,
          4274,
          4552,
          3625,
          3501,
          3192,
          4018,
          3329,
          3152,
          4392,
          3374,
          3088,
          3294,
          3580,
          3544,
          4501,
          4546,
          3014,
          3795,
          2755,
          3004,
          2643,
          1819,
          1819,
          2489,
          3841,
          1665,
          1496,
          1496,
          1496,
          2865,
          2828,
          2225,
          2018,
          2606,
          2536,
          4900,
          2409,
          2651,
          2305,
          1497,
          2450,
          2576,
          1879,
          2560,
          2275,
          2361,
          2044,
          1496,
          1902,
          2636,
          1838,
          2469,
          2250,
          1248,
          2560,
          2905,
          2952,
          2896,
          2783,
          3171,
          2766,
          2839,
          2701,
          2060,
          2796,
          2664,
          2703,
          2771,
          2060,
          2743,
          2687,
          2060,
          2843,
          3327,
          2725,
          2671,
          2718,
          2682,
          2806,
          2613,
          2712,
          2175,
          0,
          1841,
          2400,
          2507,
          2127,
          2225,
          2067,
          2798,
          1841,
          3727,
          1841,
          1922,
          1841,
          2053,
          2484,
          2584,
          1841,
          1993,
          1841,
          2280,
          2319,
          1841,
          1843,
          1841,
          1841,
          2496,
          1032,
          1994,
          1718,
          1466,
          1756,
          2173,
          2027,
          2039,
          2046,
          2174,
          2179,
          2086,
          2571,
          1705,
          2194,
          2012,
          2034,
          2182,
          2254,
          2002,
          1740,
          2162,
          2072,
          2086,
          2066,
          1850,
          1947,
          1659,
          2105,
          2361,
          1855,
          928,
          2937,
          2742,
          2668,
          2098,
          2076,
          2383,
          2832,
          2812,
          3096,
          2763,
          2889,
          2284,
          2667,
          3055,
          2939,
          2830,
          2836,
          3180,
          2051,
          2225,
          2642,
          2976,
          1557,
          2933,
          2553,
          120,
          2772,
          2516,
          2734,
          2395,
          1635,
          1629,
          2743,
          2944,
          2997,
          2463,
          2846,
          1965,
          2049,
          2752,
          2781,
          2693,
          2862,
          2616,
          2995,
          2730,
          2754,
          2754,
          2655,
          2386,
          2924,
          2739,
          2534,
          2960,
          2800,
          2735,
          1199,
          3186,
          3140,
          3411,
          3410,
          2867,
          3213,
          3133,
          3114,
          3043,
          3103,
          2655,
          3554,
          3577,
          3403,
          2846,
          2852,
          3062,
          2794,
          2408,
          1886,
          1988,
          3023,
          2918,
          2950,
          2859,
          3331,
          3589,
          2765,
          2926,
          2809,
          1505,
          2044,
          1935,
          1705,
          1632,
          1880,
          2112,
          1829,
          1763,
          1931,
          2218,
          1651,
          2132,
          1976,
          1909,
          1813,
          2008,
          1580,
          1854,
          0,
          3635,
          4079,
          4163,
          3666,
          3363,
          2572,
          4157,
          4092,
          3787,
          4236,
          4044,
          2908,
          2741,
          4005,
          3763,
          3061,
          2884,
          2982,
          2660,
          3369,
          3491,
          3784,
          3110,
          3783,
          3644,
          2799,
          2685,
          3721,
          3586,
          3788,
          1976,
          2650,
          2654,
          2443,
          2505,
          2693,
          2439,
          2536,
          2668,
          2647,
          2883,
          2944,
          3012,
          2889,
          2547,
          3093,
          3142,
          2757,
          3513,
          3164,
          2596,
          2894,
          3212,
          2516,
          3266,
          2683,
          2810,
          2940,
          2947,
          2846,
          2804,
          0,
          2044,
          1934,
          1963,
          2009,
          1721,
          1688,
          1688,
          1688,
          2188,
          1720,
          2419,
          2748,
          1799,
          1688,
          1928,
          2067,
          2780,
          3101,
          2896,
          1962,
          2015,
          2297,
          2067,
          1688,
          1688,
          1688,
          1688,
          1688,
          57,
          3921,
          3566,
          3793,
          3934,
          4547,
          3545,
          2761,
          3676,
          3679,
          3659,
          3427,
          3891,
          3455,
          3802,
          2860,
          3808,
          3060,
          2698,
          4398,
          2786,
          2189,
          2817,
          3477,
          3052,
          4015,
          4142,
          2847,
          3710,
          2832,
          3832,
          1849
         ]
        }
       ],
       "layout": {
        "template": {
         "data": {
          "bar": [
           {
            "error_x": {
             "color": "#2a3f5f"
            },
            "error_y": {
             "color": "#2a3f5f"
            },
            "marker": {
             "line": {
              "color": "#E5ECF6",
              "width": 0.5
             },
             "pattern": {
              "fillmode": "overlay",
              "size": 10,
              "solidity": 0.2
             }
            },
            "type": "bar"
           }
          ],
          "barpolar": [
           {
            "marker": {
             "line": {
              "color": "#E5ECF6",
              "width": 0.5
             },
             "pattern": {
              "fillmode": "overlay",
              "size": 10,
              "solidity": 0.2
             }
            },
            "type": "barpolar"
           }
          ],
          "carpet": [
           {
            "aaxis": {
             "endlinecolor": "#2a3f5f",
             "gridcolor": "white",
             "linecolor": "white",
             "minorgridcolor": "white",
             "startlinecolor": "#2a3f5f"
            },
            "baxis": {
             "endlinecolor": "#2a3f5f",
             "gridcolor": "white",
             "linecolor": "white",
             "minorgridcolor": "white",
             "startlinecolor": "#2a3f5f"
            },
            "type": "carpet"
           }
          ],
          "choropleth": [
           {
            "colorbar": {
             "outlinewidth": 0,
             "ticks": ""
            },
            "type": "choropleth"
           }
          ],
          "contour": [
           {
            "colorbar": {
             "outlinewidth": 0,
             "ticks": ""
            },
            "colorscale": [
             [
              0,
              "#0d0887"
             ],
             [
              0.1111111111111111,
              "#46039f"
             ],
             [
              0.2222222222222222,
              "#7201a8"
             ],
             [
              0.3333333333333333,
              "#9c179e"
             ],
             [
              0.4444444444444444,
              "#bd3786"
             ],
             [
              0.5555555555555556,
              "#d8576b"
             ],
             [
              0.6666666666666666,
              "#ed7953"
             ],
             [
              0.7777777777777778,
              "#fb9f3a"
             ],
             [
              0.8888888888888888,
              "#fdca26"
             ],
             [
              1,
              "#f0f921"
             ]
            ],
            "type": "contour"
           }
          ],
          "contourcarpet": [
           {
            "colorbar": {
             "outlinewidth": 0,
             "ticks": ""
            },
            "type": "contourcarpet"
           }
          ],
          "heatmap": [
           {
            "colorbar": {
             "outlinewidth": 0,
             "ticks": ""
            },
            "colorscale": [
             [
              0,
              "#0d0887"
             ],
             [
              0.1111111111111111,
              "#46039f"
             ],
             [
              0.2222222222222222,
              "#7201a8"
             ],
             [
              0.3333333333333333,
              "#9c179e"
             ],
             [
              0.4444444444444444,
              "#bd3786"
             ],
             [
              0.5555555555555556,
              "#d8576b"
             ],
             [
              0.6666666666666666,
              "#ed7953"
             ],
             [
              0.7777777777777778,
              "#fb9f3a"
             ],
             [
              0.8888888888888888,
              "#fdca26"
             ],
             [
              1,
              "#f0f921"
             ]
            ],
            "type": "heatmap"
           }
          ],
          "heatmapgl": [
           {
            "colorbar": {
             "outlinewidth": 0,
             "ticks": ""
            },
            "colorscale": [
             [
              0,
              "#0d0887"
             ],
             [
              0.1111111111111111,
              "#46039f"
             ],
             [
              0.2222222222222222,
              "#7201a8"
             ],
             [
              0.3333333333333333,
              "#9c179e"
             ],
             [
              0.4444444444444444,
              "#bd3786"
             ],
             [
              0.5555555555555556,
              "#d8576b"
             ],
             [
              0.6666666666666666,
              "#ed7953"
             ],
             [
              0.7777777777777778,
              "#fb9f3a"
             ],
             [
              0.8888888888888888,
              "#fdca26"
             ],
             [
              1,
              "#f0f921"
             ]
            ],
            "type": "heatmapgl"
           }
          ],
          "histogram": [
           {
            "marker": {
             "pattern": {
              "fillmode": "overlay",
              "size": 10,
              "solidity": 0.2
             }
            },
            "type": "histogram"
           }
          ],
          "histogram2d": [
           {
            "colorbar": {
             "outlinewidth": 0,
             "ticks": ""
            },
            "colorscale": [
             [
              0,
              "#0d0887"
             ],
             [
              0.1111111111111111,
              "#46039f"
             ],
             [
              0.2222222222222222,
              "#7201a8"
             ],
             [
              0.3333333333333333,
              "#9c179e"
             ],
             [
              0.4444444444444444,
              "#bd3786"
             ],
             [
              0.5555555555555556,
              "#d8576b"
             ],
             [
              0.6666666666666666,
              "#ed7953"
             ],
             [
              0.7777777777777778,
              "#fb9f3a"
             ],
             [
              0.8888888888888888,
              "#fdca26"
             ],
             [
              1,
              "#f0f921"
             ]
            ],
            "type": "histogram2d"
           }
          ],
          "histogram2dcontour": [
           {
            "colorbar": {
             "outlinewidth": 0,
             "ticks": ""
            },
            "colorscale": [
             [
              0,
              "#0d0887"
             ],
             [
              0.1111111111111111,
              "#46039f"
             ],
             [
              0.2222222222222222,
              "#7201a8"
             ],
             [
              0.3333333333333333,
              "#9c179e"
             ],
             [
              0.4444444444444444,
              "#bd3786"
             ],
             [
              0.5555555555555556,
              "#d8576b"
             ],
             [
              0.6666666666666666,
              "#ed7953"
             ],
             [
              0.7777777777777778,
              "#fb9f3a"
             ],
             [
              0.8888888888888888,
              "#fdca26"
             ],
             [
              1,
              "#f0f921"
             ]
            ],
            "type": "histogram2dcontour"
           }
          ],
          "mesh3d": [
           {
            "colorbar": {
             "outlinewidth": 0,
             "ticks": ""
            },
            "type": "mesh3d"
           }
          ],
          "parcoords": [
           {
            "line": {
             "colorbar": {
              "outlinewidth": 0,
              "ticks": ""
             }
            },
            "type": "parcoords"
           }
          ],
          "pie": [
           {
            "automargin": true,
            "type": "pie"
           }
          ],
          "scatter": [
           {
            "fillpattern": {
             "fillmode": "overlay",
             "size": 10,
             "solidity": 0.2
            },
            "type": "scatter"
           }
          ],
          "scatter3d": [
           {
            "line": {
             "colorbar": {
              "outlinewidth": 0,
              "ticks": ""
             }
            },
            "marker": {
             "colorbar": {
              "outlinewidth": 0,
              "ticks": ""
             }
            },
            "type": "scatter3d"
           }
          ],
          "scattercarpet": [
           {
            "marker": {
             "colorbar": {
              "outlinewidth": 0,
              "ticks": ""
             }
            },
            "type": "scattercarpet"
           }
          ],
          "scattergeo": [
           {
            "marker": {
             "colorbar": {
              "outlinewidth": 0,
              "ticks": ""
             }
            },
            "type": "scattergeo"
           }
          ],
          "scattergl": [
           {
            "marker": {
             "colorbar": {
              "outlinewidth": 0,
              "ticks": ""
             }
            },
            "type": "scattergl"
           }
          ],
          "scattermapbox": [
           {
            "marker": {
             "colorbar": {
              "outlinewidth": 0,
              "ticks": ""
             }
            },
            "type": "scattermapbox"
           }
          ],
          "scatterpolar": [
           {
            "marker": {
             "colorbar": {
              "outlinewidth": 0,
              "ticks": ""
             }
            },
            "type": "scatterpolar"
           }
          ],
          "scatterpolargl": [
           {
            "marker": {
             "colorbar": {
              "outlinewidth": 0,
              "ticks": ""
             }
            },
            "type": "scatterpolargl"
           }
          ],
          "scatterternary": [
           {
            "marker": {
             "colorbar": {
              "outlinewidth": 0,
              "ticks": ""
             }
            },
            "type": "scatterternary"
           }
          ],
          "surface": [
           {
            "colorbar": {
             "outlinewidth": 0,
             "ticks": ""
            },
            "colorscale": [
             [
              0,
              "#0d0887"
             ],
             [
              0.1111111111111111,
              "#46039f"
             ],
             [
              0.2222222222222222,
              "#7201a8"
             ],
             [
              0.3333333333333333,
              "#9c179e"
             ],
             [
              0.4444444444444444,
              "#bd3786"
             ],
             [
              0.5555555555555556,
              "#d8576b"
             ],
             [
              0.6666666666666666,
              "#ed7953"
             ],
             [
              0.7777777777777778,
              "#fb9f3a"
             ],
             [
              0.8888888888888888,
              "#fdca26"
             ],
             [
              1,
              "#f0f921"
             ]
            ],
            "type": "surface"
           }
          ],
          "table": [
           {
            "cells": {
             "fill": {
              "color": "#EBF0F8"
             },
             "line": {
              "color": "white"
             }
            },
            "header": {
             "fill": {
              "color": "#C8D4E3"
             },
             "line": {
              "color": "white"
             }
            },
            "type": "table"
           }
          ]
         },
         "layout": {
          "annotationdefaults": {
           "arrowcolor": "#2a3f5f",
           "arrowhead": 0,
           "arrowwidth": 1
          },
          "autotypenumbers": "strict",
          "coloraxis": {
           "colorbar": {
            "outlinewidth": 0,
            "ticks": ""
           }
          },
          "colorscale": {
           "diverging": [
            [
             0,
             "#8e0152"
            ],
            [
             0.1,
             "#c51b7d"
            ],
            [
             0.2,
             "#de77ae"
            ],
            [
             0.3,
             "#f1b6da"
            ],
            [
             0.4,
             "#fde0ef"
            ],
            [
             0.5,
             "#f7f7f7"
            ],
            [
             0.6,
             "#e6f5d0"
            ],
            [
             0.7,
             "#b8e186"
            ],
            [
             0.8,
             "#7fbc41"
            ],
            [
             0.9,
             "#4d9221"
            ],
            [
             1,
             "#276419"
            ]
           ],
           "sequential": [
            [
             0,
             "#0d0887"
            ],
            [
             0.1111111111111111,
             "#46039f"
            ],
            [
             0.2222222222222222,
             "#7201a8"
            ],
            [
             0.3333333333333333,
             "#9c179e"
            ],
            [
             0.4444444444444444,
             "#bd3786"
            ],
            [
             0.5555555555555556,
             "#d8576b"
            ],
            [
             0.6666666666666666,
             "#ed7953"
            ],
            [
             0.7777777777777778,
             "#fb9f3a"
            ],
            [
             0.8888888888888888,
             "#fdca26"
            ],
            [
             1,
             "#f0f921"
            ]
           ],
           "sequentialminus": [
            [
             0,
             "#0d0887"
            ],
            [
             0.1111111111111111,
             "#46039f"
            ],
            [
             0.2222222222222222,
             "#7201a8"
            ],
            [
             0.3333333333333333,
             "#9c179e"
            ],
            [
             0.4444444444444444,
             "#bd3786"
            ],
            [
             0.5555555555555556,
             "#d8576b"
            ],
            [
             0.6666666666666666,
             "#ed7953"
            ],
            [
             0.7777777777777778,
             "#fb9f3a"
            ],
            [
             0.8888888888888888,
             "#fdca26"
            ],
            [
             1,
             "#f0f921"
            ]
           ]
          },
          "colorway": [
           "#636efa",
           "#EF553B",
           "#00cc96",
           "#ab63fa",
           "#FFA15A",
           "#19d3f3",
           "#FF6692",
           "#B6E880",
           "#FF97FF",
           "#FECB52"
          ],
          "font": {
           "color": "#2a3f5f"
          },
          "geo": {
           "bgcolor": "white",
           "lakecolor": "white",
           "landcolor": "#E5ECF6",
           "showlakes": true,
           "showland": true,
           "subunitcolor": "white"
          },
          "hoverlabel": {
           "align": "left"
          },
          "hovermode": "closest",
          "mapbox": {
           "style": "light"
          },
          "paper_bgcolor": "white",
          "plot_bgcolor": "#E5ECF6",
          "polar": {
           "angularaxis": {
            "gridcolor": "white",
            "linecolor": "white",
            "ticks": ""
           },
           "bgcolor": "#E5ECF6",
           "radialaxis": {
            "gridcolor": "white",
            "linecolor": "white",
            "ticks": ""
           }
          },
          "scene": {
           "xaxis": {
            "backgroundcolor": "#E5ECF6",
            "gridcolor": "white",
            "gridwidth": 2,
            "linecolor": "white",
            "showbackground": true,
            "ticks": "",
            "zerolinecolor": "white"
           },
           "yaxis": {
            "backgroundcolor": "#E5ECF6",
            "gridcolor": "white",
            "gridwidth": 2,
            "linecolor": "white",
            "showbackground": true,
            "ticks": "",
            "zerolinecolor": "white"
           },
           "zaxis": {
            "backgroundcolor": "#E5ECF6",
            "gridcolor": "white",
            "gridwidth": 2,
            "linecolor": "white",
            "showbackground": true,
            "ticks": "",
            "zerolinecolor": "white"
           }
          },
          "shapedefaults": {
           "line": {
            "color": "#2a3f5f"
           }
          },
          "ternary": {
           "aaxis": {
            "gridcolor": "white",
            "linecolor": "white",
            "ticks": ""
           },
           "baxis": {
            "gridcolor": "white",
            "linecolor": "white",
            "ticks": ""
           },
           "bgcolor": "#E5ECF6",
           "caxis": {
            "gridcolor": "white",
            "linecolor": "white",
            "ticks": ""
           }
          },
          "title": {
           "x": 0.05
          },
          "xaxis": {
           "automargin": true,
           "gridcolor": "white",
           "linecolor": "white",
           "ticks": "",
           "title": {
            "standoff": 15
           },
           "zerolinecolor": "white",
           "zerolinewidth": 2
          },
          "yaxis": {
           "automargin": true,
           "gridcolor": "white",
           "linecolor": "white",
           "ticks": "",
           "title": {
            "standoff": 15
           },
           "zerolinecolor": "white",
           "zerolinewidth": 2
          }
         }
        },
        "title": {
         "text": "Calories Burned Daily"
        }
       }
      },
      "text/html": [
       "<div>                            <div id=\"13996736-10df-4c57-ad03-e2f34efc0310\" class=\"plotly-graph-div\" style=\"height:525px; width:100%;\"></div>            <script type=\"text/javascript\">                require([\"plotly\"], function(Plotly) {                    window.PLOTLYENV=window.PLOTLYENV || {};                                    if (document.getElementById(\"13996736-10df-4c57-ad03-e2f34efc0310\")) {                    Plotly.newPlot(                        \"13996736-10df-4c57-ad03-e2f34efc0310\",                        [{\"labels\":[\"Tuesday\",\"Wednesday\",\"Thursday\",\"Friday\",\"Saturday\",\"Sunday\",\"Monday\"],\"values\":[1985,1797,1776,1745,1863,1728,1921,2035,1786,1775,1827,1949,1788,2013,1970,2159,1898,1837,1947,1820,2004,1990,1819,1959,1896,1821,1740,1819,1859,1783,0,1432,1411,1572,1344,1463,1554,1604,1435,1446,1467,1470,1562,1617,1492,1402,1670,1401,1404,1655,2690,1497,1334,1368,1370,1341,1474,1427,1328,1393,1359,1002,3199,2902,3226,2750,3493,3011,2806,3300,2430,2140,2344,2677,2413,2497,3123,2489,3108,2498,3846,2696,2580,3324,2222,2463,3328,3404,2987,3008,2799,1276,2030,1860,2130,1725,1657,1793,1814,1366,1349,2062,1827,1645,1347,1347,1347,1348,1992,1856,1763,1541,1348,1742,1549,1589,1351,1347,1347,1347,1347,1347,665,2220,2151,2383,2221,2064,2063,2111,2063,2063,2064,2093,2499,2324,2100,2638,2063,2351,2063,2064,2411,2505,2195,2338,2063,2383,2229,2063,2063,2063,2063,1383,2390,2601,2312,2525,2177,2782,2770,2489,2897,3158,2638,2069,2529,2470,2793,2463,2296,2611,2732,2380,2473,2752,2649,2609,2498,1995,1848,2709,2797,2544,1853,1459,1521,1431,1444,1373,1214,1419,1356,1667,1370,1399,1916,1401,1576,1595,1593,1649,1692,1506,1447,1690,1604,1658,1926,1736,1491,1555,1869,1141,1698,1364,2124,2003,1696,1801,1724,1852,1905,1811,1922,1610,1851,1804,1725,1654,1632,1481,1473,1410,1779,1403,1613,1878,1426,1780,1742,1972,1821,1630,1899,1903,1125,2344,2038,2010,2133,2670,1882,1944,2346,2198,2048,1946,2629,2187,2095,1861,2194,1854,403,1982,2004,1893,2063,2148,1529,1890,1956,2094,1970,2241,2021,1898,1907,1882,1966,1835,1780,1830,1739,1878,1906,2015,1971,1910,1897,2096,1906,1962,1826,1431,1788,2093,2065,1908,1908,1964,2014,1985,1867,2124,1669,1995,1921,2010,2057,2095,1972,2044,1946,1237,1450,1495,1433,1468,1625,1529,1584,1638,1554,1397,1481,1638,1655,1570,1551,1377,1407,1545,1650,1501,1760,1710,1628,1618,1590,1574,1633,1667,1630,52,3654,1981,2011,2951,3051,1990,1995,1980,1980,1980,1980,1980,1980,1980,1980,1980,1980,1980,1980,1980,2207,2828,3879,3429,2704,2975,3089,2785,2926,2645,1120,2286,2306,1776,1527,2115,2135,2302,1985,1884,1464,1632,2200,2220,1792,1886,1945,1880,2314,2236,2324,2367,2175,2092,1593,2270,2235,2282,2530,2266,2158,1792,2345,2260,2232,257,2955,3092,2998,3066,3073,2572,3274,3015,3083,3069,3544,3306,2885,3288,2929,3074,2969,2979,3283,2926,3147,3290,3162,2899,3425,4022,3934,3013,3061,2954,1623,2113,2095,2194,2496,2180,1933,2248,1954,1974,2150,2432,2149,2247,2070,2291,2361,2203,2196,2363,2246,2336,2421,2070,2120,2211,2123,2423,2281,2181,2499,1212,1909,1722,1922,2121,1997,2117,2116,1876,1788,2486,2094,2085,2173,2225,2223,2098,2185,1918,2105,1692,2066,1953,1842,2262,1722,1973,2666,2223,1889,2131,1452,2947,2898,2984,2896,3328,3394,3013,2812,3061,2729,2241,3691,3538,3064,2784,2908,3033,3165,3115,2017,2859,3145,3004,3006,2859,3683,3287,2990,3172,3069,1240,2026,1718,2324,2254,1831,1397,1683,2284,1570,2066,2105,1776,1507,2033,2093,1922,1999,2169,1463,1747,1996,2116,1698,2156,1916,1494,1762,2272,2335,1693,741,3405,2551,4022,4005,4274,4552,3625,3501,3192,4018,3329,3152,4392,3374,3088,3294,3580,3544,4501,4546,3014,3795,2755,3004,2643,1819,1819,2489,3841,1665,1496,1496,1496,2865,2828,2225,2018,2606,2536,4900,2409,2651,2305,1497,2450,2576,1879,2560,2275,2361,2044,1496,1902,2636,1838,2469,2250,1248,2560,2905,2952,2896,2783,3171,2766,2839,2701,2060,2796,2664,2703,2771,2060,2743,2687,2060,2843,3327,2725,2671,2718,2682,2806,2613,2712,2175,0,1841,2400,2507,2127,2225,2067,2798,1841,3727,1841,1922,1841,2053,2484,2584,1841,1993,1841,2280,2319,1841,1843,1841,1841,2496,1032,1994,1718,1466,1756,2173,2027,2039,2046,2174,2179,2086,2571,1705,2194,2012,2034,2182,2254,2002,1740,2162,2072,2086,2066,1850,1947,1659,2105,2361,1855,928,2937,2742,2668,2098,2076,2383,2832,2812,3096,2763,2889,2284,2667,3055,2939,2830,2836,3180,2051,2225,2642,2976,1557,2933,2553,120,2772,2516,2734,2395,1635,1629,2743,2944,2997,2463,2846,1965,2049,2752,2781,2693,2862,2616,2995,2730,2754,2754,2655,2386,2924,2739,2534,2960,2800,2735,1199,3186,3140,3411,3410,2867,3213,3133,3114,3043,3103,2655,3554,3577,3403,2846,2852,3062,2794,2408,1886,1988,3023,2918,2950,2859,3331,3589,2765,2926,2809,1505,2044,1935,1705,1632,1880,2112,1829,1763,1931,2218,1651,2132,1976,1909,1813,2008,1580,1854,0,3635,4079,4163,3666,3363,2572,4157,4092,3787,4236,4044,2908,2741,4005,3763,3061,2884,2982,2660,3369,3491,3784,3110,3783,3644,2799,2685,3721,3586,3788,1976,2650,2654,2443,2505,2693,2439,2536,2668,2647,2883,2944,3012,2889,2547,3093,3142,2757,3513,3164,2596,2894,3212,2516,3266,2683,2810,2940,2947,2846,2804,0,2044,1934,1963,2009,1721,1688,1688,1688,2188,1720,2419,2748,1799,1688,1928,2067,2780,3101,2896,1962,2015,2297,2067,1688,1688,1688,1688,1688,57,3921,3566,3793,3934,4547,3545,2761,3676,3679,3659,3427,3891,3455,3802,2860,3808,3060,2698,4398,2786,2189,2817,3477,3052,4015,4142,2847,3710,2832,3832,1849],\"type\":\"pie\",\"textfont\":{\"size\":30},\"marker\":{\"line\":{\"color\":\"black\",\"width\":3},\"colors\":[\"gold\",\"lightgreen\",\"pink\",\"blue\",\"skyblue\",\"cyan\",\"orange\"]},\"hoverinfo\":\"label+percent\",\"textinfo\":\"value\"}],                        {\"template\":{\"data\":{\"histogram2dcontour\":[{\"type\":\"histogram2dcontour\",\"colorbar\":{\"outlinewidth\":0,\"ticks\":\"\"},\"colorscale\":[[0.0,\"#0d0887\"],[0.1111111111111111,\"#46039f\"],[0.2222222222222222,\"#7201a8\"],[0.3333333333333333,\"#9c179e\"],[0.4444444444444444,\"#bd3786\"],[0.5555555555555556,\"#d8576b\"],[0.6666666666666666,\"#ed7953\"],[0.7777777777777778,\"#fb9f3a\"],[0.8888888888888888,\"#fdca26\"],[1.0,\"#f0f921\"]]}],\"choropleth\":[{\"type\":\"choropleth\",\"colorbar\":{\"outlinewidth\":0,\"ticks\":\"\"}}],\"histogram2d\":[{\"type\":\"histogram2d\",\"colorbar\":{\"outlinewidth\":0,\"ticks\":\"\"},\"colorscale\":[[0.0,\"#0d0887\"],[0.1111111111111111,\"#46039f\"],[0.2222222222222222,\"#7201a8\"],[0.3333333333333333,\"#9c179e\"],[0.4444444444444444,\"#bd3786\"],[0.5555555555555556,\"#d8576b\"],[0.6666666666666666,\"#ed7953\"],[0.7777777777777778,\"#fb9f3a\"],[0.8888888888888888,\"#fdca26\"],[1.0,\"#f0f921\"]]}],\"heatmap\":[{\"type\":\"heatmap\",\"colorbar\":{\"outlinewidth\":0,\"ticks\":\"\"},\"colorscale\":[[0.0,\"#0d0887\"],[0.1111111111111111,\"#46039f\"],[0.2222222222222222,\"#7201a8\"],[0.3333333333333333,\"#9c179e\"],[0.4444444444444444,\"#bd3786\"],[0.5555555555555556,\"#d8576b\"],[0.6666666666666666,\"#ed7953\"],[0.7777777777777778,\"#fb9f3a\"],[0.8888888888888888,\"#fdca26\"],[1.0,\"#f0f921\"]]}],\"heatmapgl\":[{\"type\":\"heatmapgl\",\"colorbar\":{\"outlinewidth\":0,\"ticks\":\"\"},\"colorscale\":[[0.0,\"#0d0887\"],[0.1111111111111111,\"#46039f\"],[0.2222222222222222,\"#7201a8\"],[0.3333333333333333,\"#9c179e\"],[0.4444444444444444,\"#bd3786\"],[0.5555555555555556,\"#d8576b\"],[0.6666666666666666,\"#ed7953\"],[0.7777777777777778,\"#fb9f3a\"],[0.8888888888888888,\"#fdca26\"],[1.0,\"#f0f921\"]]}],\"contourcarpet\":[{\"type\":\"contourcarpet\",\"colorbar\":{\"outlinewidth\":0,\"ticks\":\"\"}}],\"contour\":[{\"type\":\"contour\",\"colorbar\":{\"outlinewidth\":0,\"ticks\":\"\"},\"colorscale\":[[0.0,\"#0d0887\"],[0.1111111111111111,\"#46039f\"],[0.2222222222222222,\"#7201a8\"],[0.3333333333333333,\"#9c179e\"],[0.4444444444444444,\"#bd3786\"],[0.5555555555555556,\"#d8576b\"],[0.6666666666666666,\"#ed7953\"],[0.7777777777777778,\"#fb9f3a\"],[0.8888888888888888,\"#fdca26\"],[1.0,\"#f0f921\"]]}],\"surface\":[{\"type\":\"surface\",\"colorbar\":{\"outlinewidth\":0,\"ticks\":\"\"},\"colorscale\":[[0.0,\"#0d0887\"],[0.1111111111111111,\"#46039f\"],[0.2222222222222222,\"#7201a8\"],[0.3333333333333333,\"#9c179e\"],[0.4444444444444444,\"#bd3786\"],[0.5555555555555556,\"#d8576b\"],[0.6666666666666666,\"#ed7953\"],[0.7777777777777778,\"#fb9f3a\"],[0.8888888888888888,\"#fdca26\"],[1.0,\"#f0f921\"]]}],\"mesh3d\":[{\"type\":\"mesh3d\",\"colorbar\":{\"outlinewidth\":0,\"ticks\":\"\"}}],\"scatter\":[{\"fillpattern\":{\"fillmode\":\"overlay\",\"size\":10,\"solidity\":0.2},\"type\":\"scatter\"}],\"parcoords\":[{\"type\":\"parcoords\",\"line\":{\"colorbar\":{\"outlinewidth\":0,\"ticks\":\"\"}}}],\"scatterpolargl\":[{\"type\":\"scatterpolargl\",\"marker\":{\"colorbar\":{\"outlinewidth\":0,\"ticks\":\"\"}}}],\"bar\":[{\"error_x\":{\"color\":\"#2a3f5f\"},\"error_y\":{\"color\":\"#2a3f5f\"},\"marker\":{\"line\":{\"color\":\"#E5ECF6\",\"width\":0.5},\"pattern\":{\"fillmode\":\"overlay\",\"size\":10,\"solidity\":0.2}},\"type\":\"bar\"}],\"scattergeo\":[{\"type\":\"scattergeo\",\"marker\":{\"colorbar\":{\"outlinewidth\":0,\"ticks\":\"\"}}}],\"scatterpolar\":[{\"type\":\"scatterpolar\",\"marker\":{\"colorbar\":{\"outlinewidth\":0,\"ticks\":\"\"}}}],\"histogram\":[{\"marker\":{\"pattern\":{\"fillmode\":\"overlay\",\"size\":10,\"solidity\":0.2}},\"type\":\"histogram\"}],\"scattergl\":[{\"type\":\"scattergl\",\"marker\":{\"colorbar\":{\"outlinewidth\":0,\"ticks\":\"\"}}}],\"scatter3d\":[{\"type\":\"scatter3d\",\"line\":{\"colorbar\":{\"outlinewidth\":0,\"ticks\":\"\"}},\"marker\":{\"colorbar\":{\"outlinewidth\":0,\"ticks\":\"\"}}}],\"scattermapbox\":[{\"type\":\"scattermapbox\",\"marker\":{\"colorbar\":{\"outlinewidth\":0,\"ticks\":\"\"}}}],\"scatterternary\":[{\"type\":\"scatterternary\",\"marker\":{\"colorbar\":{\"outlinewidth\":0,\"ticks\":\"\"}}}],\"scattercarpet\":[{\"type\":\"scattercarpet\",\"marker\":{\"colorbar\":{\"outlinewidth\":0,\"ticks\":\"\"}}}],\"carpet\":[{\"aaxis\":{\"endlinecolor\":\"#2a3f5f\",\"gridcolor\":\"white\",\"linecolor\":\"white\",\"minorgridcolor\":\"white\",\"startlinecolor\":\"#2a3f5f\"},\"baxis\":{\"endlinecolor\":\"#2a3f5f\",\"gridcolor\":\"white\",\"linecolor\":\"white\",\"minorgridcolor\":\"white\",\"startlinecolor\":\"#2a3f5f\"},\"type\":\"carpet\"}],\"table\":[{\"cells\":{\"fill\":{\"color\":\"#EBF0F8\"},\"line\":{\"color\":\"white\"}},\"header\":{\"fill\":{\"color\":\"#C8D4E3\"},\"line\":{\"color\":\"white\"}},\"type\":\"table\"}],\"barpolar\":[{\"marker\":{\"line\":{\"color\":\"#E5ECF6\",\"width\":0.5},\"pattern\":{\"fillmode\":\"overlay\",\"size\":10,\"solidity\":0.2}},\"type\":\"barpolar\"}],\"pie\":[{\"automargin\":true,\"type\":\"pie\"}]},\"layout\":{\"autotypenumbers\":\"strict\",\"colorway\":[\"#636efa\",\"#EF553B\",\"#00cc96\",\"#ab63fa\",\"#FFA15A\",\"#19d3f3\",\"#FF6692\",\"#B6E880\",\"#FF97FF\",\"#FECB52\"],\"font\":{\"color\":\"#2a3f5f\"},\"hovermode\":\"closest\",\"hoverlabel\":{\"align\":\"left\"},\"paper_bgcolor\":\"white\",\"plot_bgcolor\":\"#E5ECF6\",\"polar\":{\"bgcolor\":\"#E5ECF6\",\"angularaxis\":{\"gridcolor\":\"white\",\"linecolor\":\"white\",\"ticks\":\"\"},\"radialaxis\":{\"gridcolor\":\"white\",\"linecolor\":\"white\",\"ticks\":\"\"}},\"ternary\":{\"bgcolor\":\"#E5ECF6\",\"aaxis\":{\"gridcolor\":\"white\",\"linecolor\":\"white\",\"ticks\":\"\"},\"baxis\":{\"gridcolor\":\"white\",\"linecolor\":\"white\",\"ticks\":\"\"},\"caxis\":{\"gridcolor\":\"white\",\"linecolor\":\"white\",\"ticks\":\"\"}},\"coloraxis\":{\"colorbar\":{\"outlinewidth\":0,\"ticks\":\"\"}},\"colorscale\":{\"sequential\":[[0.0,\"#0d0887\"],[0.1111111111111111,\"#46039f\"],[0.2222222222222222,\"#7201a8\"],[0.3333333333333333,\"#9c179e\"],[0.4444444444444444,\"#bd3786\"],[0.5555555555555556,\"#d8576b\"],[0.6666666666666666,\"#ed7953\"],[0.7777777777777778,\"#fb9f3a\"],[0.8888888888888888,\"#fdca26\"],[1.0,\"#f0f921\"]],\"sequentialminus\":[[0.0,\"#0d0887\"],[0.1111111111111111,\"#46039f\"],[0.2222222222222222,\"#7201a8\"],[0.3333333333333333,\"#9c179e\"],[0.4444444444444444,\"#bd3786\"],[0.5555555555555556,\"#d8576b\"],[0.6666666666666666,\"#ed7953\"],[0.7777777777777778,\"#fb9f3a\"],[0.8888888888888888,\"#fdca26\"],[1.0,\"#f0f921\"]],\"diverging\":[[0,\"#8e0152\"],[0.1,\"#c51b7d\"],[0.2,\"#de77ae\"],[0.3,\"#f1b6da\"],[0.4,\"#fde0ef\"],[0.5,\"#f7f7f7\"],[0.6,\"#e6f5d0\"],[0.7,\"#b8e186\"],[0.8,\"#7fbc41\"],[0.9,\"#4d9221\"],[1,\"#276419\"]]},\"xaxis\":{\"gridcolor\":\"white\",\"linecolor\":\"white\",\"ticks\":\"\",\"title\":{\"standoff\":15},\"zerolinecolor\":\"white\",\"automargin\":true,\"zerolinewidth\":2},\"yaxis\":{\"gridcolor\":\"white\",\"linecolor\":\"white\",\"ticks\":\"\",\"title\":{\"standoff\":15},\"zerolinecolor\":\"white\",\"automargin\":true,\"zerolinewidth\":2},\"scene\":{\"xaxis\":{\"backgroundcolor\":\"#E5ECF6\",\"gridcolor\":\"white\",\"linecolor\":\"white\",\"showbackground\":true,\"ticks\":\"\",\"zerolinecolor\":\"white\",\"gridwidth\":2},\"yaxis\":{\"backgroundcolor\":\"#E5ECF6\",\"gridcolor\":\"white\",\"linecolor\":\"white\",\"showbackground\":true,\"ticks\":\"\",\"zerolinecolor\":\"white\",\"gridwidth\":2},\"zaxis\":{\"backgroundcolor\":\"#E5ECF6\",\"gridcolor\":\"white\",\"linecolor\":\"white\",\"showbackground\":true,\"ticks\":\"\",\"zerolinecolor\":\"white\",\"gridwidth\":2}},\"shapedefaults\":{\"line\":{\"color\":\"#2a3f5f\"}},\"annotationdefaults\":{\"arrowcolor\":\"#2a3f5f\",\"arrowhead\":0,\"arrowwidth\":1},\"geo\":{\"bgcolor\":\"white\",\"landcolor\":\"#E5ECF6\",\"subunitcolor\":\"white\",\"showland\":true,\"showlakes\":true,\"lakecolor\":\"white\"},\"title\":{\"x\":0.05},\"mapbox\":{\"style\":\"light\"}}},\"title\":{\"text\":\"Calories Burned Daily\"}},                        {\"responsive\": true}                    ).then(function(){\n",
       "                            \n",
       "var gd = document.getElementById('13996736-10df-4c57-ad03-e2f34efc0310');\n",
       "var x = new MutationObserver(function (mutations, observer) {{\n",
       "        var display = window.getComputedStyle(gd).display;\n",
       "        if (!display || display === 'none') {{\n",
       "            console.log([gd, 'removed!']);\n",
       "            Plotly.purge(gd);\n",
       "            observer.disconnect();\n",
       "        }}\n",
       "}});\n",
       "\n",
       "// Listen for the removal of the full notebook cells\n",
       "var notebookContainer = gd.closest('#notebook-container');\n",
       "if (notebookContainer) {{\n",
       "    x.observe(notebookContainer, {childList: true});\n",
       "}}\n",
       "\n",
       "// Listen for the clearing of the current output cell\n",
       "var outputEl = gd.closest('.output');\n",
       "if (outputEl) {{\n",
       "    x.observe(outputEl, {childList: true});\n",
       "}}\n",
       "\n",
       "                        })                };                });            </script>        </div>"
      ]
     },
     "metadata": {},
     "output_type": "display_data"
    }
   ],
   "source": [
    "calories = df[\"Day\"].value_counts()\n",
    "label = calories.index\n",
    "counts = df[\"Calories\"]\n",
    "colors = ['gold','lightgreen', \"pink\", \"blue\", \"skyblue\", \"cyan\", \"orange\"]\n",
    "\n",
    "fig = go.Figure(data=[go.Pie(labels=label, values=counts)])\n",
    "fig.update_layout(title_text='Calories Burned Daily')\n",
    "fig.update_traces(hoverinfo='label+percent', textinfo='value', textfont_size=30,\n",
    "                  marker=dict(colors=colors, line=dict(color='black', width=3)))\n",
    "fig.show()"
   ]
  },
  {
   "cell_type": "code",
   "execution_count": null,
   "id": "09381c47",
   "metadata": {},
   "outputs": [],
   "source": []
  }
 ],
 "metadata": {
  "kernelspec": {
   "display_name": "Python 3 (ipykernel)",
   "language": "python",
   "name": "python3"
  },
  "language_info": {
   "codemirror_mode": {
    "name": "ipython",
    "version": 3
   },
   "file_extension": ".py",
   "mimetype": "text/x-python",
   "name": "python",
   "nbconvert_exporter": "python",
   "pygments_lexer": "ipython3",
   "version": "3.10.9"
  }
 },
 "nbformat": 4,
 "nbformat_minor": 5
}
